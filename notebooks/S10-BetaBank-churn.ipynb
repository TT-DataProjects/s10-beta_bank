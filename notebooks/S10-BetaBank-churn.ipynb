{
 "cells": [
  {
   "cell_type": "markdown",
   "metadata": {},
   "source": [
    "### **Project Introduction**"
   ]
  },
  {
   "cell_type": "markdown",
   "metadata": {
    "id": "pUWzFPhlpuAt"
   },
   "source": [
    "Beta Bank is experiencing a steady churn of customers, impacting its profitability. Studies show it is more cost-effective to retain existing customers than to acquire new ones. The bank seeks to predict which customers are likely to leave, allowing them to launch targeted retention campaigns.\n",
    "\n",
    "**Objective**:  \n",
    "Develop a machine learning model to predict customer churn, enabling the implementation of an effective user retention program.\n"
   ]
  },
  {
   "cell_type": "markdown",
   "metadata": {},
   "source": [
    "### **Solution Plan**"
   ]
  },
  {
   "cell_type": "markdown",
   "metadata": {},
   "source": [
    "To address the problem, we will follow these steps:\n",
    "\n",
    "1. **Data Loading and Exploration**:  \n",
    "   - Load and examine the dataset to understand its structure, completeness, and characteristics.  \n",
    "   - Identify and address missing values, outliers, and irrelevant columns.  \n",
    "\n",
    "2. **Data Preprocessing**:  \n",
    "   - Encode categorical variables and handle missing values.  \n",
    "   - Address class imbalance to ensure better model performance.  \n",
    "\n",
    "3. **Model Development**:  \n",
    "   - Train and evaluate multiple machine learning models using performance metrics like F1 and AUC-ROC.  \n",
    "\n",
    "4. **Final Evaluation**:  \n",
    "   - Validate the best-performing model on a test set to ensure generalization."
   ]
  },
  {
   "cell_type": "code",
   "execution_count": 1,
   "metadata": {
    "id": "qHcxQ792puAu"
   },
   "outputs": [],
   "source": [
    "# General Libraries\n",
    "import sys\n",
    "import time\n",
    "from pathlib import Path\n",
    "from collections import Counter\n",
    "\n",
    "# Data Manipulation and Visualization\n",
    "import pandas as pd\n",
    "import numpy as np\n",
    "import matplotlib.pyplot as plt\n",
    "import seaborn as sns\n",
    "from IPython.display import display, Markdown\n",
    "\n",
    "# Scikit-Learn Libraries\n",
    "from sklearn.model_selection import train_test_split, RandomizedSearchCV\n",
    "from sklearn.tree import DecisionTreeClassifier\n",
    "from sklearn.metrics import (\n",
    "    accuracy_score, recall_score, roc_curve, precision_score, \n",
    "    f1_score, roc_auc_score, confusion_matrix, classification_report\n",
    ")\n",
    "from sklearn.experimental import enable_iterative_imputer\n",
    "from sklearn.impute import IterativeImputer, SimpleImputer\n",
    "\n",
    "# Imbalanced Learn Libraries\n",
    "from imblearn.combine import SMOTEENN\n",
    "\n",
    "# Lazy Predict Library\n",
    "from lazypredict.Supervised import LazyClassifier\n",
    "\n",
    "# LightGBM Library\n",
    "import lightgbm as lgb\n",
    "\n",
    "# Joblib for Model Persistence\n",
    "import joblib\n",
    "\n",
    "# Suppress warnings\n",
    "import warnings\n",
    "warnings.filterwarnings(\"ignore\", category=FutureWarning, module=\"sklearn\")\n",
    "\n",
    "# Set the root path\n",
    "root_path = Path.cwd().parent\n",
    "\n",
    "# Add the src directory to the system path\n",
    "sys.path.append(str(root_path / 'src'))\n",
    "\n",
    "# Import the custom ModelEvaluator class\n",
    "from Evaluator import ModelEvaluator\n",
    "\n",
    "# Set a random seed for reproducibility\n",
    "SEED = 42"
   ]
  },
  {
   "cell_type": "markdown",
   "metadata": {},
   "source": [
    "### **1. Loading and Exploring Data**"
   ]
  },
  {
   "cell_type": "markdown",
   "metadata": {},
   "source": [
    "#### Goals:\n",
    "- Understand the dataset structure and key characteristics.\n",
    "- Identify missing values and potential outliers.\n",
    "- Analyze the balance of the target variable (`Exited`).\n",
    "\n",
    "#### Steps:\n",
    "- Load the dataset using `pd.read_csv`.\n",
    "- Use `info()` and `describe()` to examine the structure and statistical properties of the data.\n",
    "- Check for missing values using `isna().sum()` and identify duplicates with `duplicated().sum()`.\n",
    "- Visualize the distribution of the target variable (`Exited`) to check for class imbalance."
   ]
  },
  {
   "cell_type": "code",
   "execution_count": 2,
   "metadata": {
    "id": "HJVqhZwVpuAu"
   },
   "outputs": [
    {
     "name": "stdout",
     "output_type": "stream",
     "text": [
      "Basic Information about the Dataset:\n",
      "<class 'pandas.core.frame.DataFrame'>\n",
      "RangeIndex: 10000 entries, 0 to 9999\n",
      "Data columns (total 14 columns):\n",
      " #   Column           Non-Null Count  Dtype  \n",
      "---  ------           --------------  -----  \n",
      " 0   RowNumber        10000 non-null  int64  \n",
      " 1   CustomerId       10000 non-null  int64  \n",
      " 2   Surname          10000 non-null  object \n",
      " 3   CreditScore      10000 non-null  int64  \n",
      " 4   Geography        10000 non-null  object \n",
      " 5   Gender           10000 non-null  int64  \n",
      " 6   Age              10000 non-null  int64  \n",
      " 7   Tenure           9091 non-null   float64\n",
      " 8   Balance          10000 non-null  float64\n",
      " 9   NumOfProducts    10000 non-null  int64  \n",
      " 10  HasCrCard        10000 non-null  int64  \n",
      " 11  IsActiveMember   10000 non-null  int64  \n",
      " 12  EstimatedSalary  10000 non-null  float64\n",
      " 13  Exited           10000 non-null  int64  \n",
      "dtypes: float64(3), int64(9), object(2)\n",
      "memory usage: 1.1+ MB\n"
     ]
    },
    {
     "data": {
      "text/plain": [
       "None"
      ]
     },
     "metadata": {},
     "output_type": "display_data"
    },
    {
     "data": {
      "text/html": [
       "<div>\n",
       "<style scoped>\n",
       "    .dataframe tbody tr th:only-of-type {\n",
       "        vertical-align: middle;\n",
       "    }\n",
       "\n",
       "    .dataframe tbody tr th {\n",
       "        vertical-align: top;\n",
       "    }\n",
       "\n",
       "    .dataframe thead th {\n",
       "        text-align: right;\n",
       "    }\n",
       "</style>\n",
       "<table border=\"1\" class=\"dataframe\">\n",
       "  <thead>\n",
       "    <tr style=\"text-align: right;\">\n",
       "      <th></th>\n",
       "      <th>RowNumber</th>\n",
       "      <th>CustomerId</th>\n",
       "      <th>CreditScore</th>\n",
       "      <th>Gender</th>\n",
       "      <th>Age</th>\n",
       "      <th>Tenure</th>\n",
       "      <th>Balance</th>\n",
       "      <th>NumOfProducts</th>\n",
       "      <th>HasCrCard</th>\n",
       "      <th>IsActiveMember</th>\n",
       "      <th>EstimatedSalary</th>\n",
       "      <th>Exited</th>\n",
       "    </tr>\n",
       "  </thead>\n",
       "  <tbody>\n",
       "    <tr>\n",
       "      <th>count</th>\n",
       "      <td>10000.00</td>\n",
       "      <td>10000.00</td>\n",
       "      <td>10000.00</td>\n",
       "      <td>10000.00</td>\n",
       "      <td>10000.00</td>\n",
       "      <td>9091.00</td>\n",
       "      <td>10000.00</td>\n",
       "      <td>10000.00</td>\n",
       "      <td>10000.00</td>\n",
       "      <td>10000.00</td>\n",
       "      <td>10000.00</td>\n",
       "      <td>10000.00</td>\n",
       "    </tr>\n",
       "    <tr>\n",
       "      <th>mean</th>\n",
       "      <td>5000.50</td>\n",
       "      <td>15690940.57</td>\n",
       "      <td>650.53</td>\n",
       "      <td>0.55</td>\n",
       "      <td>38.92</td>\n",
       "      <td>5.00</td>\n",
       "      <td>76485.89</td>\n",
       "      <td>1.53</td>\n",
       "      <td>0.71</td>\n",
       "      <td>0.52</td>\n",
       "      <td>100090.24</td>\n",
       "      <td>0.20</td>\n",
       "    </tr>\n",
       "    <tr>\n",
       "      <th>std</th>\n",
       "      <td>2886.90</td>\n",
       "      <td>71936.19</td>\n",
       "      <td>96.65</td>\n",
       "      <td>0.50</td>\n",
       "      <td>10.49</td>\n",
       "      <td>2.89</td>\n",
       "      <td>62397.41</td>\n",
       "      <td>0.58</td>\n",
       "      <td>0.46</td>\n",
       "      <td>0.50</td>\n",
       "      <td>57510.49</td>\n",
       "      <td>0.40</td>\n",
       "    </tr>\n",
       "    <tr>\n",
       "      <th>min</th>\n",
       "      <td>1.00</td>\n",
       "      <td>15565701.00</td>\n",
       "      <td>350.00</td>\n",
       "      <td>0.00</td>\n",
       "      <td>18.00</td>\n",
       "      <td>0.00</td>\n",
       "      <td>0.00</td>\n",
       "      <td>1.00</td>\n",
       "      <td>0.00</td>\n",
       "      <td>0.00</td>\n",
       "      <td>11.58</td>\n",
       "      <td>0.00</td>\n",
       "    </tr>\n",
       "    <tr>\n",
       "      <th>25%</th>\n",
       "      <td>2500.75</td>\n",
       "      <td>15628528.25</td>\n",
       "      <td>584.00</td>\n",
       "      <td>0.00</td>\n",
       "      <td>32.00</td>\n",
       "      <td>2.00</td>\n",
       "      <td>0.00</td>\n",
       "      <td>1.00</td>\n",
       "      <td>0.00</td>\n",
       "      <td>0.00</td>\n",
       "      <td>51002.11</td>\n",
       "      <td>0.00</td>\n",
       "    </tr>\n",
       "    <tr>\n",
       "      <th>50%</th>\n",
       "      <td>5000.50</td>\n",
       "      <td>15690738.00</td>\n",
       "      <td>652.00</td>\n",
       "      <td>1.00</td>\n",
       "      <td>37.00</td>\n",
       "      <td>5.00</td>\n",
       "      <td>97198.54</td>\n",
       "      <td>1.00</td>\n",
       "      <td>1.00</td>\n",
       "      <td>1.00</td>\n",
       "      <td>100193.91</td>\n",
       "      <td>0.00</td>\n",
       "    </tr>\n",
       "    <tr>\n",
       "      <th>75%</th>\n",
       "      <td>7500.25</td>\n",
       "      <td>15753233.75</td>\n",
       "      <td>718.00</td>\n",
       "      <td>1.00</td>\n",
       "      <td>44.00</td>\n",
       "      <td>7.00</td>\n",
       "      <td>127644.24</td>\n",
       "      <td>2.00</td>\n",
       "      <td>1.00</td>\n",
       "      <td>1.00</td>\n",
       "      <td>149388.25</td>\n",
       "      <td>0.00</td>\n",
       "    </tr>\n",
       "    <tr>\n",
       "      <th>max</th>\n",
       "      <td>10000.00</td>\n",
       "      <td>15815690.00</td>\n",
       "      <td>850.00</td>\n",
       "      <td>1.00</td>\n",
       "      <td>92.00</td>\n",
       "      <td>10.00</td>\n",
       "      <td>250898.09</td>\n",
       "      <td>4.00</td>\n",
       "      <td>1.00</td>\n",
       "      <td>1.00</td>\n",
       "      <td>199992.48</td>\n",
       "      <td>1.00</td>\n",
       "    </tr>\n",
       "  </tbody>\n",
       "</table>\n",
       "</div>"
      ],
      "text/plain": [
       "       RowNumber  CustomerId  CreditScore   Gender      Age  Tenure   Balance  \\\n",
       "count   10000.00    10000.00     10000.00 10000.00 10000.00 9091.00  10000.00   \n",
       "mean     5000.50 15690940.57       650.53     0.55    38.92    5.00  76485.89   \n",
       "std      2886.90    71936.19        96.65     0.50    10.49    2.89  62397.41   \n",
       "min         1.00 15565701.00       350.00     0.00    18.00    0.00      0.00   \n",
       "25%      2500.75 15628528.25       584.00     0.00    32.00    2.00      0.00   \n",
       "50%      5000.50 15690738.00       652.00     1.00    37.00    5.00  97198.54   \n",
       "75%      7500.25 15753233.75       718.00     1.00    44.00    7.00 127644.24   \n",
       "max     10000.00 15815690.00       850.00     1.00    92.00   10.00 250898.09   \n",
       "\n",
       "       NumOfProducts  HasCrCard  IsActiveMember  EstimatedSalary   Exited  \n",
       "count       10000.00   10000.00        10000.00         10000.00 10000.00  \n",
       "mean            1.53       0.71            0.52        100090.24     0.20  \n",
       "std             0.58       0.46            0.50         57510.49     0.40  \n",
       "min             1.00       0.00            0.00            11.58     0.00  \n",
       "25%             1.00       0.00            0.00         51002.11     0.00  \n",
       "50%             1.00       1.00            1.00        100193.91     0.00  \n",
       "75%             2.00       1.00            1.00        149388.25     0.00  \n",
       "max             4.00       1.00            1.00        199992.48     1.00  "
      ]
     },
     "metadata": {},
     "output_type": "display_data"
    },
    {
     "name": "stdout",
     "output_type": "stream",
     "text": [
      "Número de duplicados en 'data': 0\n"
     ]
    }
   ],
   "source": [
    "# Load the dataset\n",
    "data = pd.read_csv('https://practicum-content.s3.us-west-1.amazonaws.com/datasets/Churn.csv', converters={\n",
    "    \"Gender\": lambda x: 1 if x == \"Male\" else 0\n",
    "})\n",
    "\n",
    "# Display basic information about the dataset\n",
    "print(\"Basic Information about the Dataset:\")\n",
    "display(data.info())\n",
    "\n",
    "# Show summary statistics\n",
    "display(data.describe())\n",
    "\n",
    "# Check for duplicates\n",
    "print(f\"Número de duplicados en 'data': {data.duplicated().sum()}\")"
   ]
  },
  {
   "cell_type": "markdown",
   "metadata": {},
   "source": [
    "### **2. Data Cleaning and Optimization**"
   ]
  },
  {
   "cell_type": "markdown",
   "metadata": {},
   "source": [
    "#### Objectives:\n",
    "\n",
    "- Remove columns that do not contribute to the prediction task.\n",
    "- Optimize the dataset for memory efficiency by downcasting numerical data types.\n",
    "- Analyze missing values and class balance for further preprocessing.\n",
    "\n",
    "#### Steps:\n",
    "\n",
    "1. **Remove Irrelevant Columns**:\n",
    "   - Columns like `RowNumber`, `CustomerId`, and `Surname` are metadata that do not add predictive value and should be dropped.\n",
    "2. **Analyze Missing Values**:\n",
    "   - Identify columns with missing values, particularly `Tenure`, and quantify the missing data.\n",
    "3. **Optimize Data Types**:\n",
    "   - Reduce memory usage by downcasting integers and floats to the smallest appropriate data types.\n",
    "4. **Analyze Target Class Balance**:\n",
    "   - Examine the distribution of the target variable (`Exited`) to confirm class imbalance."
   ]
  },
  {
   "cell_type": "code",
   "execution_count": 3,
   "metadata": {
    "colab": {
     "base_uri": "https://localhost:8080/"
    },
    "executionInfo": {
     "elapsed": 12,
     "status": "ok",
     "timestamp": 1732459964195,
     "user": {
      "displayName": "Guillermo Alcántara",
      "userId": "01170906250694055991"
     },
     "user_tz": 360
    },
    "id": "Z4ZpOH68puA0",
    "outputId": "2e1ee843-6e1f-40d8-cc3c-bc29ea70fc62"
   },
   "outputs": [
    {
     "name": "stdout",
     "output_type": "stream",
     "text": [
      "Total missing values in 'Tenure': 909\n",
      "\n",
      "Class Distribution of 'Exited':\n",
      "Exited\n",
      "0   0.80\n",
      "1   0.20\n",
      "Name: proportion, dtype: float64\n",
      "\n",
      "Summary of Missing Values:\n",
      "CreditScore          0\n",
      "Geography            0\n",
      "Gender               0\n",
      "Age                  0\n",
      "Tenure             909\n",
      "Balance              0\n",
      "NumOfProducts        0\n",
      "HasCrCard            0\n",
      "IsActiveMember       0\n",
      "EstimatedSalary      0\n",
      "Exited               0\n",
      "dtype: int64\n",
      "\n",
      "Data Types After Optimization:\n",
      "CreditScore          int16\n",
      "Geography           object\n",
      "Gender                int8\n",
      "Age                   int8\n",
      "Tenure             float32\n",
      "Balance            float64\n",
      "NumOfProducts         int8\n",
      "HasCrCard             int8\n",
      "IsActiveMember        int8\n",
      "EstimatedSalary    float64\n",
      "Exited                int8\n",
      "dtype: object\n"
     ]
    }
   ],
   "source": [
    "# Step 1: Drop irrelevant columns\n",
    "data_cleaned = data.drop(columns=['RowNumber', 'CustomerId', 'Surname'])\n",
    "\n",
    "# Step 2: Analyze missing values in Tenure\n",
    "missing_tenure_count = data_cleaned['Tenure'].isna().sum()\n",
    "print(f\"Total missing values in 'Tenure': {missing_tenure_count}\")\n",
    "\n",
    "# Step 3: Optimize data types for memory efficiency\n",
    "def optimize_dataframe(df):\n",
    "    \"\"\"\n",
    "    Downcast numerical columns to reduce memory usage.\n",
    "    \"\"\"\n",
    "    for col in df.select_dtypes(include=['int']).columns:\n",
    "        df[col] = pd.to_numeric(df[col], downcast='integer')\n",
    "    for col in df.select_dtypes(include=['float']).columns:\n",
    "        df[col] = pd.to_numeric(df[col], downcast='float')\n",
    "    return df\n",
    "\n",
    "data_optimized = optimize_dataframe(data_cleaned)\n",
    "\n",
    "# Step 4: Analyze class balance\n",
    "class_balance = data_optimized['Exited'].value_counts(normalize=True)\n",
    "print(\"\\nClass Distribution of 'Exited':\")\n",
    "print(class_balance)\n",
    "\n",
    "# Step 5: Summary of missing values\n",
    "missing_values_summary = data_optimized.isna().sum()\n",
    "print(\"\\nSummary of Missing Values:\")\n",
    "print(missing_values_summary)\n",
    "\n",
    "# Display data types after optimization\n",
    "print(\"\\nData Types After Optimization:\")\n",
    "print(data_optimized.dtypes)"
   ]
  },
  {
   "cell_type": "markdown",
   "metadata": {},
   "source": [
    "### **3. Encoding Categorical Features and Imputation of Missing Values**"
   ]
  },
  {
   "cell_type": "markdown",
   "metadata": {},
   "source": [
    "#### Objectives:\n",
    "\n",
    "1. **Encode Categorical Features**:\n",
    "   - Convert categorical variables into numerical format using one-hot encoding.\n",
    "   - Drop the first category for each feature to avoid multicollinearity.\n",
    "2. **Impute Missing Values**:\n",
    "   - Use advanced imputation techniques, specifically `IterativeImputer`, to fill missing values in a statistically sound way."
   ]
  },
  {
   "cell_type": "code",
   "execution_count": 4,
   "metadata": {},
   "outputs": [
    {
     "name": "stdout",
     "output_type": "stream",
     "text": [
      "\n",
      "Missing Values After Imputation:\n",
      "CreditScore          0\n",
      "Gender               0\n",
      "Age                  0\n",
      "Tenure               0\n",
      "Balance              0\n",
      "NumOfProducts        0\n",
      "HasCrCard            0\n",
      "IsActiveMember       0\n",
      "EstimatedSalary      0\n",
      "Exited               0\n",
      "Geography_Germany    0\n",
      "Geography_Spain      0\n",
      "dtype: int64\n"
     ]
    }
   ],
   "source": [
    "\n",
    "# Step 1: One-hot encode categorical features\n",
    "categorical_columns = data_optimized.select_dtypes(include=['object']).columns\n",
    "data_optimized = pd.get_dummies(\n",
    "    data_optimized,\n",
    "    columns=categorical_columns,\n",
    "    drop_first=True\n",
    ")\n",
    "\n",
    "# Step 2: Set up Iterative Imputer\n",
    "iterative_imputer = IterativeImputer(max_iter=10, random_state=SEED)\n",
    "\n",
    "# Step 3: Impute missing values\n",
    "data_imputed = pd.DataFrame(\n",
    "    iterative_imputer.fit_transform(data_optimized),\n",
    "    columns=data_optimized.columns\n",
    ")\n",
    "\n",
    "# Step 4: Verify the imputation\n",
    "missing_values_after_imputation = data_imputed.isna().sum()\n",
    "print(\"\\nMissing Values After Imputation:\")\n",
    "print(missing_values_after_imputation)"
   ]
  },
  {
   "cell_type": "markdown",
   "metadata": {},
   "source": [
    "#### Steps and Explanations:\n",
    "\n",
    "1. **One-Hot Encoding**:\n",
    "   - Convert all categorical features (`object` dtype) into dummy variables using `pd.get_dummies`.\n",
    "   - Set `drop_first=True` to avoid redundant columns.\n",
    "2. **Iterative Imputation**:\n",
    "   - Use `IterativeImputer` from `sklearn` to fill missing values.\n",
    "   - The imputer uses regression models iteratively to estimate missing values based on the relationships between features.\n",
    "3. **Verify Imputation**:\n",
    "   - Confirm that all missing values are filled by checking for `NaN` in the resulting DataFrame."
   ]
  },
  {
   "cell_type": "markdown",
   "metadata": {},
   "source": [
    "### **4. Addressing Class Imbalance and Splitting the Data**"
   ]
  },
  {
   "cell_type": "markdown",
   "metadata": {},
   "source": [
    "#### Objectives:"
   ]
  },
  {
   "cell_type": "markdown",
   "metadata": {},
   "source": [
    "\n",
    "\n",
    "1. **Address Class Imbalance**:\n",
    "   - Use **SMOTEENN**, a combination of SMOTE (Synthetic Minority Over-sampling Technique) and ENN (Edited Nearest Neighbors), to resample the dataset. This technique balances the classes by oversampling the minority class and undersampling the majority class, removing noisy examples.\n",
    "2. **Split the Data**:\n",
    "   - Divide the resampled data into training, validation, and test sets:\n",
    "     - Training set: 60%\n",
    "     - Validation set: 20%\n",
    "     - Test set: 20%"
   ]
  },
  {
   "cell_type": "code",
   "execution_count": 6,
   "metadata": {},
   "outputs": [
    {
     "name": "stdout",
     "output_type": "stream",
     "text": [
      "\n",
      "Class Distribution Before Resampling:\n",
      "Training set: Counter({0.0: 4778, 1.0: 1222})\n",
      "Validation set: Counter({0.0: 1592, 1.0: 408})\n",
      "Test set: Counter({0.0: 1593, 1.0: 407})\n",
      "\n",
      "Class Distribution After Resampling:\n",
      "Resampled Training set: Counter({1.0: 2139, 0.0: 1705})\n",
      "\n",
      "Data Splits and Class Balance After Resampling:\n",
      "Training set: (3844, 11), Class Balance: {1.0: 0.5564516129032258, 0.0: 0.4435483870967742}\n",
      "Validation set: (2000, 11), Class Balance: {0.0: 0.796, 1.0: 0.204}\n",
      "Test set: (2000, 11), Class Balance: {0.0: 0.7965, 1.0: 0.2035}\n"
     ]
    }
   ],
   "source": [
    "# Split the data into train, validation, and test sets (no resampling yet)\n",
    "X_train, X_temp, y_train, y_temp = train_test_split(\n",
    "    data_imputed.drop(columns='Exited'), data_imputed['Exited'], test_size=0.4, random_state=SEED, stratify=data_imputed['Exited']\n",
    ")\n",
    "X_valid, X_test, y_valid, y_test = train_test_split(\n",
    "    X_temp, y_temp, test_size=0.5, random_state=SEED, stratify=y_temp\n",
    ")\n",
    "\n",
    "# Verify class distribution in splits\n",
    "print(\"\\nClass Distribution Before Resampling:\")\n",
    "print(f\"Training set: {Counter(y_train)}\")\n",
    "print(f\"Validation set: {Counter(y_valid)}\")\n",
    "print(f\"Test set: {Counter(y_test)}\")\n",
    "\n",
    "# Suppress warnings for the following block of code\n",
    "with warnings.catch_warnings():\n",
    "    warnings.filterwarnings(\"ignore\", category=FutureWarning, module=\"sklearn\")\n",
    "\n",
    "    # Initialize SMOTEENN\n",
    "    smote_enn = SMOTEENN(random_state=SEED)\n",
    "\n",
    "    # Resample only the training data\n",
    "    X_train_resampled, y_train_resampled = smote_enn.fit_resample(X_train, y_train)\n",
    "\n",
    "# Verify class distribution after resampling\n",
    "print(\"\\nClass Distribution After Resampling:\")\n",
    "print(f\"Resampled Training set: {Counter(y_train_resampled)}\")\n",
    "\n",
    "# Final dataset shapes\n",
    "print(\"\\nData Splits and Class Balance After Resampling:\")\n",
    "print(f\"Training set: {X_train_resampled.shape}, Class Balance: {y_train_resampled.value_counts(normalize=True).to_dict()}\")\n",
    "print(f\"Validation set: {X_valid.shape}, Class Balance: {y_valid.value_counts(normalize=True).to_dict()}\")\n",
    "print(f\"Test set: {X_test.shape}, Class Balance: {y_test.value_counts(normalize=True).to_dict()}\")\n"
   ]
  },
  {
   "cell_type": "markdown",
   "metadata": {},
   "source": [
    "#### Steps and Explanations:"
   ]
  },
  {
   "cell_type": "markdown",
   "metadata": {},
   "source": [
    "1. **SMOTEENN Resampling**:\n",
    "   - SMOTE generates synthetic samples for the minority class based on existing data.\n",
    "   - ENN removes noisy and ambiguous samples from the majority class, improving data quality.\n",
    "2. **Data Splitting**:\n",
    "   - First, split the resampled data into training (60%) and temporary (40%) sets.\n",
    "   - Further split the temporary set into validation (20%) and test (20%) sets.\n",
    "3. **Verify the Class Distribution**:\n",
    "   - Confirm the new class balance after resampling and the class proportions in each split."
   ]
  },
  {
   "cell_type": "markdown",
   "metadata": {
    "id": "XuCmqV70puA1"
   },
   "source": [
    "Inpute x[\"tenure\"] using Multivariate feature imputation"
   ]
  },
  {
   "cell_type": "markdown",
   "metadata": {
    "id": "cc6NZh7PvpK0"
   },
   "source": [
    "Hacemos la separacion de X_resampled, y_resampled en los dataframes:\n",
    "train, test, valid\n",
    "\n",
    "Usamos `random_seed = 42`, y estratificacion en la columna objetivo `y_resampled` para asegurarnos que tengan la misma probabilidad de tener churn en cada dataset."
   ]
  },
  {
   "cell_type": "markdown",
   "metadata": {},
   "source": [
    "### **5. Evaluate Baseline Models Using LazyClassifier**"
   ]
  },
  {
   "cell_type": "markdown",
   "metadata": {},
   "source": [
    "#### Objectives:"
   ]
  },
  {
   "cell_type": "markdown",
   "metadata": {},
   "source": [
    "1. Quickly compare the performance of various classification models on the training and validation datasets.\n",
    "2. Use **recall** as a custom evaluation metric to prioritize identifying churned customers (`Exited = 1`)."
   ]
  },
  {
   "cell_type": "markdown",
   "metadata": {},
   "source": [
    "#### Steps and Explanations:"
   ]
  },
  {
   "cell_type": "markdown",
   "metadata": {},
   "source": [
    "1. **LazyClassifier**:\n",
    "   - LazyClassifier is a wrapper that evaluates multiple classification models without the need for manual instantiation or training.\n",
    "   - It simplifies baseline model comparison by providing key metrics in a single table.\n",
    "2. **Custom Metric (Recall)**:\n",
    "   - Recall is used as the primary evaluation metric, as the project goal emphasizes minimizing false negatives (i.e., identifying churned customers who might otherwise be missed).\n",
    "3. **Execution**:\n",
    "   - Fit LazyClassifier on the training and validation sets.\n",
    "   - Generate a summary table with model performance metrics, including recall."
   ]
  },
  {
   "cell_type": "code",
   "execution_count": 7,
   "metadata": {
    "colab": {
     "base_uri": "https://localhost:8080/",
     "height": 1000
    },
    "executionInfo": {
     "elapsed": 35044,
     "status": "ok",
     "timestamp": 1732461720131,
     "user": {
      "displayName": "Guillermo Alcántara",
      "userId": "01170906250694055991"
     },
     "user_tz": 360
    },
    "id": "2CLvflMowsoH",
    "outputId": "31798117-d680-4872-9595-67178d200b39"
   },
   "outputs": [
    {
     "name": "stderr",
     "output_type": "stream",
     "text": [
      " 97%|█████████▋| 31/32 [00:05<00:00,  5.48it/s]  File \"c:\\Users\\Guill\\Miniconda3\\envs\\da\\Lib\\site-packages\\joblib\\externals\\loky\\backend\\context.py\", line 257, in _count_physical_cores\n",
      "    cpu_info = subprocess.run(\n",
      "               ^^^^^^^^^^^^^^^\n",
      "  File \"c:\\Users\\Guill\\Miniconda3\\envs\\da\\Lib\\subprocess.py\", line 548, in run\n",
      "    with Popen(*popenargs, **kwargs) as process:\n",
      "         ^^^^^^^^^^^^^^^^^^^^^^^^^^^\n",
      "  File \"c:\\Users\\Guill\\Miniconda3\\envs\\da\\Lib\\subprocess.py\", line 1026, in __init__\n",
      "    self._execute_child(args, executable, preexec_fn, close_fds,\n",
      "  File \"c:\\Users\\Guill\\Miniconda3\\envs\\da\\Lib\\subprocess.py\", line 1538, in _execute_child\n",
      "    hp, ht, pid, tid = _winapi.CreateProcess(executable, args,\n",
      "                       ^^^^^^^^^^^^^^^^^^^^^^^^^^^^^^^^^^^^^^^\n",
      "100%|██████████| 32/32 [00:06<00:00,  5.22it/s]"
     ]
    },
    {
     "name": "stdout",
     "output_type": "stream",
     "text": [
      "[LightGBM] [Info] Number of positive: 1222, number of negative: 4778\n",
      "[LightGBM] [Info] Auto-choosing col-wise multi-threading, the overhead of testing was 0.000257 seconds.\n",
      "You can set `force_col_wise=true` to remove the overhead.\n",
      "[LightGBM] [Info] Total Bins 1103\n",
      "[LightGBM] [Info] Number of data points in the train set: 6000, number of used features: 11\n",
      "[LightGBM] [Info] [binary:BoostFromScore]: pavg=0.203667 -> initscore=-1.363533\n",
      "[LightGBM] [Info] Start training from score -1.363533\n",
      "Baseline Model Performance Metrics:\n"
     ]
    },
    {
     "name": "stderr",
     "output_type": "stream",
     "text": [
      "\n"
     ]
    },
    {
     "data": {
      "text/html": [
       "<div>\n",
       "<style scoped>\n",
       "    .dataframe tbody tr th:only-of-type {\n",
       "        vertical-align: middle;\n",
       "    }\n",
       "\n",
       "    .dataframe tbody tr th {\n",
       "        vertical-align: top;\n",
       "    }\n",
       "\n",
       "    .dataframe thead th {\n",
       "        text-align: right;\n",
       "    }\n",
       "</style>\n",
       "<table border=\"1\" class=\"dataframe\">\n",
       "  <thead>\n",
       "    <tr style=\"text-align: right;\">\n",
       "      <th></th>\n",
       "      <th>Accuracy</th>\n",
       "      <th>Balanced Accuracy</th>\n",
       "      <th>ROC AUC</th>\n",
       "      <th>F1 Score</th>\n",
       "      <th>recall_score</th>\n",
       "      <th>Time Taken</th>\n",
       "    </tr>\n",
       "    <tr>\n",
       "      <th>Model</th>\n",
       "      <th></th>\n",
       "      <th></th>\n",
       "      <th></th>\n",
       "      <th></th>\n",
       "      <th></th>\n",
       "      <th></th>\n",
       "    </tr>\n",
       "  </thead>\n",
       "  <tbody>\n",
       "    <tr>\n",
       "      <th>AdaBoostClassifier</th>\n",
       "      <td>0.87</td>\n",
       "      <td>0.73</td>\n",
       "      <td>0.73</td>\n",
       "      <td>0.86</td>\n",
       "      <td>0.50</td>\n",
       "      <td>0.28</td>\n",
       "    </tr>\n",
       "    <tr>\n",
       "      <th>LGBMClassifier</th>\n",
       "      <td>0.86</td>\n",
       "      <td>0.73</td>\n",
       "      <td>0.73</td>\n",
       "      <td>0.85</td>\n",
       "      <td>0.51</td>\n",
       "      <td>0.12</td>\n",
       "    </tr>\n",
       "    <tr>\n",
       "      <th>RandomForestClassifier</th>\n",
       "      <td>0.86</td>\n",
       "      <td>0.72</td>\n",
       "      <td>0.72</td>\n",
       "      <td>0.85</td>\n",
       "      <td>0.48</td>\n",
       "      <td>0.76</td>\n",
       "    </tr>\n",
       "    <tr>\n",
       "      <th>ExtraTreesClassifier</th>\n",
       "      <td>0.86</td>\n",
       "      <td>0.71</td>\n",
       "      <td>0.71</td>\n",
       "      <td>0.85</td>\n",
       "      <td>0.47</td>\n",
       "      <td>0.54</td>\n",
       "    </tr>\n",
       "    <tr>\n",
       "      <th>NearestCentroid</th>\n",
       "      <td>0.70</td>\n",
       "      <td>0.71</td>\n",
       "      <td>0.71</td>\n",
       "      <td>0.73</td>\n",
       "      <td>0.73</td>\n",
       "      <td>0.02</td>\n",
       "    </tr>\n",
       "    <tr>\n",
       "      <th>BaggingClassifier</th>\n",
       "      <td>0.84</td>\n",
       "      <td>0.69</td>\n",
       "      <td>0.69</td>\n",
       "      <td>0.83</td>\n",
       "      <td>0.44</td>\n",
       "      <td>0.21</td>\n",
       "    </tr>\n",
       "    <tr>\n",
       "      <th>DecisionTreeClassifier</th>\n",
       "      <td>0.79</td>\n",
       "      <td>0.69</td>\n",
       "      <td>0.69</td>\n",
       "      <td>0.79</td>\n",
       "      <td>0.52</td>\n",
       "      <td>0.05</td>\n",
       "    </tr>\n",
       "    <tr>\n",
       "      <th>SVC</th>\n",
       "      <td>0.86</td>\n",
       "      <td>0.69</td>\n",
       "      <td>0.69</td>\n",
       "      <td>0.84</td>\n",
       "      <td>0.40</td>\n",
       "      <td>1.19</td>\n",
       "    </tr>\n",
       "    <tr>\n",
       "      <th>LabelSpreading</th>\n",
       "      <td>0.78</td>\n",
       "      <td>0.67</td>\n",
       "      <td>0.67</td>\n",
       "      <td>0.79</td>\n",
       "      <td>0.49</td>\n",
       "      <td>1.23</td>\n",
       "    </tr>\n",
       "    <tr>\n",
       "      <th>LabelPropagation</th>\n",
       "      <td>0.78</td>\n",
       "      <td>0.67</td>\n",
       "      <td>0.67</td>\n",
       "      <td>0.79</td>\n",
       "      <td>0.49</td>\n",
       "      <td>0.92</td>\n",
       "    </tr>\n",
       "    <tr>\n",
       "      <th>ExtraTreeClassifier</th>\n",
       "      <td>0.78</td>\n",
       "      <td>0.67</td>\n",
       "      <td>0.67</td>\n",
       "      <td>0.78</td>\n",
       "      <td>0.48</td>\n",
       "      <td>0.02</td>\n",
       "    </tr>\n",
       "    <tr>\n",
       "      <th>QuadraticDiscriminantAnalysis</th>\n",
       "      <td>0.83</td>\n",
       "      <td>0.66</td>\n",
       "      <td>0.66</td>\n",
       "      <td>0.81</td>\n",
       "      <td>0.39</td>\n",
       "      <td>0.02</td>\n",
       "    </tr>\n",
       "    <tr>\n",
       "      <th>KNeighborsClassifier</th>\n",
       "      <td>0.83</td>\n",
       "      <td>0.66</td>\n",
       "      <td>0.66</td>\n",
       "      <td>0.81</td>\n",
       "      <td>0.38</td>\n",
       "      <td>0.17</td>\n",
       "    </tr>\n",
       "    <tr>\n",
       "      <th>GaussianNB</th>\n",
       "      <td>0.83</td>\n",
       "      <td>0.65</td>\n",
       "      <td>0.65</td>\n",
       "      <td>0.81</td>\n",
       "      <td>0.37</td>\n",
       "      <td>0.02</td>\n",
       "    </tr>\n",
       "    <tr>\n",
       "      <th>BernoulliNB</th>\n",
       "      <td>0.82</td>\n",
       "      <td>0.63</td>\n",
       "      <td>0.63</td>\n",
       "      <td>0.80</td>\n",
       "      <td>0.32</td>\n",
       "      <td>0.02</td>\n",
       "    </tr>\n",
       "    <tr>\n",
       "      <th>Perceptron</th>\n",
       "      <td>0.73</td>\n",
       "      <td>0.62</td>\n",
       "      <td>0.62</td>\n",
       "      <td>0.74</td>\n",
       "      <td>0.44</td>\n",
       "      <td>0.02</td>\n",
       "    </tr>\n",
       "    <tr>\n",
       "      <th>LinearDiscriminantAnalysis</th>\n",
       "      <td>0.81</td>\n",
       "      <td>0.60</td>\n",
       "      <td>0.60</td>\n",
       "      <td>0.78</td>\n",
       "      <td>0.24</td>\n",
       "      <td>0.02</td>\n",
       "    </tr>\n",
       "    <tr>\n",
       "      <th>LogisticRegression</th>\n",
       "      <td>0.81</td>\n",
       "      <td>0.59</td>\n",
       "      <td>0.59</td>\n",
       "      <td>0.78</td>\n",
       "      <td>0.22</td>\n",
       "      <td>0.02</td>\n",
       "    </tr>\n",
       "    <tr>\n",
       "      <th>CalibratedClassifierCV</th>\n",
       "      <td>0.81</td>\n",
       "      <td>0.59</td>\n",
       "      <td>0.59</td>\n",
       "      <td>0.77</td>\n",
       "      <td>0.21</td>\n",
       "      <td>0.07</td>\n",
       "    </tr>\n",
       "    <tr>\n",
       "      <th>LinearSVC</th>\n",
       "      <td>0.81</td>\n",
       "      <td>0.56</td>\n",
       "      <td>0.56</td>\n",
       "      <td>0.76</td>\n",
       "      <td>0.14</td>\n",
       "      <td>0.02</td>\n",
       "    </tr>\n",
       "    <tr>\n",
       "      <th>RidgeClassifier</th>\n",
       "      <td>0.81</td>\n",
       "      <td>0.56</td>\n",
       "      <td>0.56</td>\n",
       "      <td>0.75</td>\n",
       "      <td>0.13</td>\n",
       "      <td>0.02</td>\n",
       "    </tr>\n",
       "    <tr>\n",
       "      <th>RidgeClassifierCV</th>\n",
       "      <td>0.81</td>\n",
       "      <td>0.56</td>\n",
       "      <td>0.56</td>\n",
       "      <td>0.75</td>\n",
       "      <td>0.13</td>\n",
       "      <td>0.02</td>\n",
       "    </tr>\n",
       "    <tr>\n",
       "      <th>PassiveAggressiveClassifier</th>\n",
       "      <td>0.77</td>\n",
       "      <td>0.54</td>\n",
       "      <td>0.54</td>\n",
       "      <td>0.73</td>\n",
       "      <td>0.15</td>\n",
       "      <td>0.02</td>\n",
       "    </tr>\n",
       "    <tr>\n",
       "      <th>SGDClassifier</th>\n",
       "      <td>0.80</td>\n",
       "      <td>0.51</td>\n",
       "      <td>0.51</td>\n",
       "      <td>0.71</td>\n",
       "      <td>0.01</td>\n",
       "      <td>0.03</td>\n",
       "    </tr>\n",
       "    <tr>\n",
       "      <th>DummyClassifier</th>\n",
       "      <td>0.80</td>\n",
       "      <td>0.50</td>\n",
       "      <td>0.50</td>\n",
       "      <td>0.71</td>\n",
       "      <td>0.00</td>\n",
       "      <td>0.01</td>\n",
       "    </tr>\n",
       "  </tbody>\n",
       "</table>\n",
       "</div>"
      ],
      "text/plain": [
       "                               Accuracy  Balanced Accuracy  ROC AUC  F1 Score  \\\n",
       "Model                                                                           \n",
       "AdaBoostClassifier                 0.87               0.73     0.73      0.86   \n",
       "LGBMClassifier                     0.86               0.73     0.73      0.85   \n",
       "RandomForestClassifier             0.86               0.72     0.72      0.85   \n",
       "ExtraTreesClassifier               0.86               0.71     0.71      0.85   \n",
       "NearestCentroid                    0.70               0.71     0.71      0.73   \n",
       "BaggingClassifier                  0.84               0.69     0.69      0.83   \n",
       "DecisionTreeClassifier             0.79               0.69     0.69      0.79   \n",
       "SVC                                0.86               0.69     0.69      0.84   \n",
       "LabelSpreading                     0.78               0.67     0.67      0.79   \n",
       "LabelPropagation                   0.78               0.67     0.67      0.79   \n",
       "ExtraTreeClassifier                0.78               0.67     0.67      0.78   \n",
       "QuadraticDiscriminantAnalysis      0.83               0.66     0.66      0.81   \n",
       "KNeighborsClassifier               0.83               0.66     0.66      0.81   \n",
       "GaussianNB                         0.83               0.65     0.65      0.81   \n",
       "BernoulliNB                        0.82               0.63     0.63      0.80   \n",
       "Perceptron                         0.73               0.62     0.62      0.74   \n",
       "LinearDiscriminantAnalysis         0.81               0.60     0.60      0.78   \n",
       "LogisticRegression                 0.81               0.59     0.59      0.78   \n",
       "CalibratedClassifierCV             0.81               0.59     0.59      0.77   \n",
       "LinearSVC                          0.81               0.56     0.56      0.76   \n",
       "RidgeClassifier                    0.81               0.56     0.56      0.75   \n",
       "RidgeClassifierCV                  0.81               0.56     0.56      0.75   \n",
       "PassiveAggressiveClassifier        0.77               0.54     0.54      0.73   \n",
       "SGDClassifier                      0.80               0.51     0.51      0.71   \n",
       "DummyClassifier                    0.80               0.50     0.50      0.71   \n",
       "\n",
       "                               recall_score  Time Taken  \n",
       "Model                                                    \n",
       "AdaBoostClassifier                     0.50        0.28  \n",
       "LGBMClassifier                         0.51        0.12  \n",
       "RandomForestClassifier                 0.48        0.76  \n",
       "ExtraTreesClassifier                   0.47        0.54  \n",
       "NearestCentroid                        0.73        0.02  \n",
       "BaggingClassifier                      0.44        0.21  \n",
       "DecisionTreeClassifier                 0.52        0.05  \n",
       "SVC                                    0.40        1.19  \n",
       "LabelSpreading                         0.49        1.23  \n",
       "LabelPropagation                       0.49        0.92  \n",
       "ExtraTreeClassifier                    0.48        0.02  \n",
       "QuadraticDiscriminantAnalysis          0.39        0.02  \n",
       "KNeighborsClassifier                   0.38        0.17  \n",
       "GaussianNB                             0.37        0.02  \n",
       "BernoulliNB                            0.32        0.02  \n",
       "Perceptron                             0.44        0.02  \n",
       "LinearDiscriminantAnalysis             0.24        0.02  \n",
       "LogisticRegression                     0.22        0.02  \n",
       "CalibratedClassifierCV                 0.21        0.07  \n",
       "LinearSVC                              0.14        0.02  \n",
       "RidgeClassifier                        0.13        0.02  \n",
       "RidgeClassifierCV                      0.13        0.02  \n",
       "PassiveAggressiveClassifier            0.15        0.02  \n",
       "SGDClassifier                          0.01        0.03  \n",
       "DummyClassifier                        0.00        0.01  "
      ]
     },
     "metadata": {},
     "output_type": "display_data"
    }
   ],
   "source": [
    "# Initialize LazyClassifier with recall as the custom metric\n",
    "clf = LazyClassifier(\n",
    "    verbose=0,  # Suppress detailed logging\n",
    "    ignore_warnings=True,  # Ignore model-specific warnings\n",
    "    custom_metric=recall_score  # Use recall as the custom evaluation metric\n",
    ")\n",
    "\n",
    "# Fit LazyClassifier on the training and validation sets\n",
    "models, predictions = clf.fit(X_train, X_valid, y_train, y_valid)\n",
    "\n",
    "# Display the summary of model performances\n",
    "print(\"Baseline Model Performance Metrics:\")\n",
    "display(models)"
   ]
  },
  {
   "cell_type": "markdown",
   "metadata": {},
   "source": [
    "### **6. Building and Evaluating a LightGBM Model**\n",
    "\n",
    "#### Objectives:\n",
    "\n",
    "1. **Train a LightGBM Classifier**:\n",
    "   - Utilize LightGBM, a high-performance gradient boosting framework, to train a model for churn prediction.\n",
    "2. **Evaluate the Model**:\n",
    "   - Predict on the validation set and prepare for further evaluation using relevant metrics (e.g., F1, recall, AUC-ROC)."
   ]
  },
  {
   "cell_type": "code",
   "execution_count": 8,
   "metadata": {
    "colab": {
     "base_uri": "https://localhost:8080/",
     "height": 190
    },
    "executionInfo": {
     "elapsed": 572,
     "status": "ok",
     "timestamp": 1732462430964,
     "user": {
      "displayName": "Guillermo Alcántara",
      "userId": "01170906250694055991"
     },
     "user_tz": 360
    },
    "id": "rPWMcbTcx9TH",
    "outputId": "005d1899-69e3-4bb1-bb0b-1cdcbd725f59"
   },
   "outputs": [
    {
     "name": "stdout",
     "output_type": "stream",
     "text": [
      "[LightGBM] [Info] Number of positive: 1222, number of negative: 4778\n",
      "[LightGBM] [Info] Auto-choosing col-wise multi-threading, the overhead of testing was 0.000759 seconds.\n",
      "You can set `force_col_wise=true` to remove the overhead.\n",
      "[LightGBM] [Info] Total Bins 1098\n",
      "[LightGBM] [Info] Number of data points in the train set: 6000, number of used features: 11\n",
      "[LightGBM] [Info] [binary:BoostFromScore]: pavg=0.203667 -> initscore=-1.363533\n",
      "[LightGBM] [Info] Start training from score -1.363533\n",
      "Classification Report (Validation Set):\n",
      "              precision    recall  f1-score   support\n",
      "\n",
      "         0.0       0.89      0.95      0.92      1592\n",
      "         1.0       0.73      0.53      0.61       408\n",
      "\n",
      "    accuracy                           0.86      2000\n",
      "   macro avg       0.81      0.74      0.77      2000\n",
      "weighted avg       0.86      0.86      0.86      2000\n",
      "\n",
      "AUC-ROC (Validation Set): 0.8715\n",
      "F1 Score (Validation Set): 0.6136\n"
     ]
    }
   ],
   "source": [
    "# Step 1: Initialize and train LightGBM Classifier\n",
    "clf = lgb.LGBMClassifier(random_state=SEED)  # Use SEED for reproducibility\n",
    "clf.fit(X_train, y_train)\n",
    "\n",
    "# Step 2: Predict on validation set\n",
    "y_pred = clf.predict(X_valid)\n",
    "y_pred_proba = clf.predict_proba(X_valid)[:, 1]  # For AUC-ROC\n",
    "\n",
    "# Step 3: Evaluate the model\n",
    "print(\"Classification Report (Validation Set):\")\n",
    "print(classification_report(y_valid, y_pred))\n",
    "\n",
    "# Calculate AUC-ROC\n",
    "roc_auc = roc_auc_score(y_valid, y_pred_proba)\n",
    "print(f\"AUC-ROC (Validation Set): {roc_auc:.4f}\")\n",
    "\n",
    "# Calculate F1 Score\n",
    "f1 = f1_score(y_valid, y_pred)\n",
    "print(f\"F1 Score (Validation Set): {f1:.4f}\")"
   ]
  },
  {
   "cell_type": "markdown",
   "metadata": {},
   "source": [
    "### 7 . **Evaluating the LightGBM Model**\n",
    "\n",
    "#### Objectives:\n",
    "\n",
    "1. **Comprehensive Evaluation**:\n",
    "   - Use a custom `ModelEvaluator` class to calculate and display key evaluation metrics, plot the confusion matrix, and visualize the ROC curve.\n",
    "2. **Key Metrics**:\n",
    "   - Metrics such as precision, recall, F1 score, and AUC-ROC will help assess model performance comprehensively.\n",
    "   - The confusion matrix provides a clear view of true positives, false positives, true negatives, and false negatives.\n",
    "3. **Visualization**:\n",
    "   - The ROC curve visually illustrates the trade-off between sensitivity and specificity."
   ]
  },
  {
   "cell_type": "code",
   "execution_count": 9,
   "metadata": {},
   "outputs": [
    {
     "data": {
      "text/markdown": [
       "### **Scores**"
      ],
      "text/plain": [
       "<IPython.core.display.Markdown object>"
      ]
     },
     "metadata": {},
     "output_type": "display_data"
    },
    {
     "name": "stdout",
     "output_type": "stream",
     "text": [
      "\u001b[1mAccuracy Score\u001b[0m\t: 0.8640\n",
      "\u001b[1mPrecision\u001b[0m\t: 0.7297\n",
      "\u001b[1mRecall\u001b[0m\t\t: 0.5294\n",
      "\u001b[1mF1 Score\u001b[0m\t: 0.6136\n",
      "\u001b[1mROC AUC Score\u001b[0m\t: 0.8715\n",
      "\n",
      "Classification Report:\n",
      "              precision    recall  f1-score   support\n",
      "\n",
      "         0.0       0.89      0.95      0.92      1592\n",
      "         1.0       0.73      0.53      0.61       408\n",
      "\n",
      "    accuracy                           0.86      2000\n",
      "   macro avg       0.81      0.74      0.77      2000\n",
      "weighted avg       0.86      0.86      0.86      2000\n",
      "\n"
     ]
    },
    {
     "data": {
      "image/png": "[encoded data removed]",
      "text/plain": [
       "<Figure size 600x400 with 1 Axes>"
      ]
     },
     "metadata": {},
     "output_type": "display_data"
    },
    {
     "data": {
      "application/vnd.plotly.v1+json": {
       "config": {
        "plotlyServerURL": "https://plot.ly"
       },
       "data": [
        {
         "mode": "lines",
         "name": "AUC = 0.87",
         "type": "scatter",
         "x": [
          0,
          0,
          0,
          0.000628140703517588,
          0.000628140703517588,
          0.001256281407035176,
          0.001256281407035176,
          0.002512562814070352,
          0.002512562814070352,
          0.00314070351758794,
          0.00314070351758794,
          0.0037688442211055275,
          0.0037688442211055275,
          0.0043969849246231155,
          0.0043969849246231155,
          0.005025125628140704,
          0.005025125628140704,
          0.00628140703517588,
          0.00628140703517588,
          0.006909547738693468,
          0.006909547738693468,
          0.007537688442211055,
          0.007537688442211055,
          0.009422110552763818,
          0.009422110552763818,
          0.010050251256281407,
          0.010050251256281407,
          0.010678391959798994,
          0.010678391959798994,
          0.01193467336683417,
          0.01193467336683417,
          0.01256281407035176,
          0.01256281407035176,
          0.013190954773869347,
          0.013190954773869347,
          0.013819095477386936,
          0.013819095477386936,
          0.01507537688442211,
          0.01507537688442211,
          0.015703517587939697,
          0.015703517587939697,
          0.016331658291457288,
          0.016331658291457288,
          0.017587939698492462,
          0.017587939698492462,
          0.018844221105527637,
          0.018844221105527637,
          0.019472361809045227,
          0.019472361809045227,
          0.020100502512562814,
          0.020100502512562814,
          0.0207286432160804,
          0.0207286432160804,
          0.02198492462311558,
          0.02198492462311558,
          0.022613065326633167,
          0.022613065326633167,
          0.023241206030150754,
          0.023241206030150754,
          0.024497487437185928,
          0.024497487437185928,
          0.02512562814070352,
          0.02512562814070352,
          0.025753768844221106,
          0.025753768844221106,
          0.026381909547738693,
          0.026381909547738693,
          0.02701005025125628,
          0.02701005025125628,
          0.02763819095477387,
          0.02763819095477387,
          0.028266331658291458,
          0.028266331658291458,
          0.029522613065326633,
          0.029522613065326633,
          0.03015075376884422,
          0.03015075376884422,
          0.031407035175879394,
          0.031407035175879394,
          0.03329145728643216,
          0.03329145728643216,
          0.03391959798994975,
          0.03391959798994975,
          0.035175879396984924,
          0.035175879396984924,
          0.035804020100502515,
          0.035804020100502515,
          0.038316582914572864,
          0.038316582914572864,
          0.04020100502512563,
          0.04020100502512563,
          0.04396984924623116,
          0.04396984924623116,
          0.04459798994974874,
          0.04459798994974874,
          0.04522613065326633,
          0.04522613065326633,
          0.04585427135678392,
          0.04585427135678392,
          0.04836683417085427,
          0.04836683417085427,
          0.048994974874371856,
          0.048994974874371856,
          0.04962311557788945,
          0.04962311557788945,
          0.05087939698492462,
          0.05087939698492462,
          0.05464824120603015,
          0.05464824120603015,
          0.05527638190954774,
          0.05527638190954774,
          0.056532663316582916,
          0.056532663316582916,
          0.0571608040201005,
          0.0571608040201005,
          0.059045226130653265,
          0.059045226130653265,
          0.059673366834170856,
          0.059673366834170856,
          0.06092964824120603,
          0.06092964824120603,
          0.06469849246231156,
          0.06469849246231156,
          0.06532663316582915,
          0.06532663316582915,
          0.06595477386934673,
          0.06595477386934673,
          0.06658291457286432,
          0.06658291457286432,
          0.07160804020100503,
          0.07160804020100503,
          0.0728643216080402,
          0.0728643216080402,
          0.07349246231155779,
          0.07349246231155779,
          0.07412060301507538,
          0.07412060301507538,
          0.07474874371859297,
          0.07474874371859297,
          0.07537688442211055,
          0.07537688442211055,
          0.07600502512562814,
          0.07600502512562814,
          0.07726130653266332,
          0.07726130653266332,
          0.08103015075376885,
          0.08103015075376885,
          0.0835427135678392,
          0.0835427135678392,
          0.08417085427135679,
          0.08417085427135679,
          0.08668341708542714,
          0.08668341708542714,
          0.08731155778894473,
          0.08731155778894473,
          0.09045226130653267,
          0.09045226130653267,
          0.09296482412060302,
          0.09296482412060302,
          0.0935929648241206,
          0.0935929648241206,
          0.09673366834170855,
          0.09673366834170855,
          0.09798994974874371,
          0.09798994974874371,
          0.0992462311557789,
          0.0992462311557789,
          0.09987437185929648,
          0.09987437185929648,
          0.10050251256281408,
          0.10050251256281408,
          0.10489949748743718,
          0.10489949748743718,
          0.11243718592964824,
          0.11243718592964824,
          0.11494974874371859,
          0.11494974874371859,
          0.11746231155778894,
          0.11746231155778894,
          0.11809045226130653,
          0.11809045226130653,
          0.12060301507537688,
          0.12060301507537688,
          0.12248743718592965,
          0.12248743718592965,
          0.12311557788944724,
          0.12311557788944724,
          0.12688442211055276,
          0.12688442211055276,
          0.12814070351758794,
          0.12814070351758794,
          0.1300251256281407,
          0.1300251256281407,
          0.1306532663316583,
          0.1306532663316583,
          0.13253768844221106,
          0.13253768844221106,
          0.13316582914572864,
          0.13316582914572864,
          0.13944723618090452,
          0.13944723618090452,
          0.14007537688442212,
          0.14007537688442212,
          0.1407035175879397,
          0.1407035175879397,
          0.14321608040201006,
          0.14321608040201006,
          0.14384422110552764,
          0.14384422110552764,
          0.14824120603015076,
          0.14824120603015076,
          0.14949748743718594,
          0.14949748743718594,
          0.15012562814070352,
          0.15012562814070352,
          0.15452261306532664,
          0.15452261306532664,
          0.16017587939698494,
          0.16017587939698494,
          0.16331658291457288,
          0.16331658291457288,
          0.16394472361809045,
          0.16394472361809045,
          0.16457286432160803,
          0.16457286432160803,
          0.1721105527638191,
          0.1721105527638191,
          0.17462311557788945,
          0.17462311557788945,
          0.1765075376884422,
          0.1765075376884422,
          0.17964824120603015,
          0.17964824120603015,
          0.1815326633165829,
          0.1815326633165829,
          0.18404522613065327,
          0.18404522613065327,
          0.18467336683417085,
          0.18467336683417085,
          0.1865577889447236,
          0.1865577889447236,
          0.1878140703517588,
          0.1878140703517588,
          0.18969849246231155,
          0.18969849246231155,
          0.19095477386934673,
          0.19095477386934673,
          0.1922110552763819,
          0.1922110552763819,
          0.19409547738693467,
          0.19409547738693467,
          0.19472361809045227,
          0.19472361809045227,
          0.1972361809045226,
          0.1972361809045226,
          0.1978643216080402,
          0.1978643216080402,
          0.20100502512562815,
          0.20100502512562815,
          0.20603015075376885,
          0.20603015075376885,
          0.2079145728643216,
          0.2079145728643216,
          0.21168341708542712,
          0.21168341708542712,
          0.21231155778894473,
          0.21231155778894473,
          0.217964824120603,
          0.217964824120603,
          0.2185929648241206,
          0.2185929648241206,
          0.22173366834170855,
          0.22173366834170855,
          0.23366834170854273,
          0.23366834170854273,
          0.23618090452261306,
          0.23618090452261306,
          0.24057788944723618,
          0.24057788944723618,
          0.24246231155778894,
          0.24246231155778894,
          0.24748743718592964,
          0.24748743718592964,
          0.25,
          0.25,
          0.2556532663316583,
          0.2556532663316583,
          0.25816582914572866,
          0.25816582914572866,
          0.25879396984924624,
          0.25879396984924624,
          0.2650753768844221,
          0.2650753768844221,
          0.2701005025125628,
          0.2701005025125628,
          0.27261306532663315,
          0.27261306532663315,
          0.27386934673366836,
          0.27386934673366836,
          0.27638190954773867,
          0.27638190954773867,
          0.28266331658291455,
          0.28266331658291455,
          0.2851758793969849,
          0.2851758793969849,
          0.2876884422110553,
          0.2876884422110553,
          0.29459798994974873,
          0.29459798994974873,
          0.30590452261306533,
          0.30590452261306533,
          0.3084170854271357,
          0.3084170854271357,
          0.31721105527638194,
          0.31721105527638194,
          0.31909547738693467,
          0.31909547738693467,
          0.3203517587939699,
          0.3203517587939699,
          0.32474874371859297,
          0.32474874371859297,
          0.33040201005025127,
          0.33040201005025127,
          0.34673366834170855,
          0.34673366834170855,
          0.35050251256281406,
          0.35050251256281406,
          0.35175879396984927,
          0.35175879396984927,
          0.35238693467336685,
          0.35238693467336685,
          0.3542713567839196,
          0.3542713567839196,
          0.3630653266331658,
          0.3630653266331658,
          0.3844221105527638,
          0.3844221105527638,
          0.3907035175879397,
          0.3907035175879397,
          0.3957286432160804,
          0.3957286432160804,
          0.39761306532663315,
          0.39761306532663315,
          0.39886934673366836,
          0.39886934673366836,
          0.4082914572864322,
          0.4082914572864322,
          0.40891959798994976,
          0.40891959798994976,
          0.40954773869346733,
          0.40954773869346733,
          0.41457286432160806,
          0.41457286432160806,
          0.42273869346733667,
          0.42273869346733667,
          0.42902010050251255,
          0.42902010050251255,
          0.4434673366834171,
          0.4434673366834171,
          0.4484924623115578,
          0.4484924623115578,
          0.45540201005025127,
          0.45540201005025127,
          0.4685929648241206,
          0.4685929648241206,
          0.47173366834170855,
          0.47173366834170855,
          0.49120603015075376,
          0.49120603015075376,
          0.5050251256281407,
          0.5050251256281407,
          0.5113065326633166,
          0.5113065326633166,
          0.5238693467336684,
          0.5238693467336684,
          0.5358040201005025,
          0.5358040201005025,
          0.5508793969849246,
          0.5508793969849246,
          0.5515075376884422,
          0.5515075376884422,
          0.5552763819095478,
          0.5552763819095478,
          0.5785175879396985,
          0.5785175879396985,
          0.5841708542713567,
          0.5841708542713567,
          0.5879396984924623,
          0.5879396984924623,
          0.6080402010050251,
          0.6080402010050251,
          0.6224874371859297,
          0.6224874371859297,
          0.6482412060301508,
          0.6482412060301508,
          0.6526381909547738,
          0.6526381909547738,
          0.6871859296482412,
          0.6871859296482412,
          0.7173366834170855,
          0.7173366834170855,
          0.7192211055276382,
          0.7192211055276382,
          0.7751256281407035,
          0.7751256281407035,
          0.8266331658291457,
          0.8266331658291457,
          0.864321608040201,
          0.864321608040201,
          0.8869346733668342,
          0.8869346733668342,
          0.9057788944723618,
          0.9057788944723618,
          0.917713567839196,
          0.917713567839196,
          0.9660804020100503,
          0.9660804020100503,
          1
         ],
         "y": [
          0,
          0.0024509803921568627,
          0.061274509803921566,
          0.061274509803921566,
          0.0857843137254902,
          0.0857843137254902,
          0.16666666666666666,
          0.16666666666666666,
          0.17647058823529413,
          0.17647058823529413,
          0.19362745098039216,
          0.19362745098039216,
          0.19607843137254902,
          0.19607843137254902,
          0.20833333333333334,
          0.20833333333333334,
          0.23039215686274508,
          0.23039215686274508,
          0.23284313725490197,
          0.23284313725490197,
          0.25245098039215685,
          0.25245098039215685,
          0.26715686274509803,
          0.26715686274509803,
          0.2696078431372549,
          0.2696078431372549,
          0.27941176470588236,
          0.27941176470588236,
          0.28921568627450983,
          0.28921568627450983,
          0.2916666666666667,
          0.2916666666666667,
          0.29901960784313725,
          0.29901960784313725,
          0.30392156862745096,
          0.30392156862745096,
          0.3161764705882353,
          0.3161764705882353,
          0.31862745098039214,
          0.31862745098039214,
          0.32107843137254904,
          0.32107843137254904,
          0.3235294117647059,
          0.3235294117647059,
          0.32598039215686275,
          0.32598039215686275,
          0.3284313725490196,
          0.3284313725490196,
          0.3333333333333333,
          0.3333333333333333,
          0.3382352941176471,
          0.3382352941176471,
          0.3480392156862745,
          0.3480392156862745,
          0.3553921568627451,
          0.3553921568627451,
          0.38235294117647056,
          0.38235294117647056,
          0.39215686274509803,
          0.39215686274509803,
          0.4215686274509804,
          0.4215686274509804,
          0.4264705882352941,
          0.4264705882352941,
          0.43137254901960786,
          0.43137254901960786,
          0.4362745098039216,
          0.4362745098039216,
          0.4485294117647059,
          0.4485294117647059,
          0.4583333333333333,
          0.4583333333333333,
          0.46078431372549017,
          0.46078431372549017,
          0.4730392156862745,
          0.4730392156862745,
          0.47549019607843135,
          0.47549019607843135,
          0.47794117647058826,
          0.47794117647058826,
          0.4852941176470588,
          0.4852941176470588,
          0.49019607843137253,
          0.49019607843137253,
          0.49264705882352944,
          0.49264705882352944,
          0.4950980392156863,
          0.4950980392156863,
          0.5,
          0.5,
          0.5024509803921569,
          0.5024509803921569,
          0.5049019607843137,
          0.5049019607843137,
          0.5098039215686274,
          0.5098039215686274,
          0.5122549019607843,
          0.5122549019607843,
          0.5147058823529411,
          0.5147058823529411,
          0.5171568627450981,
          0.5171568627450981,
          0.5220588235294118,
          0.5220588235294118,
          0.5294117647058824,
          0.5294117647058824,
          0.5392156862745098,
          0.5392156862745098,
          0.5416666666666666,
          0.5416666666666666,
          0.5441176470588235,
          0.5441176470588235,
          0.5465686274509803,
          0.5465686274509803,
          0.5514705882352942,
          0.5514705882352942,
          0.5563725490196079,
          0.5563725490196079,
          0.5588235294117647,
          0.5588235294117647,
          0.5612745098039216,
          0.5612745098039216,
          0.5661764705882353,
          0.5661764705882353,
          0.5686274509803921,
          0.5686274509803921,
          0.571078431372549,
          0.571078431372549,
          0.5759803921568627,
          0.5759803921568627,
          0.5784313725490197,
          0.5784313725490197,
          0.5808823529411765,
          0.5808823529411765,
          0.5833333333333334,
          0.5833333333333334,
          0.5882352941176471,
          0.5882352941176471,
          0.5931372549019608,
          0.5931372549019608,
          0.5955882352941176,
          0.5955882352941176,
          0.5980392156862745,
          0.5980392156862745,
          0.6004901960784313,
          0.6004901960784313,
          0.6053921568627451,
          0.6053921568627451,
          0.6102941176470589,
          0.6102941176470589,
          0.6127450980392157,
          0.6127450980392157,
          0.6151960784313726,
          0.6151960784313726,
          0.6200980392156863,
          0.6200980392156863,
          0.6274509803921569,
          0.6274509803921569,
          0.6299019607843137,
          0.6299019607843137,
          0.6372549019607843,
          0.6372549019607843,
          0.6397058823529411,
          0.6397058823529411,
          0.6421568627450981,
          0.6421568627450981,
          0.6446078431372549,
          0.6446078431372549,
          0.6470588235294118,
          0.6470588235294118,
          0.6495098039215687,
          0.6495098039215687,
          0.6519607843137255,
          0.6519607843137255,
          0.6544117647058824,
          0.6544117647058824,
          0.6568627450980392,
          0.6568627450980392,
          0.6617647058823529,
          0.6617647058823529,
          0.6666666666666666,
          0.6666666666666666,
          0.6764705882352942,
          0.6764705882352942,
          0.678921568627451,
          0.678921568627451,
          0.6813725490196079,
          0.6813725490196079,
          0.6838235294117647,
          0.6838235294117647,
          0.6862745098039216,
          0.6862745098039216,
          0.6936274509803921,
          0.6936274509803921,
          0.696078431372549,
          0.696078431372549,
          0.6985294117647058,
          0.6985294117647058,
          0.7009803921568627,
          0.7009803921568627,
          0.7034313725490197,
          0.7034313725490197,
          0.7083333333333334,
          0.7083333333333334,
          0.7107843137254902,
          0.7107843137254902,
          0.7132352941176471,
          0.7132352941176471,
          0.7181372549019608,
          0.7181372549019608,
          0.7205882352941176,
          0.7205882352941176,
          0.7230392156862745,
          0.7230392156862745,
          0.7254901960784313,
          0.7254901960784313,
          0.7279411764705882,
          0.7279411764705882,
          0.7303921568627451,
          0.7303921568627451,
          0.7352941176470589,
          0.7352941176470589,
          0.7401960784313726,
          0.7401960784313726,
          0.7426470588235294,
          0.7426470588235294,
          0.7450980392156863,
          0.7450980392156863,
          0.7475490196078431,
          0.7475490196078431,
          0.7524509803921569,
          0.7524509803921569,
          0.7549019607843137,
          0.7549019607843137,
          0.7573529411764706,
          0.7573529411764706,
          0.7598039215686274,
          0.7598039215686274,
          0.7622549019607843,
          0.7622549019607843,
          0.7647058823529411,
          0.7647058823529411,
          0.7671568627450981,
          0.7671568627450981,
          0.7720588235294118,
          0.7720588235294118,
          0.7769607843137255,
          0.7769607843137255,
          0.7818627450980392,
          0.7818627450980392,
          0.7843137254901961,
          0.7843137254901961,
          0.7867647058823529,
          0.7867647058823529,
          0.7892156862745098,
          0.7892156862745098,
          0.7916666666666666,
          0.7916666666666666,
          0.7941176470588235,
          0.7941176470588235,
          0.7965686274509803,
          0.7965686274509803,
          0.7990196078431373,
          0.7990196078431373,
          0.8014705882352942,
          0.8014705882352942,
          0.8063725490196079,
          0.8063725490196079,
          0.8088235294117647,
          0.8088235294117647,
          0.8112745098039216,
          0.8112745098039216,
          0.8137254901960784,
          0.8137254901960784,
          0.8161764705882353,
          0.8161764705882353,
          0.8186274509803921,
          0.8186274509803921,
          0.821078431372549,
          0.821078431372549,
          0.8235294117647058,
          0.8235294117647058,
          0.8259803921568627,
          0.8259803921568627,
          0.8284313725490197,
          0.8284313725490197,
          0.8308823529411765,
          0.8308823529411765,
          0.8333333333333334,
          0.8333333333333334,
          0.8357843137254902,
          0.8357843137254902,
          0.8382352941176471,
          0.8382352941176471,
          0.8406862745098039,
          0.8406862745098039,
          0.8431372549019608,
          0.8431372549019608,
          0.8455882352941176,
          0.8455882352941176,
          0.8480392156862745,
          0.8480392156862745,
          0.8504901960784313,
          0.8504901960784313,
          0.8529411764705882,
          0.8529411764705882,
          0.8553921568627451,
          0.8553921568627451,
          0.8578431372549019,
          0.8578431372549019,
          0.8602941176470589,
          0.8602941176470589,
          0.8627450980392157,
          0.8627450980392157,
          0.8651960784313726,
          0.8651960784313726,
          0.8676470588235294,
          0.8676470588235294,
          0.8700980392156863,
          0.8700980392156863,
          0.8725490196078431,
          0.8725490196078431,
          0.875,
          0.875,
          0.8799019607843137,
          0.8799019607843137,
          0.8823529411764706,
          0.8823529411764706,
          0.8848039215686274,
          0.8848039215686274,
          0.8872549019607843,
          0.8872549019607843,
          0.8897058823529411,
          0.8897058823529411,
          0.8921568627450981,
          0.8921568627450981,
          0.8946078431372549,
          0.8946078431372549,
          0.8970588235294118,
          0.8970588235294118,
          0.8995098039215687,
          0.8995098039215687,
          0.9019607843137255,
          0.9019607843137255,
          0.9044117647058824,
          0.9044117647058824,
          0.9068627450980392,
          0.9068627450980392,
          0.9093137254901961,
          0.9093137254901961,
          0.9142156862745098,
          0.9142156862745098,
          0.9166666666666666,
          0.9166666666666666,
          0.9191176470588235,
          0.9191176470588235,
          0.9215686274509803,
          0.9215686274509803,
          0.9240196078431373,
          0.9240196078431373,
          0.9264705882352942,
          0.9264705882352942,
          0.928921568627451,
          0.928921568627451,
          0.9313725490196079,
          0.9313725490196079,
          0.9338235294117647,
          0.9338235294117647,
          0.9362745098039216,
          0.9362745098039216,
          0.9387254901960784,
          0.9387254901960784,
          0.9411764705882353,
          0.9411764705882353,
          0.9436274509803921,
          0.9436274509803921,
          0.946078431372549,
          0.946078431372549,
          0.9485294117647058,
          0.9485294117647058,
          0.9509803921568627,
          0.9509803921568627,
          0.9534313725490197,
          0.9534313725490197,
          0.9558823529411765,
          0.9558823529411765,
          0.9583333333333334,
          0.9583333333333334,
          0.9607843137254902,
          0.9607843137254902,
          0.9632352941176471,
          0.9632352941176471,
          0.9656862745098039,
          0.9656862745098039,
          0.9681372549019608,
          0.9681372549019608,
          0.9705882352941176,
          0.9705882352941176,
          0.9730392156862745,
          0.9730392156862745,
          0.9754901960784313,
          0.9754901960784313,
          0.9779411764705882,
          0.9779411764705882,
          0.9803921568627451,
          0.9803921568627451,
          0.9877450980392157,
          0.9877450980392157,
          0.9901960784313726,
          0.9901960784313726,
          0.9926470588235294,
          0.9926470588235294,
          0.9950980392156863,
          0.9950980392156863,
          0.9975490196078431,
          0.9975490196078431,
          1,
          1
         ]
        },
        {
         "line": {
          "color": "red",
          "dash": "dash"
         },
         "mode": "lines",
         "showlegend": false,
         "type": "scatter",
         "x": [
          0,
          1
         ],
         "y": [
          0,
          1
         ]
        }
       ],
       "layout": {
        "autosize": false,
        "height": 600,
        "showlegend": true,
        "template": {
         "data": {
          "bar": [
           {
            "error_x": {
             "color": "#2a3f5f"
            },
            "error_y": {
             "color": "#2a3f5f"
            },
            "marker": {
             "line": {
              "color": "#E5ECF6",
              "width": 0.5
             },
             "pattern": {
              "fillmode": "overlay",
              "size": 10,
              "solidity": 0.2
             }
            },
            "type": "bar"
           }
          ],
          "barpolar": [
           {
            "marker": {
             "line": {
              "color": "#E5ECF6",
              "width": 0.5
             },
             "pattern": {
              "fillmode": "overlay",
              "size": 10,
              "solidity": 0.2
             }
            },
            "type": "barpolar"
           }
          ],
          "carpet": [
           {
            "aaxis": {
             "endlinecolor": "#2a3f5f",
             "gridcolor": "white",
             "linecolor": "white",
             "minorgridcolor": "white",
             "startlinecolor": "#2a3f5f"
            },
            "baxis": {
             "endlinecolor": "#2a3f5f",
             "gridcolor": "white",
             "linecolor": "white",
             "minorgridcolor": "white",
             "startlinecolor": "#2a3f5f"
            },
            "type": "carpet"
           }
          ],
          "choropleth": [
           {
            "colorbar": {
             "outlinewidth": 0,
             "ticks": ""
            },
            "type": "choropleth"
           }
          ],
          "contour": [
           {
            "colorbar": {
             "outlinewidth": 0,
             "ticks": ""
            },
            "colorscale": [
             [
              0,
              "#0d0887"
             ],
             [
              0.1111111111111111,
              "#46039f"
             ],
             [
              0.2222222222222222,
              "#7201a8"
             ],
             [
              0.3333333333333333,
              "#9c179e"
             ],
             [
              0.4444444444444444,
              "#bd3786"
             ],
             [
              0.5555555555555556,
              "#d8576b"
             ],
             [
              0.6666666666666666,
              "#ed7953"
             ],
             [
              0.7777777777777778,
              "#fb9f3a"
             ],
             [
              0.8888888888888888,
              "#fdca26"
             ],
             [
              1,
              "#f0f921"
             ]
            ],
            "type": "contour"
           }
          ],
          "contourcarpet": [
           {
            "colorbar": {
             "outlinewidth": 0,
             "ticks": ""
            },
            "type": "contourcarpet"
           }
          ],
          "heatmap": [
           {
            "colorbar": {
             "outlinewidth": 0,
             "ticks": ""
            },
            "colorscale": [
             [
              0,
              "#0d0887"
             ],
             [
              0.1111111111111111,
              "#46039f"
             ],
             [
              0.2222222222222222,
              "#7201a8"
             ],
             [
              0.3333333333333333,
              "#9c179e"
             ],
             [
              0.4444444444444444,
              "#bd3786"
             ],
             [
              0.5555555555555556,
              "#d8576b"
             ],
             [
              0.6666666666666666,
              "#ed7953"
             ],
             [
              0.7777777777777778,
              "#fb9f3a"
             ],
             [
              0.8888888888888888,
              "#fdca26"
             ],
             [
              1,
              "#f0f921"
             ]
            ],
            "type": "heatmap"
           }
          ],
          "heatmapgl": [
           {
            "colorbar": {
             "outlinewidth": 0,
             "ticks": ""
            },
            "colorscale": [
             [
              0,
              "#0d0887"
             ],
             [
              0.1111111111111111,
              "#46039f"
             ],
             [
              0.2222222222222222,
              "#7201a8"
             ],
             [
              0.3333333333333333,
              "#9c179e"
             ],
             [
              0.4444444444444444,
              "#bd3786"
             ],
             [
              0.5555555555555556,
              "#d8576b"
             ],
             [
              0.6666666666666666,
              "#ed7953"
             ],
             [
              0.7777777777777778,
              "#fb9f3a"
             ],
             [
              0.8888888888888888,
              "#fdca26"
             ],
             [
              1,
              "#f0f921"
             ]
            ],
            "type": "heatmapgl"
           }
          ],
          "histogram": [
           {
            "marker": {
             "pattern": {
              "fillmode": "overlay",
              "size": 10,
              "solidity": 0.2
             }
            },
            "type": "histogram"
           }
          ],
          "histogram2d": [
           {
            "colorbar": {
             "outlinewidth": 0,
             "ticks": ""
            },
            "colorscale": [
             [
              0,
              "#0d0887"
             ],
             [
              0.1111111111111111,
              "#46039f"
             ],
             [
              0.2222222222222222,
              "#7201a8"
             ],
             [
              0.3333333333333333,
              "#9c179e"
             ],
             [
              0.4444444444444444,
              "#bd3786"
             ],
             [
              0.5555555555555556,
              "#d8576b"
             ],
             [
              0.6666666666666666,
              "#ed7953"
             ],
             [
              0.7777777777777778,
              "#fb9f3a"
             ],
             [
              0.8888888888888888,
              "#fdca26"
             ],
             [
              1,
              "#f0f921"
             ]
            ],
            "type": "histogram2d"
           }
          ],
          "histogram2dcontour": [
           {
            "colorbar": {
             "outlinewidth": 0,
             "ticks": ""
            },
            "colorscale": [
             [
              0,
              "#0d0887"
             ],
             [
              0.1111111111111111,
              "#46039f"
             ],
             [
              0.2222222222222222,
              "#7201a8"
             ],
             [
              0.3333333333333333,
              "#9c179e"
             ],
             [
              0.4444444444444444,
              "#bd3786"
             ],
             [
              0.5555555555555556,
              "#d8576b"
             ],
             [
              0.6666666666666666,
              "#ed7953"
             ],
             [
              0.7777777777777778,
              "#fb9f3a"
             ],
             [
              0.8888888888888888,
              "#fdca26"
             ],
             [
              1,
              "#f0f921"
             ]
            ],
            "type": "histogram2dcontour"
           }
          ],
          "mesh3d": [
           {
            "colorbar": {
             "outlinewidth": 0,
             "ticks": ""
            },
            "type": "mesh3d"
           }
          ],
          "parcoords": [
           {
            "line": {
             "colorbar": {
              "outlinewidth": 0,
              "ticks": ""
             }
            },
            "type": "parcoords"
           }
          ],
          "pie": [
           {
            "automargin": true,
            "type": "pie"
           }
          ],
          "scatter": [
           {
            "fillpattern": {
             "fillmode": "overlay",
             "size": 10,
             "solidity": 0.2
            },
            "type": "scatter"
           }
          ],
          "scatter3d": [
           {
            "line": {
             "colorbar": {
              "outlinewidth": 0,
              "ticks": ""
             }
            },
            "marker": {
             "colorbar": {
              "outlinewidth": 0,
              "ticks": ""
             }
            },
            "type": "scatter3d"
           }
          ],
          "scattercarpet": [
           {
            "marker": {
             "colorbar": {
              "outlinewidth": 0,
              "ticks": ""
             }
            },
            "type": "scattercarpet"
           }
          ],
          "scattergeo": [
           {
            "marker": {
             "colorbar": {
              "outlinewidth": 0,
              "ticks": ""
             }
            },
            "type": "scattergeo"
           }
          ],
          "scattergl": [
           {
            "marker": {
             "colorbar": {
              "outlinewidth": 0,
              "ticks": ""
             }
            },
            "type": "scattergl"
           }
          ],
          "scattermapbox": [
           {
            "marker": {
             "colorbar": {
              "outlinewidth": 0,
              "ticks": ""
             }
            },
            "type": "scattermapbox"
           }
          ],
          "scatterpolar": [
           {
            "marker": {
             "colorbar": {
              "outlinewidth": 0,
              "ticks": ""
             }
            },
            "type": "scatterpolar"
           }
          ],
          "scatterpolargl": [
           {
            "marker": {
             "colorbar": {
              "outlinewidth": 0,
              "ticks": ""
             }
            },
            "type": "scatterpolargl"
           }
          ],
          "scatterternary": [
           {
            "marker": {
             "colorbar": {
              "outlinewidth": 0,
              "ticks": ""
             }
            },
            "type": "scatterternary"
           }
          ],
          "surface": [
           {
            "colorbar": {
             "outlinewidth": 0,
             "ticks": ""
            },
            "colorscale": [
             [
              0,
              "#0d0887"
             ],
             [
              0.1111111111111111,
              "#46039f"
             ],
             [
              0.2222222222222222,
              "#7201a8"
             ],
             [
              0.3333333333333333,
              "#9c179e"
             ],
             [
              0.4444444444444444,
              "#bd3786"
             ],
             [
              0.5555555555555556,
              "#d8576b"
             ],
             [
              0.6666666666666666,
              "#ed7953"
             ],
             [
              0.7777777777777778,
              "#fb9f3a"
             ],
             [
              0.8888888888888888,
              "#fdca26"
             ],
             [
              1,
              "#f0f921"
             ]
            ],
            "type": "surface"
           }
          ],
          "table": [
           {
            "cells": {
             "fill": {
              "color": "#EBF0F8"
             },
             "line": {
              "color": "white"
             }
            },
            "header": {
             "fill": {
              "color": "#C8D4E3"
             },
             "line": {
              "color": "white"
             }
            },
            "type": "table"
           }
          ]
         },
         "layout": {
          "annotationdefaults": {
           "arrowcolor": "#2a3f5f",
           "arrowhead": 0,
           "arrowwidth": 1
          },
          "autotypenumbers": "strict",
          "coloraxis": {
           "colorbar": {
            "outlinewidth": 0,
            "ticks": ""
           }
          },
          "colorscale": {
           "diverging": [
            [
             0,
             "#8e0152"
            ],
            [
             0.1,
             "#c51b7d"
            ],
            [
             0.2,
             "#de77ae"
            ],
            [
             0.3,
             "#f1b6da"
            ],
            [
             0.4,
             "#fde0ef"
            ],
            [
             0.5,
             "#f7f7f7"
            ],
            [
             0.6,
             "#e6f5d0"
            ],
            [
             0.7,
             "#b8e186"
            ],
            [
             0.8,
             "#7fbc41"
            ],
            [
             0.9,
             "#4d9221"
            ],
            [
             1,
             "#276419"
            ]
           ],
           "sequential": [
            [
             0,
             "#0d0887"
            ],
            [
             0.1111111111111111,
             "#46039f"
            ],
            [
             0.2222222222222222,
             "#7201a8"
            ],
            [
             0.3333333333333333,
             "#9c179e"
            ],
            [
             0.4444444444444444,
             "#bd3786"
            ],
            [
             0.5555555555555556,
             "#d8576b"
            ],
            [
             0.6666666666666666,
             "#ed7953"
            ],
            [
             0.7777777777777778,
             "#fb9f3a"
            ],
            [
             0.8888888888888888,
             "#fdca26"
            ],
            [
             1,
             "#f0f921"
            ]
           ],
           "sequentialminus": [
            [
             0,
             "#0d0887"
            ],
            [
             0.1111111111111111,
             "#46039f"
            ],
            [
             0.2222222222222222,
             "#7201a8"
            ],
            [
             0.3333333333333333,
             "#9c179e"
            ],
            [
             0.4444444444444444,
             "#bd3786"
            ],
            [
             0.5555555555555556,
             "#d8576b"
            ],
            [
             0.6666666666666666,
             "#ed7953"
            ],
            [
             0.7777777777777778,
             "#fb9f3a"
            ],
            [
             0.8888888888888888,
             "#fdca26"
            ],
            [
             1,
             "#f0f921"
            ]
           ]
          },
          "colorway": [
           "#636efa",
           "#EF553B",
           "#00cc96",
           "#ab63fa",
           "#FFA15A",
           "#19d3f3",
           "#FF6692",
           "#B6E880",
           "#FF97FF",
           "#FECB52"
          ],
          "font": {
           "color": "#2a3f5f"
          },
          "geo": {
           "bgcolor": "white",
           "lakecolor": "white",
           "landcolor": "#E5ECF6",
           "showlakes": true,
           "showland": true,
           "subunitcolor": "white"
          },
          "hoverlabel": {
           "align": "left"
          },
          "hovermode": "closest",
          "mapbox": {
           "style": "light"
          },
          "paper_bgcolor": "white",
          "plot_bgcolor": "#E5ECF6",
          "polar": {
           "angularaxis": {
            "gridcolor": "white",
            "linecolor": "white",
            "ticks": ""
           },
           "bgcolor": "#E5ECF6",
           "radialaxis": {
            "gridcolor": "white",
            "linecolor": "white",
            "ticks": ""
           }
          },
          "scene": {
           "xaxis": {
            "backgroundcolor": "#E5ECF6",
            "gridcolor": "white",
            "gridwidth": 2,
            "linecolor": "white",
            "showbackground": true,
            "ticks": "",
            "zerolinecolor": "white"
           },
           "yaxis": {
            "backgroundcolor": "#E5ECF6",
            "gridcolor": "white",
            "gridwidth": 2,
            "linecolor": "white",
            "showbackground": true,
            "ticks": "",
            "zerolinecolor": "white"
           },
           "zaxis": {
            "backgroundcolor": "#E5ECF6",
            "gridcolor": "white",
            "gridwidth": 2,
            "linecolor": "white",
            "showbackground": true,
            "ticks": "",
            "zerolinecolor": "white"
           }
          },
          "shapedefaults": {
           "line": {
            "color": "#2a3f5f"
           }
          },
          "ternary": {
           "aaxis": {
            "gridcolor": "white",
            "linecolor": "white",
            "ticks": ""
           },
           "baxis": {
            "gridcolor": "white",
            "linecolor": "white",
            "ticks": ""
           },
           "bgcolor": "#E5ECF6",
           "caxis": {
            "gridcolor": "white",
            "linecolor": "white",
            "ticks": ""
           }
          },
          "title": {
           "x": 0.05
          },
          "xaxis": {
           "automargin": true,
           "gridcolor": "white",
           "linecolor": "white",
           "ticks": "",
           "title": {
            "standoff": 15
           },
           "zerolinecolor": "white",
           "zerolinewidth": 2
          },
          "yaxis": {
           "automargin": true,
           "gridcolor": "white",
           "linecolor": "white",
           "ticks": "",
           "title": {
            "standoff": 15
           },
           "zerolinecolor": "white",
           "zerolinewidth": 2
          }
         }
        },
        "title": {
         "text": "ROC Curve"
        },
        "width": 700,
        "xaxis": {
         "title": {
          "text": "False Positive Rate"
         }
        },
        "yaxis": {
         "title": {
          "text": "True Positive Rate"
         }
        }
       }
      }
     },
     "metadata": {},
     "output_type": "display_data"
    }
   ],
   "source": [
    "# Initialize the evaluator with predictions\n",
    "evaluator = ModelEvaluator(y_true=y_valid, y_pred=y_pred, y_proba=clf.predict_proba(X_valid)[:, 1])\n",
    "\n",
    "# Display scores\n",
    "evaluator.display_scores()\n",
    "\n",
    "# Plot the confusion matrix\n",
    "evaluator.plot_confusion_matrix()\n",
    "\n",
    "# Plot the ROC curve\n",
    "evaluator.plot_roc_curve()"
   ]
  },
  {
   "cell_type": "markdown",
   "metadata": {},
   "source": [
    "This cell evaluates the performance of the trained model. It calculates key metrics like accuracy, precision, recall, F1 score, and AUC-ROC to summarize how well the model performs. Additionally, it visualizes the confusion matrix to show the breakdown of correct and incorrect predictions and plots the ROC curve to illustrate the model's ability to distinguish between churned and non-churned customers."
   ]
  },
  {
   "cell_type": "markdown",
   "metadata": {},
   "source": [
    "### **8. Analyzing Feature Importance**\n",
    "\n",
    "#### Objectives:\n",
    "\n",
    "1. **Extract Feature Importance**:\n",
    "   - Use LightGBM’s built-in `feature_importances_` attribute to determine the contribution of each feature to the model's predictions.\n",
    "2. **Visualize Importance**:\n",
    "   - Create a bar plot to highlight the most significant features, allowing for insights into what drives customer churn."
   ]
  },
  {
   "cell_type": "code",
   "execution_count": 10,
   "metadata": {},
   "outputs": [
    {
     "data": {
      "image/png": "[encoded data removed]",
      "text/plain": [
       "<Figure size 1000x800 with 1 Axes>"
      ]
     },
     "metadata": {},
     "output_type": "display_data"
    }
   ],
   "source": [
    "# Feature Importance\n",
    "importance = clf.feature_importances_\n",
    "features = X_train.columns\n",
    "\n",
    "# Step 2: Create a DataFrame for better visualization\n",
    "df_importance = pd.DataFrame({'Feature': features, 'Importance': importance})\n",
    "df_importance = df_importance.sort_values(by='Importance', ascending=False)\n",
    "\n",
    "# Step 3: Plot the feature importance\n",
    "plt.figure(figsize=(10, 8))\n",
    "sns.barplot(x='Importance', y='Feature', data=df_importance)\n",
    "plt.xlabel('Feature Importance')\n",
    "plt.ylabel('Features')\n",
    "plt.title('Feature Importance from LightGBM Model')\n",
    "plt.tight_layout()\n",
    "plt.show()"
   ]
  },
  {
   "cell_type": "markdown",
   "metadata": {},
   "source": [
    "### **9. Hyperparameter Tuning with RandomizedSearchCV**\n",
    "\n",
    "#### Objectives:\n",
    "\n",
    "1. **Optimize the LightGBM Model**:\n",
    "   - Use `RandomizedSearchCV` to explore a wide range of hyperparameters and identify the best-performing configuration.\n",
    "2. **Evaluation**:\n",
    "   - Evaluate the tuned model on the test set using metrics like accuracy, recall, precision, and F1 score.\n",
    "3. **Save Results**:\n",
    "   - Save the cross-validation results for further analysis."
   ]
  },
  {
   "cell_type": "code",
   "execution_count": 11,
   "metadata": {},
   "outputs": [
    {
     "name": "stdout",
     "output_type": "stream",
     "text": [
      "Fitting 3 folds for each of 20 candidates, totalling 60 fits\n",
      "[LightGBM] [Warning] Found boosting=goss. For backwards compatibility reasons, LightGBM interprets this as boosting=gbdt, data_sample_strategy=goss.To suppress this warning, set data_sample_strategy=goss instead.\n",
      "[LightGBM] [Warning] Found boosting=goss. For backwards compatibility reasons, LightGBM interprets this as boosting=gbdt, data_sample_strategy=goss.To suppress this warning, set data_sample_strategy=goss instead.\n",
      "[LightGBM] [Info] Number of positive: 1222, number of negative: 4778\n",
      "[LightGBM] [Info] Auto-choosing col-wise multi-threading, the overhead of testing was 0.000709 seconds.\n",
      "You can set `force_col_wise=true` to remove the overhead.\n",
      "[LightGBM] [Info] Total Bins 1098\n",
      "[LightGBM] [Info] Number of data points in the train set: 6000, number of used features: 11\n",
      "[LightGBM] [Info] Using GOSS\n",
      "[LightGBM] [Info] [binary:BoostFromScore]: pavg=0.203667 -> initscore=-1.363533\n",
      "[LightGBM] [Info] Start training from score -1.363533\n",
      "RandomizedSearchCV completed in 29.29 seconds\n",
      "Randomized search results saved to: t:\\Mi unidad\\wdir\\s10-beta_bank\\data\\processed\\random_search_results.csv\n"
     ]
    }
   ],
   "source": [
    "# Define the parameter grid for LGBMClassifier\n",
    "param_grid = {\n",
    "    'boosting_type': ['gbdt', 'goss', 'dart'],\n",
    "    'subsample_for_bin': np.linspace(20000, 300000, 10).astype(int),\n",
    "    'objective': ['binary'],\n",
    "    'learning_rate': [0.01, 0.05, 0.1],\n",
    "    'n_estimators': [100, 200, 500],\n",
    "    'num_leaves': [31, 50, 100],\n",
    "    'max_depth': [-1, 10, 20],\n",
    "    'subsample': [0.8, 1.0],\n",
    "    'colsample_bytree': [0.8, 1.0],\n",
    "    'min_child_samples': [20, 40, 100],\n",
    "    'reg_alpha': [0.0, 0.1, 0.5],\n",
    "}\n",
    "\n",
    "# Initialize RandomizedSearchCV\n",
    "random_search = RandomizedSearchCV(\n",
    "    lgb.LGBMClassifier(random_state=42),\n",
    "    param_distributions=param_grid,\n",
    "    n_iter=20,\n",
    "    n_jobs=-1,\n",
    "    cv=3,\n",
    "    scoring='f1',\n",
    "    verbose=2,\n",
    "    random_state=42\n",
    ")\n",
    "\n",
    "# Start timer\n",
    "start_time = time.time()\n",
    "random_search.fit(X_train, y_train)\n",
    "end_time = time.time()\n",
    "\n",
    "# Display execution time\n",
    "print(f\"RandomizedSearchCV completed in {end_time - start_time:.2f} seconds\")\n",
    "\n",
    "# Save cross-validation results\n",
    "results_path = root_path / 'data' / 'processed' / \"random_search_results.csv\"\n",
    "cv_results = pd.DataFrame(random_search.cv_results_)\n",
    "cv_results.to_csv(results_path, index=False)\n",
    "print(f\"Randomized search results saved to: {results_path}\")\n"
   ]
  },
  {
   "cell_type": "code",
   "execution_count": 12,
   "metadata": {},
   "outputs": [
    {
     "name": "stdout",
     "output_type": "stream",
     "text": [
      "[LightGBM] [Warning] Found boosting=goss. For backwards compatibility reasons, LightGBM interprets this as boosting=gbdt, data_sample_strategy=goss.To suppress this warning, set data_sample_strategy=goss instead.\n",
      "[LightGBM] [Warning] Found boosting=goss. For backwards compatibility reasons, LightGBM interprets this as boosting=gbdt, data_sample_strategy=goss.To suppress this warning, set data_sample_strategy=goss instead.\n"
     ]
    },
    {
     "data": {
      "text/markdown": [
       "### **Scores**"
      ],
      "text/plain": [
       "<IPython.core.display.Markdown object>"
      ]
     },
     "metadata": {},
     "output_type": "display_data"
    },
    {
     "name": "stdout",
     "output_type": "stream",
     "text": [
      "\u001b[1mAccuracy Score\u001b[0m\t: 0.8630\n",
      "\u001b[1mPrecision\u001b[0m\t: 0.7233\n",
      "\u001b[1mRecall\u001b[0m\t\t: 0.5319\n",
      "\u001b[1mF1 Score\u001b[0m\t: 0.6130\n",
      "\u001b[1mROC AUC Score\u001b[0m\t: 0.8722\n",
      "\n",
      "Classification Report:\n",
      "              precision    recall  f1-score   support\n",
      "\n",
      "         0.0       0.89      0.95      0.92      1592\n",
      "         1.0       0.72      0.53      0.61       408\n",
      "\n",
      "    accuracy                           0.86      2000\n",
      "   macro avg       0.81      0.74      0.76      2000\n",
      "weighted avg       0.85      0.86      0.85      2000\n",
      "\n"
     ]
    },
    {
     "data": {
      "image/png": "[encoded data removed]",
      "text/plain": [
       "<Figure size 600x400 with 1 Axes>"
      ]
     },
     "metadata": {},
     "output_type": "display_data"
    },
    {
     "data": {
      "application/vnd.plotly.v1+json": {
       "config": {
        "plotlyServerURL": "https://plot.ly"
       },
       "data": [
        {
         "mode": "lines",
         "name": "AUC = 0.87",
         "type": "scatter",
         "x": [
          0,
          0,
          0,
          0.000628140703517588,
          0.000628140703517588,
          0.001256281407035176,
          0.001256281407035176,
          0.0018844221105527637,
          0.0018844221105527637,
          0.002512562814070352,
          0.002512562814070352,
          0.00314070351758794,
          0.00314070351758794,
          0.0037688442211055275,
          0.0037688442211055275,
          0.0043969849246231155,
          0.0043969849246231155,
          0.005025125628140704,
          0.005025125628140704,
          0.005653266331658292,
          0.005653266331658292,
          0.00628140703517588,
          0.00628140703517588,
          0.006909547738693468,
          0.006909547738693468,
          0.007537688442211055,
          0.007537688442211055,
          0.008165829145728644,
          0.008165829145728644,
          0.008793969849246231,
          0.008793969849246231,
          0.009422110552763818,
          0.009422110552763818,
          0.010678391959798994,
          0.010678391959798994,
          0.011306532663316583,
          0.011306532663316583,
          0.01193467336683417,
          0.01193467336683417,
          0.01256281407035176,
          0.01256281407035176,
          0.01507537688442211,
          0.01507537688442211,
          0.015703517587939697,
          0.015703517587939697,
          0.016959798994974875,
          0.016959798994974875,
          0.017587939698492462,
          0.017587939698492462,
          0.01821608040201005,
          0.01821608040201005,
          0.018844221105527637,
          0.018844221105527637,
          0.020100502512562814,
          0.020100502512562814,
          0.02135678391959799,
          0.02135678391959799,
          0.022613065326633167,
          0.022613065326633167,
          0.024497487437185928,
          0.024497487437185928,
          0.02512562814070352,
          0.02512562814070352,
          0.025753768844221106,
          0.025753768844221106,
          0.026381909547738693,
          0.026381909547738693,
          0.02701005025125628,
          0.02701005025125628,
          0.02763819095477387,
          0.02763819095477387,
          0.028266331658291458,
          0.028266331658291458,
          0.029522613065326633,
          0.029522613065326633,
          0.03015075376884422,
          0.03015075376884422,
          0.03077889447236181,
          0.03077889447236181,
          0.031407035175879394,
          0.031407035175879394,
          0.032663316582914576,
          0.032663316582914576,
          0.03391959798994975,
          0.03391959798994975,
          0.035804020100502515,
          0.035804020100502515,
          0.0364321608040201,
          0.0364321608040201,
          0.03768844221105527,
          0.03768844221105527,
          0.038316582914572864,
          0.038316582914572864,
          0.038944723618090454,
          0.038944723618090454,
          0.04020100502512563,
          0.04020100502512563,
          0.04082914572864322,
          0.04082914572864322,
          0.0414572864321608,
          0.0414572864321608,
          0.04459798994974874,
          0.04459798994974874,
          0.04522613065326633,
          0.04522613065326633,
          0.04648241206030151,
          0.04648241206030151,
          0.05025125628140704,
          0.05025125628140704,
          0.05150753768844221,
          0.05150753768844221,
          0.052135678391959796,
          0.052135678391959796,
          0.052763819095477386,
          0.052763819095477386,
          0.05402010050251256,
          0.05402010050251256,
          0.05527638190954774,
          0.05527638190954774,
          0.055904522613065326,
          0.055904522613065326,
          0.056532663316582916,
          0.056532663316582916,
          0.06155778894472362,
          0.06155778894472362,
          0.062185929648241205,
          0.062185929648241205,
          0.06344221105527638,
          0.06344221105527638,
          0.06532663316582915,
          0.06532663316582915,
          0.06658291457286432,
          0.06658291457286432,
          0.06846733668341709,
          0.06846733668341709,
          0.07035175879396985,
          0.07035175879396985,
          0.0722361809045226,
          0.0722361809045226,
          0.07412060301507538,
          0.07412060301507538,
          0.07474874371859297,
          0.07474874371859297,
          0.07537688442211055,
          0.07537688442211055,
          0.07663316582914573,
          0.07663316582914573,
          0.07726130653266332,
          0.07726130653266332,
          0.07788944723618091,
          0.07788944723618091,
          0.07914572864321608,
          0.07914572864321608,
          0.08103015075376885,
          0.08103015075376885,
          0.08165829145728644,
          0.08165829145728644,
          0.0829145728643216,
          0.0829145728643216,
          0.08417085427135679,
          0.08417085427135679,
          0.08605527638190955,
          0.08605527638190955,
          0.0885678391959799,
          0.0885678391959799,
          0.09108040201005026,
          0.09108040201005026,
          0.0942211055276382,
          0.0942211055276382,
          0.09547738693467336,
          0.09547738693467336,
          0.09610552763819095,
          0.09610552763819095,
          0.09736180904522614,
          0.09736180904522614,
          0.10238693467336683,
          0.10238693467336683,
          0.10552763819095477,
          0.10552763819095477,
          0.10678391959798995,
          0.10678391959798995,
          0.1099246231155779,
          0.1099246231155779,
          0.11369346733668342,
          0.11369346733668342,
          0.11494974874371859,
          0.11494974874371859,
          0.11746231155778894,
          0.11746231155778894,
          0.11809045226130653,
          0.11809045226130653,
          0.11934673366834171,
          0.11934673366834171,
          0.12311557788944724,
          0.12311557788944724,
          0.12625628140703518,
          0.12625628140703518,
          0.13128140703517588,
          0.13128140703517588,
          0.13253768844221106,
          0.13253768844221106,
          0.13316582914572864,
          0.13316582914572864,
          0.135678391959799,
          0.135678391959799,
          0.13630653266331658,
          0.13630653266331658,
          0.13693467336683418,
          0.13693467336683418,
          0.13881909547738694,
          0.13881909547738694,
          0.14133165829145727,
          0.14133165829145727,
          0.1513819095477387,
          0.1513819095477387,
          0.15326633165829145,
          0.15326633165829145,
          0.15452261306532664,
          0.15452261306532664,
          0.15577889447236182,
          0.15577889447236182,
          0.15829145728643215,
          0.15829145728643215,
          0.1620603015075377,
          0.1620603015075377,
          0.16457286432160803,
          0.16457286432160803,
          0.16771356783919597,
          0.16771356783919597,
          0.16834170854271358,
          0.16834170854271358,
          0.17399497487437185,
          0.17399497487437185,
          0.17964824120603015,
          0.17964824120603015,
          0.18027638190954773,
          0.18027638190954773,
          0.18216080402010051,
          0.18216080402010051,
          0.1827889447236181,
          0.1827889447236181,
          0.18467336683417085,
          0.18467336683417085,
          0.18592964824120603,
          0.18592964824120603,
          0.1865577889447236,
          0.1865577889447236,
          0.1878140703517588,
          0.1878140703517588,
          0.1922110552763819,
          0.1922110552763819,
          0.20100502512562815,
          0.20100502512562815,
          0.2022613065326633,
          0.2022613065326633,
          0.2028894472361809,
          0.2028894472361809,
          0.20351758793969849,
          0.20351758793969849,
          0.2135678391959799,
          0.2135678391959799,
          0.21419597989949749,
          0.21419597989949749,
          0.22110552763819097,
          0.22110552763819097,
          0.22173366834170855,
          0.22173366834170855,
          0.22613065326633167,
          0.22613065326633167,
          0.23115577889447236,
          0.23115577889447236,
          0.2342964824120603,
          0.2342964824120603,
          0.23555276381909548,
          0.23555276381909548,
          0.23618090452261306,
          0.23618090452261306,
          0.24057788944723618,
          0.24057788944723618,
          0.2449748743718593,
          0.2449748743718593,
          0.24937185929648242,
          0.24937185929648242,
          0.25125628140703515,
          0.25125628140703515,
          0.2518844221105528,
          0.2518844221105528,
          0.2537688442211055,
          0.2537688442211055,
          0.25879396984924624,
          0.25879396984924624,
          0.26256281407035176,
          0.26256281407035176,
          0.2694723618090452,
          0.2694723618090452,
          0.271356783919598,
          0.271356783919598,
          0.2719849246231156,
          0.2719849246231156,
          0.29585427135678394,
          0.29585427135678394,
          0.29773869346733667,
          0.29773869346733667,
          0.3015075376884422,
          0.3015075376884422,
          0.30402010050251255,
          0.30402010050251255,
          0.30778894472361806,
          0.30778894472361806,
          0.3128140703517588,
          0.3128140703517588,
          0.3178391959798995,
          0.3178391959798995,
          0.32537688442211055,
          0.32537688442211055,
          0.33040201005025127,
          0.33040201005025127,
          0.3341708542713568,
          0.3341708542713568,
          0.3379396984924623,
          0.3379396984924623,
          0.34108040201005024,
          0.34108040201005024,
          0.34484924623115576,
          0.34484924623115576,
          0.35050251256281406,
          0.35050251256281406,
          0.37185929648241206,
          0.37185929648241206,
          0.37374371859296485,
          0.37374371859296485,
          0.3888190954773869,
          0.3888190954773869,
          0.39761306532663315,
          0.39761306532663315,
          0.4082914572864322,
          0.4082914572864322,
          0.41331658291457285,
          0.41331658291457285,
          0.4371859296482412,
          0.4371859296482412,
          0.45414572864321606,
          0.45414572864321606,
          0.45540201005025127,
          0.45540201005025127,
          0.4704773869346734,
          0.4704773869346734,
          0.4861809045226131,
          0.4861809045226131,
          0.5006281407035176,
          0.5006281407035176,
          0.5094221105527639,
          0.5094221105527639,
          0.5238693467336684,
          0.5238693467336684,
          0.5251256281407035,
          0.5251256281407035,
          0.5339195979899497,
          0.5339195979899497,
          0.5358040201005025,
          0.5358040201005025,
          0.5389447236180904,
          0.5389447236180904,
          0.5489949748743719,
          0.5489949748743719,
          0.5546482412060302,
          0.5546482412060302,
          0.5559045226130653,
          0.5559045226130653,
          0.5684673366834171,
          0.5684673366834171,
          0.571608040201005,
          0.571608040201005,
          0.585427135678392,
          0.585427135678392,
          0.5923366834170855,
          0.5923366834170855,
          0.6017587939698492,
          0.6017587939698492,
          0.6061557788944724,
          0.6061557788944724,
          0.6099246231155779,
          0.6099246231155779,
          0.6187185929648241,
          0.6187185929648241,
          0.625,
          0.625,
          0.6488693467336684,
          0.6488693467336684,
          0.6947236180904522,
          0.6947236180904522,
          0.7412060301507538,
          0.7412060301507538,
          0.7512562814070352,
          0.7512562814070352,
          0.753140703517588,
          0.753140703517588,
          0.7763819095477387,
          0.7763819095477387,
          0.7801507537688442,
          0.7801507537688442,
          0.7826633165829145,
          0.7826633165829145,
          0.803391959798995,
          0.803391959798995,
          0.8115577889447236,
          0.8115577889447236,
          0.907035175879397,
          0.907035175879397,
          0.9133165829145728,
          0.9133165829145728,
          1
         ],
         "y": [
          0,
          0.0024509803921568627,
          0.11519607843137254,
          0.11519607843137254,
          0.11764705882352941,
          0.11764705882352941,
          0.15441176470588236,
          0.15441176470588236,
          0.16666666666666666,
          0.16666666666666666,
          0.18382352941176472,
          0.18382352941176472,
          0.19362745098039216,
          0.19362745098039216,
          0.19852941176470587,
          0.19852941176470587,
          0.20098039215686275,
          0.20098039215686275,
          0.22549019607843138,
          0.22549019607843138,
          0.23039215686274508,
          0.23039215686274508,
          0.2549019607843137,
          0.2549019607843137,
          0.25735294117647056,
          0.25735294117647056,
          0.26715686274509803,
          0.26715686274509803,
          0.28921568627450983,
          0.28921568627450983,
          0.2916666666666667,
          0.2916666666666667,
          0.30392156862745096,
          0.30392156862745096,
          0.30637254901960786,
          0.30637254901960786,
          0.3161764705882353,
          0.3161764705882353,
          0.33088235294117646,
          0.33088235294117646,
          0.3431372549019608,
          0.3431372549019608,
          0.35294117647058826,
          0.35294117647058826,
          0.3553921568627451,
          0.3553921568627451,
          0.36764705882352944,
          0.36764705882352944,
          0.37254901960784315,
          0.37254901960784315,
          0.3897058823529412,
          0.3897058823529412,
          0.39705882352941174,
          0.39705882352941174,
          0.4019607843137255,
          0.4019607843137255,
          0.40441176470588236,
          0.40441176470588236,
          0.4068627450980392,
          0.4068627450980392,
          0.40931372549019607,
          0.40931372549019607,
          0.4117647058823529,
          0.4117647058823529,
          0.41421568627450983,
          0.41421568627450983,
          0.4264705882352941,
          0.4264705882352941,
          0.4387254901960784,
          0.4387254901960784,
          0.4485294117647059,
          0.4485294117647059,
          0.45098039215686275,
          0.45098039215686275,
          0.4534313725490196,
          0.4534313725490196,
          0.45588235294117646,
          0.45588235294117646,
          0.4583333333333333,
          0.4583333333333333,
          0.46078431372549017,
          0.46078431372549017,
          0.4632352941176471,
          0.4632352941176471,
          0.4730392156862745,
          0.4730392156862745,
          0.47794117647058826,
          0.47794117647058826,
          0.48284313725490197,
          0.48284313725490197,
          0.49264705882352944,
          0.49264705882352944,
          0.4950980392156863,
          0.4950980392156863,
          0.5049019607843137,
          0.5049019607843137,
          0.5073529411764706,
          0.5073529411764706,
          0.5122549019607843,
          0.5122549019607843,
          0.5171568627450981,
          0.5171568627450981,
          0.5196078431372549,
          0.5196078431372549,
          0.5220588235294118,
          0.5220588235294118,
          0.5269607843137255,
          0.5269607843137255,
          0.5294117647058824,
          0.5294117647058824,
          0.5318627450980392,
          0.5318627450980392,
          0.5343137254901961,
          0.5343137254901961,
          0.5367647058823529,
          0.5367647058823529,
          0.5441176470588235,
          0.5441176470588235,
          0.5465686274509803,
          0.5465686274509803,
          0.5514705882352942,
          0.5514705882352942,
          0.5563725490196079,
          0.5563725490196079,
          0.5612745098039216,
          0.5612745098039216,
          0.5637254901960784,
          0.5637254901960784,
          0.5661764705882353,
          0.5661764705882353,
          0.5686274509803921,
          0.5686274509803921,
          0.571078431372549,
          0.571078431372549,
          0.5735294117647058,
          0.5735294117647058,
          0.5833333333333334,
          0.5833333333333334,
          0.5882352941176471,
          0.5882352941176471,
          0.5906862745098039,
          0.5906862745098039,
          0.5931372549019608,
          0.5931372549019608,
          0.5955882352941176,
          0.5955882352941176,
          0.6004901960784313,
          0.6004901960784313,
          0.6053921568627451,
          0.6053921568627451,
          0.6078431372549019,
          0.6078431372549019,
          0.6102941176470589,
          0.6102941176470589,
          0.6151960784313726,
          0.6151960784313726,
          0.6176470588235294,
          0.6176470588235294,
          0.6200980392156863,
          0.6200980392156863,
          0.625,
          0.625,
          0.6274509803921569,
          0.6274509803921569,
          0.6323529411764706,
          0.6323529411764706,
          0.6348039215686274,
          0.6348039215686274,
          0.6397058823529411,
          0.6397058823529411,
          0.6446078431372549,
          0.6446078431372549,
          0.6470588235294118,
          0.6470588235294118,
          0.6617647058823529,
          0.6617647058823529,
          0.6642156862745098,
          0.6642156862745098,
          0.6666666666666666,
          0.6666666666666666,
          0.6691176470588235,
          0.6691176470588235,
          0.6740196078431373,
          0.6740196078431373,
          0.6764705882352942,
          0.6764705882352942,
          0.6813725490196079,
          0.6813725490196079,
          0.6838235294117647,
          0.6838235294117647,
          0.6862745098039216,
          0.6862745098039216,
          0.6911764705882353,
          0.6911764705882353,
          0.696078431372549,
          0.696078431372549,
          0.7009803921568627,
          0.7009803921568627,
          0.7034313725490197,
          0.7034313725490197,
          0.7058823529411765,
          0.7058823529411765,
          0.7083333333333334,
          0.7083333333333334,
          0.7107843137254902,
          0.7107843137254902,
          0.7132352941176471,
          0.7132352941176471,
          0.7156862745098039,
          0.7156862745098039,
          0.7181372549019608,
          0.7181372549019608,
          0.7230392156862745,
          0.7230392156862745,
          0.7254901960784313,
          0.7254901960784313,
          0.7303921568627451,
          0.7303921568627451,
          0.7328431372549019,
          0.7328431372549019,
          0.7352941176470589,
          0.7352941176470589,
          0.7377450980392157,
          0.7377450980392157,
          0.7401960784313726,
          0.7401960784313726,
          0.7475490196078431,
          0.7475490196078431,
          0.75,
          0.75,
          0.7524509803921569,
          0.7524509803921569,
          0.7549019607843137,
          0.7549019607843137,
          0.7573529411764706,
          0.7573529411764706,
          0.7598039215686274,
          0.7598039215686274,
          0.7622549019607843,
          0.7622549019607843,
          0.7647058823529411,
          0.7647058823529411,
          0.7696078431372549,
          0.7696078431372549,
          0.7720588235294118,
          0.7720588235294118,
          0.7745098039215687,
          0.7745098039215687,
          0.7769607843137255,
          0.7769607843137255,
          0.7794117647058824,
          0.7794117647058824,
          0.7818627450980392,
          0.7818627450980392,
          0.7843137254901961,
          0.7843137254901961,
          0.7892156862745098,
          0.7892156862745098,
          0.7916666666666666,
          0.7916666666666666,
          0.7941176470588235,
          0.7941176470588235,
          0.7965686274509803,
          0.7965686274509803,
          0.7990196078431373,
          0.7990196078431373,
          0.8014705882352942,
          0.8014705882352942,
          0.8063725490196079,
          0.8063725490196079,
          0.8112745098039216,
          0.8112745098039216,
          0.8137254901960784,
          0.8137254901960784,
          0.8161764705882353,
          0.8161764705882353,
          0.8186274509803921,
          0.8186274509803921,
          0.821078431372549,
          0.821078431372549,
          0.8235294117647058,
          0.8235294117647058,
          0.8259803921568627,
          0.8259803921568627,
          0.8284313725490197,
          0.8284313725490197,
          0.8308823529411765,
          0.8308823529411765,
          0.8333333333333334,
          0.8333333333333334,
          0.8357843137254902,
          0.8357843137254902,
          0.8382352941176471,
          0.8382352941176471,
          0.8431372549019608,
          0.8431372549019608,
          0.8480392156862745,
          0.8480392156862745,
          0.8504901960784313,
          0.8504901960784313,
          0.8529411764705882,
          0.8529411764705882,
          0.8553921568627451,
          0.8553921568627451,
          0.8578431372549019,
          0.8578431372549019,
          0.8602941176470589,
          0.8602941176470589,
          0.8627450980392157,
          0.8627450980392157,
          0.8676470588235294,
          0.8676470588235294,
          0.8700980392156863,
          0.8700980392156863,
          0.875,
          0.875,
          0.8774509803921569,
          0.8774509803921569,
          0.8799019607843137,
          0.8799019607843137,
          0.8823529411764706,
          0.8823529411764706,
          0.8848039215686274,
          0.8848039215686274,
          0.8872549019607843,
          0.8872549019607843,
          0.8897058823529411,
          0.8897058823529411,
          0.8921568627450981,
          0.8921568627450981,
          0.8946078431372549,
          0.8946078431372549,
          0.8970588235294118,
          0.8970588235294118,
          0.8995098039215687,
          0.8995098039215687,
          0.9019607843137255,
          0.9019607843137255,
          0.9044117647058824,
          0.9044117647058824,
          0.9093137254901961,
          0.9093137254901961,
          0.9117647058823529,
          0.9117647058823529,
          0.9142156862745098,
          0.9142156862745098,
          0.9166666666666666,
          0.9166666666666666,
          0.9191176470588235,
          0.9191176470588235,
          0.9215686274509803,
          0.9215686274509803,
          0.9240196078431373,
          0.9240196078431373,
          0.9264705882352942,
          0.9264705882352942,
          0.928921568627451,
          0.928921568627451,
          0.9313725490196079,
          0.9313725490196079,
          0.9338235294117647,
          0.9338235294117647,
          0.9362745098039216,
          0.9362745098039216,
          0.9387254901960784,
          0.9387254901960784,
          0.9411764705882353,
          0.9411764705882353,
          0.9436274509803921,
          0.9436274509803921,
          0.9485294117647058,
          0.9485294117647058,
          0.9509803921568627,
          0.9509803921568627,
          0.9534313725490197,
          0.9534313725490197,
          0.9558823529411765,
          0.9558823529411765,
          0.9583333333333334,
          0.9583333333333334,
          0.9632352941176471,
          0.9632352941176471,
          0.9656862745098039,
          0.9656862745098039,
          0.9681372549019608,
          0.9681372549019608,
          0.9705882352941176,
          0.9705882352941176,
          0.9730392156862745,
          0.9730392156862745,
          0.9754901960784313,
          0.9754901960784313,
          0.9779411764705882,
          0.9779411764705882,
          0.9803921568627451,
          0.9803921568627451,
          0.9828431372549019,
          0.9828431372549019,
          0.9852941176470589,
          0.9852941176470589,
          0.9877450980392157,
          0.9877450980392157,
          0.9901960784313726,
          0.9901960784313726,
          0.9926470588235294,
          0.9926470588235294,
          0.9950980392156863,
          0.9950980392156863,
          0.9975490196078431,
          0.9975490196078431,
          1,
          1
         ]
        },
        {
         "line": {
          "color": "red",
          "dash": "dash"
         },
         "mode": "lines",
         "showlegend": false,
         "type": "scatter",
         "x": [
          0,
          1
         ],
         "y": [
          0,
          1
         ]
        }
       ],
       "layout": {
        "autosize": false,
        "height": 600,
        "showlegend": true,
        "template": {
         "data": {
          "bar": [
           {
            "error_x": {
             "color": "#2a3f5f"
            },
            "error_y": {
             "color": "#2a3f5f"
            },
            "marker": {
             "line": {
              "color": "#E5ECF6",
              "width": 0.5
             },
             "pattern": {
              "fillmode": "overlay",
              "size": 10,
              "solidity": 0.2
             }
            },
            "type": "bar"
           }
          ],
          "barpolar": [
           {
            "marker": {
             "line": {
              "color": "#E5ECF6",
              "width": 0.5
             },
             "pattern": {
              "fillmode": "overlay",
              "size": 10,
              "solidity": 0.2
             }
            },
            "type": "barpolar"
           }
          ],
          "carpet": [
           {
            "aaxis": {
             "endlinecolor": "#2a3f5f",
             "gridcolor": "white",
             "linecolor": "white",
             "minorgridcolor": "white",
             "startlinecolor": "#2a3f5f"
            },
            "baxis": {
             "endlinecolor": "#2a3f5f",
             "gridcolor": "white",
             "linecolor": "white",
             "minorgridcolor": "white",
             "startlinecolor": "#2a3f5f"
            },
            "type": "carpet"
           }
          ],
          "choropleth": [
           {
            "colorbar": {
             "outlinewidth": 0,
             "ticks": ""
            },
            "type": "choropleth"
           }
          ],
          "contour": [
           {
            "colorbar": {
             "outlinewidth": 0,
             "ticks": ""
            },
            "colorscale": [
             [
              0,
              "#0d0887"
             ],
             [
              0.1111111111111111,
              "#46039f"
             ],
             [
              0.2222222222222222,
              "#7201a8"
             ],
             [
              0.3333333333333333,
              "#9c179e"
             ],
             [
              0.4444444444444444,
              "#bd3786"
             ],
             [
              0.5555555555555556,
              "#d8576b"
             ],
             [
              0.6666666666666666,
              "#ed7953"
             ],
             [
              0.7777777777777778,
              "#fb9f3a"
             ],
             [
              0.8888888888888888,
              "#fdca26"
             ],
             [
              1,
              "#f0f921"
             ]
            ],
            "type": "contour"
           }
          ],
          "contourcarpet": [
           {
            "colorbar": {
             "outlinewidth": 0,
             "ticks": ""
            },
            "type": "contourcarpet"
           }
          ],
          "heatmap": [
           {
            "colorbar": {
             "outlinewidth": 0,
             "ticks": ""
            },
            "colorscale": [
             [
              0,
              "#0d0887"
             ],
             [
              0.1111111111111111,
              "#46039f"
             ],
             [
              0.2222222222222222,
              "#7201a8"
             ],
             [
              0.3333333333333333,
              "#9c179e"
             ],
             [
              0.4444444444444444,
              "#bd3786"
             ],
             [
              0.5555555555555556,
              "#d8576b"
             ],
             [
              0.6666666666666666,
              "#ed7953"
             ],
             [
              0.7777777777777778,
              "#fb9f3a"
             ],
             [
              0.8888888888888888,
              "#fdca26"
             ],
             [
              1,
              "#f0f921"
             ]
            ],
            "type": "heatmap"
           }
          ],
          "heatmapgl": [
           {
            "colorbar": {
             "outlinewidth": 0,
             "ticks": ""
            },
            "colorscale": [
             [
              0,
              "#0d0887"
             ],
             [
              0.1111111111111111,
              "#46039f"
             ],
             [
              0.2222222222222222,
              "#7201a8"
             ],
             [
              0.3333333333333333,
              "#9c179e"
             ],
             [
              0.4444444444444444,
              "#bd3786"
             ],
             [
              0.5555555555555556,
              "#d8576b"
             ],
             [
              0.6666666666666666,
              "#ed7953"
             ],
             [
              0.7777777777777778,
              "#fb9f3a"
             ],
             [
              0.8888888888888888,
              "#fdca26"
             ],
             [
              1,
              "#f0f921"
             ]
            ],
            "type": "heatmapgl"
           }
          ],
          "histogram": [
           {
            "marker": {
             "pattern": {
              "fillmode": "overlay",
              "size": 10,
              "solidity": 0.2
             }
            },
            "type": "histogram"
           }
          ],
          "histogram2d": [
           {
            "colorbar": {
             "outlinewidth": 0,
             "ticks": ""
            },
            "colorscale": [
             [
              0,
              "#0d0887"
             ],
             [
              0.1111111111111111,
              "#46039f"
             ],
             [
              0.2222222222222222,
              "#7201a8"
             ],
             [
              0.3333333333333333,
              "#9c179e"
             ],
             [
              0.4444444444444444,
              "#bd3786"
             ],
             [
              0.5555555555555556,
              "#d8576b"
             ],
             [
              0.6666666666666666,
              "#ed7953"
             ],
             [
              0.7777777777777778,
              "#fb9f3a"
             ],
             [
              0.8888888888888888,
              "#fdca26"
             ],
             [
              1,
              "#f0f921"
             ]
            ],
            "type": "histogram2d"
           }
          ],
          "histogram2dcontour": [
           {
            "colorbar": {
             "outlinewidth": 0,
             "ticks": ""
            },
            "colorscale": [
             [
              0,
              "#0d0887"
             ],
             [
              0.1111111111111111,
              "#46039f"
             ],
             [
              0.2222222222222222,
              "#7201a8"
             ],
             [
              0.3333333333333333,
              "#9c179e"
             ],
             [
              0.4444444444444444,
              "#bd3786"
             ],
             [
              0.5555555555555556,
              "#d8576b"
             ],
             [
              0.6666666666666666,
              "#ed7953"
             ],
             [
              0.7777777777777778,
              "#fb9f3a"
             ],
             [
              0.8888888888888888,
              "#fdca26"
             ],
             [
              1,
              "#f0f921"
             ]
            ],
            "type": "histogram2dcontour"
           }
          ],
          "mesh3d": [
           {
            "colorbar": {
             "outlinewidth": 0,
             "ticks": ""
            },
            "type": "mesh3d"
           }
          ],
          "parcoords": [
           {
            "line": {
             "colorbar": {
              "outlinewidth": 0,
              "ticks": ""
             }
            },
            "type": "parcoords"
           }
          ],
          "pie": [
           {
            "automargin": true,
            "type": "pie"
           }
          ],
          "scatter": [
           {
            "fillpattern": {
             "fillmode": "overlay",
             "size": 10,
             "solidity": 0.2
            },
            "type": "scatter"
           }
          ],
          "scatter3d": [
           {
            "line": {
             "colorbar": {
              "outlinewidth": 0,
              "ticks": ""
             }
            },
            "marker": {
             "colorbar": {
              "outlinewidth": 0,
              "ticks": ""
             }
            },
            "type": "scatter3d"
           }
          ],
          "scattercarpet": [
           {
            "marker": {
             "colorbar": {
              "outlinewidth": 0,
              "ticks": ""
             }
            },
            "type": "scattercarpet"
           }
          ],
          "scattergeo": [
           {
            "marker": {
             "colorbar": {
              "outlinewidth": 0,
              "ticks": ""
             }
            },
            "type": "scattergeo"
           }
          ],
          "scattergl": [
           {
            "marker": {
             "colorbar": {
              "outlinewidth": 0,
              "ticks": ""
             }
            },
            "type": "scattergl"
           }
          ],
          "scattermapbox": [
           {
            "marker": {
             "colorbar": {
              "outlinewidth": 0,
              "ticks": ""
             }
            },
            "type": "scattermapbox"
           }
          ],
          "scatterpolar": [
           {
            "marker": {
             "colorbar": {
              "outlinewidth": 0,
              "ticks": ""
             }
            },
            "type": "scatterpolar"
           }
          ],
          "scatterpolargl": [
           {
            "marker": {
             "colorbar": {
              "outlinewidth": 0,
              "ticks": ""
             }
            },
            "type": "scatterpolargl"
           }
          ],
          "scatterternary": [
           {
            "marker": {
             "colorbar": {
              "outlinewidth": 0,
              "ticks": ""
             }
            },
            "type": "scatterternary"
           }
          ],
          "surface": [
           {
            "colorbar": {
             "outlinewidth": 0,
             "ticks": ""
            },
            "colorscale": [
             [
              0,
              "#0d0887"
             ],
             [
              0.1111111111111111,
              "#46039f"
             ],
             [
              0.2222222222222222,
              "#7201a8"
             ],
             [
              0.3333333333333333,
              "#9c179e"
             ],
             [
              0.4444444444444444,
              "#bd3786"
             ],
             [
              0.5555555555555556,
              "#d8576b"
             ],
             [
              0.6666666666666666,
              "#ed7953"
             ],
             [
              0.7777777777777778,
              "#fb9f3a"
             ],
             [
              0.8888888888888888,
              "#fdca26"
             ],
             [
              1,
              "#f0f921"
             ]
            ],
            "type": "surface"
           }
          ],
          "table": [
           {
            "cells": {
             "fill": {
              "color": "#EBF0F8"
             },
             "line": {
              "color": "white"
             }
            },
            "header": {
             "fill": {
              "color": "#C8D4E3"
             },
             "line": {
              "color": "white"
             }
            },
            "type": "table"
           }
          ]
         },
         "layout": {
          "annotationdefaults": {
           "arrowcolor": "#2a3f5f",
           "arrowhead": 0,
           "arrowwidth": 1
          },
          "autotypenumbers": "strict",
          "coloraxis": {
           "colorbar": {
            "outlinewidth": 0,
            "ticks": ""
           }
          },
          "colorscale": {
           "diverging": [
            [
             0,
             "#8e0152"
            ],
            [
             0.1,
             "#c51b7d"
            ],
            [
             0.2,
             "#de77ae"
            ],
            [
             0.3,
             "#f1b6da"
            ],
            [
             0.4,
             "#fde0ef"
            ],
            [
             0.5,
             "#f7f7f7"
            ],
            [
             0.6,
             "#e6f5d0"
            ],
            [
             0.7,
             "#b8e186"
            ],
            [
             0.8,
             "#7fbc41"
            ],
            [
             0.9,
             "#4d9221"
            ],
            [
             1,
             "#276419"
            ]
           ],
           "sequential": [
            [
             0,
             "#0d0887"
            ],
            [
             0.1111111111111111,
             "#46039f"
            ],
            [
             0.2222222222222222,
             "#7201a8"
            ],
            [
             0.3333333333333333,
             "#9c179e"
            ],
            [
             0.4444444444444444,
             "#bd3786"
            ],
            [
             0.5555555555555556,
             "#d8576b"
            ],
            [
             0.6666666666666666,
             "#ed7953"
            ],
            [
             0.7777777777777778,
             "#fb9f3a"
            ],
            [
             0.8888888888888888,
             "#fdca26"
            ],
            [
             1,
             "#f0f921"
            ]
           ],
           "sequentialminus": [
            [
             0,
             "#0d0887"
            ],
            [
             0.1111111111111111,
             "#46039f"
            ],
            [
             0.2222222222222222,
             "#7201a8"
            ],
            [
             0.3333333333333333,
             "#9c179e"
            ],
            [
             0.4444444444444444,
             "#bd3786"
            ],
            [
             0.5555555555555556,
             "#d8576b"
            ],
            [
             0.6666666666666666,
             "#ed7953"
            ],
            [
             0.7777777777777778,
             "#fb9f3a"
            ],
            [
             0.8888888888888888,
             "#fdca26"
            ],
            [
             1,
             "#f0f921"
            ]
           ]
          },
          "colorway": [
           "#636efa",
           "#EF553B",
           "#00cc96",
           "#ab63fa",
           "#FFA15A",
           "#19d3f3",
           "#FF6692",
           "#B6E880",
           "#FF97FF",
           "#FECB52"
          ],
          "font": {
           "color": "#2a3f5f"
          },
          "geo": {
           "bgcolor": "white",
           "lakecolor": "white",
           "landcolor": "#E5ECF6",
           "showlakes": true,
           "showland": true,
           "subunitcolor": "white"
          },
          "hoverlabel": {
           "align": "left"
          },
          "hovermode": "closest",
          "mapbox": {
           "style": "light"
          },
          "paper_bgcolor": "white",
          "plot_bgcolor": "#E5ECF6",
          "polar": {
           "angularaxis": {
            "gridcolor": "white",
            "linecolor": "white",
            "ticks": ""
           },
           "bgcolor": "#E5ECF6",
           "radialaxis": {
            "gridcolor": "white",
            "linecolor": "white",
            "ticks": ""
           }
          },
          "scene": {
           "xaxis": {
            "backgroundcolor": "#E5ECF6",
            "gridcolor": "white",
            "gridwidth": 2,
            "linecolor": "white",
            "showbackground": true,
            "ticks": "",
            "zerolinecolor": "white"
           },
           "yaxis": {
            "backgroundcolor": "#E5ECF6",
            "gridcolor": "white",
            "gridwidth": 2,
            "linecolor": "white",
            "showbackground": true,
            "ticks": "",
            "zerolinecolor": "white"
           },
           "zaxis": {
            "backgroundcolor": "#E5ECF6",
            "gridcolor": "white",
            "gridwidth": 2,
            "linecolor": "white",
            "showbackground": true,
            "ticks": "",
            "zerolinecolor": "white"
           }
          },
          "shapedefaults": {
           "line": {
            "color": "#2a3f5f"
           }
          },
          "ternary": {
           "aaxis": {
            "gridcolor": "white",
            "linecolor": "white",
            "ticks": ""
           },
           "baxis": {
            "gridcolor": "white",
            "linecolor": "white",
            "ticks": ""
           },
           "bgcolor": "#E5ECF6",
           "caxis": {
            "gridcolor": "white",
            "linecolor": "white",
            "ticks": ""
           }
          },
          "title": {
           "x": 0.05
          },
          "xaxis": {
           "automargin": true,
           "gridcolor": "white",
           "linecolor": "white",
           "ticks": "",
           "title": {
            "standoff": 15
           },
           "zerolinecolor": "white",
           "zerolinewidth": 2
          },
          "yaxis": {
           "automargin": true,
           "gridcolor": "white",
           "linecolor": "white",
           "ticks": "",
           "title": {
            "standoff": 15
           },
           "zerolinecolor": "white",
           "zerolinewidth": 2
          }
         }
        },
        "title": {
         "text": "ROC Curve"
        },
        "width": 700,
        "xaxis": {
         "title": {
          "text": "False Positive Rate"
         }
        },
        "yaxis": {
         "title": {
          "text": "True Positive Rate"
         }
        }
       }
      }
     },
     "metadata": {},
     "output_type": "display_data"
    }
   ],
   "source": [
    "evaluator = ModelEvaluator(\n",
    "    y_true = y_valid,\n",
    "    y_pred = random_search.predict(X_valid),\n",
    "    y_proba = random_search.predict_proba(X_valid)[:, 1]\n",
    "    )\n",
    "\n",
    "# Display scores\n",
    "evaluator.display_scores()\n",
    "\n",
    "# Plot the confusion matrix\n",
    "evaluator.plot_confusion_matrix()\n",
    "\n",
    "# Plot the ROC curve\n",
    "evaluator.plot_roc_curve()"
   ]
  },
  {
   "cell_type": "markdown",
   "metadata": {},
   "source": [
    "## 10. Evaluate on test set"
   ]
  },
  {
   "cell_type": "markdown",
   "metadata": {},
   "source": [
    "Evaluating a machine learning model on a separate dataset (not the training data) is vital. This process helps detect overfitting (where the model learns training data quirks instead of general patterns), assesses the model's ability to generalize to new, unseen data, ensures robustness (consistent performance across varied data), and helps avoid bias present in the training data. Essentially, it provides a more realistic measure of real-world performance."
   ]
  },
  {
   "cell_type": "code",
   "execution_count": 13,
   "metadata": {},
   "outputs": [
    {
     "name": "stdout",
     "output_type": "stream",
     "text": [
      "[LightGBM] [Warning] Found boosting=goss. For backwards compatibility reasons, LightGBM interprets this as boosting=gbdt, data_sample_strategy=goss.To suppress this warning, set data_sample_strategy=goss instead.\n",
      "[LightGBM] [Warning] Found boosting=goss. For backwards compatibility reasons, LightGBM interprets this as boosting=gbdt, data_sample_strategy=goss.To suppress this warning, set data_sample_strategy=goss instead.\n"
     ]
    },
    {
     "data": {
      "text/markdown": [
       "### **Scores**"
      ],
      "text/plain": [
       "<IPython.core.display.Markdown object>"
      ]
     },
     "metadata": {},
     "output_type": "display_data"
    },
    {
     "name": "stdout",
     "output_type": "stream",
     "text": [
      "\u001b[1mAccuracy Score\u001b[0m\t: 0.8560\n",
      "\u001b[1mPrecision\u001b[0m\t: 0.7148\n",
      "\u001b[1mRecall\u001b[0m\t\t: 0.4865\n",
      "\u001b[1mF1 Score\u001b[0m\t: 0.5789\n",
      "\u001b[1mROC AUC Score\u001b[0m\t: 0.8625\n",
      "\n",
      "Classification Report:\n",
      "              precision    recall  f1-score   support\n",
      "\n",
      "         0.0       0.88      0.95      0.91      1593\n",
      "         1.0       0.71      0.49      0.58       407\n",
      "\n",
      "    accuracy                           0.86      2000\n",
      "   macro avg       0.80      0.72      0.75      2000\n",
      "weighted avg       0.85      0.86      0.85      2000\n",
      "\n"
     ]
    },
    {
     "data": {
      "image/png": "[encoded data removed]",
      "text/plain": [
       "<Figure size 600x400 with 1 Axes>"
      ]
     },
     "metadata": {},
     "output_type": "display_data"
    },
    {
     "data": {
      "application/vnd.plotly.v1+json": {
       "config": {
        "plotlyServerURL": "https://plot.ly"
       },
       "data": [
        {
         "mode": "lines",
         "name": "AUC = 0.86",
         "type": "scatter",
         "x": [
          0,
          0,
          0,
          0.0006277463904582549,
          0.0006277463904582549,
          0.0012554927809165098,
          0.0012554927809165098,
          0.0018832391713747645,
          0.0018832391713747645,
          0.0025109855618330196,
          0.0025109855618330196,
          0.003138731952291274,
          0.003138731952291274,
          0.003766478342749529,
          0.003766478342749529,
          0.004394224733207784,
          0.004394224733207784,
          0.005021971123666039,
          0.005021971123666039,
          0.005649717514124294,
          0.005649717514124294,
          0.006905210295040804,
          0.006905210295040804,
          0.008160703075957313,
          0.008160703075957313,
          0.008788449466415568,
          0.008788449466415568,
          0.010043942247332079,
          0.010043942247332079,
          0.010671688637790333,
          0.010671688637790333,
          0.013182674199623353,
          0.013182674199623353,
          0.014438166980539862,
          0.014438166980539862,
          0.016321406151914627,
          0.016321406151914627,
          0.01694915254237288,
          0.01694915254237288,
          0.017576898932831136,
          0.017576898932831136,
          0.01820464532328939,
          0.01820464532328939,
          0.0194601381042059,
          0.0194601381042059,
          0.020087884494664157,
          0.020087884494664157,
          0.02197112366603892,
          0.02197112366603892,
          0.023854362837413684,
          0.023854362837413684,
          0.02573760200878845,
          0.02573760200878845,
          0.026365348399246705,
          0.026365348399246705,
          0.028876333961079723,
          0.028876333961079723,
          0.029504080351537978,
          0.029504080351537978,
          0.032015065913371,
          0.032015065913371,
          0.032642812303829254,
          0.032642812303829254,
          0.03327055869428751,
          0.03327055869428751,
          0.03452605147520402,
          0.03452605147520402,
          0.03766478342749529,
          0.03766478342749529,
          0.038292529817953544,
          0.038292529817953544,
          0.0389202762084118,
          0.0389202762084118,
          0.040175768989328314,
          0.040175768989328314,
          0.04080351537978657,
          0.04080351537978657,
          0.04143126177024482,
          0.04143126177024482,
          0.04205900816070308,
          0.04205900816070308,
          0.04268675455116133,
          0.04268675455116133,
          0.04394224733207784,
          0.04394224733207784,
          0.044569993722536096,
          0.044569993722536096,
          0.04770872567482737,
          0.04770872567482737,
          0.04959196484620213,
          0.04959196484620213,
          0.05273069679849341,
          0.05273069679849341,
          0.053358443188951665,
          0.053358443188951665,
          0.054613935969868174,
          0.054613935969868174,
          0.05712492153170119,
          0.05712492153170119,
          0.0583804143126177,
          0.0583804143126177,
          0.06340238543628374,
          0.06340238543628374,
          0.06465787821720025,
          0.06465787821720025,
          0.06528562460765851,
          0.06528562460765851,
          0.06905210295040803,
          0.06905210295040803,
          0.0696798493408663,
          0.0696798493408663,
          0.07219083490269931,
          0.07219083490269931,
          0.07281858129315756,
          0.07281858129315756,
          0.07344632768361582,
          0.07344632768361582,
          0.07470182046453233,
          0.07470182046453233,
          0.07595731324544884,
          0.07595731324544884,
          0.07658505963590709,
          0.07658505963590709,
          0.07721280602636535,
          0.07721280602636535,
          0.08286252354048965,
          0.08286252354048965,
          0.08411801632140616,
          0.08411801632140616,
          0.08600125549278091,
          0.08600125549278091,
          0.08662900188323917,
          0.08662900188323917,
          0.08851224105461393,
          0.08851224105461393,
          0.09102322661644696,
          0.09102322661644696,
          0.09227871939736347,
          0.09227871939736347,
          0.09478970495919649,
          0.09478970495919649,
          0.096045197740113,
          0.096045197740113,
          0.09667294413057125,
          0.09667294413057125,
          0.09792843691148775,
          0.09792843691148775,
          0.09918392969240426,
          0.09918392969240426,
          0.09981167608286252,
          0.09981167608286252,
          0.10420590081607031,
          0.10420590081607031,
          0.10546139359698682,
          0.10546139359698682,
          0.10797237915881984,
          0.10797237915881984,
          0.10860012554927809,
          0.10860012554927809,
          0.10922787193973635,
          0.10922787193973635,
          0.1098556183301946,
          0.1098556183301946,
          0.11048336472065286,
          0.11048336472065286,
          0.11299435028248588,
          0.11299435028248588,
          0.11424984306340238,
          0.11424984306340238,
          0.11801632140615191,
          0.11801632140615191,
          0.11864406779661017,
          0.11864406779661017,
          0.12303829252981795,
          0.12303829252981795,
          0.12429378531073447,
          0.12429378531073447,
          0.12554927809165098,
          0.12554927809165098,
          0.12680477087256747,
          0.12680477087256747,
          0.1293157564344005,
          0.1293157564344005,
          0.1337099811676083,
          0.1337099811676083,
          0.13433772755806653,
          0.13433772755806653,
          0.1349654739485248,
          0.1349654739485248,
          0.13559322033898305,
          0.13559322033898305,
          0.13684871311989957,
          0.13684871311989957,
          0.1374764595103578,
          0.1374764595103578,
          0.13873195229127433,
          0.13873195229127433,
          0.1393596986817326,
          0.1393596986817326,
          0.1431261770244821,
          0.1431261770244821,
          0.15065913370998116,
          0.15065913370998116,
          0.15379786566227244,
          0.15379786566227244,
          0.15693659761456372,
          0.15693659761456372,
          0.15819209039548024,
          0.15819209039548024,
          0.15881983678593847,
          0.15881983678593847,
          0.16070307595731326,
          0.16070307595731326,
          0.1638418079096045,
          0.1638418079096045,
          0.1669805398618958,
          0.1669805398618958,
          0.16760828625235405,
          0.16760828625235405,
          0.1682360326428123,
          0.1682360326428123,
          0.16886377903327057,
          0.16886377903327057,
          0.1694915254237288,
          0.1694915254237288,
          0.17011927181418707,
          0.17011927181418707,
          0.17200251098556182,
          0.17200251098556182,
          0.17451349654739484,
          0.17451349654739484,
          0.17765222849968612,
          0.17765222849968612,
          0.18016321406151914,
          0.18016321406151914,
          0.1807909604519774,
          0.1807909604519774,
          0.18330194601381042,
          0.18330194601381042,
          0.1876961707470182,
          0.1876961707470182,
          0.1933458882611425,
          0.1933458882611425,
          0.1977401129943503,
          0.1977401129943503,
          0.19962335216572505,
          0.19962335216572505,
          0.20652856246076584,
          0.20652856246076584,
          0.20841180163214063,
          0.20841180163214063,
          0.20966729441305712,
          0.20966729441305712,
          0.21155053358443188,
          0.21155053358443188,
          0.21657250470809794,
          0.21657250470809794,
          0.2197112366603892,
          0.2197112366603892,
          0.22473320778405526,
          0.22473320778405526,
          0.2278719397363465,
          0.2278719397363465,
          0.22849968612680477,
          0.22849968612680477,
          0.23038292529817953,
          0.23038292529817953,
          0.23414940364092907,
          0.23414940364092907,
          0.2391713747645951,
          0.2391713747645951,
          0.2448210922787194,
          0.2448210922787194,
          0.24984306340238543,
          0.24984306340238543,
          0.2523540489642185,
          0.2523540489642185,
          0.258631512868801,
          0.258631512868801,
          0.26051475204017577,
          0.26051475204017577,
          0.2617702448210923,
          0.2617702448210923,
          0.2630257376020088,
          0.2630257376020088,
          0.2674199623352166,
          0.2674199623352166,
          0.26804770872567485,
          0.26804770872567485,
          0.2724419334588826,
          0.2724419334588826,
          0.27997489014438165,
          0.27997489014438165,
          0.2962962962962963,
          0.2962962962962963,
          0.30382925298179536,
          0.30382925298179536,
          0.3075957313245449,
          0.3075957313245449,
          0.3088512241054614,
          0.3088512241054614,
          0.32328939108600124,
          0.32328939108600124,
          0.32642812303829255,
          0.32642812303829255,
          0.3270558694287508,
          0.3270558694287508,
          0.33207784055241685,
          0.33207784055241685,
          0.3339610797237916,
          0.3339610797237916,
          0.33835530445699935,
          0.33835530445699935,
          0.3446327683615819,
          0.3446327683615819,
          0.3559322033898305,
          0.3559322033898305,
          0.3628374136848713,
          0.3628374136848713,
          0.3634651600753296,
          0.3634651600753296,
          0.36660389202762084,
          0.36660389202762084,
          0.36785938480853736,
          0.36785938480853736,
          0.37790332705586943,
          0.37790332705586943,
          0.40364092906465787,
          0.40364092906465787,
          0.4061519146264909,
          0.4061519146264909,
          0.40803515379786565,
          0.40803515379786565,
          0.4130571249215317,
          0.4130571249215317,
          0.4143126177024482,
          0.4143126177024482,
          0.423728813559322,
          0.423728813559322,
          0.42498430634023854,
          0.42498430634023854,
          0.4293785310734463,
          0.4293785310734463,
          0.43188951663527936,
          0.43188951663527936,
          0.4325172630257376,
          0.4325172630257376,
          0.43440050219711235,
          0.43440050219711235,
          0.43628374136848713,
          0.43628374136848713,
          0.4387947269303202,
          0.4387947269303202,
          0.4406779661016949,
          0.4406779661016949,
          0.44318895166352795,
          0.44318895166352795,
          0.44569993722536094,
          0.44569993722536094,
          0.46955430006277465,
          0.46955430006277465,
          0.48713119899560575,
          0.48713119899560575,
          0.5072190834902699,
          0.5072190834902699,
          0.5254237288135594,
          0.5254237288135594,
          0.5335844318895167,
          0.5335844318895167,
          0.5354676710608914,
          0.5354676710608914,
          0.5373509102322661,
          0.5373509102322661,
          0.5417451349654739,
          0.5417451349654739,
          0.5511613308223478,
          0.5511613308223478,
          0.5586942875078468,
          0.5586942875078468,
          0.5612052730696798,
          0.5612052730696798,
          0.5800376647834274,
          0.5800376647834274,
          0.5951035781544256,
          0.5951035781544256,
          0.64030131826742,
          0.64030131826742,
          0.6434400502197113,
          0.6434400502197113,
          0.6597614563716259,
          0.6597614563716259,
          0.672316384180791,
          0.672316384180791,
          0.6961707470182047,
          0.6961707470182047,
          0.704331450094162,
          0.704331450094162,
          0.7124921531701193,
          0.7124921531701193,
          0.7131198995605775,
          0.7131198995605775,
          0.7482736974262398,
          0.7482736974262398,
          0.7664783427495292,
          0.7664783427495292,
          0.778405524168236,
          0.778405524168236,
          0.8254865034526051,
          0.8254865034526051,
          0.8367859384808537,
          0.8367859384808537,
          0.9052102950408035,
          0.9052102950408035,
          0.9127432517263026,
          0.9127432517263026,
          0.9661016949152542,
          0.9661016949152542,
          1
         ],
         "y": [
          0,
          0.002457002457002457,
          0.05896805896805897,
          0.05896805896805897,
          0.18427518427518427,
          0.18427518427518427,
          0.20393120393120392,
          0.20393120393120392,
          0.21375921375921375,
          0.21375921375921375,
          0.24078624078624078,
          0.24078624078624078,
          0.24815724815724816,
          0.24815724815724816,
          0.25307125307125306,
          0.25307125307125306,
          0.28501228501228504,
          0.28501228501228504,
          0.28992628992628994,
          0.28992628992628994,
          0.31695331695331697,
          0.31695331695331697,
          0.32432432432432434,
          0.32432432432432434,
          0.33415233415233414,
          0.33415233415233414,
          0.33906633906633904,
          0.33906633906633904,
          0.3415233415233415,
          0.3415233415233415,
          0.3538083538083538,
          0.3538083538083538,
          0.35626535626535627,
          0.35626535626535627,
          0.3783783783783784,
          0.3783783783783784,
          0.3808353808353808,
          0.3808353808353808,
          0.3832923832923833,
          0.3832923832923833,
          0.3857493857493858,
          0.3857493857493858,
          0.3882063882063882,
          0.3882063882063882,
          0.3906633906633907,
          0.3906633906633907,
          0.40294840294840295,
          0.40294840294840295,
          0.40540540540540543,
          0.40540540540540543,
          0.4103194103194103,
          0.4103194103194103,
          0.4201474201474201,
          0.4201474201474201,
          0.4226044226044226,
          0.4226044226044226,
          0.4250614250614251,
          0.4250614250614251,
          0.4275184275184275,
          0.4275184275184275,
          0.43243243243243246,
          0.43243243243243246,
          0.43734643734643736,
          0.43734643734643736,
          0.4398034398034398,
          0.4398034398034398,
          0.44717444717444715,
          0.44717444717444715,
          0.44963144963144963,
          0.44963144963144963,
          0.45454545454545453,
          0.45454545454545453,
          0.457002457002457,
          0.457002457002457,
          0.4619164619164619,
          0.4619164619164619,
          0.4643734643734644,
          0.4643734643734644,
          0.4668304668304668,
          0.4668304668304668,
          0.4692874692874693,
          0.4692874692874693,
          0.47174447174447176,
          0.47174447174447176,
          0.4742014742014742,
          0.4742014742014742,
          0.47665847665847666,
          0.47665847665847666,
          0.48157248157248156,
          0.48157248157248156,
          0.4914004914004914,
          0.4914004914004914,
          0.49385749385749383,
          0.49385749385749383,
          0.4987714987714988,
          0.4987714987714988,
          0.5061425061425061,
          0.5061425061425061,
          0.5110565110565111,
          0.5110565110565111,
          0.5184275184275184,
          0.5184275184275184,
          0.5233415233415234,
          0.5233415233415234,
          0.5307125307125307,
          0.5307125307125307,
          0.5331695331695332,
          0.5331695331695332,
          0.5356265356265356,
          0.5356265356265356,
          0.5454545454545454,
          0.5454545454545454,
          0.5503685503685504,
          0.5503685503685504,
          0.5528255528255528,
          0.5528255528255528,
          0.5552825552825553,
          0.5552825552825553,
          0.5577395577395577,
          0.5577395577395577,
          0.5601965601965602,
          0.5601965601965602,
          0.5626535626535627,
          0.5626535626535627,
          0.5675675675675675,
          0.5675675675675675,
          0.5724815724815725,
          0.5724815724815725,
          0.5749385749385749,
          0.5749385749385749,
          0.5798525798525799,
          0.5798525798525799,
          0.5823095823095823,
          0.5823095823095823,
          0.5847665847665847,
          0.5847665847665847,
          0.5896805896805897,
          0.5896805896805897,
          0.5921375921375921,
          0.5921375921375921,
          0.5945945945945946,
          0.5945945945945946,
          0.597051597051597,
          0.597051597051597,
          0.5995085995085995,
          0.5995085995085995,
          0.601965601965602,
          0.601965601965602,
          0.6068796068796068,
          0.6068796068796068,
          0.6117936117936118,
          0.6117936117936118,
          0.6142506142506142,
          0.6142506142506142,
          0.6167076167076168,
          0.6167076167076168,
          0.6191646191646192,
          0.6191646191646192,
          0.6216216216216216,
          0.6216216216216216,
          0.6240786240786241,
          0.6240786240786241,
          0.6265356265356266,
          0.6265356265356266,
          0.628992628992629,
          0.628992628992629,
          0.6314496314496314,
          0.6314496314496314,
          0.6363636363636364,
          0.6363636363636364,
          0.6388206388206388,
          0.6388206388206388,
          0.6437346437346437,
          0.6437346437346437,
          0.6486486486486487,
          0.6486486486486487,
          0.6511056511056511,
          0.6511056511056511,
          0.6584766584766585,
          0.6584766584766585,
          0.6609336609336609,
          0.6609336609336609,
          0.6658476658476659,
          0.6658476658476659,
          0.6707616707616708,
          0.6707616707616708,
          0.6732186732186732,
          0.6732186732186732,
          0.6756756756756757,
          0.6756756756756757,
          0.6781326781326781,
          0.6781326781326781,
          0.6805896805896806,
          0.6805896805896806,
          0.683046683046683,
          0.683046683046683,
          0.687960687960688,
          0.687960687960688,
          0.6904176904176904,
          0.6904176904176904,
          0.6928746928746928,
          0.6928746928746928,
          0.6953316953316954,
          0.6953316953316954,
          0.6977886977886978,
          0.6977886977886978,
          0.7002457002457002,
          0.7002457002457002,
          0.7027027027027027,
          0.7027027027027027,
          0.7051597051597052,
          0.7051597051597052,
          0.7100737100737101,
          0.7100737100737101,
          0.7125307125307125,
          0.7125307125307125,
          0.7174447174447175,
          0.7174447174447175,
          0.7223587223587223,
          0.7223587223587223,
          0.7248157248157249,
          0.7248157248157249,
          0.7272727272727273,
          0.7272727272727273,
          0.7297297297297297,
          0.7297297297297297,
          0.7321867321867321,
          0.7321867321867321,
          0.7346437346437347,
          0.7346437346437347,
          0.7371007371007371,
          0.7371007371007371,
          0.7395577395577395,
          0.7395577395577395,
          0.742014742014742,
          0.742014742014742,
          0.7444717444717445,
          0.7444717444717445,
          0.7469287469287469,
          0.7469287469287469,
          0.7518427518427518,
          0.7518427518427518,
          0.7542997542997543,
          0.7542997542997543,
          0.7592137592137592,
          0.7592137592137592,
          0.7616707616707616,
          0.7616707616707616,
          0.7641277641277642,
          0.7641277641277642,
          0.7665847665847666,
          0.7665847665847666,
          0.7714987714987716,
          0.7714987714987716,
          0.7764127764127764,
          0.7764127764127764,
          0.7788697788697788,
          0.7788697788697788,
          0.7862407862407862,
          0.7862407862407862,
          0.7886977886977887,
          0.7886977886977887,
          0.7911547911547911,
          0.7911547911547911,
          0.7936117936117936,
          0.7936117936117936,
          0.7960687960687961,
          0.7960687960687961,
          0.7985257985257985,
          0.7985257985257985,
          0.800982800982801,
          0.800982800982801,
          0.8034398034398035,
          0.8034398034398035,
          0.8058968058968059,
          0.8058968058968059,
          0.8083538083538083,
          0.8083538083538083,
          0.8108108108108109,
          0.8108108108108109,
          0.8132678132678133,
          0.8132678132678133,
          0.8157248157248157,
          0.8157248157248157,
          0.8181818181818182,
          0.8181818181818182,
          0.8206388206388207,
          0.8206388206388207,
          0.8230958230958231,
          0.8230958230958231,
          0.828009828009828,
          0.828009828009828,
          0.8304668304668305,
          0.8304668304668305,
          0.8329238329238329,
          0.8329238329238329,
          0.8353808353808354,
          0.8353808353808354,
          0.8378378378378378,
          0.8378378378378378,
          0.8402948402948403,
          0.8402948402948403,
          0.8427518427518428,
          0.8427518427518428,
          0.8476658476658476,
          0.8476658476658476,
          0.8501228501228502,
          0.8501228501228502,
          0.8525798525798526,
          0.8525798525798526,
          0.855036855036855,
          0.855036855036855,
          0.8574938574938575,
          0.8574938574938575,
          0.8624078624078624,
          0.8624078624078624,
          0.8648648648648649,
          0.8648648648648649,
          0.8722358722358723,
          0.8722358722358723,
          0.8746928746928747,
          0.8746928746928747,
          0.8771498771498771,
          0.8771498771498771,
          0.8796068796068796,
          0.8796068796068796,
          0.8820638820638821,
          0.8820638820638821,
          0.8845208845208845,
          0.8845208845208845,
          0.8869778869778869,
          0.8869778869778869,
          0.8894348894348895,
          0.8894348894348895,
          0.8918918918918919,
          0.8918918918918919,
          0.8943488943488943,
          0.8943488943488943,
          0.8968058968058968,
          0.8968058968058968,
          0.8992628992628993,
          0.8992628992628993,
          0.9017199017199017,
          0.9017199017199017,
          0.9041769041769042,
          0.9041769041769042,
          0.9066339066339066,
          0.9066339066339066,
          0.9090909090909091,
          0.9090909090909091,
          0.9115479115479116,
          0.9115479115479116,
          0.914004914004914,
          0.914004914004914,
          0.9164619164619164,
          0.9164619164619164,
          0.918918918918919,
          0.918918918918919,
          0.9213759213759214,
          0.9213759213759214,
          0.9238329238329238,
          0.9238329238329238,
          0.9262899262899262,
          0.9262899262899262,
          0.9312039312039312,
          0.9312039312039312,
          0.9336609336609336,
          0.9336609336609336,
          0.9385749385749386,
          0.9385749385749386,
          0.9434889434889435,
          0.9434889434889435,
          0.9459459459459459,
          0.9459459459459459,
          0.9484029484029484,
          0.9484029484029484,
          0.9508599508599509,
          0.9508599508599509,
          0.9533169533169533,
          0.9533169533169533,
          0.9557739557739557,
          0.9557739557739557,
          0.9582309582309583,
          0.9582309582309583,
          0.9606879606879607,
          0.9606879606879607,
          0.9631449631449631,
          0.9631449631449631,
          0.9656019656019657,
          0.9656019656019657,
          0.9680589680589681,
          0.9680589680589681,
          0.9705159705159705,
          0.9705159705159705,
          0.972972972972973,
          0.972972972972973,
          0.9754299754299754,
          0.9754299754299754,
          0.9778869778869779,
          0.9778869778869779,
          0.9803439803439803,
          0.9803439803439803,
          0.9828009828009828,
          0.9828009828009828,
          0.9852579852579852,
          0.9852579852579852,
          0.9877149877149877,
          0.9877149877149877,
          0.9901719901719902,
          0.9901719901719902,
          0.9926289926289926,
          0.9926289926289926,
          0.995085995085995,
          0.995085995085995,
          0.9975429975429976,
          0.9975429975429976,
          1,
          1
         ]
        },
        {
         "line": {
          "color": "red",
          "dash": "dash"
         },
         "mode": "lines",
         "showlegend": false,
         "type": "scatter",
         "x": [
          0,
          1
         ],
         "y": [
          0,
          1
         ]
        }
       ],
       "layout": {
        "autosize": false,
        "height": 600,
        "showlegend": true,
        "template": {
         "data": {
          "bar": [
           {
            "error_x": {
             "color": "#2a3f5f"
            },
            "error_y": {
             "color": "#2a3f5f"
            },
            "marker": {
             "line": {
              "color": "#E5ECF6",
              "width": 0.5
             },
             "pattern": {
              "fillmode": "overlay",
              "size": 10,
              "solidity": 0.2
             }
            },
            "type": "bar"
           }
          ],
          "barpolar": [
           {
            "marker": {
             "line": {
              "color": "#E5ECF6",
              "width": 0.5
             },
             "pattern": {
              "fillmode": "overlay",
              "size": 10,
              "solidity": 0.2
             }
            },
            "type": "barpolar"
           }
          ],
          "carpet": [
           {
            "aaxis": {
             "endlinecolor": "#2a3f5f",
             "gridcolor": "white",
             "linecolor": "white",
             "minorgridcolor": "white",
             "startlinecolor": "#2a3f5f"
            },
            "baxis": {
             "endlinecolor": "#2a3f5f",
             "gridcolor": "white",
             "linecolor": "white",
             "minorgridcolor": "white",
             "startlinecolor": "#2a3f5f"
            },
            "type": "carpet"
           }
          ],
          "choropleth": [
           {
            "colorbar": {
             "outlinewidth": 0,
             "ticks": ""
            },
            "type": "choropleth"
           }
          ],
          "contour": [
           {
            "colorbar": {
             "outlinewidth": 0,
             "ticks": ""
            },
            "colorscale": [
             [
              0,
              "#0d0887"
             ],
             [
              0.1111111111111111,
              "#46039f"
             ],
             [
              0.2222222222222222,
              "#7201a8"
             ],
             [
              0.3333333333333333,
              "#9c179e"
             ],
             [
              0.4444444444444444,
              "#bd3786"
             ],
             [
              0.5555555555555556,
              "#d8576b"
             ],
             [
              0.6666666666666666,
              "#ed7953"
             ],
             [
              0.7777777777777778,
              "#fb9f3a"
             ],
             [
              0.8888888888888888,
              "#fdca26"
             ],
             [
              1,
              "#f0f921"
             ]
            ],
            "type": "contour"
           }
          ],
          "contourcarpet": [
           {
            "colorbar": {
             "outlinewidth": 0,
             "ticks": ""
            },
            "type": "contourcarpet"
           }
          ],
          "heatmap": [
           {
            "colorbar": {
             "outlinewidth": 0,
             "ticks": ""
            },
            "colorscale": [
             [
              0,
              "#0d0887"
             ],
             [
              0.1111111111111111,
              "#46039f"
             ],
             [
              0.2222222222222222,
              "#7201a8"
             ],
             [
              0.3333333333333333,
              "#9c179e"
             ],
             [
              0.4444444444444444,
              "#bd3786"
             ],
             [
              0.5555555555555556,
              "#d8576b"
             ],
             [
              0.6666666666666666,
              "#ed7953"
             ],
             [
              0.7777777777777778,
              "#fb9f3a"
             ],
             [
              0.8888888888888888,
              "#fdca26"
             ],
             [
              1,
              "#f0f921"
             ]
            ],
            "type": "heatmap"
           }
          ],
          "heatmapgl": [
           {
            "colorbar": {
             "outlinewidth": 0,
             "ticks": ""
            },
            "colorscale": [
             [
              0,
              "#0d0887"
             ],
             [
              0.1111111111111111,
              "#46039f"
             ],
             [
              0.2222222222222222,
              "#7201a8"
             ],
             [
              0.3333333333333333,
              "#9c179e"
             ],
             [
              0.4444444444444444,
              "#bd3786"
             ],
             [
              0.5555555555555556,
              "#d8576b"
             ],
             [
              0.6666666666666666,
              "#ed7953"
             ],
             [
              0.7777777777777778,
              "#fb9f3a"
             ],
             [
              0.8888888888888888,
              "#fdca26"
             ],
             [
              1,
              "#f0f921"
             ]
            ],
            "type": "heatmapgl"
           }
          ],
          "histogram": [
           {
            "marker": {
             "pattern": {
              "fillmode": "overlay",
              "size": 10,
              "solidity": 0.2
             }
            },
            "type": "histogram"
           }
          ],
          "histogram2d": [
           {
            "colorbar": {
             "outlinewidth": 0,
             "ticks": ""
            },
            "colorscale": [
             [
              0,
              "#0d0887"
             ],
             [
              0.1111111111111111,
              "#46039f"
             ],
             [
              0.2222222222222222,
              "#7201a8"
             ],
             [
              0.3333333333333333,
              "#9c179e"
             ],
             [
              0.4444444444444444,
              "#bd3786"
             ],
             [
              0.5555555555555556,
              "#d8576b"
             ],
             [
              0.6666666666666666,
              "#ed7953"
             ],
             [
              0.7777777777777778,
              "#fb9f3a"
             ],
             [
              0.8888888888888888,
              "#fdca26"
             ],
             [
              1,
              "#f0f921"
             ]
            ],
            "type": "histogram2d"
           }
          ],
          "histogram2dcontour": [
           {
            "colorbar": {
             "outlinewidth": 0,
             "ticks": ""
            },
            "colorscale": [
             [
              0,
              "#0d0887"
             ],
             [
              0.1111111111111111,
              "#46039f"
             ],
             [
              0.2222222222222222,
              "#7201a8"
             ],
             [
              0.3333333333333333,
              "#9c179e"
             ],
             [
              0.4444444444444444,
              "#bd3786"
             ],
             [
              0.5555555555555556,
              "#d8576b"
             ],
             [
              0.6666666666666666,
              "#ed7953"
             ],
             [
              0.7777777777777778,
              "#fb9f3a"
             ],
             [
              0.8888888888888888,
              "#fdca26"
             ],
             [
              1,
              "#f0f921"
             ]
            ],
            "type": "histogram2dcontour"
           }
          ],
          "mesh3d": [
           {
            "colorbar": {
             "outlinewidth": 0,
             "ticks": ""
            },
            "type": "mesh3d"
           }
          ],
          "parcoords": [
           {
            "line": {
             "colorbar": {
              "outlinewidth": 0,
              "ticks": ""
             }
            },
            "type": "parcoords"
           }
          ],
          "pie": [
           {
            "automargin": true,
            "type": "pie"
           }
          ],
          "scatter": [
           {
            "fillpattern": {
             "fillmode": "overlay",
             "size": 10,
             "solidity": 0.2
            },
            "type": "scatter"
           }
          ],
          "scatter3d": [
           {
            "line": {
             "colorbar": {
              "outlinewidth": 0,
              "ticks": ""
             }
            },
            "marker": {
             "colorbar": {
              "outlinewidth": 0,
              "ticks": ""
             }
            },
            "type": "scatter3d"
           }
          ],
          "scattercarpet": [
           {
            "marker": {
             "colorbar": {
              "outlinewidth": 0,
              "ticks": ""
             }
            },
            "type": "scattercarpet"
           }
          ],
          "scattergeo": [
           {
            "marker": {
             "colorbar": {
              "outlinewidth": 0,
              "ticks": ""
             }
            },
            "type": "scattergeo"
           }
          ],
          "scattergl": [
           {
            "marker": {
             "colorbar": {
              "outlinewidth": 0,
              "ticks": ""
             }
            },
            "type": "scattergl"
           }
          ],
          "scattermapbox": [
           {
            "marker": {
             "colorbar": {
              "outlinewidth": 0,
              "ticks": ""
             }
            },
            "type": "scattermapbox"
           }
          ],
          "scatterpolar": [
           {
            "marker": {
             "colorbar": {
              "outlinewidth": 0,
              "ticks": ""
             }
            },
            "type": "scatterpolar"
           }
          ],
          "scatterpolargl": [
           {
            "marker": {
             "colorbar": {
              "outlinewidth": 0,
              "ticks": ""
             }
            },
            "type": "scatterpolargl"
           }
          ],
          "scatterternary": [
           {
            "marker": {
             "colorbar": {
              "outlinewidth": 0,
              "ticks": ""
             }
            },
            "type": "scatterternary"
           }
          ],
          "surface": [
           {
            "colorbar": {
             "outlinewidth": 0,
             "ticks": ""
            },
            "colorscale": [
             [
              0,
              "#0d0887"
             ],
             [
              0.1111111111111111,
              "#46039f"
             ],
             [
              0.2222222222222222,
              "#7201a8"
             ],
             [
              0.3333333333333333,
              "#9c179e"
             ],
             [
              0.4444444444444444,
              "#bd3786"
             ],
             [
              0.5555555555555556,
              "#d8576b"
             ],
             [
              0.6666666666666666,
              "#ed7953"
             ],
             [
              0.7777777777777778,
              "#fb9f3a"
             ],
             [
              0.8888888888888888,
              "#fdca26"
             ],
             [
              1,
              "#f0f921"
             ]
            ],
            "type": "surface"
           }
          ],
          "table": [
           {
            "cells": {
             "fill": {
              "color": "#EBF0F8"
             },
             "line": {
              "color": "white"
             }
            },
            "header": {
             "fill": {
              "color": "#C8D4E3"
             },
             "line": {
              "color": "white"
             }
            },
            "type": "table"
           }
          ]
         },
         "layout": {
          "annotationdefaults": {
           "arrowcolor": "#2a3f5f",
           "arrowhead": 0,
           "arrowwidth": 1
          },
          "autotypenumbers": "strict",
          "coloraxis": {
           "colorbar": {
            "outlinewidth": 0,
            "ticks": ""
           }
          },
          "colorscale": {
           "diverging": [
            [
             0,
             "#8e0152"
            ],
            [
             0.1,
             "#c51b7d"
            ],
            [
             0.2,
             "#de77ae"
            ],
            [
             0.3,
             "#f1b6da"
            ],
            [
             0.4,
             "#fde0ef"
            ],
            [
             0.5,
             "#f7f7f7"
            ],
            [
             0.6,
             "#e6f5d0"
            ],
            [
             0.7,
             "#b8e186"
            ],
            [
             0.8,
             "#7fbc41"
            ],
            [
             0.9,
             "#4d9221"
            ],
            [
             1,
             "#276419"
            ]
           ],
           "sequential": [
            [
             0,
             "#0d0887"
            ],
            [
             0.1111111111111111,
             "#46039f"
            ],
            [
             0.2222222222222222,
             "#7201a8"
            ],
            [
             0.3333333333333333,
             "#9c179e"
            ],
            [
             0.4444444444444444,
             "#bd3786"
            ],
            [
             0.5555555555555556,
             "#d8576b"
            ],
            [
             0.6666666666666666,
             "#ed7953"
            ],
            [
             0.7777777777777778,
             "#fb9f3a"
            ],
            [
             0.8888888888888888,
             "#fdca26"
            ],
            [
             1,
             "#f0f921"
            ]
           ],
           "sequentialminus": [
            [
             0,
             "#0d0887"
            ],
            [
             0.1111111111111111,
             "#46039f"
            ],
            [
             0.2222222222222222,
             "#7201a8"
            ],
            [
             0.3333333333333333,
             "#9c179e"
            ],
            [
             0.4444444444444444,
             "#bd3786"
            ],
            [
             0.5555555555555556,
             "#d8576b"
            ],
            [
             0.6666666666666666,
             "#ed7953"
            ],
            [
             0.7777777777777778,
             "#fb9f3a"
            ],
            [
             0.8888888888888888,
             "#fdca26"
            ],
            [
             1,
             "#f0f921"
            ]
           ]
          },
          "colorway": [
           "#636efa",
           "#EF553B",
           "#00cc96",
           "#ab63fa",
           "#FFA15A",
           "#19d3f3",
           "#FF6692",
           "#B6E880",
           "#FF97FF",
           "#FECB52"
          ],
          "font": {
           "color": "#2a3f5f"
          },
          "geo": {
           "bgcolor": "white",
           "lakecolor": "white",
           "landcolor": "#E5ECF6",
           "showlakes": true,
           "showland": true,
           "subunitcolor": "white"
          },
          "hoverlabel": {
           "align": "left"
          },
          "hovermode": "closest",
          "mapbox": {
           "style": "light"
          },
          "paper_bgcolor": "white",
          "plot_bgcolor": "#E5ECF6",
          "polar": {
           "angularaxis": {
            "gridcolor": "white",
            "linecolor": "white",
            "ticks": ""
           },
           "bgcolor": "#E5ECF6",
           "radialaxis": {
            "gridcolor": "white",
            "linecolor": "white",
            "ticks": ""
           }
          },
          "scene": {
           "xaxis": {
            "backgroundcolor": "#E5ECF6",
            "gridcolor": "white",
            "gridwidth": 2,
            "linecolor": "white",
            "showbackground": true,
            "ticks": "",
            "zerolinecolor": "white"
           },
           "yaxis": {
            "backgroundcolor": "#E5ECF6",
            "gridcolor": "white",
            "gridwidth": 2,
            "linecolor": "white",
            "showbackground": true,
            "ticks": "",
            "zerolinecolor": "white"
           },
           "zaxis": {
            "backgroundcolor": "#E5ECF6",
            "gridcolor": "white",
            "gridwidth": 2,
            "linecolor": "white",
            "showbackground": true,
            "ticks": "",
            "zerolinecolor": "white"
           }
          },
          "shapedefaults": {
           "line": {
            "color": "#2a3f5f"
           }
          },
          "ternary": {
           "aaxis": {
            "gridcolor": "white",
            "linecolor": "white",
            "ticks": ""
           },
           "baxis": {
            "gridcolor": "white",
            "linecolor": "white",
            "ticks": ""
           },
           "bgcolor": "#E5ECF6",
           "caxis": {
            "gridcolor": "white",
            "linecolor": "white",
            "ticks": ""
           }
          },
          "title": {
           "x": 0.05
          },
          "xaxis": {
           "automargin": true,
           "gridcolor": "white",
           "linecolor": "white",
           "ticks": "",
           "title": {
            "standoff": 15
           },
           "zerolinecolor": "white",
           "zerolinewidth": 2
          },
          "yaxis": {
           "automargin": true,
           "gridcolor": "white",
           "linecolor": "white",
           "ticks": "",
           "title": {
            "standoff": 15
           },
           "zerolinecolor": "white",
           "zerolinewidth": 2
          }
         }
        },
        "title": {
         "text": "ROC Curve"
        },
        "width": 700,
        "xaxis": {
         "title": {
          "text": "False Positive Rate"
         }
        },
        "yaxis": {
         "title": {
          "text": "True Positive Rate"
         }
        }
       }
      }
     },
     "metadata": {},
     "output_type": "display_data"
    }
   ],
   "source": [
    "evaluator = ModelEvaluator(\n",
    "    y_true=y_test,\n",
    "    y_pred=random_search.predict(X_test),\n",
    "    y_proba=random_search.predict_proba(X_test)[:, 1]\n",
    ")\n",
    "\n",
    "# Display scores\n",
    "evaluator.display_scores()\n",
    "\n",
    "# Plot the confusion matrix\n",
    "evaluator.plot_confusion_matrix()\n",
    "\n",
    "# Plot the ROC curve\n",
    "evaluator.plot_roc_curve()"
   ]
  },
  {
   "cell_type": "markdown",
   "metadata": {},
   "source": [
    "The test set evaluation ensures that the model is robust, unbiased, and ready to perform effectively in real-world applications."
   ]
  },
  {
   "cell_type": "markdown",
   "metadata": {},
   "source": [
    "### **11. Saving the Model and Artifacts**\n",
    "\n",
    "#### Objectives:\n",
    "\n",
    "1. **Model Persistence**:\n",
    "   - Save the trained LightGBM model for reuse in prediction pipelines or deployment.\n",
    "2. **Preprocessor Persistence**:\n",
    "   - Save the `IterativeImputer` used for handling missing values to ensure consistency in preprocessing new data.\n",
    "3. **Feature Importance**:\n",
    "   - Save the feature importance values to a CSV file for reporting and analysis."
   ]
  },
  {
   "cell_type": "code",
   "execution_count": 14,
   "metadata": {},
   "outputs": [
    {
     "name": "stdout",
     "output_type": "stream",
     "text": [
      "Model saved as: model.pkl\n",
      "Preprocessor saved as: preprocessor.pkl\n",
      "Preprocessor saved as: preprocessor.pkl\n",
      "Feature importance saved as: t:\\Mi unidad\\wdir\\s10-beta_bank\\data\\processed\\feature_importance.csv\n"
     ]
    }
   ],
   "source": [
    "# Step 1: Save the trained LightGBM model\n",
    "model_path = 'model.pkl'\n",
    "joblib.dump(random_search, model_path)\n",
    "print(f\"Model saved as: {model_path}\")\n",
    "\n",
    "# Step 2: Save the preprocessing pipeline\n",
    "preprocessor_path = 'preprocessor.pkl'\n",
    "joblib.dump(iterative_imputer, preprocessor_path)\n",
    "print(f\"Preprocessor saved as: {preprocessor_path}\")\n",
    "\n",
    "# Step 3: Save the feature importance data\n",
    "feature_importance_path = root_path / 'data' / 'processed' / 'feature_importance.csv'\n",
    "df_importance.to_csv(feature_importance_path, index=False)\n",
    "print(f\"Feature importance saved as: {feature_importance_path}\")"
   ]
  },
  {
   "cell_type": "code",
   "execution_count": null,
   "metadata": {},
   "outputs": [],
   "source": []
  }
 ],
 "metadata": {
  "ExecuteTimeLog": [
   {
    "duration": 811,
    "start_time": "2024-11-10T18:10:20.990Z"
   },
   {
    "duration": 11,
    "start_time": "2024-11-10T18:10:32.441Z"
   },
   {
    "duration": 18,
    "start_time": "2024-11-10T18:11:17.362Z"
   },
   {
    "duration": 6,
    "start_time": "2024-11-10T18:12:28.783Z"
   },
   {
    "duration": 5,
    "start_time": "2024-11-10T18:25:33.840Z"
   },
   {
    "duration": 4,
    "start_time": "2024-11-10T18:25:49.103Z"
   },
   {
    "duration": 4,
    "start_time": "2024-11-10T18:26:12.410Z"
   },
   {
    "duration": 5,
    "start_time": "2024-11-10T18:34:41.532Z"
   },
   {
    "duration": 10,
    "start_time": "2024-11-10T18:37:27.780Z"
   },
   {
    "duration": 8,
    "start_time": "2024-11-10T19:04:24.755Z"
   },
   {
    "duration": 60,
    "start_time": "2024-11-10T19:07:10.015Z"
   },
   {
    "duration": 147,
    "start_time": "2024-11-10T19:08:31.433Z"
   },
   {
    "duration": 4,
    "start_time": "2024-11-10T19:10:16.657Z"
   },
   {
    "duration": 5,
    "start_time": "2024-11-10T19:17:10.773Z"
   },
   {
    "duration": 593,
    "start_time": "2024-11-10T19:20:58.677Z"
   },
   {
    "duration": 60,
    "start_time": "2024-11-10T19:23:29.071Z"
   },
   {
    "duration": 56,
    "start_time": "2024-11-10T19:42:02.937Z"
   },
   {
    "duration": 268,
    "start_time": "2024-11-10T20:00:53.494Z"
   },
   {
    "duration": 427,
    "start_time": "2024-11-10T20:01:24.631Z"
   },
   {
    "duration": 45,
    "start_time": "2024-11-10T20:05:49.960Z"
   },
   {
    "duration": 434,
    "start_time": "2024-11-10T20:05:59.501Z"
   },
   {
    "duration": 7,
    "start_time": "2024-11-10T20:06:47.765Z"
   },
   {
    "duration": 5,
    "start_time": "2024-11-10T20:07:02.433Z"
   },
   {
    "duration": 3,
    "start_time": "2024-11-10T20:07:06.322Z"
   },
   {
    "duration": 378,
    "start_time": "2024-11-10T20:07:20.258Z"
   },
   {
    "duration": 7,
    "start_time": "2024-11-10T20:07:26.420Z"
   },
   {
    "duration": 4,
    "start_time": "2024-11-10T20:17:51.527Z"
   },
   {
    "duration": 175,
    "start_time": "2024-11-10T20:21:40.038Z"
   },
   {
    "duration": 8,
    "start_time": "2024-11-10T20:29:12.399Z"
   },
   {
    "duration": 21,
    "start_time": "2024-11-10T20:38:30.068Z"
   },
   {
    "duration": 4,
    "start_time": "2024-11-10T20:39:16.023Z"
   },
   {
    "duration": 4,
    "start_time": "2024-11-10T20:39:52.301Z"
   },
   {
    "duration": 4,
    "start_time": "2024-11-10T20:40:14.640Z"
   },
   {
    "duration": 5,
    "start_time": "2024-11-10T20:40:28.449Z"
   },
   {
    "duration": 47,
    "start_time": "2024-11-10T20:42:39.286Z"
   },
   {
    "duration": 46,
    "start_time": "2024-11-10T20:43:02.532Z"
   },
   {
    "duration": 6,
    "start_time": "2024-11-10T20:43:08.113Z"
   },
   {
    "duration": 8,
    "start_time": "2024-11-10T20:43:11.431Z"
   },
   {
    "duration": 9,
    "start_time": "2024-11-10T20:43:17.948Z"
   },
   {
    "duration": 4,
    "start_time": "2024-11-10T20:43:24.456Z"
   },
   {
    "duration": 6,
    "start_time": "2024-11-10T20:43:28.224Z"
   },
   {
    "duration": 7,
    "start_time": "2024-11-10T20:43:33.578Z"
   },
   {
    "duration": 4,
    "start_time": "2024-11-10T20:43:48.454Z"
   },
   {
    "duration": 50,
    "start_time": "2024-11-10T20:43:51.248Z"
   },
   {
    "duration": 787,
    "start_time": "2024-11-10T20:44:00.116Z"
   },
   {
    "duration": 10,
    "start_time": "2024-11-10T20:44:00.905Z"
   },
   {
    "duration": 26,
    "start_time": "2024-11-10T20:44:00.916Z"
   },
   {
    "duration": 5,
    "start_time": "2024-11-10T20:44:00.944Z"
   },
   {
    "duration": 3,
    "start_time": "2024-11-10T20:44:00.951Z"
   },
   {
    "duration": 5,
    "start_time": "2024-11-10T20:44:00.956Z"
   },
   {
    "duration": 9,
    "start_time": "2024-11-10T20:44:00.962Z"
   },
   {
    "duration": 7,
    "start_time": "2024-11-10T20:44:00.973Z"
   },
   {
    "duration": 184,
    "start_time": "2024-11-10T20:44:00.982Z"
   },
   {
    "duration": 0,
    "start_time": "2024-11-10T20:44:01.168Z"
   },
   {
    "duration": 0,
    "start_time": "2024-11-10T20:44:01.169Z"
   },
   {
    "duration": 0,
    "start_time": "2024-11-10T20:44:01.170Z"
   },
   {
    "duration": 0,
    "start_time": "2024-11-10T20:44:01.171Z"
   },
   {
    "duration": 0,
    "start_time": "2024-11-10T20:44:01.172Z"
   },
   {
    "duration": 0,
    "start_time": "2024-11-10T20:44:01.173Z"
   },
   {
    "duration": 0,
    "start_time": "2024-11-10T20:44:01.176Z"
   },
   {
    "duration": 0,
    "start_time": "2024-11-10T20:44:01.177Z"
   },
   {
    "duration": 0,
    "start_time": "2024-11-10T20:44:01.179Z"
   },
   {
    "duration": 0,
    "start_time": "2024-11-10T20:44:01.180Z"
   },
   {
    "duration": 0,
    "start_time": "2024-11-10T20:44:01.181Z"
   },
   {
    "duration": 0,
    "start_time": "2024-11-10T20:44:01.182Z"
   },
   {
    "duration": 4,
    "start_time": "2024-11-10T20:44:21.443Z"
   },
   {
    "duration": 61,
    "start_time": "2024-11-10T20:44:25.217Z"
   },
   {
    "duration": 56,
    "start_time": "2024-11-10T20:44:28.890Z"
   },
   {
    "duration": 349,
    "start_time": "2024-11-10T20:44:31.403Z"
   },
   {
    "duration": 4,
    "start_time": "2024-11-10T20:44:34.408Z"
   },
   {
    "duration": 5,
    "start_time": "2024-11-10T20:44:37.477Z"
   },
   {
    "duration": 61,
    "start_time": "2024-11-10T20:44:42.001Z"
   },
   {
    "duration": 50,
    "start_time": "2024-11-10T20:46:32.868Z"
   },
   {
    "duration": 33,
    "start_time": "2024-11-10T20:46:37.396Z"
   },
   {
    "duration": 4,
    "start_time": "2024-11-10T20:47:10.106Z"
   },
   {
    "duration": 31,
    "start_time": "2024-11-10T20:47:14.831Z"
   },
   {
    "duration": 52,
    "start_time": "2024-11-10T20:47:45.874Z"
   },
   {
    "duration": 823,
    "start_time": "2024-11-10T20:47:47.751Z"
   },
   {
    "duration": 32,
    "start_time": "2024-11-10T20:47:52.795Z"
   },
   {
    "duration": 189,
    "start_time": "2024-11-10T20:49:05.034Z"
   },
   {
    "duration": 50,
    "start_time": "2024-11-10T20:50:19.751Z"
   },
   {
    "duration": 33,
    "start_time": "2024-11-10T20:51:13.352Z"
   },
   {
    "duration": 44,
    "start_time": "2024-11-10T20:51:59.291Z"
   },
   {
    "duration": 3,
    "start_time": "2024-11-10T20:52:06.183Z"
   },
   {
    "duration": 10,
    "start_time": "2024-11-10T20:52:10.296Z"
   },
   {
    "duration": 32,
    "start_time": "2024-11-10T20:52:16.538Z"
   },
   {
    "duration": 32,
    "start_time": "2024-11-10T20:52:22.548Z"
   },
   {
    "duration": 33,
    "start_time": "2024-11-10T20:53:06.576Z"
   },
   {
    "duration": 6,
    "start_time": "2024-11-10T20:57:29.771Z"
   },
   {
    "duration": 41,
    "start_time": "2024-11-10T20:58:16.565Z"
   },
   {
    "duration": 880,
    "start_time": "2024-11-11T02:00:04.139Z"
   },
   {
    "duration": 10,
    "start_time": "2024-11-11T02:00:05.021Z"
   },
   {
    "duration": 22,
    "start_time": "2024-11-11T02:00:05.032Z"
   },
   {
    "duration": 15,
    "start_time": "2024-11-11T02:00:05.055Z"
   },
   {
    "duration": 3,
    "start_time": "2024-11-11T02:00:05.076Z"
   },
   {
    "duration": 5,
    "start_time": "2024-11-11T02:00:05.081Z"
   },
   {
    "duration": 9,
    "start_time": "2024-11-11T02:00:05.088Z"
   },
   {
    "duration": 8,
    "start_time": "2024-11-11T02:00:05.099Z"
   },
   {
    "duration": 196,
    "start_time": "2024-11-11T02:00:05.110Z"
   },
   {
    "duration": 0,
    "start_time": "2024-11-11T02:00:05.308Z"
   },
   {
    "duration": 0,
    "start_time": "2024-11-11T02:00:05.309Z"
   },
   {
    "duration": 0,
    "start_time": "2024-11-11T02:00:05.310Z"
   },
   {
    "duration": 0,
    "start_time": "2024-11-11T02:00:05.312Z"
   },
   {
    "duration": 0,
    "start_time": "2024-11-11T02:00:05.314Z"
   },
   {
    "duration": 0,
    "start_time": "2024-11-11T02:00:05.315Z"
   },
   {
    "duration": 0,
    "start_time": "2024-11-11T02:00:05.316Z"
   },
   {
    "duration": 0,
    "start_time": "2024-11-11T02:00:05.317Z"
   },
   {
    "duration": 0,
    "start_time": "2024-11-11T02:00:05.318Z"
   },
   {
    "duration": 0,
    "start_time": "2024-11-11T02:00:05.319Z"
   },
   {
    "duration": 0,
    "start_time": "2024-11-11T02:00:05.320Z"
   },
   {
    "duration": 0,
    "start_time": "2024-11-11T02:00:05.322Z"
   },
   {
    "duration": 0,
    "start_time": "2024-11-11T02:00:05.323Z"
   },
   {
    "duration": 0,
    "start_time": "2024-11-11T02:00:05.323Z"
   },
   {
    "duration": 0,
    "start_time": "2024-11-11T02:00:05.324Z"
   },
   {
    "duration": 0,
    "start_time": "2024-11-11T02:00:05.326Z"
   },
   {
    "duration": 21,
    "start_time": "2024-11-11T02:04:34.555Z"
   },
   {
    "duration": 68,
    "start_time": "2024-11-11T02:04:53.247Z"
   },
   {
    "duration": 9,
    "start_time": "2024-11-11T02:04:53.317Z"
   },
   {
    "duration": 23,
    "start_time": "2024-11-11T02:04:53.327Z"
   },
   {
    "duration": 5,
    "start_time": "2024-11-11T02:04:53.365Z"
   },
   {
    "duration": 3,
    "start_time": "2024-11-11T02:04:53.371Z"
   },
   {
    "duration": 6,
    "start_time": "2024-11-11T02:04:53.375Z"
   },
   {
    "duration": 8,
    "start_time": "2024-11-11T02:04:53.383Z"
   },
   {
    "duration": 6,
    "start_time": "2024-11-11T02:04:53.394Z"
   },
   {
    "duration": 48,
    "start_time": "2024-11-11T02:04:53.402Z"
   },
   {
    "duration": 0,
    "start_time": "2024-11-11T02:04:53.467Z"
   },
   {
    "duration": 0,
    "start_time": "2024-11-11T02:04:53.468Z"
   },
   {
    "duration": 0,
    "start_time": "2024-11-11T02:04:53.469Z"
   },
   {
    "duration": 0,
    "start_time": "2024-11-11T02:04:53.471Z"
   },
   {
    "duration": 0,
    "start_time": "2024-11-11T02:04:53.471Z"
   },
   {
    "duration": 0,
    "start_time": "2024-11-11T02:04:53.473Z"
   },
   {
    "duration": 0,
    "start_time": "2024-11-11T02:04:53.473Z"
   },
   {
    "duration": 0,
    "start_time": "2024-11-11T02:04:53.474Z"
   },
   {
    "duration": 0,
    "start_time": "2024-11-11T02:04:53.475Z"
   },
   {
    "duration": 0,
    "start_time": "2024-11-11T02:04:53.477Z"
   },
   {
    "duration": 0,
    "start_time": "2024-11-11T02:04:53.477Z"
   },
   {
    "duration": 0,
    "start_time": "2024-11-11T02:04:53.478Z"
   },
   {
    "duration": 0,
    "start_time": "2024-11-11T02:04:53.480Z"
   },
   {
    "duration": 0,
    "start_time": "2024-11-11T02:04:53.482Z"
   },
   {
    "duration": 0,
    "start_time": "2024-11-11T02:04:53.484Z"
   },
   {
    "duration": 0,
    "start_time": "2024-11-11T02:04:53.485Z"
   },
   {
    "duration": 17,
    "start_time": "2024-11-11T02:30:19.602Z"
   },
   {
    "duration": 817,
    "start_time": "2024-11-13T03:20:59.912Z"
   },
   {
    "duration": 52,
    "start_time": "2024-11-13T03:21:00.731Z"
   },
   {
    "duration": 5,
    "start_time": "2024-11-13T03:21:00.785Z"
   },
   {
    "duration": 8,
    "start_time": "2024-11-13T03:21:00.792Z"
   },
   {
    "duration": 27,
    "start_time": "2024-11-13T03:21:00.802Z"
   },
   {
    "duration": 5,
    "start_time": "2024-11-13T03:21:00.830Z"
   },
   {
    "duration": 3,
    "start_time": "2024-11-13T03:21:00.837Z"
   },
   {
    "duration": 5,
    "start_time": "2024-11-13T03:21:00.842Z"
   },
   {
    "duration": 8,
    "start_time": "2024-11-13T03:21:00.848Z"
   },
   {
    "duration": 7,
    "start_time": "2024-11-13T03:21:00.858Z"
   },
   {
    "duration": 188,
    "start_time": "2024-11-13T03:21:00.866Z"
   },
   {
    "duration": 0,
    "start_time": "2024-11-13T03:21:01.057Z"
   },
   {
    "duration": 0,
    "start_time": "2024-11-13T03:21:01.058Z"
   },
   {
    "duration": 0,
    "start_time": "2024-11-13T03:21:01.059Z"
   },
   {
    "duration": 0,
    "start_time": "2024-11-13T03:21:01.062Z"
   },
   {
    "duration": 0,
    "start_time": "2024-11-13T03:21:01.063Z"
   },
   {
    "duration": 0,
    "start_time": "2024-11-13T03:21:01.065Z"
   },
   {
    "duration": 0,
    "start_time": "2024-11-13T03:21:01.066Z"
   },
   {
    "duration": 0,
    "start_time": "2024-11-13T03:21:01.067Z"
   },
   {
    "duration": 0,
    "start_time": "2024-11-13T03:21:01.068Z"
   },
   {
    "duration": 0,
    "start_time": "2024-11-13T03:21:01.069Z"
   },
   {
    "duration": 0,
    "start_time": "2024-11-13T03:21:01.070Z"
   },
   {
    "duration": 0,
    "start_time": "2024-11-13T03:21:01.071Z"
   },
   {
    "duration": 0,
    "start_time": "2024-11-13T03:21:01.072Z"
   },
   {
    "duration": 0,
    "start_time": "2024-11-13T03:21:01.075Z"
   },
   {
    "duration": 0,
    "start_time": "2024-11-13T03:21:01.076Z"
   },
   {
    "duration": 0,
    "start_time": "2024-11-13T03:21:01.077Z"
   },
   {
    "duration": 10,
    "start_time": "2024-11-13T03:42:16.983Z"
   },
   {
    "duration": 23,
    "start_time": "2024-11-13T03:42:42.929Z"
   },
   {
    "duration": 3,
    "start_time": "2024-11-13T03:52:37.705Z"
   },
   {
    "duration": 5,
    "start_time": "2024-11-13T03:52:44.388Z"
   },
   {
    "duration": 3,
    "start_time": "2024-11-13T03:52:55.469Z"
   },
   {
    "duration": 9,
    "start_time": "2024-11-13T03:53:05.544Z"
   },
   {
    "duration": 4,
    "start_time": "2024-11-13T03:53:28.284Z"
   },
   {
    "duration": 57,
    "start_time": "2024-11-13T03:53:53.609Z"
   },
   {
    "duration": 59,
    "start_time": "2024-11-13T03:54:03.677Z"
   },
   {
    "duration": 361,
    "start_time": "2024-11-13T03:54:06.982Z"
   },
   {
    "duration": 4,
    "start_time": "2024-11-13T03:54:10.514Z"
   },
   {
    "duration": 175,
    "start_time": "2024-11-13T03:54:15.471Z"
   },
   {
    "duration": 6,
    "start_time": "2024-11-13T03:54:19.123Z"
   },
   {
    "duration": 11,
    "start_time": "2024-11-13T03:54:23.703Z"
   },
   {
    "duration": 34,
    "start_time": "2024-11-13T03:54:29.317Z"
   },
   {
    "duration": 6,
    "start_time": "2024-11-13T03:58:11.136Z"
   },
   {
    "duration": 48,
    "start_time": "2024-11-13T03:58:53.653Z"
   },
   {
    "duration": 31,
    "start_time": "2024-11-13T03:58:56.313Z"
   },
   {
    "duration": 32,
    "start_time": "2024-11-13T03:59:04.862Z"
   },
   {
    "duration": 178,
    "start_time": "2024-11-13T03:59:10.465Z"
   },
   {
    "duration": 797,
    "start_time": "2024-11-13T23:08:26.949Z"
   },
   {
    "duration": 25,
    "start_time": "2024-11-13T23:08:27.749Z"
   },
   {
    "duration": 7,
    "start_time": "2024-11-13T23:08:27.775Z"
   },
   {
    "duration": 10,
    "start_time": "2024-11-13T23:08:27.784Z"
   },
   {
    "duration": 32,
    "start_time": "2024-11-13T23:08:27.796Z"
   },
   {
    "duration": 9,
    "start_time": "2024-11-13T23:08:27.829Z"
   },
   {
    "duration": 19,
    "start_time": "2024-11-13T23:08:27.839Z"
   },
   {
    "duration": 5,
    "start_time": "2024-11-13T23:08:27.859Z"
   },
   {
    "duration": 4,
    "start_time": "2024-11-13T23:08:27.866Z"
   },
   {
    "duration": 35,
    "start_time": "2024-11-13T23:08:27.871Z"
   },
   {
    "duration": 0,
    "start_time": "2024-11-13T23:08:27.908Z"
   },
   {
    "duration": 0,
    "start_time": "2024-11-13T23:08:27.909Z"
   },
   {
    "duration": 0,
    "start_time": "2024-11-13T23:08:27.910Z"
   },
   {
    "duration": 0,
    "start_time": "2024-11-13T23:08:27.911Z"
   },
   {
    "duration": 0,
    "start_time": "2024-11-13T23:08:27.912Z"
   },
   {
    "duration": 0,
    "start_time": "2024-11-13T23:08:27.913Z"
   },
   {
    "duration": 0,
    "start_time": "2024-11-13T23:08:27.915Z"
   },
   {
    "duration": 0,
    "start_time": "2024-11-13T23:08:27.916Z"
   },
   {
    "duration": 0,
    "start_time": "2024-11-13T23:08:27.917Z"
   },
   {
    "duration": 0,
    "start_time": "2024-11-13T23:08:27.919Z"
   },
   {
    "duration": 0,
    "start_time": "2024-11-13T23:08:27.920Z"
   },
   {
    "duration": 0,
    "start_time": "2024-11-13T23:08:27.921Z"
   },
   {
    "duration": 0,
    "start_time": "2024-11-13T23:08:27.923Z"
   },
   {
    "duration": 0,
    "start_time": "2024-11-13T23:08:27.924Z"
   },
   {
    "duration": 0,
    "start_time": "2024-11-13T23:08:27.925Z"
   },
   {
    "duration": 0,
    "start_time": "2024-11-13T23:08:27.926Z"
   },
   {
    "duration": 0,
    "start_time": "2024-11-13T23:08:27.928Z"
   },
   {
    "duration": 0,
    "start_time": "2024-11-13T23:08:27.930Z"
   },
   {
    "duration": 0,
    "start_time": "2024-11-13T23:08:27.931Z"
   },
   {
    "duration": 0,
    "start_time": "2024-11-13T23:08:27.932Z"
   },
   {
    "duration": 186,
    "start_time": "2024-11-14T01:15:30.718Z"
   },
   {
    "duration": 1012,
    "start_time": "2024-11-14T01:15:39.156Z"
   },
   {
    "duration": 22,
    "start_time": "2024-11-14T01:15:40.401Z"
   },
   {
    "duration": 8,
    "start_time": "2024-11-14T01:15:41.038Z"
   },
   {
    "duration": 11,
    "start_time": "2024-11-14T01:15:41.296Z"
   },
   {
    "duration": 31,
    "start_time": "2024-11-14T01:15:41.549Z"
   },
   {
    "duration": 11,
    "start_time": "2024-11-14T01:15:42.118Z"
   },
   {
    "duration": 25,
    "start_time": "2024-11-14T01:15:42.481Z"
   },
   {
    "duration": 5,
    "start_time": "2024-11-14T01:15:43.586Z"
   },
   {
    "duration": 6,
    "start_time": "2024-11-14T01:15:44.439Z"
   },
   {
    "duration": 7,
    "start_time": "2024-11-14T01:15:45.594Z"
   },
   {
    "duration": 13,
    "start_time": "2024-11-14T01:15:46.763Z"
   },
   {
    "duration": 8,
    "start_time": "2024-11-14T01:15:49.220Z"
   },
   {
    "duration": 19,
    "start_time": "2024-11-14T01:15:55.742Z"
   },
   {
    "duration": 770,
    "start_time": "2024-11-15T00:38:41.335Z"
   },
   {
    "duration": 21,
    "start_time": "2024-11-15T00:38:42.107Z"
   },
   {
    "duration": 9,
    "start_time": "2024-11-15T00:38:42.129Z"
   },
   {
    "duration": 9,
    "start_time": "2024-11-15T00:38:42.141Z"
   },
   {
    "duration": 37,
    "start_time": "2024-11-15T00:38:42.153Z"
   },
   {
    "duration": 9,
    "start_time": "2024-11-15T00:38:42.192Z"
   },
   {
    "duration": 17,
    "start_time": "2024-11-15T00:38:42.204Z"
   },
   {
    "duration": 5,
    "start_time": "2024-11-15T00:38:42.223Z"
   },
   {
    "duration": 5,
    "start_time": "2024-11-15T00:38:42.229Z"
   },
   {
    "duration": 38,
    "start_time": "2024-11-15T00:38:42.235Z"
   },
   {
    "duration": 9,
    "start_time": "2024-11-15T00:38:42.275Z"
   },
   {
    "duration": 7,
    "start_time": "2024-11-15T00:38:42.286Z"
   },
   {
    "duration": 16,
    "start_time": "2024-11-15T00:38:42.295Z"
   },
   {
    "duration": 177,
    "start_time": "2024-11-15T00:38:42.315Z"
   },
   {
    "duration": 0,
    "start_time": "2024-11-15T00:38:42.494Z"
   },
   {
    "duration": 0,
    "start_time": "2024-11-15T00:38:42.496Z"
   },
   {
    "duration": 0,
    "start_time": "2024-11-15T00:38:42.497Z"
   },
   {
    "duration": 0,
    "start_time": "2024-11-15T00:38:42.497Z"
   },
   {
    "duration": 0,
    "start_time": "2024-11-15T00:38:42.498Z"
   },
   {
    "duration": 0,
    "start_time": "2024-11-15T00:38:42.499Z"
   },
   {
    "duration": 0,
    "start_time": "2024-11-15T00:38:42.500Z"
   },
   {
    "duration": 0,
    "start_time": "2024-11-15T00:38:42.501Z"
   },
   {
    "duration": 0,
    "start_time": "2024-11-15T00:38:42.502Z"
   },
   {
    "duration": 0,
    "start_time": "2024-11-15T00:38:42.505Z"
   },
   {
    "duration": 0,
    "start_time": "2024-11-15T00:38:42.507Z"
   },
   {
    "duration": 0,
    "start_time": "2024-11-15T00:38:42.508Z"
   },
   {
    "duration": 0,
    "start_time": "2024-11-15T00:38:42.509Z"
   },
   {
    "duration": 0,
    "start_time": "2024-11-15T00:38:42.511Z"
   },
   {
    "duration": 0,
    "start_time": "2024-11-15T00:38:42.512Z"
   },
   {
    "duration": 0,
    "start_time": "2024-11-15T00:38:42.514Z"
   },
   {
    "duration": 59,
    "start_time": "2024-11-15T00:38:57.620Z"
   },
   {
    "duration": 57,
    "start_time": "2024-11-15T00:39:08.775Z"
   },
   {
    "duration": 334,
    "start_time": "2024-11-15T00:39:19.337Z"
   },
   {
    "duration": 4,
    "start_time": "2024-11-15T00:39:26.199Z"
   },
   {
    "duration": 179,
    "start_time": "2024-11-15T00:39:36.205Z"
   },
   {
    "duration": 5,
    "start_time": "2024-11-15T00:39:43.850Z"
   },
   {
    "duration": 33,
    "start_time": "2024-11-15T00:39:53.951Z"
   },
   {
    "duration": 2,
    "start_time": "2024-11-15T00:41:56.035Z"
   },
   {
    "duration": 31,
    "start_time": "2024-11-15T00:41:58.613Z"
   },
   {
    "duration": 2,
    "start_time": "2024-11-15T00:42:29.599Z"
   },
   {
    "duration": 31,
    "start_time": "2024-11-15T00:42:34.984Z"
   },
   {
    "duration": 30,
    "start_time": "2024-11-15T00:42:58.517Z"
   },
   {
    "duration": 760,
    "start_time": "2024-11-15T00:43:45.853Z"
   },
   {
    "duration": 16,
    "start_time": "2024-11-15T00:43:46.616Z"
   },
   {
    "duration": 7,
    "start_time": "2024-11-15T00:43:46.634Z"
   },
   {
    "duration": 10,
    "start_time": "2024-11-15T00:43:46.643Z"
   },
   {
    "duration": 36,
    "start_time": "2024-11-15T00:43:46.654Z"
   },
   {
    "duration": 9,
    "start_time": "2024-11-15T00:43:46.692Z"
   },
   {
    "duration": 17,
    "start_time": "2024-11-15T00:43:46.703Z"
   },
   {
    "duration": 6,
    "start_time": "2024-11-15T00:43:46.722Z"
   },
   {
    "duration": 4,
    "start_time": "2024-11-15T00:43:46.729Z"
   },
   {
    "duration": 38,
    "start_time": "2024-11-15T00:43:46.737Z"
   },
   {
    "duration": 11,
    "start_time": "2024-11-15T00:43:46.777Z"
   },
   {
    "duration": 7,
    "start_time": "2024-11-15T00:43:46.790Z"
   },
   {
    "duration": 16,
    "start_time": "2024-11-15T00:43:46.799Z"
   },
   {
    "duration": 178,
    "start_time": "2024-11-15T00:43:46.817Z"
   },
   {
    "duration": 0,
    "start_time": "2024-11-15T00:43:46.996Z"
   },
   {
    "duration": 0,
    "start_time": "2024-11-15T00:43:46.997Z"
   },
   {
    "duration": 0,
    "start_time": "2024-11-15T00:43:46.999Z"
   },
   {
    "duration": 0,
    "start_time": "2024-11-15T00:43:46.999Z"
   },
   {
    "duration": 0,
    "start_time": "2024-11-15T00:43:47.001Z"
   },
   {
    "duration": 0,
    "start_time": "2024-11-15T00:43:47.001Z"
   },
   {
    "duration": 0,
    "start_time": "2024-11-15T00:43:47.002Z"
   },
   {
    "duration": 0,
    "start_time": "2024-11-15T00:43:47.003Z"
   },
   {
    "duration": 0,
    "start_time": "2024-11-15T00:43:47.004Z"
   },
   {
    "duration": 0,
    "start_time": "2024-11-15T00:43:47.005Z"
   },
   {
    "duration": 0,
    "start_time": "2024-11-15T00:43:47.006Z"
   },
   {
    "duration": 0,
    "start_time": "2024-11-15T00:43:47.007Z"
   },
   {
    "duration": 0,
    "start_time": "2024-11-15T00:43:47.008Z"
   },
   {
    "duration": 0,
    "start_time": "2024-11-15T00:43:47.010Z"
   },
   {
    "duration": 0,
    "start_time": "2024-11-15T00:43:47.011Z"
   },
   {
    "duration": 0,
    "start_time": "2024-11-15T00:43:47.012Z"
   },
   {
    "duration": 0,
    "start_time": "2024-11-15T00:43:47.014Z"
   },
   {
    "duration": 1,
    "start_time": "2024-11-15T00:43:47.015Z"
   },
   {
    "duration": 7,
    "start_time": "2024-11-15T00:45:28.852Z"
   },
   {
    "duration": 28,
    "start_time": "2024-11-15T00:45:42.655Z"
   },
   {
    "duration": 5,
    "start_time": "2024-11-15T00:45:58.700Z"
   },
   {
    "duration": 747,
    "start_time": "2024-11-15T00:50:45.137Z"
   },
   {
    "duration": 15,
    "start_time": "2024-11-15T00:50:45.887Z"
   },
   {
    "duration": 7,
    "start_time": "2024-11-15T00:50:45.903Z"
   },
   {
    "duration": 11,
    "start_time": "2024-11-15T00:50:45.912Z"
   },
   {
    "duration": 53,
    "start_time": "2024-11-15T00:50:45.926Z"
   },
   {
    "duration": 9,
    "start_time": "2024-11-15T00:50:45.981Z"
   },
   {
    "duration": 18,
    "start_time": "2024-11-15T00:50:45.993Z"
   },
   {
    "duration": 5,
    "start_time": "2024-11-15T00:50:46.012Z"
   },
   {
    "duration": 4,
    "start_time": "2024-11-15T00:50:46.019Z"
   },
   {
    "duration": 46,
    "start_time": "2024-11-15T00:50:46.024Z"
   },
   {
    "duration": 10,
    "start_time": "2024-11-15T00:50:46.072Z"
   },
   {
    "duration": 8,
    "start_time": "2024-11-15T00:50:46.085Z"
   },
   {
    "duration": 7,
    "start_time": "2024-11-15T00:50:46.094Z"
   },
   {
    "duration": 7,
    "start_time": "2024-11-15T00:50:46.104Z"
   },
   {
    "duration": 172,
    "start_time": "2024-11-15T00:50:46.112Z"
   },
   {
    "duration": 0,
    "start_time": "2024-11-15T00:50:46.287Z"
   },
   {
    "duration": 0,
    "start_time": "2024-11-15T00:50:46.288Z"
   },
   {
    "duration": 0,
    "start_time": "2024-11-15T00:50:46.289Z"
   },
   {
    "duration": 0,
    "start_time": "2024-11-15T00:50:46.292Z"
   },
   {
    "duration": 0,
    "start_time": "2024-11-15T00:50:46.293Z"
   },
   {
    "duration": 0,
    "start_time": "2024-11-15T00:50:46.294Z"
   },
   {
    "duration": 0,
    "start_time": "2024-11-15T00:50:46.297Z"
   },
   {
    "duration": 0,
    "start_time": "2024-11-15T00:50:46.298Z"
   },
   {
    "duration": 0,
    "start_time": "2024-11-15T00:50:46.299Z"
   },
   {
    "duration": 0,
    "start_time": "2024-11-15T00:50:46.300Z"
   },
   {
    "duration": 0,
    "start_time": "2024-11-15T00:50:46.303Z"
   },
   {
    "duration": 0,
    "start_time": "2024-11-15T00:50:46.304Z"
   },
   {
    "duration": 0,
    "start_time": "2024-11-15T00:50:46.305Z"
   },
   {
    "duration": 0,
    "start_time": "2024-11-15T00:50:46.306Z"
   },
   {
    "duration": 0,
    "start_time": "2024-11-15T00:50:46.310Z"
   },
   {
    "duration": 0,
    "start_time": "2024-11-15T00:50:46.311Z"
   },
   {
    "duration": 0,
    "start_time": "2024-11-15T00:50:46.313Z"
   },
   {
    "duration": 0,
    "start_time": "2024-11-15T00:50:46.315Z"
   },
   {
    "duration": 0,
    "start_time": "2024-11-15T00:50:46.316Z"
   },
   {
    "duration": 0,
    "start_time": "2024-11-15T00:50:46.318Z"
   },
   {
    "duration": 782,
    "start_time": "2024-11-15T00:50:48.116Z"
   },
   {
    "duration": 14,
    "start_time": "2024-11-15T00:50:48.900Z"
   },
   {
    "duration": 8,
    "start_time": "2024-11-15T00:50:48.916Z"
   },
   {
    "duration": 9,
    "start_time": "2024-11-15T00:50:48.926Z"
   },
   {
    "duration": 52,
    "start_time": "2024-11-15T00:50:48.938Z"
   },
   {
    "duration": 8,
    "start_time": "2024-11-15T00:50:48.992Z"
   },
   {
    "duration": 17,
    "start_time": "2024-11-15T00:50:49.002Z"
   },
   {
    "duration": 6,
    "start_time": "2024-11-15T00:50:49.021Z"
   },
   {
    "duration": 4,
    "start_time": "2024-11-15T00:50:49.028Z"
   },
   {
    "duration": 6,
    "start_time": "2024-11-15T00:50:49.071Z"
   },
   {
    "duration": 10,
    "start_time": "2024-11-15T00:50:49.079Z"
   },
   {
    "duration": 8,
    "start_time": "2024-11-15T00:50:49.091Z"
   },
   {
    "duration": 9,
    "start_time": "2024-11-15T00:50:49.100Z"
   },
   {
    "duration": 4,
    "start_time": "2024-11-15T00:50:49.111Z"
   },
   {
    "duration": 185,
    "start_time": "2024-11-15T00:50:49.116Z"
   },
   {
    "duration": 0,
    "start_time": "2024-11-15T00:50:49.304Z"
   },
   {
    "duration": 0,
    "start_time": "2024-11-15T00:50:49.305Z"
   },
   {
    "duration": 0,
    "start_time": "2024-11-15T00:50:49.307Z"
   },
   {
    "duration": 0,
    "start_time": "2024-11-15T00:50:49.309Z"
   },
   {
    "duration": 0,
    "start_time": "2024-11-15T00:50:49.310Z"
   },
   {
    "duration": 0,
    "start_time": "2024-11-15T00:50:49.311Z"
   },
   {
    "duration": 0,
    "start_time": "2024-11-15T00:50:49.312Z"
   },
   {
    "duration": 0,
    "start_time": "2024-11-15T00:50:49.313Z"
   },
   {
    "duration": 0,
    "start_time": "2024-11-15T00:50:49.314Z"
   },
   {
    "duration": 0,
    "start_time": "2024-11-15T00:50:49.315Z"
   },
   {
    "duration": 0,
    "start_time": "2024-11-15T00:50:49.316Z"
   },
   {
    "duration": 0,
    "start_time": "2024-11-15T00:50:49.317Z"
   },
   {
    "duration": 0,
    "start_time": "2024-11-15T00:50:49.319Z"
   },
   {
    "duration": 0,
    "start_time": "2024-11-15T00:50:49.320Z"
   },
   {
    "duration": 0,
    "start_time": "2024-11-15T00:50:49.321Z"
   },
   {
    "duration": 0,
    "start_time": "2024-11-15T00:50:49.322Z"
   },
   {
    "duration": 1,
    "start_time": "2024-11-15T00:50:49.323Z"
   },
   {
    "duration": 0,
    "start_time": "2024-11-15T00:50:49.327Z"
   },
   {
    "duration": 0,
    "start_time": "2024-11-15T00:50:49.329Z"
   },
   {
    "duration": 0,
    "start_time": "2024-11-15T00:50:49.369Z"
   },
   {
    "duration": 5,
    "start_time": "2024-11-15T00:51:47.813Z"
   },
   {
    "duration": 5,
    "start_time": "2024-11-15T00:51:48.256Z"
   },
   {
    "duration": 20222,
    "start_time": "2024-11-15T00:51:48.645Z"
   },
   {
    "duration": 3,
    "start_time": "2024-11-15T00:53:43.757Z"
   },
   {
    "duration": 517,
    "start_time": "2024-11-15T00:53:49.459Z"
   },
   {
    "duration": 15,
    "start_time": "2024-11-15T00:54:04.627Z"
   },
   {
    "duration": 2,
    "start_time": "2024-11-15T00:54:26.192Z"
   },
   {
    "duration": 18,
    "start_time": "2024-11-15T00:54:28.568Z"
   },
   {
    "duration": 19,
    "start_time": "2024-11-15T00:55:19.265Z"
   },
   {
    "duration": 6,
    "start_time": "2024-11-15T00:55:49.133Z"
   },
   {
    "duration": 0,
    "start_time": "2024-11-15T00:55:49.142Z"
   },
   {
    "duration": 0,
    "start_time": "2024-11-15T00:55:49.143Z"
   },
   {
    "duration": 0,
    "start_time": "2024-11-15T00:55:49.145Z"
   },
   {
    "duration": 0,
    "start_time": "2024-11-15T00:55:49.146Z"
   },
   {
    "duration": 0,
    "start_time": "2024-11-15T00:55:49.147Z"
   },
   {
    "duration": 0,
    "start_time": "2024-11-15T00:55:49.148Z"
   },
   {
    "duration": 172,
    "start_time": "2024-11-15T00:55:49.154Z"
   },
   {
    "duration": 0,
    "start_time": "2024-11-15T00:55:49.328Z"
   },
   {
    "duration": 0,
    "start_time": "2024-11-15T00:55:49.329Z"
   },
   {
    "duration": 0,
    "start_time": "2024-11-15T00:55:49.330Z"
   },
   {
    "duration": 0,
    "start_time": "2024-11-15T00:55:49.331Z"
   },
   {
    "duration": 0,
    "start_time": "2024-11-15T00:55:49.332Z"
   },
   {
    "duration": 0,
    "start_time": "2024-11-15T00:55:49.333Z"
   },
   {
    "duration": 0,
    "start_time": "2024-11-15T00:55:49.334Z"
   },
   {
    "duration": 0,
    "start_time": "2024-11-15T00:55:49.335Z"
   },
   {
    "duration": 0,
    "start_time": "2024-11-15T00:55:49.336Z"
   },
   {
    "duration": 0,
    "start_time": "2024-11-15T00:55:49.337Z"
   },
   {
    "duration": 0,
    "start_time": "2024-11-15T00:55:49.338Z"
   },
   {
    "duration": 0,
    "start_time": "2024-11-15T00:55:49.340Z"
   },
   {
    "duration": 0,
    "start_time": "2024-11-15T00:55:49.342Z"
   },
   {
    "duration": 0,
    "start_time": "2024-11-15T00:55:49.344Z"
   },
   {
    "duration": 0,
    "start_time": "2024-11-15T00:55:49.345Z"
   },
   {
    "duration": 0,
    "start_time": "2024-11-15T00:55:49.370Z"
   },
   {
    "duration": 0,
    "start_time": "2024-11-15T00:55:49.371Z"
   },
   {
    "duration": 0,
    "start_time": "2024-11-15T00:55:49.372Z"
   },
   {
    "duration": 0,
    "start_time": "2024-11-15T00:55:49.373Z"
   },
   {
    "duration": 0,
    "start_time": "2024-11-15T00:55:49.374Z"
   },
   {
    "duration": 0,
    "start_time": "2024-11-15T00:55:49.375Z"
   },
   {
    "duration": 0,
    "start_time": "2024-11-15T00:55:49.376Z"
   },
   {
    "duration": 0,
    "start_time": "2024-11-15T00:55:49.379Z"
   },
   {
    "duration": 0,
    "start_time": "2024-11-15T00:55:49.380Z"
   },
   {
    "duration": 0,
    "start_time": "2024-11-15T00:55:49.382Z"
   },
   {
    "duration": 0,
    "start_time": "2024-11-15T00:55:49.384Z"
   },
   {
    "duration": 7,
    "start_time": "2024-11-15T00:57:45.616Z"
   },
   {
    "duration": 0,
    "start_time": "2024-11-15T00:57:45.625Z"
   },
   {
    "duration": 0,
    "start_time": "2024-11-15T00:57:45.626Z"
   },
   {
    "duration": 0,
    "start_time": "2024-11-15T00:57:45.628Z"
   },
   {
    "duration": 0,
    "start_time": "2024-11-15T00:57:45.629Z"
   },
   {
    "duration": 0,
    "start_time": "2024-11-15T00:57:45.630Z"
   },
   {
    "duration": 159,
    "start_time": "2024-11-15T00:57:45.632Z"
   },
   {
    "duration": 0,
    "start_time": "2024-11-15T00:57:45.793Z"
   },
   {
    "duration": 0,
    "start_time": "2024-11-15T00:57:45.795Z"
   },
   {
    "duration": 0,
    "start_time": "2024-11-15T00:57:45.796Z"
   },
   {
    "duration": 0,
    "start_time": "2024-11-15T00:57:45.797Z"
   },
   {
    "duration": 0,
    "start_time": "2024-11-15T00:57:45.798Z"
   },
   {
    "duration": 0,
    "start_time": "2024-11-15T00:57:45.799Z"
   },
   {
    "duration": 0,
    "start_time": "2024-11-15T00:57:45.800Z"
   },
   {
    "duration": 0,
    "start_time": "2024-11-15T00:57:45.801Z"
   },
   {
    "duration": 0,
    "start_time": "2024-11-15T00:57:45.803Z"
   },
   {
    "duration": 0,
    "start_time": "2024-11-15T00:57:45.804Z"
   },
   {
    "duration": 0,
    "start_time": "2024-11-15T00:57:45.806Z"
   },
   {
    "duration": 0,
    "start_time": "2024-11-15T00:57:45.807Z"
   },
   {
    "duration": 0,
    "start_time": "2024-11-15T00:57:45.808Z"
   },
   {
    "duration": 0,
    "start_time": "2024-11-15T00:57:45.810Z"
   },
   {
    "duration": 0,
    "start_time": "2024-11-15T00:57:45.811Z"
   },
   {
    "duration": 0,
    "start_time": "2024-11-15T00:57:45.813Z"
   },
   {
    "duration": 0,
    "start_time": "2024-11-15T00:57:45.814Z"
   },
   {
    "duration": 0,
    "start_time": "2024-11-15T00:57:45.815Z"
   },
   {
    "duration": 0,
    "start_time": "2024-11-15T00:57:45.816Z"
   },
   {
    "duration": 0,
    "start_time": "2024-11-15T00:57:45.817Z"
   },
   {
    "duration": 0,
    "start_time": "2024-11-15T00:57:45.818Z"
   },
   {
    "duration": 0,
    "start_time": "2024-11-15T00:57:45.819Z"
   },
   {
    "duration": 0,
    "start_time": "2024-11-15T00:57:45.820Z"
   },
   {
    "duration": 0,
    "start_time": "2024-11-15T00:57:45.870Z"
   },
   {
    "duration": 0,
    "start_time": "2024-11-15T00:57:45.871Z"
   },
   {
    "duration": 0,
    "start_time": "2024-11-15T00:57:45.872Z"
   },
   {
    "duration": 1419,
    "start_time": "2024-11-15T00:58:44.104Z"
   },
   {
    "duration": 827,
    "start_time": "2024-11-15T00:58:46.175Z"
   },
   {
    "duration": 15,
    "start_time": "2024-11-15T00:58:47.004Z"
   },
   {
    "duration": 7,
    "start_time": "2024-11-15T00:58:47.021Z"
   },
   {
    "duration": 11,
    "start_time": "2024-11-15T00:58:47.030Z"
   },
   {
    "duration": 47,
    "start_time": "2024-11-15T00:58:47.042Z"
   },
   {
    "duration": 12,
    "start_time": "2024-11-15T00:58:47.156Z"
   },
   {
    "duration": 6,
    "start_time": "2024-11-15T00:58:47.705Z"
   },
   {
    "duration": 4,
    "start_time": "2024-11-15T00:58:47.737Z"
   },
   {
    "duration": 7,
    "start_time": "2024-11-15T00:58:48.883Z"
   },
   {
    "duration": 10,
    "start_time": "2024-11-15T00:58:49.341Z"
   },
   {
    "duration": 8,
    "start_time": "2024-11-15T00:58:49.920Z"
   },
   {
    "duration": 8,
    "start_time": "2024-11-15T00:58:50.053Z"
   },
   {
    "duration": 6,
    "start_time": "2024-11-15T00:58:50.235Z"
   },
   {
    "duration": 5,
    "start_time": "2024-11-15T00:58:50.609Z"
   },
   {
    "duration": 6,
    "start_time": "2024-11-15T00:58:50.629Z"
   },
   {
    "duration": 2,
    "start_time": "2024-11-15T00:58:50.790Z"
   },
   {
    "duration": 77,
    "start_time": "2024-11-15T00:58:51.967Z"
   },
   {
    "duration": 17,
    "start_time": "2024-11-15T00:59:14.947Z"
   },
   {
    "duration": 21123,
    "start_time": "2024-11-17T19:46:45.968Z"
   },
   {
    "duration": 799,
    "start_time": "2024-11-17T19:47:07.093Z"
   },
   {
    "duration": 21,
    "start_time": "2024-11-17T19:47:07.893Z"
   },
   {
    "duration": 8,
    "start_time": "2024-11-17T19:47:07.916Z"
   },
   {
    "duration": 9,
    "start_time": "2024-11-17T19:47:07.926Z"
   },
   {
    "duration": 36,
    "start_time": "2024-11-17T19:47:07.936Z"
   },
   {
    "duration": 9,
    "start_time": "2024-11-17T19:47:07.973Z"
   },
   {
    "duration": 5,
    "start_time": "2024-11-17T19:47:07.984Z"
   },
   {
    "duration": 4,
    "start_time": "2024-11-17T19:47:07.991Z"
   },
   {
    "duration": 6,
    "start_time": "2024-11-17T19:47:07.999Z"
   },
   {
    "duration": 9,
    "start_time": "2024-11-17T19:47:08.006Z"
   },
   {
    "duration": 7,
    "start_time": "2024-11-17T19:47:08.016Z"
   },
   {
    "duration": 50,
    "start_time": "2024-11-17T19:47:08.025Z"
   },
   {
    "duration": 7,
    "start_time": "2024-11-17T19:47:08.076Z"
   },
   {
    "duration": 4,
    "start_time": "2024-11-17T19:47:08.084Z"
   },
   {
    "duration": 5,
    "start_time": "2024-11-17T19:47:08.090Z"
   },
   {
    "duration": 2,
    "start_time": "2024-11-17T19:47:08.097Z"
   },
   {
    "duration": 18,
    "start_time": "2024-11-17T19:47:08.100Z"
   },
   {
    "duration": 3,
    "start_time": "2024-11-17T19:47:08.120Z"
   },
   {
    "duration": 46,
    "start_time": "2024-11-17T19:47:08.125Z"
   },
   {
    "duration": 5,
    "start_time": "2024-11-17T19:47:08.172Z"
   },
   {
    "duration": 5,
    "start_time": "2024-11-17T19:47:08.179Z"
   },
   {
    "duration": 3,
    "start_time": "2024-11-17T19:47:08.185Z"
   },
   {
    "duration": 4,
    "start_time": "2024-11-17T19:47:08.190Z"
   },
   {
    "duration": 3,
    "start_time": "2024-11-17T19:47:08.196Z"
   },
   {
    "duration": 2,
    "start_time": "2024-11-17T19:47:08.201Z"
   },
   {
    "duration": 3,
    "start_time": "2024-11-17T19:47:08.205Z"
   },
   {
    "duration": 186,
    "start_time": "2024-11-17T19:47:08.211Z"
   },
   {
    "duration": 0,
    "start_time": "2024-11-17T19:47:08.399Z"
   },
   {
    "duration": 0,
    "start_time": "2024-11-17T19:47:08.401Z"
   },
   {
    "duration": 0,
    "start_time": "2024-11-17T19:47:08.403Z"
   },
   {
    "duration": 0,
    "start_time": "2024-11-17T19:47:08.405Z"
   },
   {
    "duration": 9,
    "start_time": "2024-11-17T19:47:29.655Z"
   },
   {
    "duration": 8,
    "start_time": "2024-11-17T19:47:35.288Z"
   },
   {
    "duration": 3,
    "start_time": "2024-11-17T19:47:56.024Z"
   },
   {
    "duration": 14,
    "start_time": "2024-11-17T19:47:59.103Z"
   },
   {
    "duration": 6,
    "start_time": "2024-11-17T19:48:01.429Z"
   },
   {
    "duration": 6,
    "start_time": "2024-11-17T19:48:09.406Z"
   },
   {
    "duration": 7,
    "start_time": "2024-11-17T19:48:22.957Z"
   },
   {
    "duration": 7,
    "start_time": "2024-11-17T19:48:26.431Z"
   },
   {
    "duration": 4,
    "start_time": "2024-11-17T19:48:53.835Z"
   },
   {
    "duration": 288,
    "start_time": "2024-11-17T19:49:51.186Z"
   },
   {
    "duration": 1475,
    "start_time": "2024-11-17T19:50:15.919Z"
   },
   {
    "duration": 2,
    "start_time": "2024-11-17T19:50:28.886Z"
   },
   {
    "duration": 128,
    "start_time": "2024-11-17T19:50:32.199Z"
   },
   {
    "duration": 6,
    "start_time": "2024-11-17T19:51:22.509Z"
   },
   {
    "duration": 73,
    "start_time": "2024-11-17T19:51:35.275Z"
   },
   {
    "duration": 5,
    "start_time": "2024-11-17T20:06:38.373Z"
   },
   {
    "duration": 4,
    "start_time": "2024-11-17T20:06:43.193Z"
   },
   {
    "duration": 6,
    "start_time": "2024-11-17T20:06:45.641Z"
   },
   {
    "duration": 16,
    "start_time": "2024-11-17T20:06:52.109Z"
   },
   {
    "duration": 38,
    "start_time": "2024-11-17T20:07:16.107Z"
   },
   {
    "duration": 32,
    "start_time": "2024-11-17T20:07:20.176Z"
   },
   {
    "duration": 33,
    "start_time": "2024-11-17T20:07:57.196Z"
   },
   {
    "duration": 56,
    "start_time": "2024-11-17T20:08:02.295Z"
   },
   {
    "duration": 3,
    "start_time": "2024-11-17T20:23:30.167Z"
   },
   {
    "duration": 6,
    "start_time": "2024-11-17T20:26:12.084Z"
   },
   {
    "duration": 2,
    "start_time": "2024-11-17T20:31:32.131Z"
   },
   {
    "duration": 31,
    "start_time": "2024-11-17T20:32:57.241Z"
   },
   {
    "duration": 31,
    "start_time": "2024-11-17T20:33:08.300Z"
   },
   {
    "duration": 2,
    "start_time": "2024-11-17T20:33:45.774Z"
   },
   {
    "duration": 3,
    "start_time": "2024-11-17T20:33:49.078Z"
   },
   {
    "duration": 17,
    "start_time": "2024-11-17T20:34:12.651Z"
   },
   {
    "duration": 29,
    "start_time": "2024-11-17T20:34:19.740Z"
   },
   {
    "duration": 408,
    "start_time": "2024-11-17T20:34:51.883Z"
   },
   {
    "duration": 16,
    "start_time": "2024-11-17T20:36:04.262Z"
   },
   {
    "duration": 4,
    "start_time": "2024-11-17T20:36:33.407Z"
   },
   {
    "duration": 31,
    "start_time": "2024-11-17T20:36:42.805Z"
   },
   {
    "duration": 4,
    "start_time": "2024-11-17T20:39:12.881Z"
   },
   {
    "duration": 3,
    "start_time": "2024-11-17T20:43:02.177Z"
   },
   {
    "duration": 18,
    "start_time": "2024-11-17T20:43:04.537Z"
   },
   {
    "duration": 31,
    "start_time": "2024-11-17T20:43:13.515Z"
   },
   {
    "duration": 6,
    "start_time": "2024-11-17T20:43:28.174Z"
   },
   {
    "duration": 3,
    "start_time": "2024-11-17T20:45:11.366Z"
   },
   {
    "duration": 4,
    "start_time": "2024-11-17T20:45:14.632Z"
   },
   {
    "duration": 18,
    "start_time": "2024-11-17T20:45:17.297Z"
   },
   {
    "duration": 10,
    "start_time": "2024-11-17T20:45:22.302Z"
   },
   {
    "duration": 8,
    "start_time": "2024-11-17T20:45:25.303Z"
   },
   {
    "duration": 33,
    "start_time": "2024-11-17T20:45:30.749Z"
   },
   {
    "duration": 4,
    "start_time": "2024-11-17T20:45:40.507Z"
   },
   {
    "duration": 47,
    "start_time": "2024-11-17T20:47:16.888Z"
   },
   {
    "duration": 15,
    "start_time": "2024-11-17T20:48:20.122Z"
   },
   {
    "duration": 3,
    "start_time": "2024-11-17T20:48:50.214Z"
   },
   {
    "duration": 14,
    "start_time": "2024-11-17T20:50:11.854Z"
   },
   {
    "duration": 33,
    "start_time": "2024-11-17T20:50:17.598Z"
   },
   {
    "duration": 36,
    "start_time": "2024-11-17T21:01:10.254Z"
   },
   {
    "duration": 4,
    "start_time": "2024-11-17T21:02:02.799Z"
   },
   {
    "duration": 2309,
    "start_time": "2024-11-17T21:02:15.353Z"
   },
   {
    "duration": 157,
    "start_time": "2024-11-17T22:29:42.315Z"
   },
   {
    "duration": 649,
    "start_time": "2024-11-17T22:30:12.028Z"
   },
   {
    "duration": 197,
    "start_time": "2024-11-17T22:31:06.994Z"
   },
   {
    "duration": 41,
    "start_time": "2024-11-17T22:32:58.803Z"
   },
   {
    "duration": 21,
    "start_time": "2024-11-17T22:33:13.058Z"
   },
   {
    "duration": 2056,
    "start_time": "2024-11-17T22:33:20.315Z"
   },
   {
    "duration": 124,
    "start_time": "2024-11-17T22:33:29.371Z"
   },
   {
    "duration": 21015,
    "start_time": "2024-11-18T18:20:26.507Z"
   },
   {
    "duration": 754,
    "start_time": "2024-11-18T18:20:47.524Z"
   },
   {
    "duration": 24,
    "start_time": "2024-11-18T18:20:48.280Z"
   },
   {
    "duration": 7,
    "start_time": "2024-11-18T18:20:48.307Z"
   },
   {
    "duration": 10,
    "start_time": "2024-11-18T18:20:48.316Z"
   },
   {
    "duration": 32,
    "start_time": "2024-11-18T18:20:48.329Z"
   },
   {
    "duration": 9,
    "start_time": "2024-11-18T18:20:48.363Z"
   },
   {
    "duration": 5,
    "start_time": "2024-11-18T18:20:48.374Z"
   },
   {
    "duration": 4,
    "start_time": "2024-11-18T18:20:48.380Z"
   },
   {
    "duration": 5,
    "start_time": "2024-11-18T18:20:48.387Z"
   },
   {
    "duration": 9,
    "start_time": "2024-11-18T18:20:48.394Z"
   },
   {
    "duration": 41,
    "start_time": "2024-11-18T18:20:48.405Z"
   },
   {
    "duration": 7,
    "start_time": "2024-11-18T18:20:48.448Z"
   },
   {
    "duration": 7,
    "start_time": "2024-11-18T18:20:48.456Z"
   },
   {
    "duration": 4,
    "start_time": "2024-11-18T18:20:48.465Z"
   },
   {
    "duration": 5,
    "start_time": "2024-11-18T18:20:48.471Z"
   },
   {
    "duration": 3,
    "start_time": "2024-11-18T18:20:48.478Z"
   },
   {
    "duration": 19,
    "start_time": "2024-11-18T18:20:48.483Z"
   },
   {
    "duration": 40,
    "start_time": "2024-11-18T18:20:48.504Z"
   },
   {
    "duration": 10,
    "start_time": "2024-11-18T18:20:48.546Z"
   },
   {
    "duration": 5,
    "start_time": "2024-11-18T18:20:48.558Z"
   },
   {
    "duration": 4,
    "start_time": "2024-11-18T18:20:48.564Z"
   },
   {
    "duration": 3,
    "start_time": "2024-11-18T18:20:48.570Z"
   },
   {
    "duration": 4,
    "start_time": "2024-11-18T18:20:48.575Z"
   },
   {
    "duration": 4,
    "start_time": "2024-11-18T18:20:48.581Z"
   },
   {
    "duration": 3,
    "start_time": "2024-11-18T18:20:48.586Z"
   },
   {
    "duration": 192,
    "start_time": "2024-11-18T18:20:48.591Z"
   },
   {
    "duration": 0,
    "start_time": "2024-11-18T18:20:48.785Z"
   },
   {
    "duration": 0,
    "start_time": "2024-11-18T18:20:48.787Z"
   },
   {
    "duration": 0,
    "start_time": "2024-11-18T18:20:48.788Z"
   },
   {
    "duration": 0,
    "start_time": "2024-11-18T18:20:48.790Z"
   },
   {
    "duration": 0,
    "start_time": "2024-11-18T18:20:48.791Z"
   },
   {
    "duration": 18,
    "start_time": "2024-11-18T18:22:01.914Z"
   },
   {
    "duration": 16,
    "start_time": "2024-11-18T18:22:14.074Z"
   },
   {
    "duration": 1411,
    "start_time": "2024-11-18T18:22:36.902Z"
   },
   {
    "duration": 3,
    "start_time": "2024-11-18T18:22:38.315Z"
   },
   {
    "duration": 17,
    "start_time": "2024-11-18T18:22:38.320Z"
   },
   {
    "duration": 7,
    "start_time": "2024-11-18T18:22:38.340Z"
   },
   {
    "duration": 10,
    "start_time": "2024-11-18T18:22:38.348Z"
   },
   {
    "duration": 24,
    "start_time": "2024-11-18T18:22:38.360Z"
   },
   {
    "duration": 9,
    "start_time": "2024-11-18T18:22:38.385Z"
   },
   {
    "duration": 5,
    "start_time": "2024-11-18T18:22:38.397Z"
   },
   {
    "duration": 4,
    "start_time": "2024-11-18T18:22:38.404Z"
   },
   {
    "duration": 8,
    "start_time": "2024-11-18T18:22:38.442Z"
   },
   {
    "duration": 11,
    "start_time": "2024-11-18T18:22:38.452Z"
   },
   {
    "duration": 10,
    "start_time": "2024-11-18T18:22:38.465Z"
   },
   {
    "duration": 7,
    "start_time": "2024-11-18T18:22:38.477Z"
   },
   {
    "duration": 4,
    "start_time": "2024-11-18T18:22:38.486Z"
   },
   {
    "duration": 4,
    "start_time": "2024-11-18T18:22:38.492Z"
   },
   {
    "duration": 46,
    "start_time": "2024-11-18T18:22:38.498Z"
   },
   {
    "duration": 3,
    "start_time": "2024-11-18T18:22:38.547Z"
   },
   {
    "duration": 18,
    "start_time": "2024-11-18T18:22:38.553Z"
   },
   {
    "duration": 4,
    "start_time": "2024-11-18T18:22:38.573Z"
   },
   {
    "duration": 9,
    "start_time": "2024-11-18T18:22:38.579Z"
   },
   {
    "duration": 6,
    "start_time": "2024-11-18T18:22:38.590Z"
   },
   {
    "duration": 3,
    "start_time": "2024-11-18T18:22:38.598Z"
   },
   {
    "duration": 40,
    "start_time": "2024-11-18T18:22:38.603Z"
   },
   {
    "duration": 4,
    "start_time": "2024-11-18T18:22:38.645Z"
   },
   {
    "duration": 3,
    "start_time": "2024-11-18T18:22:38.651Z"
   },
   {
    "duration": 3,
    "start_time": "2024-11-18T18:22:38.656Z"
   },
   {
    "duration": 33,
    "start_time": "2024-11-18T18:22:38.661Z"
   },
   {
    "duration": 0,
    "start_time": "2024-11-18T18:22:38.696Z"
   },
   {
    "duration": 0,
    "start_time": "2024-11-18T18:22:38.698Z"
   },
   {
    "duration": 0,
    "start_time": "2024-11-18T18:22:38.700Z"
   },
   {
    "duration": 0,
    "start_time": "2024-11-18T18:22:38.701Z"
   },
   {
    "duration": 0,
    "start_time": "2024-11-18T18:22:38.703Z"
   },
   {
    "duration": 17,
    "start_time": "2024-11-18T18:23:17.776Z"
   },
   {
    "duration": 5,
    "start_time": "2024-11-18T18:23:25.568Z"
   },
   {
    "duration": 13,
    "start_time": "2024-11-18T18:23:28.100Z"
   },
   {
    "duration": 21,
    "start_time": "2024-11-18T18:23:38.396Z"
   },
   {
    "duration": 12,
    "start_time": "2024-11-18T18:23:40.675Z"
   },
   {
    "duration": 106,
    "start_time": "2024-11-18T18:23:53.092Z"
   },
   {
    "duration": 13,
    "start_time": "2024-11-18T18:23:57.440Z"
   },
   {
    "duration": 18,
    "start_time": "2024-11-18T18:24:40.103Z"
   },
   {
    "duration": 5,
    "start_time": "2024-11-18T18:25:31.299Z"
   },
   {
    "duration": 11,
    "start_time": "2024-11-18T18:25:32.146Z"
   },
   {
    "duration": 6,
    "start_time": "2024-11-18T18:25:33.263Z"
   },
   {
    "duration": 3,
    "start_time": "2024-11-18T18:25:33.899Z"
   },
   {
    "duration": 5,
    "start_time": "2024-11-18T18:25:34.368Z"
   },
   {
    "duration": 5,
    "start_time": "2024-11-18T18:25:34.706Z"
   },
   {
    "duration": 4,
    "start_time": "2024-11-18T18:25:35.092Z"
   },
   {
    "duration": 3,
    "start_time": "2024-11-18T18:25:37.509Z"
   },
   {
    "duration": 33,
    "start_time": "2024-11-18T18:25:38.655Z"
   },
   {
    "duration": 4,
    "start_time": "2024-11-18T18:26:06.339Z"
   },
   {
    "duration": 16,
    "start_time": "2024-11-18T18:26:06.703Z"
   },
   {
    "duration": 9,
    "start_time": "2024-11-18T18:26:07.004Z"
   },
   {
    "duration": 13,
    "start_time": "2024-11-18T18:26:07.174Z"
   },
   {
    "duration": 27,
    "start_time": "2024-11-18T18:26:07.354Z"
   },
   {
    "duration": 11,
    "start_time": "2024-11-18T18:26:07.711Z"
   },
   {
    "duration": 6,
    "start_time": "2024-11-18T18:26:08.088Z"
   },
   {
    "duration": 4,
    "start_time": "2024-11-18T18:26:08.441Z"
   },
   {
    "duration": 7,
    "start_time": "2024-11-18T18:26:09.647Z"
   },
   {
    "duration": 12,
    "start_time": "2024-11-18T18:26:10.340Z"
   },
   {
    "duration": 10,
    "start_time": "2024-11-18T18:26:44.218Z"
   },
   {
    "duration": 9,
    "start_time": "2024-11-18T18:26:44.450Z"
   },
   {
    "duration": 6,
    "start_time": "2024-11-18T18:26:45.252Z"
   },
   {
    "duration": 5,
    "start_time": "2024-11-18T18:26:46.516Z"
   },
   {
    "duration": 18,
    "start_time": "2024-11-18T18:26:58.656Z"
   },
   {
    "duration": 18,
    "start_time": "2024-11-18T18:27:08.534Z"
   },
   {
    "duration": 19,
    "start_time": "2024-11-18T18:27:36.416Z"
   },
   {
    "duration": 477,
    "start_time": "2024-11-18T18:27:43.473Z"
   },
   {
    "duration": 10,
    "start_time": "2024-11-18T18:27:52.703Z"
   },
   {
    "duration": 9,
    "start_time": "2024-11-18T18:28:43.479Z"
   },
   {
    "duration": 11,
    "start_time": "2024-11-18T18:28:56.081Z"
   },
   {
    "duration": 21,
    "start_time": "2024-11-18T18:29:30.260Z"
   },
   {
    "duration": 9,
    "start_time": "2024-11-18T18:29:47.285Z"
   },
   {
    "duration": 4,
    "start_time": "2024-11-18T18:30:19.463Z"
   },
   {
    "duration": 4,
    "start_time": "2024-11-18T18:30:23.122Z"
   },
   {
    "duration": 7,
    "start_time": "2024-11-18T18:30:27.028Z"
   },
   {
    "duration": 14,
    "start_time": "2024-11-18T18:30:33.390Z"
   },
   {
    "duration": 11,
    "start_time": "2024-11-18T18:30:40.954Z"
   },
   {
    "duration": 399,
    "start_time": "2024-11-18T18:31:42.558Z"
   },
   {
    "duration": 17,
    "start_time": "2024-11-18T18:31:54.690Z"
   },
   {
    "duration": 16,
    "start_time": "2024-11-18T18:32:11.110Z"
   },
   {
    "duration": 11,
    "start_time": "2024-11-18T18:32:52.484Z"
   },
   {
    "duration": 17,
    "start_time": "2024-11-18T18:32:59.461Z"
   },
   {
    "duration": 26,
    "start_time": "2024-11-18T18:33:33.276Z"
   },
   {
    "duration": 19795,
    "start_time": "2024-11-22T04:17:43.730Z"
   },
   {
    "duration": 773,
    "start_time": "2024-11-22T04:18:03.527Z"
   },
   {
    "duration": 29,
    "start_time": "2024-11-22T04:18:04.301Z"
   },
   {
    "duration": 7,
    "start_time": "2024-11-22T04:18:04.333Z"
   },
   {
    "duration": 10,
    "start_time": "2024-11-22T04:18:04.342Z"
   },
   {
    "duration": 32,
    "start_time": "2024-11-22T04:18:04.353Z"
   },
   {
    "duration": 9,
    "start_time": "2024-11-22T04:18:04.387Z"
   },
   {
    "duration": 5,
    "start_time": "2024-11-22T04:18:04.398Z"
   },
   {
    "duration": 5,
    "start_time": "2024-11-22T04:18:04.405Z"
   },
   {
    "duration": 5,
    "start_time": "2024-11-22T04:18:04.413Z"
   },
   {
    "duration": 9,
    "start_time": "2024-11-22T04:18:04.419Z"
   },
   {
    "duration": 41,
    "start_time": "2024-11-22T04:18:04.429Z"
   },
   {
    "duration": 8,
    "start_time": "2024-11-22T04:18:04.471Z"
   },
   {
    "duration": 17,
    "start_time": "2024-11-22T04:18:04.480Z"
   },
   {
    "duration": 4,
    "start_time": "2024-11-22T04:18:04.499Z"
   },
   {
    "duration": 4,
    "start_time": "2024-11-22T04:18:04.505Z"
   },
   {
    "duration": 5,
    "start_time": "2024-11-22T04:18:04.510Z"
   },
   {
    "duration": 3,
    "start_time": "2024-11-22T04:18:04.517Z"
   },
   {
    "duration": 58,
    "start_time": "2024-11-22T04:18:04.522Z"
   },
   {
    "duration": 16,
    "start_time": "2024-11-22T04:18:04.582Z"
   },
   {
    "duration": 4,
    "start_time": "2024-11-22T04:18:04.599Z"
   },
   {
    "duration": 9,
    "start_time": "2024-11-22T04:18:04.605Z"
   },
   {
    "duration": 5,
    "start_time": "2024-11-22T04:18:04.615Z"
   },
   {
    "duration": 4,
    "start_time": "2024-11-22T04:18:04.622Z"
   },
   {
    "duration": 3,
    "start_time": "2024-11-22T04:18:04.628Z"
   },
   {
    "duration": 39,
    "start_time": "2024-11-22T04:18:04.633Z"
   },
   {
    "duration": 3,
    "start_time": "2024-11-22T04:18:04.674Z"
   },
   {
    "duration": 2,
    "start_time": "2024-11-22T04:18:04.681Z"
   },
   {
    "duration": 171,
    "start_time": "2024-11-22T04:18:04.684Z"
   },
   {
    "duration": 0,
    "start_time": "2024-11-22T04:18:04.856Z"
   },
   {
    "duration": 0,
    "start_time": "2024-11-22T04:18:04.858Z"
   },
   {
    "duration": 0,
    "start_time": "2024-11-22T04:18:04.859Z"
   },
   {
    "duration": 0,
    "start_time": "2024-11-22T04:18:04.869Z"
   },
   {
    "duration": 0,
    "start_time": "2024-11-22T04:18:04.870Z"
   },
   {
    "duration": 4,
    "start_time": "2024-11-22T04:36:21.061Z"
   },
   {
    "duration": 107,
    "start_time": "2024-11-22T04:38:45.408Z"
   },
   {
    "duration": 7,
    "start_time": "2024-11-22T04:39:00.142Z"
   },
   {
    "duration": 313,
    "start_time": "2024-11-22T04:39:04.402Z"
   },
   {
    "duration": 140,
    "start_time": "2024-11-22T04:41:02.131Z"
   },
   {
    "duration": 3,
    "start_time": "2024-11-22T04:42:38.191Z"
   },
   {
    "duration": 6,
    "start_time": "2024-11-22T04:42:50.133Z"
   },
   {
    "duration": 9,
    "start_time": "2024-11-22T04:42:56.545Z"
   },
   {
    "duration": 5,
    "start_time": "2024-11-22T04:43:00.383Z"
   },
   {
    "duration": 9,
    "start_time": "2024-11-22T04:43:04.628Z"
   },
   {
    "duration": 7,
    "start_time": "2024-11-22T04:43:14.701Z"
   },
   {
    "duration": 4,
    "start_time": "2024-11-22T04:43:20.984Z"
   },
   {
    "duration": 8,
    "start_time": "2024-11-22T04:43:32.156Z"
   },
   {
    "duration": 4,
    "start_time": "2024-11-22T04:43:39.782Z"
   },
   {
    "duration": 8,
    "start_time": "2024-11-22T04:43:52.755Z"
   },
   {
    "duration": 36,
    "start_time": "2024-11-22T04:43:55.640Z"
   },
   {
    "duration": 3,
    "start_time": "2024-11-22T04:46:55.015Z"
   },
   {
    "duration": 540,
    "start_time": "2024-11-22T04:47:21.790Z"
   },
   {
    "duration": 46,
    "start_time": "2024-11-22T04:47:58.092Z"
   },
   {
    "duration": 8,
    "start_time": "2024-11-22T04:50:24.771Z"
   },
   {
    "duration": 33,
    "start_time": "2024-11-22T04:50:30.615Z"
   },
   {
    "duration": 46,
    "start_time": "2024-11-22T04:52:02.180Z"
   },
   {
    "duration": 6,
    "start_time": "2024-11-22T04:53:08.969Z"
   },
   {
    "duration": 8,
    "start_time": "2024-11-22T04:53:31.885Z"
   },
   {
    "duration": 47,
    "start_time": "2024-11-22T04:53:36.579Z"
   },
   {
    "duration": 7,
    "start_time": "2024-11-22T04:55:22.117Z"
   },
   {
    "duration": 3,
    "start_time": "2024-11-22T04:55:35.728Z"
   },
   {
    "duration": 34,
    "start_time": "2024-11-22T04:55:41.147Z"
   },
   {
    "duration": 33,
    "start_time": "2024-11-22T04:55:50.008Z"
   },
   {
    "duration": 3,
    "start_time": "2024-11-22T04:58:00.156Z"
   },
   {
    "duration": 33,
    "start_time": "2024-11-22T05:00:51.144Z"
   },
   {
    "duration": 12,
    "start_time": "2024-11-22T05:02:36.457Z"
   },
   {
    "duration": 3,
    "start_time": "2024-11-22T05:03:36.159Z"
   },
   {
    "duration": 435,
    "start_time": "2024-11-22T05:03:52.293Z"
   },
   {
    "duration": 11,
    "start_time": "2024-11-22T05:04:25.869Z"
   },
   {
    "duration": 3,
    "start_time": "2024-11-22T05:05:24.469Z"
   },
   {
    "duration": 7,
    "start_time": "2024-11-22T05:06:19.308Z"
   },
   {
    "duration": 5,
    "start_time": "2024-11-22T05:06:44.862Z"
   },
   {
    "duration": 35,
    "start_time": "2024-11-22T05:06:53.069Z"
   },
   {
    "duration": 757,
    "start_time": "2024-11-23T02:28:09.564Z"
   },
   {
    "duration": 20,
    "start_time": "2024-11-23T02:28:10.324Z"
   },
   {
    "duration": 7,
    "start_time": "2024-11-23T02:28:10.515Z"
   },
   {
    "duration": 9,
    "start_time": "2024-11-23T02:28:10.674Z"
   },
   {
    "duration": 22,
    "start_time": "2024-11-23T02:28:10.827Z"
   },
   {
    "duration": 8,
    "start_time": "2024-11-23T02:28:11.144Z"
   },
   {
    "duration": 5,
    "start_time": "2024-11-23T02:28:11.473Z"
   },
   {
    "duration": 6,
    "start_time": "2024-11-23T02:28:11.807Z"
   },
   {
    "duration": 6,
    "start_time": "2024-11-23T02:28:12.681Z"
   },
   {
    "duration": 10,
    "start_time": "2024-11-23T02:28:13.430Z"
   },
   {
    "duration": 7,
    "start_time": "2024-11-23T02:28:14.445Z"
   },
   {
    "duration": 8,
    "start_time": "2024-11-23T02:28:14.727Z"
   },
   {
    "duration": 17,
    "start_time": "2024-11-23T02:28:14.996Z"
   },
   {
    "duration": 4,
    "start_time": "2024-11-23T02:28:15.226Z"
   },
   {
    "duration": 4,
    "start_time": "2024-11-23T02:28:15.509Z"
   },
   {
    "duration": 5,
    "start_time": "2024-11-23T02:28:15.762Z"
   },
   {
    "duration": 213,
    "start_time": "2024-11-23T02:28:16.033Z"
   },
   {
    "duration": 12,
    "start_time": "2024-11-23T02:28:16.266Z"
   },
   {
    "duration": 11,
    "start_time": "2024-11-23T02:28:16.557Z"
   },
   {
    "duration": 13,
    "start_time": "2024-11-23T02:28:16.629Z"
   },
   {
    "duration": 15,
    "start_time": "2024-11-23T02:28:16.806Z"
   },
   {
    "duration": 19,
    "start_time": "2024-11-23T02:28:17.005Z"
   },
   {
    "duration": 4,
    "start_time": "2024-11-23T02:28:17.667Z"
   },
   {
    "duration": 30,
    "start_time": "2024-11-23T02:28:18.123Z"
   },
   {
    "duration": 5,
    "start_time": "2024-11-23T02:28:18.372Z"
   },
   {
    "duration": 4,
    "start_time": "2024-11-23T02:28:18.591Z"
   },
   {
    "duration": 4,
    "start_time": "2024-11-23T02:28:18.790Z"
   },
   {
    "duration": 4,
    "start_time": "2024-11-23T02:28:19.016Z"
   },
   {
    "duration": 3,
    "start_time": "2024-11-23T02:28:19.252Z"
   },
   {
    "duration": 2,
    "start_time": "2024-11-23T02:28:19.443Z"
   },
   {
    "duration": 31,
    "start_time": "2024-11-23T02:28:19.834Z"
   },
   {
    "duration": 13,
    "start_time": "2024-11-23T02:28:20.038Z"
   },
   {
    "duration": 5670,
    "start_time": "2024-11-23T02:28:20.247Z"
   },
   {
    "duration": 0,
    "start_time": "2024-11-23T02:28:25.919Z"
   },
   {
    "duration": 0,
    "start_time": "2024-11-23T02:28:25.919Z"
   },
   {
    "duration": 0,
    "start_time": "2024-11-23T02:28:25.921Z"
   },
   {
    "duration": 9,
    "start_time": "2024-11-23T02:29:38.565Z"
   },
   {
    "duration": 8,
    "start_time": "2024-11-23T02:29:56.553Z"
   },
   {
    "duration": 15,
    "start_time": "2024-11-23T02:29:58.452Z"
   },
   {
    "duration": 18,
    "start_time": "2024-11-23T02:34:55.222Z"
   },
   {
    "duration": 3,
    "start_time": "2024-11-23T02:35:21.695Z"
   },
   {
    "duration": 13,
    "start_time": "2024-11-23T02:35:22.035Z"
   },
   {
    "duration": 6,
    "start_time": "2024-11-23T02:35:22.359Z"
   },
   {
    "duration": 10,
    "start_time": "2024-11-23T02:35:22.551Z"
   },
   {
    "duration": 24,
    "start_time": "2024-11-23T02:35:22.725Z"
   },
   {
    "duration": 11,
    "start_time": "2024-11-23T02:35:23.117Z"
   },
   {
    "duration": 5,
    "start_time": "2024-11-23T02:35:23.456Z"
   },
   {
    "duration": 4,
    "start_time": "2024-11-23T02:35:24.083Z"
   },
   {
    "duration": 6,
    "start_time": "2024-11-23T02:35:25.720Z"
   },
   {
    "duration": 9,
    "start_time": "2024-11-23T02:35:27.905Z"
   },
   {
    "duration": 17,
    "start_time": "2024-11-23T02:35:31.018Z"
   },
   {
    "duration": 4,
    "start_time": "2024-11-23T02:35:40.487Z"
   },
   {
    "duration": 9,
    "start_time": "2024-11-23T02:40:59.843Z"
   },
   {
    "duration": 18,
    "start_time": "2024-11-23T02:41:06.630Z"
   },
   {
    "duration": 770,
    "start_time": "2024-11-23T02:42:05.358Z"
   },
   {
    "duration": 3,
    "start_time": "2024-11-23T02:42:14.200Z"
   },
   {
    "duration": 13,
    "start_time": "2024-11-23T02:42:14.502Z"
   },
   {
    "duration": 6,
    "start_time": "2024-11-23T02:42:14.811Z"
   },
   {
    "duration": 9,
    "start_time": "2024-11-23T02:42:14.954Z"
   },
   {
    "duration": 23,
    "start_time": "2024-11-23T02:42:15.101Z"
   },
   {
    "duration": 9,
    "start_time": "2024-11-23T02:42:15.400Z"
   },
   {
    "duration": 4,
    "start_time": "2024-11-23T02:42:15.551Z"
   },
   {
    "duration": 4,
    "start_time": "2024-11-23T02:42:16.076Z"
   },
   {
    "duration": 6,
    "start_time": "2024-11-23T02:42:17.657Z"
   },
   {
    "duration": 10,
    "start_time": "2024-11-23T02:42:19.000Z"
   },
   {
    "duration": 7,
    "start_time": "2024-11-23T02:42:20.482Z"
   },
   {
    "duration": 14,
    "start_time": "2024-11-23T02:42:24.899Z"
   },
   {
    "duration": 3,
    "start_time": "2024-11-23T02:43:26.527Z"
   },
   {
    "duration": 13,
    "start_time": "2024-11-23T02:43:26.846Z"
   },
   {
    "duration": 6,
    "start_time": "2024-11-23T02:43:27.185Z"
   },
   {
    "duration": 8,
    "start_time": "2024-11-23T02:43:27.341Z"
   },
   {
    "duration": 21,
    "start_time": "2024-11-23T02:43:27.502Z"
   },
   {
    "duration": 9,
    "start_time": "2024-11-23T02:43:28.133Z"
   },
   {
    "duration": 6,
    "start_time": "2024-11-23T02:43:28.692Z"
   },
   {
    "duration": 4,
    "start_time": "2024-11-23T02:43:29.720Z"
   },
   {
    "duration": 6,
    "start_time": "2024-11-23T02:43:30.841Z"
   },
   {
    "duration": 8,
    "start_time": "2024-11-23T02:43:31.605Z"
   },
   {
    "duration": 46,
    "start_time": "2024-11-23T02:43:32.640Z"
   },
   {
    "duration": 3,
    "start_time": "2024-11-23T02:43:47.926Z"
   },
   {
    "duration": 13,
    "start_time": "2024-11-23T02:43:48.228Z"
   },
   {
    "duration": 7,
    "start_time": "2024-11-23T02:43:48.526Z"
   },
   {
    "duration": 10,
    "start_time": "2024-11-23T02:43:48.697Z"
   },
   {
    "duration": 22,
    "start_time": "2024-11-23T02:43:48.853Z"
   },
   {
    "duration": 9,
    "start_time": "2024-11-23T02:43:49.304Z"
   },
   {
    "duration": 4,
    "start_time": "2024-11-23T02:43:49.536Z"
   },
   {
    "duration": 4,
    "start_time": "2024-11-23T02:43:50.796Z"
   },
   {
    "duration": 5,
    "start_time": "2024-11-23T02:43:52.303Z"
   },
   {
    "duration": 9,
    "start_time": "2024-11-23T02:43:53.552Z"
   },
   {
    "duration": 16,
    "start_time": "2024-11-23T02:44:00.108Z"
   },
   {
    "duration": 15,
    "start_time": "2024-11-23T02:44:35.397Z"
   },
   {
    "duration": 13,
    "start_time": "2024-11-23T02:45:04.897Z"
   },
   {
    "duration": 4,
    "start_time": "2024-11-23T02:45:18.079Z"
   },
   {
    "duration": 3,
    "start_time": "2024-11-23T02:51:11.905Z"
   },
   {
    "duration": 19101,
    "start_time": "2024-11-24T14:34:36.653Z"
   },
   {
    "duration": 811,
    "start_time": "2024-11-24T14:34:55.756Z"
   },
   {
    "duration": 28,
    "start_time": "2024-11-24T14:34:56.569Z"
   },
   {
    "duration": 8,
    "start_time": "2024-11-24T14:34:56.599Z"
   },
   {
    "duration": 10,
    "start_time": "2024-11-24T14:34:56.610Z"
   },
   {
    "duration": 22,
    "start_time": "2024-11-24T14:34:56.622Z"
   },
   {
    "duration": 9,
    "start_time": "2024-11-24T14:34:56.645Z"
   },
   {
    "duration": 6,
    "start_time": "2024-11-24T14:34:56.656Z"
   },
   {
    "duration": 4,
    "start_time": "2024-11-24T14:34:56.663Z"
   },
   {
    "duration": 4,
    "start_time": "2024-11-24T14:34:56.669Z"
   },
   {
    "duration": 10,
    "start_time": "2024-11-24T14:34:56.709Z"
   },
   {
    "duration": 8,
    "start_time": "2024-11-24T14:34:56.720Z"
   },
   {
    "duration": 7,
    "start_time": "2024-11-24T14:34:56.729Z"
   },
   {
    "duration": 6,
    "start_time": "2024-11-24T14:34:56.740Z"
   },
   {
    "duration": 4,
    "start_time": "2024-11-24T14:34:56.748Z"
   },
   {
    "duration": 4,
    "start_time": "2024-11-24T14:34:56.753Z"
   },
   {
    "duration": 4,
    "start_time": "2024-11-24T14:34:56.759Z"
   },
   {
    "duration": 52,
    "start_time": "2024-11-24T14:34:56.765Z"
   },
   {
    "duration": 230,
    "start_time": "2024-11-24T14:34:56.818Z"
   },
   {
    "duration": 0,
    "start_time": "2024-11-24T14:34:57.049Z"
   },
   {
    "duration": 0,
    "start_time": "2024-11-24T14:34:57.050Z"
   },
   {
    "duration": 0,
    "start_time": "2024-11-24T14:34:57.052Z"
   },
   {
    "duration": 0,
    "start_time": "2024-11-24T14:34:57.052Z"
   },
   {
    "duration": 0,
    "start_time": "2024-11-24T14:34:57.054Z"
   },
   {
    "duration": 0,
    "start_time": "2024-11-24T14:34:57.054Z"
   },
   {
    "duration": 0,
    "start_time": "2024-11-24T14:34:57.056Z"
   },
   {
    "duration": 0,
    "start_time": "2024-11-24T14:34:57.057Z"
   },
   {
    "duration": 0,
    "start_time": "2024-11-24T14:34:57.058Z"
   },
   {
    "duration": 0,
    "start_time": "2024-11-24T14:34:57.059Z"
   },
   {
    "duration": 0,
    "start_time": "2024-11-24T14:34:57.060Z"
   },
   {
    "duration": 0,
    "start_time": "2024-11-24T14:34:57.061Z"
   },
   {
    "duration": 0,
    "start_time": "2024-11-24T14:34:57.062Z"
   },
   {
    "duration": 0,
    "start_time": "2024-11-24T14:34:57.063Z"
   },
   {
    "duration": 0,
    "start_time": "2024-11-24T14:34:57.064Z"
   },
   {
    "duration": 0,
    "start_time": "2024-11-24T14:34:57.066Z"
   },
   {
    "duration": 0,
    "start_time": "2024-11-24T14:34:57.068Z"
   },
   {
    "duration": 1,
    "start_time": "2024-11-24T14:34:57.069Z"
   },
   {
    "duration": 1409,
    "start_time": "2024-11-24T14:43:42.012Z"
   },
   {
    "duration": 800,
    "start_time": "2024-11-24T14:43:43.423Z"
   },
   {
    "duration": 16,
    "start_time": "2024-11-24T14:43:44.225Z"
   },
   {
    "duration": 7,
    "start_time": "2024-11-24T14:43:44.243Z"
   },
   {
    "duration": 9,
    "start_time": "2024-11-24T14:43:44.251Z"
   },
   {
    "duration": 24,
    "start_time": "2024-11-24T14:43:44.262Z"
   },
   {
    "duration": 29,
    "start_time": "2024-11-24T14:43:44.287Z"
   },
   {
    "duration": 5,
    "start_time": "2024-11-24T14:43:44.318Z"
   },
   {
    "duration": 4,
    "start_time": "2024-11-24T14:43:44.324Z"
   },
   {
    "duration": 5,
    "start_time": "2024-11-24T14:43:44.332Z"
   },
   {
    "duration": 9,
    "start_time": "2024-11-24T14:43:44.339Z"
   },
   {
    "duration": 248,
    "start_time": "2024-11-24T14:43:44.349Z"
   },
   {
    "duration": 0,
    "start_time": "2024-11-24T14:43:44.600Z"
   },
   {
    "duration": 0,
    "start_time": "2024-11-24T14:43:44.608Z"
   },
   {
    "duration": 0,
    "start_time": "2024-11-24T14:43:44.609Z"
   },
   {
    "duration": 1,
    "start_time": "2024-11-24T14:43:44.610Z"
   },
   {
    "duration": 0,
    "start_time": "2024-11-24T14:43:44.612Z"
   },
   {
    "duration": 0,
    "start_time": "2024-11-24T14:43:44.614Z"
   },
   {
    "duration": 0,
    "start_time": "2024-11-24T14:43:44.615Z"
   },
   {
    "duration": 0,
    "start_time": "2024-11-24T14:43:44.617Z"
   },
   {
    "duration": 0,
    "start_time": "2024-11-24T14:43:44.618Z"
   },
   {
    "duration": 0,
    "start_time": "2024-11-24T14:43:44.620Z"
   },
   {
    "duration": 0,
    "start_time": "2024-11-24T14:43:44.621Z"
   },
   {
    "duration": 0,
    "start_time": "2024-11-24T14:43:44.622Z"
   },
   {
    "duration": 0,
    "start_time": "2024-11-24T14:43:44.623Z"
   },
   {
    "duration": 0,
    "start_time": "2024-11-24T14:43:44.625Z"
   },
   {
    "duration": 0,
    "start_time": "2024-11-24T14:43:44.626Z"
   },
   {
    "duration": 0,
    "start_time": "2024-11-24T14:43:44.628Z"
   },
   {
    "duration": 0,
    "start_time": "2024-11-24T14:43:44.629Z"
   },
   {
    "duration": 0,
    "start_time": "2024-11-24T14:43:44.630Z"
   },
   {
    "duration": 0,
    "start_time": "2024-11-24T14:43:44.631Z"
   },
   {
    "duration": 0,
    "start_time": "2024-11-24T14:43:44.632Z"
   },
   {
    "duration": 0,
    "start_time": "2024-11-24T14:43:44.633Z"
   },
   {
    "duration": 0,
    "start_time": "2024-11-24T14:43:44.634Z"
   },
   {
    "duration": 0,
    "start_time": "2024-11-24T14:43:44.635Z"
   },
   {
    "duration": 0,
    "start_time": "2024-11-24T14:43:44.636Z"
   },
   {
    "duration": 0,
    "start_time": "2024-11-24T14:43:44.637Z"
   },
   {
    "duration": 0,
    "start_time": "2024-11-24T14:43:44.638Z"
   },
   {
    "duration": 7,
    "start_time": "2024-11-24T14:44:08.749Z"
   },
   {
    "duration": 5,
    "start_time": "2024-11-24T14:44:23.321Z"
   },
   {
    "duration": 6,
    "start_time": "2024-11-24T14:45:28.849Z"
   },
   {
    "duration": 5,
    "start_time": "2024-11-24T14:45:47.298Z"
   },
   {
    "duration": 5,
    "start_time": "2024-11-24T14:46:42.516Z"
   },
   {
    "duration": 26,
    "start_time": "2024-11-24T14:46:53.049Z"
   },
   {
    "duration": 16,
    "start_time": "2024-11-24T14:47:37.231Z"
   },
   {
    "duration": 16,
    "start_time": "2024-11-24T14:47:57.243Z"
   },
   {
    "duration": 13,
    "start_time": "2024-11-24T14:48:28.572Z"
   }
  ],
  "colab": {
   "provenance": []
  },
  "kernelspec": {
   "display_name": "da",
   "language": "python",
   "name": "python3"
  },
  "language_info": {
   "codemirror_mode": {
    "name": "ipython",
    "version": 3
   },
   "file_extension": ".py",
   "mimetype": "text/x-python",
   "name": "python",
   "nbconvert_exporter": "python",
   "pygments_lexer": "ipython3",
   "version": "3.11.11"
  },
  "toc": {
   "base_numbering": 1,
   "nav_menu": {},
   "number_sections": true,
   "sideBar": true,
   "skip_h1_title": true,
   "title_cell": "Table of Contents",
   "title_sidebar": "Contents",
   "toc_cell": false,
   "toc_position": {
    "height": "calc(100% - 180px)",
    "left": "10px",
    "top": "150px",
    "width": "165px"
   },
   "toc_section_display": true,
   "toc_window_display": true
  }
 },
 "nbformat": 4,
 "nbformat_minor": 0
}
