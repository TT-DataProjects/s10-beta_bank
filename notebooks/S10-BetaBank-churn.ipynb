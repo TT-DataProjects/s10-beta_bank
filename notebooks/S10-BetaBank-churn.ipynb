{
 "cells": [
  {
   "cell_type": "markdown",
   "metadata": {},
   "source": [
    "### **Project Introduction**"
   ]
  },
  {
   "cell_type": "markdown",
   "metadata": {
    "id": "pUWzFPhlpuAt"
   },
   "source": [
    "Beta Bank is experiencing a steady churn of customers, impacting its profitability. Studies show it is more cost-effective to retain existing customers than to acquire new ones. The bank seeks to predict which customers are likely to leave, allowing them to launch targeted retention campaigns.\n",
    "\n",
    "**Objective**:  \n",
    "Develop a machine learning model to predict customer churn, enabling the implementation of an effective user retention program.\n"
   ]
  },
  {
   "cell_type": "markdown",
   "metadata": {},
   "source": [
    "### **Solution Plan**"
   ]
  },
  {
   "cell_type": "markdown",
   "metadata": {},
   "source": [
    "To address the problem, we will follow these steps:\n",
    "\n",
    "1. **Data Loading and Exploration**:  \n",
    "   - Load and examine the dataset to understand its structure, completeness, and characteristics.  \n",
    "   - Identify and address missing values, outliers, and irrelevant columns.  \n",
    "\n",
    "2. **Data Preprocessing**:  \n",
    "   - Encode categorical variables and handle missing values.  \n",
    "   - Address class imbalance to ensure better model performance.  \n",
    "\n",
    "3. **Model Development**:  \n",
    "   - Train and evaluate multiple machine learning models using performance metrics like F1 and AUC-ROC.  \n",
    "\n",
    "4. **Final Evaluation**:  \n",
    "   - Validate the best-performing model on a test set to ensure generalization."
   ]
  },
  {
   "cell_type": "code",
   "execution_count": 1,
   "metadata": {
    "id": "qHcxQ792puAu"
   },
   "outputs": [],
   "source": [
    "# General Libraries\n",
    "import sys\n",
    "import time\n",
    "from pathlib import Path\n",
    "from collections import Counter\n",
    "\n",
    "# Data Manipulation and Visualization\n",
    "import pandas as pd\n",
    "import numpy as np\n",
    "import matplotlib.pyplot as plt\n",
    "import seaborn as sns\n",
    "from IPython.display import display, Markdown\n",
    "\n",
    "# Scikit-Learn Libraries\n",
    "from sklearn.model_selection import train_test_split, RandomizedSearchCV\n",
    "from sklearn.tree import DecisionTreeClassifier\n",
    "from sklearn.metrics import (\n",
    "    accuracy_score, recall_score, roc_curve, precision_score, \n",
    "    f1_score, roc_auc_score, confusion_matrix, classification_report\n",
    ")\n",
    "from sklearn.experimental import enable_iterative_imputer\n",
    "from sklearn.impute import IterativeImputer, SimpleImputer\n",
    "\n",
    "# Imbalanced Learn Libraries\n",
    "from imblearn.combine import SMOTEENN\n",
    "\n",
    "# Lazy Predict Library\n",
    "from lazypredict.Supervised import LazyClassifier\n",
    "\n",
    "# LightGBM Library\n",
    "import lightgbm as lgb\n",
    "\n",
    "# Joblib for Model Persistence\n",
    "import joblib\n",
    "\n",
    "# Suppress warnings\n",
    "import warnings\n",
    "warnings.filterwarnings(\"ignore\", category=FutureWarning, module=\"sklearn\")\n",
    "\n",
    "# Set the root path\n",
    "root_path = Path.cwd().parent\n",
    "\n",
    "# Add the src directory to the system path\n",
    "sys.path.append(str(root_path / 'src'))\n",
    "\n",
    "# Import the custom ModelEvaluator class\n",
    "from Evaluator import ModelEvaluator\n",
    "\n",
    "# Set a random seed for reproducibility\n",
    "SEED = 42"
   ]
  },
  {
   "cell_type": "markdown",
   "metadata": {},
   "source": [
    "### **1. Loading and Exploring Data**"
   ]
  },
  {
   "cell_type": "markdown",
   "metadata": {},
   "source": [
    "#### Goals:\n",
    "- Understand the dataset structure and key characteristics.\n",
    "- Identify missing values and potential outliers.\n",
    "- Analyze the balance of the target variable (`Exited`).\n",
    "\n",
    "#### Steps:\n",
    "- Load the dataset using `pd.read_csv`.\n",
    "- Use `info()` and `describe()` to examine the structure and statistical properties of the data.\n",
    "- Check for missing values using `isna().sum()` and identify duplicates with `duplicated().sum()`.\n",
    "- Visualize the distribution of the target variable (`Exited`) to check for class imbalance."
   ]
  },
  {
   "cell_type": "code",
   "execution_count": 2,
   "metadata": {
    "id": "HJVqhZwVpuAu"
   },
   "outputs": [
    {
     "name": "stdout",
     "output_type": "stream",
     "text": [
      "Basic Information about the Dataset:\n",
      "<class 'pandas.core.frame.DataFrame'>\n",
      "RangeIndex: 10000 entries, 0 to 9999\n",
      "Data columns (total 14 columns):\n",
      " #   Column           Non-Null Count  Dtype  \n",
      "---  ------           --------------  -----  \n",
      " 0   RowNumber        10000 non-null  int64  \n",
      " 1   CustomerId       10000 non-null  int64  \n",
      " 2   Surname          10000 non-null  object \n",
      " 3   CreditScore      10000 non-null  int64  \n",
      " 4   Geography        10000 non-null  object \n",
      " 5   Gender           10000 non-null  int64  \n",
      " 6   Age              10000 non-null  int64  \n",
      " 7   Tenure           9091 non-null   float64\n",
      " 8   Balance          10000 non-null  float64\n",
      " 9   NumOfProducts    10000 non-null  int64  \n",
      " 10  HasCrCard        10000 non-null  int64  \n",
      " 11  IsActiveMember   10000 non-null  int64  \n",
      " 12  EstimatedSalary  10000 non-null  float64\n",
      " 13  Exited           10000 non-null  int64  \n",
      "dtypes: float64(3), int64(9), object(2)\n",
      "memory usage: 1.1+ MB\n"
     ]
    },
    {
     "data": {
      "text/plain": [
       "None"
      ]
     },
     "metadata": {},
     "output_type": "display_data"
    },
    {
     "data": {
      "text/html": [
       "<div>\n",
       "<style scoped>\n",
       "    .dataframe tbody tr th:only-of-type {\n",
       "        vertical-align: middle;\n",
       "    }\n",
       "\n",
       "    .dataframe tbody tr th {\n",
       "        vertical-align: top;\n",
       "    }\n",
       "\n",
       "    .dataframe thead th {\n",
       "        text-align: right;\n",
       "    }\n",
       "</style>\n",
       "<table border=\"1\" class=\"dataframe\">\n",
       "  <thead>\n",
       "    <tr style=\"text-align: right;\">\n",
       "      <th></th>\n",
       "      <th>RowNumber</th>\n",
       "      <th>CustomerId</th>\n",
       "      <th>CreditScore</th>\n",
       "      <th>Gender</th>\n",
       "      <th>Age</th>\n",
       "      <th>Tenure</th>\n",
       "      <th>Balance</th>\n",
       "      <th>NumOfProducts</th>\n",
       "      <th>HasCrCard</th>\n",
       "      <th>IsActiveMember</th>\n",
       "      <th>EstimatedSalary</th>\n",
       "      <th>Exited</th>\n",
       "    </tr>\n",
       "  </thead>\n",
       "  <tbody>\n",
       "    <tr>\n",
       "      <th>count</th>\n",
       "      <td>10000.00</td>\n",
       "      <td>10000.00</td>\n",
       "      <td>10000.00</td>\n",
       "      <td>10000.00</td>\n",
       "      <td>10000.00</td>\n",
       "      <td>9091.00</td>\n",
       "      <td>10000.00</td>\n",
       "      <td>10000.00</td>\n",
       "      <td>10000.00</td>\n",
       "      <td>10000.00</td>\n",
       "      <td>10000.00</td>\n",
       "      <td>10000.00</td>\n",
       "    </tr>\n",
       "    <tr>\n",
       "      <th>mean</th>\n",
       "      <td>5000.50</td>\n",
       "      <td>15690940.57</td>\n",
       "      <td>650.53</td>\n",
       "      <td>0.55</td>\n",
       "      <td>38.92</td>\n",
       "      <td>5.00</td>\n",
       "      <td>76485.89</td>\n",
       "      <td>1.53</td>\n",
       "      <td>0.71</td>\n",
       "      <td>0.52</td>\n",
       "      <td>100090.24</td>\n",
       "      <td>0.20</td>\n",
       "    </tr>\n",
       "    <tr>\n",
       "      <th>std</th>\n",
       "      <td>2886.90</td>\n",
       "      <td>71936.19</td>\n",
       "      <td>96.65</td>\n",
       "      <td>0.50</td>\n",
       "      <td>10.49</td>\n",
       "      <td>2.89</td>\n",
       "      <td>62397.41</td>\n",
       "      <td>0.58</td>\n",
       "      <td>0.46</td>\n",
       "      <td>0.50</td>\n",
       "      <td>57510.49</td>\n",
       "      <td>0.40</td>\n",
       "    </tr>\n",
       "    <tr>\n",
       "      <th>min</th>\n",
       "      <td>1.00</td>\n",
       "      <td>15565701.00</td>\n",
       "      <td>350.00</td>\n",
       "      <td>0.00</td>\n",
       "      <td>18.00</td>\n",
       "      <td>0.00</td>\n",
       "      <td>0.00</td>\n",
       "      <td>1.00</td>\n",
       "      <td>0.00</td>\n",
       "      <td>0.00</td>\n",
       "      <td>11.58</td>\n",
       "      <td>0.00</td>\n",
       "    </tr>\n",
       "    <tr>\n",
       "      <th>25%</th>\n",
       "      <td>2500.75</td>\n",
       "      <td>15628528.25</td>\n",
       "      <td>584.00</td>\n",
       "      <td>0.00</td>\n",
       "      <td>32.00</td>\n",
       "      <td>2.00</td>\n",
       "      <td>0.00</td>\n",
       "      <td>1.00</td>\n",
       "      <td>0.00</td>\n",
       "      <td>0.00</td>\n",
       "      <td>51002.11</td>\n",
       "      <td>0.00</td>\n",
       "    </tr>\n",
       "    <tr>\n",
       "      <th>50%</th>\n",
       "      <td>5000.50</td>\n",
       "      <td>15690738.00</td>\n",
       "      <td>652.00</td>\n",
       "      <td>1.00</td>\n",
       "      <td>37.00</td>\n",
       "      <td>5.00</td>\n",
       "      <td>97198.54</td>\n",
       "      <td>1.00</td>\n",
       "      <td>1.00</td>\n",
       "      <td>1.00</td>\n",
       "      <td>100193.91</td>\n",
       "      <td>0.00</td>\n",
       "    </tr>\n",
       "    <tr>\n",
       "      <th>75%</th>\n",
       "      <td>7500.25</td>\n",
       "      <td>15753233.75</td>\n",
       "      <td>718.00</td>\n",
       "      <td>1.00</td>\n",
       "      <td>44.00</td>\n",
       "      <td>7.00</td>\n",
       "      <td>127644.24</td>\n",
       "      <td>2.00</td>\n",
       "      <td>1.00</td>\n",
       "      <td>1.00</td>\n",
       "      <td>149388.25</td>\n",
       "      <td>0.00</td>\n",
       "    </tr>\n",
       "    <tr>\n",
       "      <th>max</th>\n",
       "      <td>10000.00</td>\n",
       "      <td>15815690.00</td>\n",
       "      <td>850.00</td>\n",
       "      <td>1.00</td>\n",
       "      <td>92.00</td>\n",
       "      <td>10.00</td>\n",
       "      <td>250898.09</td>\n",
       "      <td>4.00</td>\n",
       "      <td>1.00</td>\n",
       "      <td>1.00</td>\n",
       "      <td>199992.48</td>\n",
       "      <td>1.00</td>\n",
       "    </tr>\n",
       "  </tbody>\n",
       "</table>\n",
       "</div>"
      ],
      "text/plain": [
       "       RowNumber  CustomerId  CreditScore   Gender      Age  Tenure   Balance  \\\n",
       "count   10000.00    10000.00     10000.00 10000.00 10000.00 9091.00  10000.00   \n",
       "mean     5000.50 15690940.57       650.53     0.55    38.92    5.00  76485.89   \n",
       "std      2886.90    71936.19        96.65     0.50    10.49    2.89  62397.41   \n",
       "min         1.00 15565701.00       350.00     0.00    18.00    0.00      0.00   \n",
       "25%      2500.75 15628528.25       584.00     0.00    32.00    2.00      0.00   \n",
       "50%      5000.50 15690738.00       652.00     1.00    37.00    5.00  97198.54   \n",
       "75%      7500.25 15753233.75       718.00     1.00    44.00    7.00 127644.24   \n",
       "max     10000.00 15815690.00       850.00     1.00    92.00   10.00 250898.09   \n",
       "\n",
       "       NumOfProducts  HasCrCard  IsActiveMember  EstimatedSalary   Exited  \n",
       "count       10000.00   10000.00        10000.00         10000.00 10000.00  \n",
       "mean            1.53       0.71            0.52        100090.24     0.20  \n",
       "std             0.58       0.46            0.50         57510.49     0.40  \n",
       "min             1.00       0.00            0.00            11.58     0.00  \n",
       "25%             1.00       0.00            0.00         51002.11     0.00  \n",
       "50%             1.00       1.00            1.00        100193.91     0.00  \n",
       "75%             2.00       1.00            1.00        149388.25     0.00  \n",
       "max             4.00       1.00            1.00        199992.48     1.00  "
      ]
     },
     "metadata": {},
     "output_type": "display_data"
    },
    {
     "name": "stdout",
     "output_type": "stream",
     "text": [
      "Número de duplicados en 'data': 0\n"
     ]
    }
   ],
   "source": [
    "# Load the dataset\n",
    "data = pd.read_csv('https://practicum-content.s3.us-west-1.amazonaws.com/datasets/Churn.csv', converters={\n",
    "    \"Gender\": lambda x: 1 if x == \"Male\" else 0\n",
    "})\n",
    "\n",
    "# Display basic information about the dataset\n",
    "print(\"Basic Information about the Dataset:\")\n",
    "display(data.info())\n",
    "\n",
    "# Show summary statistics\n",
    "display(data.describe())\n",
    "\n",
    "# Check for duplicates\n",
    "print(f\"Número de duplicados en 'data': {data.duplicated().sum()}\")"
   ]
  },
  {
   "cell_type": "markdown",
   "metadata": {},
   "source": [
    "### **2. Data Cleaning and Optimization**"
   ]
  },
  {
   "cell_type": "markdown",
   "metadata": {},
   "source": [
    "#### Objectives:\n",
    "\n",
    "- Remove columns that do not contribute to the prediction task.\n",
    "- Optimize the dataset for memory efficiency by downcasting numerical data types.\n",
    "- Analyze missing values and class balance for further preprocessing.\n",
    "\n",
    "#### Steps:\n",
    "\n",
    "1. **Remove Irrelevant Columns**:\n",
    "   - Columns like `RowNumber`, `CustomerId`, and `Surname` are metadata that do not add predictive value and should be dropped.\n",
    "2. **Analyze Missing Values**:\n",
    "   - Identify columns with missing values, particularly `Tenure`, and quantify the missing data.\n",
    "3. **Optimize Data Types**:\n",
    "   - Reduce memory usage by downcasting integers and floats to the smallest appropriate data types.\n",
    "4. **Analyze Target Class Balance**:\n",
    "   - Examine the distribution of the target variable (`Exited`) to confirm class imbalance."
   ]
  },
  {
   "cell_type": "code",
   "execution_count": 3,
   "metadata": {
    "colab": {
     "base_uri": "https://localhost:8080/"
    },
    "executionInfo": {
     "elapsed": 12,
     "status": "ok",
     "timestamp": 1732459964195,
     "user": {
      "displayName": "Guillermo Alcántara",
      "userId": "01170906250694055991"
     },
     "user_tz": 360
    },
    "id": "Z4ZpOH68puA0",
    "outputId": "2e1ee843-6e1f-40d8-cc3c-bc29ea70fc62"
   },
   "outputs": [
    {
     "name": "stdout",
     "output_type": "stream",
     "text": [
      "Total missing values in 'Tenure': 909\n",
      "\n",
      "Class Distribution of 'Exited':\n",
      "Exited\n",
      "0   0.80\n",
      "1   0.20\n",
      "Name: proportion, dtype: float64\n",
      "\n",
      "Summary of Missing Values:\n",
      "CreditScore          0\n",
      "Geography            0\n",
      "Gender               0\n",
      "Age                  0\n",
      "Tenure             909\n",
      "Balance              0\n",
      "NumOfProducts        0\n",
      "HasCrCard            0\n",
      "IsActiveMember       0\n",
      "EstimatedSalary      0\n",
      "Exited               0\n",
      "dtype: int64\n",
      "\n",
      "Data Types After Optimization:\n",
      "CreditScore          int16\n",
      "Geography           object\n",
      "Gender                int8\n",
      "Age                   int8\n",
      "Tenure             float32\n",
      "Balance            float64\n",
      "NumOfProducts         int8\n",
      "HasCrCard             int8\n",
      "IsActiveMember        int8\n",
      "EstimatedSalary    float64\n",
      "Exited                int8\n",
      "dtype: object\n"
     ]
    }
   ],
   "source": [
    "# Step 1: Drop irrelevant columns\n",
    "data_cleaned = data.drop(columns=['RowNumber', 'CustomerId', 'Surname'])\n",
    "\n",
    "# Step 2: Analyze missing values in Tenure\n",
    "missing_tenure_count = data_cleaned['Tenure'].isna().sum()\n",
    "print(f\"Total missing values in 'Tenure': {missing_tenure_count}\")\n",
    "\n",
    "# Step 3: Optimize data types for memory efficiency\n",
    "def optimize_dataframe(df):\n",
    "    \"\"\"\n",
    "    Downcast numerical columns to reduce memory usage.\n",
    "    \"\"\"\n",
    "    for col in df.select_dtypes(include=['int']).columns:\n",
    "        df[col] = pd.to_numeric(df[col], downcast='integer')\n",
    "    for col in df.select_dtypes(include=['float']).columns:\n",
    "        df[col] = pd.to_numeric(df[col], downcast='float')\n",
    "    return df\n",
    "\n",
    "data_optimized = optimize_dataframe(data_cleaned)\n",
    "\n",
    "# Step 4: Analyze class balance\n",
    "class_balance = data_optimized['Exited'].value_counts(normalize=True)\n",
    "print(\"\\nClass Distribution of 'Exited':\")\n",
    "print(class_balance)\n",
    "\n",
    "# Step 5: Summary of missing values\n",
    "missing_values_summary = data_optimized.isna().sum()\n",
    "print(\"\\nSummary of Missing Values:\")\n",
    "print(missing_values_summary)\n",
    "\n",
    "# Display data types after optimization\n",
    "print(\"\\nData Types After Optimization:\")\n",
    "print(data_optimized.dtypes)"
   ]
  },
  {
   "cell_type": "markdown",
   "metadata": {},
   "source": [
    "### **3. Encoding Categorical Features and Imputation of Missing Values**"
   ]
  },
  {
   "cell_type": "markdown",
   "metadata": {},
   "source": [
    "#### Objectives:\n",
    "\n",
    "1. **Encode Categorical Features**:\n",
    "   - Convert categorical variables into numerical format using one-hot encoding.\n",
    "   - Drop the first category for each feature to avoid multicollinearity.\n",
    "2. **Impute Missing Values**:\n",
    "   - Use advanced imputation techniques, specifically `IterativeImputer`, to fill missing values in a statistically sound way."
   ]
  },
  {
   "cell_type": "code",
   "execution_count": 4,
   "metadata": {},
   "outputs": [
    {
     "name": "stdout",
     "output_type": "stream",
     "text": [
      "\n",
      "Missing Values After Imputation:\n",
      "CreditScore          0\n",
      "Gender               0\n",
      "Age                  0\n",
      "Tenure               0\n",
      "Balance              0\n",
      "NumOfProducts        0\n",
      "HasCrCard            0\n",
      "IsActiveMember       0\n",
      "EstimatedSalary      0\n",
      "Exited               0\n",
      "Geography_Germany    0\n",
      "Geography_Spain      0\n",
      "dtype: int64\n"
     ]
    }
   ],
   "source": [
    "\n",
    "# Step 1: One-hot encode categorical features\n",
    "categorical_columns = data_optimized.select_dtypes(include=['object']).columns\n",
    "data_optimized = pd.get_dummies(\n",
    "    data_optimized,\n",
    "    columns=categorical_columns,\n",
    "    drop_first=True\n",
    ")\n",
    "\n",
    "# Step 2: Set up Iterative Imputer\n",
    "iterative_imputer = IterativeImputer(max_iter=10, random_state=SEED)\n",
    "\n",
    "# Step 3: Impute missing values\n",
    "data_imputed = pd.DataFrame(\n",
    "    iterative_imputer.fit_transform(data_optimized),\n",
    "    columns=data_optimized.columns\n",
    ")\n",
    "\n",
    "# Step 4: Verify the imputation\n",
    "missing_values_after_imputation = data_imputed.isna().sum()\n",
    "print(\"\\nMissing Values After Imputation:\")\n",
    "print(missing_values_after_imputation)"
   ]
  },
  {
   "cell_type": "markdown",
   "metadata": {},
   "source": [
    "#### Steps and Explanations:\n",
    "\n",
    "1. **One-Hot Encoding**:\n",
    "   - Convert all categorical features (`object` dtype) into dummy variables using `pd.get_dummies`.\n",
    "   - Set `drop_first=True` to avoid redundant columns.\n",
    "2. **Iterative Imputation**:\n",
    "   - Use `IterativeImputer` from `sklearn` to fill missing values.\n",
    "   - The imputer uses regression models iteratively to estimate missing values based on the relationships between features.\n",
    "3. **Verify Imputation**:\n",
    "   - Confirm that all missing values are filled by checking for `NaN` in the resulting DataFrame."
   ]
  },
  {
   "cell_type": "markdown",
   "metadata": {},
   "source": [
    "### **4. Addressing Class Imbalance and Splitting the Data**"
   ]
  },
  {
   "cell_type": "markdown",
   "metadata": {},
   "source": [
    "#### Objectives:"
   ]
  },
  {
   "cell_type": "markdown",
   "metadata": {},
   "source": [
    "\n",
    "\n",
    "1. **Address Class Imbalance**:\n",
    "   - Use **SMOTEENN**, a combination of SMOTE (Synthetic Minority Over-sampling Technique) and ENN (Edited Nearest Neighbors), to resample the dataset. This technique balances the classes by oversampling the minority class and undersampling the majority class, removing noisy examples.\n",
    "2. **Split the Data**:\n",
    "   - Divide the resampled data into training, validation, and test sets:\n",
    "     - Training set: 60%\n",
    "     - Validation set: 20%\n",
    "     - Test set: 20%"
   ]
  },
  {
   "cell_type": "code",
   "execution_count": 5,
   "metadata": {},
   "outputs": [
    {
     "name": "stdout",
     "output_type": "stream",
     "text": [
      "Class Distribution After Resampling:\n",
      "[(0.0, 2896), (1.0, 3703)]\n",
      "\n",
      "Data Splits and Class Balance:\n",
      "Training set: (3959, 11), Class Balance: {1.0: 0.5612528416266734, 0.0: 0.4387471583733266}\n",
      "Validation set: (1320, 11), Class Balance: {1.0: 0.5613636363636364, 0.0: 0.43863636363636366}\n",
      "Test set: (1320, 11), Class Balance: {1.0: 0.5606060606060606, 0.0: 0.4393939393939394}\n"
     ]
    }
   ],
   "source": [
    "# Split the data into train, validation, and test sets (no resampling yet)\n",
    "X_train, X_temp, y_train, y_temp = train_test_split(\n",
    "    data_imputed.drop(columns='Exited'), data_imputed['Exited'], test_size=0.4, random_state=SEED, stratify=y\n",
    ")\n",
    "X_valid, X_test, y_valid, y_test = train_test_split(\n",
    "    X_temp, y_temp, test_size=0.5, random_state=SEED, stratify=y_temp\n",
    ")\n",
    "\n",
    "# Verify class distribution in splits\n",
    "print(\"\\nClass Distribution Before Resampling:\")\n",
    "print(f\"Training set: {Counter(y_train)}\")\n",
    "print(f\"Validation set: {Counter(y_valid)}\")\n",
    "print(f\"Test set: {Counter(y_test)}\")\n",
    "\n",
    "# Suppress warnings for the following block of code\n",
    "with warnings.catch_warnings():\n",
    "    warnings.filterwarnings(\"ignore\", category=FutureWarning, module=\"sklearn\")\n",
    "\n",
    "    # Initialize SMOTEENN\n",
    "    smote_enn = SMOTEENN(random_state=SEED)\n",
    "\n",
    "    # Resample only the training data\n",
    "    X_train_resampled, y_train_resampled = smote_enn.fit_resample(X_train, y_train)\n",
    "\n",
    "# Verify class distribution after resampling\n",
    "print(\"\\nClass Distribution After Resampling:\")\n",
    "print(f\"Resampled Training set: {Counter(y_train_resampled)}\")\n",
    "\n",
    "# Final dataset shapes\n",
    "print(\"\\nData Splits and Class Balance After Resampling:\")\n",
    "print(f\"Training set: {X_train_resampled.shape}, Class Balance: {y_train_resampled.value_counts(normalize=True).to_dict()}\")\n",
    "print(f\"Validation set: {X_valid.shape}, Class Balance: {y_valid.value_counts(normalize=True).to_dict()}\")\n",
    "print(f\"Test set: {X_test.shape}, Class Balance: {y_test.value_counts(normalize=True).to_dict()}\")\n"
   ]
  },
  {
   "cell_type": "markdown",
   "metadata": {},
   "source": [
    "#### Steps and Explanations:"
   ]
  },
  {
   "cell_type": "markdown",
   "metadata": {},
   "source": [
    "1. **SMOTEENN Resampling**:\n",
    "   - SMOTE generates synthetic samples for the minority class based on existing data.\n",
    "   - ENN removes noisy and ambiguous samples from the majority class, improving data quality.\n",
    "2. **Data Splitting**:\n",
    "   - First, split the resampled data into training (60%) and temporary (40%) sets.\n",
    "   - Further split the temporary set into validation (20%) and test (20%) sets.\n",
    "3. **Verify the Class Distribution**:\n",
    "   - Confirm the new class balance after resampling and the class proportions in each split."
   ]
  },
  {
   "cell_type": "markdown",
   "metadata": {
    "id": "XuCmqV70puA1"
   },
   "source": [
    "Inpute x[\"tenure\"] using Multivariate feature imputation"
   ]
  },
  {
   "cell_type": "markdown",
   "metadata": {
    "id": "cc6NZh7PvpK0"
   },
   "source": [
    "Hacemos la separacion de X_resampled, y_resampled en los dataframes:\n",
    "train, test, valid\n",
    "\n",
    "Usamos `random_seed = 42`, y estratificacion en la columna objetivo `y_resampled` para asegurarnos que tengan la misma probabilidad de tener churn en cada dataset."
   ]
  },
  {
   "cell_type": "markdown",
   "metadata": {},
   "source": [
    "### **5. Evaluate Baseline Models Using LazyClassifier**"
   ]
  },
  {
   "cell_type": "markdown",
   "metadata": {},
   "source": [
    "#### Objectives:"
   ]
  },
  {
   "cell_type": "markdown",
   "metadata": {},
   "source": [
    "1. Quickly compare the performance of various classification models on the training and validation datasets.\n",
    "2. Use **recall** as a custom evaluation metric to prioritize identifying churned customers (`Exited = 1`)."
   ]
  },
  {
   "cell_type": "markdown",
   "metadata": {},
   "source": [
    "#### Steps and Explanations:"
   ]
  },
  {
   "cell_type": "markdown",
   "metadata": {},
   "source": [
    "1. **LazyClassifier**:\n",
    "   - LazyClassifier is a wrapper that evaluates multiple classification models without the need for manual instantiation or training.\n",
    "   - It simplifies baseline model comparison by providing key metrics in a single table.\n",
    "2. **Custom Metric (Recall)**:\n",
    "   - Recall is used as the primary evaluation metric, as the project goal emphasizes minimizing false negatives (i.e., identifying churned customers who might otherwise be missed).\n",
    "3. **Execution**:\n",
    "   - Fit LazyClassifier on the training and validation sets.\n",
    "   - Generate a summary table with model performance metrics, including recall."
   ]
  },
  {
   "cell_type": "code",
   "execution_count": 6,
   "metadata": {
    "colab": {
     "base_uri": "https://localhost:8080/",
     "height": 1000
    },
    "executionInfo": {
     "elapsed": 35044,
     "status": "ok",
     "timestamp": 1732461720131,
     "user": {
      "displayName": "Guillermo Alcántara",
      "userId": "01170906250694055991"
     },
     "user_tz": 360
    },
    "id": "2CLvflMowsoH",
    "outputId": "31798117-d680-4872-9595-67178d200b39"
   },
   "outputs": [
    {
     "name": "stderr",
     "output_type": "stream",
     "text": [
      " 97%|█████████▋| 31/32 [00:04<00:00,  6.86it/s]  File \"c:\\Users\\Guill\\Miniconda3\\envs\\da\\Lib\\site-packages\\joblib\\externals\\loky\\backend\\context.py\", line 257, in _count_physical_cores\n",
      "    cpu_info = subprocess.run(\n",
      "               ^^^^^^^^^^^^^^^\n",
      "  File \"c:\\Users\\Guill\\Miniconda3\\envs\\da\\Lib\\subprocess.py\", line 548, in run\n",
      "    with Popen(*popenargs, **kwargs) as process:\n",
      "         ^^^^^^^^^^^^^^^^^^^^^^^^^^^\n",
      "  File \"c:\\Users\\Guill\\Miniconda3\\envs\\da\\Lib\\subprocess.py\", line 1026, in __init__\n",
      "    self._execute_child(args, executable, preexec_fn, close_fds,\n",
      "  File \"c:\\Users\\Guill\\Miniconda3\\envs\\da\\Lib\\subprocess.py\", line 1538, in _execute_child\n",
      "    hp, ht, pid, tid = _winapi.CreateProcess(executable, args,\n",
      "                       ^^^^^^^^^^^^^^^^^^^^^^^^^^^^^^^^^^^^^^^\n",
      "100%|██████████| 32/32 [00:04<00:00,  6.61it/s]"
     ]
    },
    {
     "name": "stdout",
     "output_type": "stream",
     "text": [
      "[LightGBM] [Info] Number of positive: 2222, number of negative: 1737\n",
      "[LightGBM] [Info] Auto-choosing col-wise multi-threading, the overhead of testing was 0.000378 seconds.\n",
      "You can set `force_col_wise=true` to remove the overhead.\n",
      "[LightGBM] [Info] Total Bins 2805\n",
      "[LightGBM] [Info] Number of data points in the train set: 3959, number of used features: 11\n",
      "[LightGBM] [Info] [binary:BoostFromScore]: pavg=0.561253 -> initscore=0.246248\n",
      "[LightGBM] [Info] Start training from score 0.246248\n",
      "Baseline Model Performance Metrics:\n"
     ]
    },
    {
     "name": "stderr",
     "output_type": "stream",
     "text": [
      "\n"
     ]
    },
    {
     "data": {
      "text/html": [
       "<div>\n",
       "<style scoped>\n",
       "    .dataframe tbody tr th:only-of-type {\n",
       "        vertical-align: middle;\n",
       "    }\n",
       "\n",
       "    .dataframe tbody tr th {\n",
       "        vertical-align: top;\n",
       "    }\n",
       "\n",
       "    .dataframe thead th {\n",
       "        text-align: right;\n",
       "    }\n",
       "</style>\n",
       "<table border=\"1\" class=\"dataframe\">\n",
       "  <thead>\n",
       "    <tr style=\"text-align: right;\">\n",
       "      <th></th>\n",
       "      <th>Accuracy</th>\n",
       "      <th>Balanced Accuracy</th>\n",
       "      <th>ROC AUC</th>\n",
       "      <th>F1 Score</th>\n",
       "      <th>recall_score</th>\n",
       "      <th>Time Taken</th>\n",
       "    </tr>\n",
       "    <tr>\n",
       "      <th>Model</th>\n",
       "      <th></th>\n",
       "      <th></th>\n",
       "      <th></th>\n",
       "      <th></th>\n",
       "      <th></th>\n",
       "      <th></th>\n",
       "    </tr>\n",
       "  </thead>\n",
       "  <tbody>\n",
       "    <tr>\n",
       "      <th>LGBMClassifier</th>\n",
       "      <td>0.92</td>\n",
       "      <td>0.93</td>\n",
       "      <td>0.93</td>\n",
       "      <td>0.92</td>\n",
       "      <td>0.91</td>\n",
       "      <td>0.14</td>\n",
       "    </tr>\n",
       "    <tr>\n",
       "      <th>RandomForestClassifier</th>\n",
       "      <td>0.92</td>\n",
       "      <td>0.92</td>\n",
       "      <td>0.92</td>\n",
       "      <td>0.92</td>\n",
       "      <td>0.92</td>\n",
       "      <td>0.60</td>\n",
       "    </tr>\n",
       "    <tr>\n",
       "      <th>ExtraTreesClassifier</th>\n",
       "      <td>0.91</td>\n",
       "      <td>0.91</td>\n",
       "      <td>0.91</td>\n",
       "      <td>0.91</td>\n",
       "      <td>0.91</td>\n",
       "      <td>0.37</td>\n",
       "    </tr>\n",
       "    <tr>\n",
       "      <th>BaggingClassifier</th>\n",
       "      <td>0.89</td>\n",
       "      <td>0.89</td>\n",
       "      <td>0.89</td>\n",
       "      <td>0.89</td>\n",
       "      <td>0.89</td>\n",
       "      <td>0.15</td>\n",
       "    </tr>\n",
       "    <tr>\n",
       "      <th>AdaBoostClassifier</th>\n",
       "      <td>0.89</td>\n",
       "      <td>0.89</td>\n",
       "      <td>0.89</td>\n",
       "      <td>0.89</td>\n",
       "      <td>0.89</td>\n",
       "      <td>0.26</td>\n",
       "    </tr>\n",
       "    <tr>\n",
       "      <th>DecisionTreeClassifier</th>\n",
       "      <td>0.86</td>\n",
       "      <td>0.86</td>\n",
       "      <td>0.86</td>\n",
       "      <td>0.86</td>\n",
       "      <td>0.89</td>\n",
       "      <td>0.03</td>\n",
       "    </tr>\n",
       "    <tr>\n",
       "      <th>ExtraTreeClassifier</th>\n",
       "      <td>0.86</td>\n",
       "      <td>0.85</td>\n",
       "      <td>0.85</td>\n",
       "      <td>0.86</td>\n",
       "      <td>0.88</td>\n",
       "      <td>0.02</td>\n",
       "    </tr>\n",
       "    <tr>\n",
       "      <th>SVC</th>\n",
       "      <td>0.86</td>\n",
       "      <td>0.85</td>\n",
       "      <td>0.85</td>\n",
       "      <td>0.86</td>\n",
       "      <td>0.88</td>\n",
       "      <td>0.66</td>\n",
       "    </tr>\n",
       "    <tr>\n",
       "      <th>LabelSpreading</th>\n",
       "      <td>0.85</td>\n",
       "      <td>0.85</td>\n",
       "      <td>0.85</td>\n",
       "      <td>0.85</td>\n",
       "      <td>0.91</td>\n",
       "      <td>0.57</td>\n",
       "    </tr>\n",
       "    <tr>\n",
       "      <th>LabelPropagation</th>\n",
       "      <td>0.85</td>\n",
       "      <td>0.85</td>\n",
       "      <td>0.85</td>\n",
       "      <td>0.85</td>\n",
       "      <td>0.91</td>\n",
       "      <td>0.40</td>\n",
       "    </tr>\n",
       "    <tr>\n",
       "      <th>NuSVC</th>\n",
       "      <td>0.83</td>\n",
       "      <td>0.83</td>\n",
       "      <td>0.83</td>\n",
       "      <td>0.83</td>\n",
       "      <td>0.86</td>\n",
       "      <td>0.86</td>\n",
       "    </tr>\n",
       "    <tr>\n",
       "      <th>KNeighborsClassifier</th>\n",
       "      <td>0.82</td>\n",
       "      <td>0.81</td>\n",
       "      <td>0.81</td>\n",
       "      <td>0.82</td>\n",
       "      <td>0.86</td>\n",
       "      <td>0.12</td>\n",
       "    </tr>\n",
       "    <tr>\n",
       "      <th>QuadraticDiscriminantAnalysis</th>\n",
       "      <td>0.78</td>\n",
       "      <td>0.78</td>\n",
       "      <td>0.78</td>\n",
       "      <td>0.78</td>\n",
       "      <td>0.81</td>\n",
       "      <td>0.02</td>\n",
       "    </tr>\n",
       "    <tr>\n",
       "      <th>GaussianNB</th>\n",
       "      <td>0.75</td>\n",
       "      <td>0.74</td>\n",
       "      <td>0.74</td>\n",
       "      <td>0.75</td>\n",
       "      <td>0.77</td>\n",
       "      <td>0.02</td>\n",
       "    </tr>\n",
       "    <tr>\n",
       "      <th>LinearSVC</th>\n",
       "      <td>0.75</td>\n",
       "      <td>0.74</td>\n",
       "      <td>0.74</td>\n",
       "      <td>0.74</td>\n",
       "      <td>0.81</td>\n",
       "      <td>0.02</td>\n",
       "    </tr>\n",
       "    <tr>\n",
       "      <th>LinearDiscriminantAnalysis</th>\n",
       "      <td>0.75</td>\n",
       "      <td>0.74</td>\n",
       "      <td>0.74</td>\n",
       "      <td>0.74</td>\n",
       "      <td>0.81</td>\n",
       "      <td>0.02</td>\n",
       "    </tr>\n",
       "    <tr>\n",
       "      <th>RidgeClassifier</th>\n",
       "      <td>0.75</td>\n",
       "      <td>0.74</td>\n",
       "      <td>0.74</td>\n",
       "      <td>0.74</td>\n",
       "      <td>0.81</td>\n",
       "      <td>0.02</td>\n",
       "    </tr>\n",
       "    <tr>\n",
       "      <th>RidgeClassifierCV</th>\n",
       "      <td>0.75</td>\n",
       "      <td>0.74</td>\n",
       "      <td>0.74</td>\n",
       "      <td>0.74</td>\n",
       "      <td>0.81</td>\n",
       "      <td>0.03</td>\n",
       "    </tr>\n",
       "    <tr>\n",
       "      <th>LogisticRegression</th>\n",
       "      <td>0.74</td>\n",
       "      <td>0.74</td>\n",
       "      <td>0.74</td>\n",
       "      <td>0.74</td>\n",
       "      <td>0.80</td>\n",
       "      <td>0.02</td>\n",
       "    </tr>\n",
       "    <tr>\n",
       "      <th>CalibratedClassifierCV</th>\n",
       "      <td>0.74</td>\n",
       "      <td>0.74</td>\n",
       "      <td>0.74</td>\n",
       "      <td>0.74</td>\n",
       "      <td>0.81</td>\n",
       "      <td>0.05</td>\n",
       "    </tr>\n",
       "    <tr>\n",
       "      <th>NearestCentroid</th>\n",
       "      <td>0.73</td>\n",
       "      <td>0.73</td>\n",
       "      <td>0.73</td>\n",
       "      <td>0.73</td>\n",
       "      <td>0.74</td>\n",
       "      <td>0.02</td>\n",
       "    </tr>\n",
       "    <tr>\n",
       "      <th>BernoulliNB</th>\n",
       "      <td>0.73</td>\n",
       "      <td>0.72</td>\n",
       "      <td>0.72</td>\n",
       "      <td>0.73</td>\n",
       "      <td>0.78</td>\n",
       "      <td>0.02</td>\n",
       "    </tr>\n",
       "    <tr>\n",
       "      <th>SGDClassifier</th>\n",
       "      <td>0.72</td>\n",
       "      <td>0.72</td>\n",
       "      <td>0.72</td>\n",
       "      <td>0.72</td>\n",
       "      <td>0.71</td>\n",
       "      <td>0.03</td>\n",
       "    </tr>\n",
       "    <tr>\n",
       "      <th>PassiveAggressiveClassifier</th>\n",
       "      <td>0.64</td>\n",
       "      <td>0.62</td>\n",
       "      <td>0.62</td>\n",
       "      <td>0.63</td>\n",
       "      <td>0.74</td>\n",
       "      <td>0.02</td>\n",
       "    </tr>\n",
       "    <tr>\n",
       "      <th>Perceptron</th>\n",
       "      <td>0.57</td>\n",
       "      <td>0.55</td>\n",
       "      <td>0.55</td>\n",
       "      <td>0.56</td>\n",
       "      <td>0.67</td>\n",
       "      <td>0.02</td>\n",
       "    </tr>\n",
       "    <tr>\n",
       "      <th>DummyClassifier</th>\n",
       "      <td>0.56</td>\n",
       "      <td>0.50</td>\n",
       "      <td>0.50</td>\n",
       "      <td>0.40</td>\n",
       "      <td>1.00</td>\n",
       "      <td>0.02</td>\n",
       "    </tr>\n",
       "  </tbody>\n",
       "</table>\n",
       "</div>"
      ],
      "text/plain": [
       "                               Accuracy  Balanced Accuracy  ROC AUC  F1 Score  \\\n",
       "Model                                                                           \n",
       "LGBMClassifier                     0.92               0.93     0.93      0.92   \n",
       "RandomForestClassifier             0.92               0.92     0.92      0.92   \n",
       "ExtraTreesClassifier               0.91               0.91     0.91      0.91   \n",
       "BaggingClassifier                  0.89               0.89     0.89      0.89   \n",
       "AdaBoostClassifier                 0.89               0.89     0.89      0.89   \n",
       "DecisionTreeClassifier             0.86               0.86     0.86      0.86   \n",
       "ExtraTreeClassifier                0.86               0.85     0.85      0.86   \n",
       "SVC                                0.86               0.85     0.85      0.86   \n",
       "LabelSpreading                     0.85               0.85     0.85      0.85   \n",
       "LabelPropagation                   0.85               0.85     0.85      0.85   \n",
       "NuSVC                              0.83               0.83     0.83      0.83   \n",
       "KNeighborsClassifier               0.82               0.81     0.81      0.82   \n",
       "QuadraticDiscriminantAnalysis      0.78               0.78     0.78      0.78   \n",
       "GaussianNB                         0.75               0.74     0.74      0.75   \n",
       "LinearSVC                          0.75               0.74     0.74      0.74   \n",
       "LinearDiscriminantAnalysis         0.75               0.74     0.74      0.74   \n",
       "RidgeClassifier                    0.75               0.74     0.74      0.74   \n",
       "RidgeClassifierCV                  0.75               0.74     0.74      0.74   \n",
       "LogisticRegression                 0.74               0.74     0.74      0.74   \n",
       "CalibratedClassifierCV             0.74               0.74     0.74      0.74   \n",
       "NearestCentroid                    0.73               0.73     0.73      0.73   \n",
       "BernoulliNB                        0.73               0.72     0.72      0.73   \n",
       "SGDClassifier                      0.72               0.72     0.72      0.72   \n",
       "PassiveAggressiveClassifier        0.64               0.62     0.62      0.63   \n",
       "Perceptron                         0.57               0.55     0.55      0.56   \n",
       "DummyClassifier                    0.56               0.50     0.50      0.40   \n",
       "\n",
       "                               recall_score  Time Taken  \n",
       "Model                                                    \n",
       "LGBMClassifier                         0.91        0.14  \n",
       "RandomForestClassifier                 0.92        0.60  \n",
       "ExtraTreesClassifier                   0.91        0.37  \n",
       "BaggingClassifier                      0.89        0.15  \n",
       "AdaBoostClassifier                     0.89        0.26  \n",
       "DecisionTreeClassifier                 0.89        0.03  \n",
       "ExtraTreeClassifier                    0.88        0.02  \n",
       "SVC                                    0.88        0.66  \n",
       "LabelSpreading                         0.91        0.57  \n",
       "LabelPropagation                       0.91        0.40  \n",
       "NuSVC                                  0.86        0.86  \n",
       "KNeighborsClassifier                   0.86        0.12  \n",
       "QuadraticDiscriminantAnalysis          0.81        0.02  \n",
       "GaussianNB                             0.77        0.02  \n",
       "LinearSVC                              0.81        0.02  \n",
       "LinearDiscriminantAnalysis             0.81        0.02  \n",
       "RidgeClassifier                        0.81        0.02  \n",
       "RidgeClassifierCV                      0.81        0.03  \n",
       "LogisticRegression                     0.80        0.02  \n",
       "CalibratedClassifierCV                 0.81        0.05  \n",
       "NearestCentroid                        0.74        0.02  \n",
       "BernoulliNB                            0.78        0.02  \n",
       "SGDClassifier                          0.71        0.03  \n",
       "PassiveAggressiveClassifier            0.74        0.02  \n",
       "Perceptron                             0.67        0.02  \n",
       "DummyClassifier                        1.00        0.02  "
      ]
     },
     "metadata": {},
     "output_type": "display_data"
    }
   ],
   "source": [
    "# Initialize LazyClassifier with recall as the custom metric\n",
    "clf = LazyClassifier(\n",
    "    verbose=0,  # Suppress detailed logging\n",
    "    ignore_warnings=True,  # Ignore model-specific warnings\n",
    "    custom_metric=recall_score  # Use recall as the custom evaluation metric\n",
    ")\n",
    "\n",
    "# Fit LazyClassifier on the training and validation sets\n",
    "models, predictions = clf.fit(X_train, X_valid, y_train, y_valid)\n",
    "\n",
    "# Display the summary of model performances\n",
    "print(\"Baseline Model Performance Metrics:\")\n",
    "display(models)"
   ]
  },
  {
   "cell_type": "markdown",
   "metadata": {},
   "source": [
    "### **6. Building and Evaluating a LightGBM Model**\n",
    "\n",
    "#### Objectives:\n",
    "\n",
    "1. **Train a LightGBM Classifier**:\n",
    "   - Utilize LightGBM, a high-performance gradient boosting framework, to train a model for churn prediction.\n",
    "2. **Evaluate the Model**:\n",
    "   - Predict on the validation set and prepare for further evaluation using relevant metrics (e.g., F1, recall, AUC-ROC)."
   ]
  },
  {
   "cell_type": "code",
   "execution_count": 7,
   "metadata": {
    "colab": {
     "base_uri": "https://localhost:8080/",
     "height": 190
    },
    "executionInfo": {
     "elapsed": 572,
     "status": "ok",
     "timestamp": 1732462430964,
     "user": {
      "displayName": "Guillermo Alcántara",
      "userId": "01170906250694055991"
     },
     "user_tz": 360
    },
    "id": "rPWMcbTcx9TH",
    "outputId": "005d1899-69e3-4bb1-bb0b-1cdcbd725f59"
   },
   "outputs": [
    {
     "name": "stdout",
     "output_type": "stream",
     "text": [
      "[LightGBM] [Info] Number of positive: 2222, number of negative: 1737\n",
      "[LightGBM] [Info] Auto-choosing col-wise multi-threading, the overhead of testing was 0.000380 seconds.\n",
      "You can set `force_col_wise=true` to remove the overhead.\n",
      "[LightGBM] [Info] Total Bins 2805\n",
      "[LightGBM] [Info] Number of data points in the train set: 3959, number of used features: 11\n",
      "[LightGBM] [Info] [binary:BoostFromScore]: pavg=0.561253 -> initscore=0.246248\n",
      "[LightGBM] [Info] Start training from score 0.246248\n",
      "Classification Report (Validation Set):\n",
      "              precision    recall  f1-score   support\n",
      "\n",
      "         0.0       0.90      0.94      0.92       579\n",
      "         1.0       0.95      0.92      0.93       741\n",
      "\n",
      "    accuracy                           0.93      1320\n",
      "   macro avg       0.92      0.93      0.92      1320\n",
      "weighted avg       0.93      0.93      0.93      1320\n",
      "\n",
      "AUC-ROC (Validation Set): 0.9734\n",
      "F1 Score (Validation Set): 0.9327\n"
     ]
    }
   ],
   "source": [
    "# Step 1: Initialize and train LightGBM Classifier\n",
    "clf = lgb.LGBMClassifier(random_state=SEED)  # Use SEED for reproducibility\n",
    "clf.fit(X_train, y_train)\n",
    "\n",
    "# Step 2: Predict on validation set\n",
    "y_pred = clf.predict(X_valid)\n",
    "y_pred_proba = clf.predict_proba(X_valid)[:, 1]  # For AUC-ROC\n",
    "\n",
    "# Step 3: Evaluate the model\n",
    "print(\"Classification Report (Validation Set):\")\n",
    "print(classification_report(y_valid, y_pred))\n",
    "\n",
    "# Calculate AUC-ROC\n",
    "roc_auc = roc_auc_score(y_valid, y_pred_proba)\n",
    "print(f\"AUC-ROC (Validation Set): {roc_auc:.4f}\")\n",
    "\n",
    "# Calculate F1 Score\n",
    "f1 = f1_score(y_valid, y_pred)\n",
    "print(f\"F1 Score (Validation Set): {f1:.4f}\")"
   ]
  },
  {
   "cell_type": "markdown",
   "metadata": {},
   "source": [
    "### 7 . **Evaluating the LightGBM Model**\n",
    "\n",
    "#### Objectives:\n",
    "\n",
    "1. **Comprehensive Evaluation**:\n",
    "   - Use a custom `ModelEvaluator` class to calculate and display key evaluation metrics, plot the confusion matrix, and visualize the ROC curve.\n",
    "2. **Key Metrics**:\n",
    "   - Metrics such as precision, recall, F1 score, and AUC-ROC will help assess model performance comprehensively.\n",
    "   - The confusion matrix provides a clear view of true positives, false positives, true negatives, and false negatives.\n",
    "3. **Visualization**:\n",
    "   - The ROC curve visually illustrates the trade-off between sensitivity and specificity."
   ]
  },
  {
   "cell_type": "code",
   "execution_count": 8,
   "metadata": {},
   "outputs": [
    {
     "data": {
      "text/markdown": [
       "### **Scores**"
      ],
      "text/plain": [
       "<IPython.core.display.Markdown object>"
      ]
     },
     "metadata": {},
     "output_type": "display_data"
    },
    {
     "name": "stdout",
     "output_type": "stream",
     "text": [
      "\u001b[1mAccuracy Score\u001b[0m\t: 0.9258\n",
      "\u001b[1mPrecision\u001b[0m\t\t: 0.9497\n",
      "\u001b[1mRecall\u001b[0m\t\t: 0.9163\n",
      "\u001b[1mF1 Score\u001b[0m\t\t: 0.9327\n",
      "\u001b[1mROC AUC Score\u001b[0m\t: 0.9734\n",
      "\n",
      "Classification Report:\n",
      "              precision    recall  f1-score   support\n",
      "\n",
      "         0.0       0.90      0.94      0.92       579\n",
      "         1.0       0.95      0.92      0.93       741\n",
      "\n",
      "    accuracy                           0.93      1320\n",
      "   macro avg       0.92      0.93      0.92      1320\n",
      "weighted avg       0.93      0.93      0.93      1320\n",
      "\n"
     ]
    },
    {
     "data": {
      "image/png": "[encoded data removed]",
      "text/plain": [
       "<Figure size 600x400 with 1 Axes>"
      ]
     },
     "metadata": {},
     "output_type": "display_data"
    },
    {
     "data": {
      "application/vnd.plotly.v1+json": {
       "config": {
        "plotlyServerURL": "https://plot.ly"
       },
       "data": [
        {
         "mode": "lines",
         "name": "AUC = 0.97",
         "type": "scatter",
         "x": [
          0,
          0,
          0,
          0,
          0,
          0,
          0,
          0,
          0,
          0,
          0,
          0,
          0,
          0,
          0,
          0,
          0,
          0,
          0,
          0,
          0,
          0,
          0,
          0.0017271157167530224,
          0.0017271157167530224,
          0.0034542314335060447,
          0.0034542314335060447,
          0.0051813471502590676,
          0.0051813471502590676,
          0.0069084628670120895,
          0.0069084628670120895,
          0.008635578583765112,
          0.008635578583765112,
          0.010362694300518135,
          0.010362694300518135,
          0.012089810017271158,
          0.012089810017271158,
          0.015544041450777202,
          0.015544041450777202,
          0.017271157167530225,
          0.017271157167530225,
          0.018998272884283247,
          0.018998272884283247,
          0.02072538860103627,
          0.02072538860103627,
          0.024179620034542316,
          0.024179620034542316,
          0.025906735751295335,
          0.025906735751295335,
          0.02936096718480138,
          0.02936096718480138,
          0.031088082901554404,
          0.031088082901554404,
          0.03454231433506045,
          0.03454231433506045,
          0.037996545768566495,
          0.037996545768566495,
          0.039723661485319514,
          0.039723661485319514,
          0.04145077720207254,
          0.04145077720207254,
          0.04317789291882556,
          0.04317789291882556,
          0.044905008635578586,
          0.044905008635578586,
          0.046632124352331605,
          0.046632124352331605,
          0.05008635578583765,
          0.05008635578583765,
          0.05181347150259067,
          0.05181347150259067,
          0.0535405872193437,
          0.0535405872193437,
          0.06217616580310881,
          0.06217616580310881,
          0.07599309153713299,
          0.07599309153713299,
          0.07772020725388601,
          0.07772020725388601,
          0.07944732297063903,
          0.07944732297063903,
          0.09671848013816926,
          0.09671848013816926,
          0.10189982728842832,
          0.10189982728842832,
          0.10535405872193437,
          0.10535405872193437,
          0.1070811744386874,
          0.1070811744386874,
          0.11398963730569948,
          0.11398963730569948,
          0.1157167530224525,
          0.1157167530224525,
          0.11917098445595854,
          0.11917098445595854,
          0.12435233160621761,
          0.12435233160621761,
          0.12780656303972365,
          0.12780656303972365,
          0.13126079447322972,
          0.13126079447322972,
          0.15025906735751296,
          0.15025906735751296,
          0.16062176165803108,
          0.16062176165803108,
          0.16407599309153714,
          0.16407599309153714,
          0.1692573402417962,
          0.1692573402417962,
          0.18134715025906736,
          0.18134715025906736,
          0.18307426597582038,
          0.18307426597582038,
          0.21070811744386875,
          0.21070811744386875,
          0.22107081174438686,
          0.22107081174438686,
          0.22797927461139897,
          0.22797927461139897,
          0.23834196891191708,
          0.23834196891191708,
          0.24006908462867013,
          0.24006908462867013,
          0.2711571675302245,
          0.2711571675302245,
          0.2849740932642487,
          0.2849740932642487,
          0.30397236614853196,
          0.30397236614853196,
          0.3160621761658031,
          0.3160621761658031,
          0.3298791018998273,
          0.3298791018998273,
          0.33678756476683935,
          0.33678756476683935,
          0.3592400690846287,
          0.3592400690846287,
          0.36614853195164077,
          0.36614853195164077,
          0.37823834196891193,
          0.37823834196891193,
          0.38341968911917096,
          0.38341968911917096,
          0.385146804835924,
          0.385146804835924,
          0.43005181347150256,
          0.43005181347150256,
          0.4386873920552677,
          0.4386873920552677,
          0.46632124352331605,
          0.46632124352331605,
          0.4697754749568221,
          0.4697754749568221,
          0.47668393782383417,
          0.47668393782383417,
          0.5077720207253886,
          0.5077720207253886,
          0.538860103626943,
          0.538860103626943,
          0.5889464594127807,
          0.5889464594127807,
          0.6027633851468048,
          0.6027633851468048,
          0.616580310880829,
          0.616580310880829,
          0.6338514680483592,
          0.6338514680483592,
          0.6683937823834197,
          0.6683937823834197,
          0.6994818652849741,
          0.6994818652849741,
          0.7495682210708118,
          0.7495682210708118,
          0.8583765112262521,
          0.8583765112262521,
          1
         ],
         "y": [
          0,
          0.001349527665317139,
          0.04183535762483131,
          0.044534412955465584,
          0.0620782726045884,
          0.06477732793522267,
          0.10661268556005399,
          0.10931174089068826,
          0.11201079622132254,
          0.11470985155195682,
          0.14709851551956815,
          0.14979757085020243,
          0.22402159244264508,
          0.22672064777327935,
          0.33468286099865047,
          0.33738191632928477,
          0.3562753036437247,
          0.358974358974359,
          0.5600539811066126,
          0.562753036437247,
          0.5789473684210527,
          0.581646423751687,
          0.7854251012145749,
          0.7854251012145749,
          0.7935222672064778,
          0.7935222672064778,
          0.8029689608636977,
          0.8029689608636977,
          0.8097165991902834,
          0.8097165991902834,
          0.8124156545209177,
          0.8124156545209177,
          0.8421052631578947,
          0.8421052631578947,
          0.8623481781376519,
          0.8623481781376519,
          0.8677462887989204,
          0.8677462887989204,
          0.8717948717948718,
          0.8717948717948718,
          0.873144399460189,
          0.873144399460189,
          0.8758434547908233,
          0.8758434547908233,
          0.8771929824561403,
          0.8771929824561403,
          0.8798920377867746,
          0.8798920377867746,
          0.8825910931174089,
          0.8825910931174089,
          0.8866396761133604,
          0.8866396761133604,
          0.8879892037786775,
          0.8879892037786775,
          0.8906882591093117,
          0.8906882591093117,
          0.8960863697705803,
          0.8960863697705803,
          0.8974358974358975,
          0.8974358974358975,
          0.8987854251012146,
          0.8987854251012146,
          0.9001349527665317,
          0.9001349527665317,
          0.902834008097166,
          0.902834008097166,
          0.9041835357624831,
          0.9041835357624831,
          0.9122807017543859,
          0.9122807017543859,
          0.9149797570850202,
          0.9149797570850202,
          0.9163292847503374,
          0.9163292847503374,
          0.9176788124156545,
          0.9176788124156545,
          0.9190283400809717,
          0.9190283400809717,
          0.9203778677462888,
          0.9203778677462888,
          0.9230769230769231,
          0.9230769230769231,
          0.9257759784075573,
          0.9257759784075573,
          0.9271255060728745,
          0.9271255060728745,
          0.9284750337381916,
          0.9284750337381916,
          0.9298245614035088,
          0.9298245614035088,
          0.9338731443994602,
          0.9338731443994602,
          0.9352226720647774,
          0.9352226720647774,
          0.9379217273954116,
          0.9379217273954116,
          0.941970310391363,
          0.941970310391363,
          0.9433198380566802,
          0.9433198380566802,
          0.9446693657219973,
          0.9446693657219973,
          0.9460188933873145,
          0.9460188933873145,
          0.9473684210526315,
          0.9473684210526315,
          0.9487179487179487,
          0.9487179487179487,
          0.9500674763832658,
          0.9500674763832658,
          0.951417004048583,
          0.951417004048583,
          0.9527665317139001,
          0.9527665317139001,
          0.9568151147098516,
          0.9568151147098516,
          0.9581646423751687,
          0.9581646423751687,
          0.9595141700404858,
          0.9595141700404858,
          0.9608636977058029,
          0.9608636977058029,
          0.9622132253711201,
          0.9622132253711201,
          0.9635627530364372,
          0.9635627530364372,
          0.9649122807017544,
          0.9649122807017544,
          0.9662618083670715,
          0.9662618083670715,
          0.9676113360323887,
          0.9676113360323887,
          0.970310391363023,
          0.970310391363023,
          0.97165991902834,
          0.97165991902834,
          0.9730094466936572,
          0.9730094466936572,
          0.9743589743589743,
          0.9743589743589743,
          0.9757085020242915,
          0.9757085020242915,
          0.9770580296896086,
          0.9770580296896086,
          0.979757085020243,
          0.979757085020243,
          0.9811066126855601,
          0.9811066126855601,
          0.9824561403508771,
          0.9824561403508771,
          0.9838056680161943,
          0.9838056680161943,
          0.9851551956815114,
          0.9851551956815114,
          0.9865047233468286,
          0.9865047233468286,
          0.9878542510121457,
          0.9878542510121457,
          0.9892037786774629,
          0.9892037786774629,
          0.99055330634278,
          0.99055330634278,
          0.9919028340080972,
          0.9919028340080972,
          0.9932523616734144,
          0.9932523616734144,
          0.9946018893387314,
          0.9946018893387314,
          0.9959514170040485,
          0.9959514170040485,
          0.9973009446693657,
          0.9973009446693657,
          0.9986504723346828,
          0.9986504723346828,
          1,
          1
         ]
        },
        {
         "line": {
          "color": "red",
          "dash": "dash"
         },
         "mode": "lines",
         "showlegend": false,
         "type": "scatter",
         "x": [
          0,
          1
         ],
         "y": [
          0,
          1
         ]
        }
       ],
       "layout": {
        "autosize": false,
        "height": 600,
        "showlegend": true,
        "template": {
         "data": {
          "bar": [
           {
            "error_x": {
             "color": "#2a3f5f"
            },
            "error_y": {
             "color": "#2a3f5f"
            },
            "marker": {
             "line": {
              "color": "#E5ECF6",
              "width": 0.5
             },
             "pattern": {
              "fillmode": "overlay",
              "size": 10,
              "solidity": 0.2
             }
            },
            "type": "bar"
           }
          ],
          "barpolar": [
           {
            "marker": {
             "line": {
              "color": "#E5ECF6",
              "width": 0.5
             },
             "pattern": {
              "fillmode": "overlay",
              "size": 10,
              "solidity": 0.2
             }
            },
            "type": "barpolar"
           }
          ],
          "carpet": [
           {
            "aaxis": {
             "endlinecolor": "#2a3f5f",
             "gridcolor": "white",
             "linecolor": "white",
             "minorgridcolor": "white",
             "startlinecolor": "#2a3f5f"
            },
            "baxis": {
             "endlinecolor": "#2a3f5f",
             "gridcolor": "white",
             "linecolor": "white",
             "minorgridcolor": "white",
             "startlinecolor": "#2a3f5f"
            },
            "type": "carpet"
           }
          ],
          "choropleth": [
           {
            "colorbar": {
             "outlinewidth": 0,
             "ticks": ""
            },
            "type": "choropleth"
           }
          ],
          "contour": [
           {
            "colorbar": {
             "outlinewidth": 0,
             "ticks": ""
            },
            "colorscale": [
             [
              0,
              "#0d0887"
             ],
             [
              0.1111111111111111,
              "#46039f"
             ],
             [
              0.2222222222222222,
              "#7201a8"
             ],
             [
              0.3333333333333333,
              "#9c179e"
             ],
             [
              0.4444444444444444,
              "#bd3786"
             ],
             [
              0.5555555555555556,
              "#d8576b"
             ],
             [
              0.6666666666666666,
              "#ed7953"
             ],
             [
              0.7777777777777778,
              "#fb9f3a"
             ],
             [
              0.8888888888888888,
              "#fdca26"
             ],
             [
              1,
              "#f0f921"
             ]
            ],
            "type": "contour"
           }
          ],
          "contourcarpet": [
           {
            "colorbar": {
             "outlinewidth": 0,
             "ticks": ""
            },
            "type": "contourcarpet"
           }
          ],
          "heatmap": [
           {
            "colorbar": {
             "outlinewidth": 0,
             "ticks": ""
            },
            "colorscale": [
             [
              0,
              "#0d0887"
             ],
             [
              0.1111111111111111,
              "#46039f"
             ],
             [
              0.2222222222222222,
              "#7201a8"
             ],
             [
              0.3333333333333333,
              "#9c179e"
             ],
             [
              0.4444444444444444,
              "#bd3786"
             ],
             [
              0.5555555555555556,
              "#d8576b"
             ],
             [
              0.6666666666666666,
              "#ed7953"
             ],
             [
              0.7777777777777778,
              "#fb9f3a"
             ],
             [
              0.8888888888888888,
              "#fdca26"
             ],
             [
              1,
              "#f0f921"
             ]
            ],
            "type": "heatmap"
           }
          ],
          "heatmapgl": [
           {
            "colorbar": {
             "outlinewidth": 0,
             "ticks": ""
            },
            "colorscale": [
             [
              0,
              "#0d0887"
             ],
             [
              0.1111111111111111,
              "#46039f"
             ],
             [
              0.2222222222222222,
              "#7201a8"
             ],
             [
              0.3333333333333333,
              "#9c179e"
             ],
             [
              0.4444444444444444,
              "#bd3786"
             ],
             [
              0.5555555555555556,
              "#d8576b"
             ],
             [
              0.6666666666666666,
              "#ed7953"
             ],
             [
              0.7777777777777778,
              "#fb9f3a"
             ],
             [
              0.8888888888888888,
              "#fdca26"
             ],
             [
              1,
              "#f0f921"
             ]
            ],
            "type": "heatmapgl"
           }
          ],
          "histogram": [
           {
            "marker": {
             "pattern": {
              "fillmode": "overlay",
              "size": 10,
              "solidity": 0.2
             }
            },
            "type": "histogram"
           }
          ],
          "histogram2d": [
           {
            "colorbar": {
             "outlinewidth": 0,
             "ticks": ""
            },
            "colorscale": [
             [
              0,
              "#0d0887"
             ],
             [
              0.1111111111111111,
              "#46039f"
             ],
             [
              0.2222222222222222,
              "#7201a8"
             ],
             [
              0.3333333333333333,
              "#9c179e"
             ],
             [
              0.4444444444444444,
              "#bd3786"
             ],
             [
              0.5555555555555556,
              "#d8576b"
             ],
             [
              0.6666666666666666,
              "#ed7953"
             ],
             [
              0.7777777777777778,
              "#fb9f3a"
             ],
             [
              0.8888888888888888,
              "#fdca26"
             ],
             [
              1,
              "#f0f921"
             ]
            ],
            "type": "histogram2d"
           }
          ],
          "histogram2dcontour": [
           {
            "colorbar": {
             "outlinewidth": 0,
             "ticks": ""
            },
            "colorscale": [
             [
              0,
              "#0d0887"
             ],
             [
              0.1111111111111111,
              "#46039f"
             ],
             [
              0.2222222222222222,
              "#7201a8"
             ],
             [
              0.3333333333333333,
              "#9c179e"
             ],
             [
              0.4444444444444444,
              "#bd3786"
             ],
             [
              0.5555555555555556,
              "#d8576b"
             ],
             [
              0.6666666666666666,
              "#ed7953"
             ],
             [
              0.7777777777777778,
              "#fb9f3a"
             ],
             [
              0.8888888888888888,
              "#fdca26"
             ],
             [
              1,
              "#f0f921"
             ]
            ],
            "type": "histogram2dcontour"
           }
          ],
          "mesh3d": [
           {
            "colorbar": {
             "outlinewidth": 0,
             "ticks": ""
            },
            "type": "mesh3d"
           }
          ],
          "parcoords": [
           {
            "line": {
             "colorbar": {
              "outlinewidth": 0,
              "ticks": ""
             }
            },
            "type": "parcoords"
           }
          ],
          "pie": [
           {
            "automargin": true,
            "type": "pie"
           }
          ],
          "scatter": [
           {
            "fillpattern": {
             "fillmode": "overlay",
             "size": 10,
             "solidity": 0.2
            },
            "type": "scatter"
           }
          ],
          "scatter3d": [
           {
            "line": {
             "colorbar": {
              "outlinewidth": 0,
              "ticks": ""
             }
            },
            "marker": {
             "colorbar": {
              "outlinewidth": 0,
              "ticks": ""
             }
            },
            "type": "scatter3d"
           }
          ],
          "scattercarpet": [
           {
            "marker": {
             "colorbar": {
              "outlinewidth": 0,
              "ticks": ""
             }
            },
            "type": "scattercarpet"
           }
          ],
          "scattergeo": [
           {
            "marker": {
             "colorbar": {
              "outlinewidth": 0,
              "ticks": ""
             }
            },
            "type": "scattergeo"
           }
          ],
          "scattergl": [
           {
            "marker": {
             "colorbar": {
              "outlinewidth": 0,
              "ticks": ""
             }
            },
            "type": "scattergl"
           }
          ],
          "scattermapbox": [
           {
            "marker": {
             "colorbar": {
              "outlinewidth": 0,
              "ticks": ""
             }
            },
            "type": "scattermapbox"
           }
          ],
          "scatterpolar": [
           {
            "marker": {
             "colorbar": {
              "outlinewidth": 0,
              "ticks": ""
             }
            },
            "type": "scatterpolar"
           }
          ],
          "scatterpolargl": [
           {
            "marker": {
             "colorbar": {
              "outlinewidth": 0,
              "ticks": ""
             }
            },
            "type": "scatterpolargl"
           }
          ],
          "scatterternary": [
           {
            "marker": {
             "colorbar": {
              "outlinewidth": 0,
              "ticks": ""
             }
            },
            "type": "scatterternary"
           }
          ],
          "surface": [
           {
            "colorbar": {
             "outlinewidth": 0,
             "ticks": ""
            },
            "colorscale": [
             [
              0,
              "#0d0887"
             ],
             [
              0.1111111111111111,
              "#46039f"
             ],
             [
              0.2222222222222222,
              "#7201a8"
             ],
             [
              0.3333333333333333,
              "#9c179e"
             ],
             [
              0.4444444444444444,
              "#bd3786"
             ],
             [
              0.5555555555555556,
              "#d8576b"
             ],
             [
              0.6666666666666666,
              "#ed7953"
             ],
             [
              0.7777777777777778,
              "#fb9f3a"
             ],
             [
              0.8888888888888888,
              "#fdca26"
             ],
             [
              1,
              "#f0f921"
             ]
            ],
            "type": "surface"
           }
          ],
          "table": [
           {
            "cells": {
             "fill": {
              "color": "#EBF0F8"
             },
             "line": {
              "color": "white"
             }
            },
            "header": {
             "fill": {
              "color": "#C8D4E3"
             },
             "line": {
              "color": "white"
             }
            },
            "type": "table"
           }
          ]
         },
         "layout": {
          "annotationdefaults": {
           "arrowcolor": "#2a3f5f",
           "arrowhead": 0,
           "arrowwidth": 1
          },
          "autotypenumbers": "strict",
          "coloraxis": {
           "colorbar": {
            "outlinewidth": 0,
            "ticks": ""
           }
          },
          "colorscale": {
           "diverging": [
            [
             0,
             "#8e0152"
            ],
            [
             0.1,
             "#c51b7d"
            ],
            [
             0.2,
             "#de77ae"
            ],
            [
             0.3,
             "#f1b6da"
            ],
            [
             0.4,
             "#fde0ef"
            ],
            [
             0.5,
             "#f7f7f7"
            ],
            [
             0.6,
             "#e6f5d0"
            ],
            [
             0.7,
             "#b8e186"
            ],
            [
             0.8,
             "#7fbc41"
            ],
            [
             0.9,
             "#4d9221"
            ],
            [
             1,
             "#276419"
            ]
           ],
           "sequential": [
            [
             0,
             "#0d0887"
            ],
            [
             0.1111111111111111,
             "#46039f"
            ],
            [
             0.2222222222222222,
             "#7201a8"
            ],
            [
             0.3333333333333333,
             "#9c179e"
            ],
            [
             0.4444444444444444,
             "#bd3786"
            ],
            [
             0.5555555555555556,
             "#d8576b"
            ],
            [
             0.6666666666666666,
             "#ed7953"
            ],
            [
             0.7777777777777778,
             "#fb9f3a"
            ],
            [
             0.8888888888888888,
             "#fdca26"
            ],
            [
             1,
             "#f0f921"
            ]
           ],
           "sequentialminus": [
            [
             0,
             "#0d0887"
            ],
            [
             0.1111111111111111,
             "#46039f"
            ],
            [
             0.2222222222222222,
             "#7201a8"
            ],
            [
             0.3333333333333333,
             "#9c179e"
            ],
            [
             0.4444444444444444,
             "#bd3786"
            ],
            [
             0.5555555555555556,
             "#d8576b"
            ],
            [
             0.6666666666666666,
             "#ed7953"
            ],
            [
             0.7777777777777778,
             "#fb9f3a"
            ],
            [
             0.8888888888888888,
             "#fdca26"
            ],
            [
             1,
             "#f0f921"
            ]
           ]
          },
          "colorway": [
           "#636efa",
           "#EF553B",
           "#00cc96",
           "#ab63fa",
           "#FFA15A",
           "#19d3f3",
           "#FF6692",
           "#B6E880",
           "#FF97FF",
           "#FECB52"
          ],
          "font": {
           "color": "#2a3f5f"
          },
          "geo": {
           "bgcolor": "white",
           "lakecolor": "white",
           "landcolor": "#E5ECF6",
           "showlakes": true,
           "showland": true,
           "subunitcolor": "white"
          },
          "hoverlabel": {
           "align": "left"
          },
          "hovermode": "closest",
          "mapbox": {
           "style": "light"
          },
          "paper_bgcolor": "white",
          "plot_bgcolor": "#E5ECF6",
          "polar": {
           "angularaxis": {
            "gridcolor": "white",
            "linecolor": "white",
            "ticks": ""
           },
           "bgcolor": "#E5ECF6",
           "radialaxis": {
            "gridcolor": "white",
            "linecolor": "white",
            "ticks": ""
           }
          },
          "scene": {
           "xaxis": {
            "backgroundcolor": "#E5ECF6",
            "gridcolor": "white",
            "gridwidth": 2,
            "linecolor": "white",
            "showbackground": true,
            "ticks": "",
            "zerolinecolor": "white"
           },
           "yaxis": {
            "backgroundcolor": "#E5ECF6",
            "gridcolor": "white",
            "gridwidth": 2,
            "linecolor": "white",
            "showbackground": true,
            "ticks": "",
            "zerolinecolor": "white"
           },
           "zaxis": {
            "backgroundcolor": "#E5ECF6",
            "gridcolor": "white",
            "gridwidth": 2,
            "linecolor": "white",
            "showbackground": true,
            "ticks": "",
            "zerolinecolor": "white"
           }
          },
          "shapedefaults": {
           "line": {
            "color": "#2a3f5f"
           }
          },
          "ternary": {
           "aaxis": {
            "gridcolor": "white",
            "linecolor": "white",
            "ticks": ""
           },
           "baxis": {
            "gridcolor": "white",
            "linecolor": "white",
            "ticks": ""
           },
           "bgcolor": "#E5ECF6",
           "caxis": {
            "gridcolor": "white",
            "linecolor": "white",
            "ticks": ""
           }
          },
          "title": {
           "x": 0.05
          },
          "xaxis": {
           "automargin": true,
           "gridcolor": "white",
           "linecolor": "white",
           "ticks": "",
           "title": {
            "standoff": 15
           },
           "zerolinecolor": "white",
           "zerolinewidth": 2
          },
          "yaxis": {
           "automargin": true,
           "gridcolor": "white",
           "linecolor": "white",
           "ticks": "",
           "title": {
            "standoff": 15
           },
           "zerolinecolor": "white",
           "zerolinewidth": 2
          }
         }
        },
        "title": {
         "text": "ROC Curve"
        },
        "width": 700,
        "xaxis": {
         "title": {
          "text": "False Positive Rate"
         }
        },
        "yaxis": {
         "title": {
          "text": "True Positive Rate"
         }
        }
       }
      }
     },
     "metadata": {},
     "output_type": "display_data"
    }
   ],
   "source": [
    "# Initialize the evaluator with predictions\n",
    "evaluator = ModelEvaluator(y_true=y_valid, y_pred=y_pred, y_proba=clf.predict_proba(X_valid)[:, 1])\n",
    "\n",
    "# Display scores\n",
    "evaluator.display_scores()\n",
    "\n",
    "# Plot the confusion matrix\n",
    "evaluator.plot_confusion_matrix()\n",
    "\n",
    "# Plot the ROC curve\n",
    "evaluator.plot_roc_curve()"
   ]
  },
  {
   "cell_type": "markdown",
   "metadata": {},
   "source": [
    "This cell evaluates the performance of the trained model. It calculates key metrics like accuracy, precision, recall, F1 score, and AUC-ROC to summarize how well the model performs. Additionally, it visualizes the confusion matrix to show the breakdown of correct and incorrect predictions and plots the ROC curve to illustrate the model's ability to distinguish between churned and non-churned customers."
   ]
  },
  {
   "cell_type": "markdown",
   "metadata": {},
   "source": [
    "### **8. Analyzing Feature Importance**\n",
    "\n",
    "#### Objectives:\n",
    "\n",
    "1. **Extract Feature Importance**:\n",
    "   - Use LightGBM’s built-in `feature_importances_` attribute to determine the contribution of each feature to the model's predictions.\n",
    "2. **Visualize Importance**:\n",
    "   - Create a bar plot to highlight the most significant features, allowing for insights into what drives customer churn."
   ]
  },
  {
   "cell_type": "code",
   "execution_count": 9,
   "metadata": {},
   "outputs": [
    {
     "data": {
      "image/png": "[encoded data removed]",
      "text/plain": [
       "<Figure size 1000x800 with 1 Axes>"
      ]
     },
     "metadata": {},
     "output_type": "display_data"
    }
   ],
   "source": [
    "# Feature Importance\n",
    "importance = clf.feature_importances_\n",
    "features = X_train.columns\n",
    "\n",
    "# Step 2: Create a DataFrame for better visualization\n",
    "df_importance = pd.DataFrame({'Feature': features, 'Importance': importance})\n",
    "df_importance = df_importance.sort_values(by='Importance', ascending=False)\n",
    "\n",
    "# Step 3: Plot the feature importance\n",
    "plt.figure(figsize=(10, 8))\n",
    "sns.barplot(x='Importance', y='Feature', data=df_importance)\n",
    "plt.xlabel('Feature Importance')\n",
    "plt.ylabel('Features')\n",
    "plt.title('Feature Importance from LightGBM Model')\n",
    "plt.tight_layout()\n",
    "plt.show()"
   ]
  },
  {
   "cell_type": "markdown",
   "metadata": {},
   "source": [
    "### **9. Hyperparameter Tuning with RandomizedSearchCV**\n",
    "\n",
    "#### Objectives:\n",
    "\n",
    "1. **Optimize the LightGBM Model**:\n",
    "   - Use `RandomizedSearchCV` to explore a wide range of hyperparameters and identify the best-performing configuration.\n",
    "2. **Evaluation**:\n",
    "   - Evaluate the tuned model on the test set using metrics like accuracy, recall, precision, and F1 score.\n",
    "3. **Save Results**:\n",
    "   - Save the cross-validation results for further analysis."
   ]
  },
  {
   "cell_type": "code",
   "execution_count": 10,
   "metadata": {},
   "outputs": [
    {
     "name": "stdout",
     "output_type": "stream",
     "text": [
      "Fitting 3 folds for each of 20 candidates, totalling 60 fits\n",
      "[LightGBM] [Info] Number of positive: 2222, number of negative: 1737\n",
      "[LightGBM] [Info] Auto-choosing col-wise multi-threading, the overhead of testing was 0.000507 seconds.\n",
      "You can set `force_col_wise=true` to remove the overhead.\n",
      "[LightGBM] [Info] Total Bins 2805\n",
      "[LightGBM] [Info] Number of data points in the train set: 3959, number of used features: 11\n",
      "[LightGBM] [Info] [binary:BoostFromScore]: pavg=0.561253 -> initscore=0.246248\n",
      "[LightGBM] [Info] Start training from score 0.246248\n",
      "RandomizedSearchCV completed in 26.45 seconds\n",
      "Randomized search results saved to: t:\\Mi unidad\\wdir\\s10-beta_bank\\data\\processed\\random_search_results.csv\n"
     ]
    }
   ],
   "source": [
    "# Define the parameter grid for LGBMClassifier\n",
    "param_grid = {\n",
    "    'boosting_type': ['gbdt', 'goss', 'dart'],\n",
    "    'subsample_for_bin': np.linspace(20000, 300000, 10).astype(int),\n",
    "    'objective': ['binary'],\n",
    "    'learning_rate': [0.01, 0.05, 0.1],\n",
    "    'n_estimators': [100, 200, 500],\n",
    "    'num_leaves': [31, 50, 100],\n",
    "    'max_depth': [-1, 10, 20],\n",
    "    'subsample': [0.8, 1.0],\n",
    "    'colsample_bytree': [0.8, 1.0],\n",
    "    'min_child_samples': [20, 40, 100],\n",
    "    'reg_alpha': [0.0, 0.1, 0.5],\n",
    "}\n",
    "\n",
    "# Initialize RandomizedSearchCV\n",
    "random_search = RandomizedSearchCV(\n",
    "    lgb.LGBMClassifier(random_state=42),\n",
    "    param_distributions=param_grid,\n",
    "    n_iter=20,\n",
    "    n_jobs=-1,\n",
    "    cv=3,\n",
    "    scoring='f1',\n",
    "    verbose=2,\n",
    "    random_state=42\n",
    ")\n",
    "\n",
    "# Start timer\n",
    "start_time = time.time()\n",
    "random_search.fit(X_train, y_train)\n",
    "end_time = time.time()\n",
    "\n",
    "# Display execution time\n",
    "print(f\"RandomizedSearchCV completed in {end_time - start_time:.2f} seconds\")\n",
    "\n",
    "# Save cross-validation results\n",
    "results_path = root_path / 'data' / 'processed' / \"random_search_results.csv\"\n",
    "cv_results = pd.DataFrame(random_search.cv_results_)\n",
    "cv_results.to_csv(results_path, index=False)\n",
    "print(f\"Randomized search results saved to: {results_path}\")\n"
   ]
  },
  {
   "cell_type": "code",
   "execution_count": 11,
   "metadata": {},
   "outputs": [
    {
     "data": {
      "text/markdown": [
       "### **Scores**"
      ],
      "text/plain": [
       "<IPython.core.display.Markdown object>"
      ]
     },
     "metadata": {},
     "output_type": "display_data"
    },
    {
     "name": "stdout",
     "output_type": "stream",
     "text": [
      "\u001b[1mAccuracy Score\u001b[0m\t: 0.9280\n",
      "\u001b[1mPrecision\u001b[0m\t\t: 0.9499\n",
      "\u001b[1mRecall\u001b[0m\t\t: 0.9204\n",
      "\u001b[1mF1 Score\u001b[0m\t\t: 0.9349\n",
      "\u001b[1mROC AUC Score\u001b[0m\t: 0.9735\n",
      "\n",
      "Classification Report:\n",
      "              precision    recall  f1-score   support\n",
      "\n",
      "         0.0       0.90      0.94      0.92       579\n",
      "         1.0       0.95      0.92      0.93       741\n",
      "\n",
      "    accuracy                           0.93      1320\n",
      "   macro avg       0.93      0.93      0.93      1320\n",
      "weighted avg       0.93      0.93      0.93      1320\n",
      "\n"
     ]
    },
    {
     "data": {
      "image/png": "[encoded data removed]",
      "text/plain": [
       "<Figure size 600x400 with 1 Axes>"
      ]
     },
     "metadata": {},
     "output_type": "display_data"
    },
    {
     "data": {
      "application/vnd.plotly.v1+json": {
       "config": {
        "plotlyServerURL": "https://plot.ly"
       },
       "data": [
        {
         "mode": "lines",
         "name": "AUC = 0.97",
         "type": "scatter",
         "x": [
          0,
          0,
          0,
          0,
          0,
          0,
          0,
          0,
          0,
          0,
          0,
          0.0017271157167530224,
          0.0017271157167530224,
          0.0034542314335060447,
          0.0034542314335060447,
          0.0051813471502590676,
          0.0051813471502590676,
          0.0069084628670120895,
          0.0069084628670120895,
          0.008635578583765112,
          0.008635578583765112,
          0.010362694300518135,
          0.010362694300518135,
          0.013816925734024179,
          0.013816925734024179,
          0.015544041450777202,
          0.015544041450777202,
          0.018998272884283247,
          0.018998272884283247,
          0.022452504317789293,
          0.022452504317789293,
          0.024179620034542316,
          0.024179620034542316,
          0.025906735751295335,
          0.025906735751295335,
          0.027633851468048358,
          0.027633851468048358,
          0.02936096718480138,
          0.02936096718480138,
          0.031088082901554404,
          0.031088082901554404,
          0.03281519861830743,
          0.03281519861830743,
          0.03454231433506045,
          0.03454231433506045,
          0.03626943005181347,
          0.03626943005181347,
          0.037996545768566495,
          0.037996545768566495,
          0.039723661485319514,
          0.039723661485319514,
          0.04145077720207254,
          0.04145077720207254,
          0.05008635578583765,
          0.05008635578583765,
          0.05181347150259067,
          0.05181347150259067,
          0.0535405872193437,
          0.0535405872193437,
          0.055267702936096716,
          0.055267702936096716,
          0.05699481865284974,
          0.05699481865284974,
          0.05872193436960276,
          0.05872193436960276,
          0.06217616580310881,
          0.06217616580310881,
          0.06563039723661486,
          0.06563039723661486,
          0.06735751295336788,
          0.06735751295336788,
          0.07253886010362694,
          0.07253886010362694,
          0.0846286701208981,
          0.0846286701208981,
          0.08981001727115717,
          0.08981001727115717,
          0.09844559585492228,
          0.09844559585492228,
          0.11398963730569948,
          0.11398963730569948,
          0.11917098445595854,
          0.11917098445595854,
          0.12607944732297063,
          0.12607944732297063,
          0.12780656303972365,
          0.12780656303972365,
          0.13298791018998274,
          0.13298791018998274,
          0.14162348877374784,
          0.14162348877374784,
          0.14680483592400692,
          0.14680483592400692,
          0.19170984455958548,
          0.19170984455958548,
          0.22625215889464595,
          0.22625215889464595,
          0.231433506044905,
          0.231433506044905,
          0.23834196891191708,
          0.23834196891191708,
          0.25906735751295334,
          0.25906735751295334,
          0.27806563039723664,
          0.27806563039723664,
          0.28842832469775476,
          0.28842832469775476,
          0.2970639032815199,
          0.2970639032815199,
          0.30397236614853196,
          0.30397236614853196,
          0.31088082901554404,
          0.31088082901554404,
          0.33678756476683935,
          0.33678756476683935,
          0.3454231433506045,
          0.3454231433506045,
          0.35578583765112265,
          0.35578583765112265,
          0.3592400690846287,
          0.3592400690846287,
          0.37132987910189985,
          0.37132987910189985,
          0.38169257340241797,
          0.38169257340241797,
          0.40414507772020725,
          0.40414507772020725,
          0.4110535405872193,
          0.4110535405872193,
          0.43523316062176165,
          0.43523316062176165,
          0.5077720207253886,
          0.5077720207253886,
          0.5129533678756477,
          0.5129533678756477,
          0.5146804835924007,
          0.5146804835924007,
          0.531951640759931,
          0.531951640759931,
          0.540587219343696,
          0.540587219343696,
          0.5751295336787565,
          0.5751295336787565,
          0.6096718480138169,
          0.6096718480138169,
          0.6373056994818653,
          0.6373056994818653,
          0.6632124352331606,
          0.6632124352331606,
          0.687392055267703,
          0.687392055267703,
          0.7754749568221071,
          0.7754749568221071,
          0.9585492227979274,
          0.9585492227979274,
          1
         ],
         "y": [
          0,
          0.001349527665317139,
          0.12010796221322537,
          0.12280701754385964,
          0.16059379217273953,
          0.1632928475033738,
          0.44129554655870445,
          0.44399460188933876,
          0.46963562753036436,
          0.47233468286099867,
          0.7638326585695007,
          0.7638326585695007,
          0.7840755735492577,
          0.7840755735492577,
          0.7921727395411606,
          0.7921727395411606,
          0.8394062078272605,
          0.8394062078272605,
          0.8434547908232118,
          0.8434547908232118,
          0.8502024291497976,
          0.8502024291497976,
          0.8556005398110661,
          0.8556005398110661,
          0.8582995951417004,
          0.8582995951417004,
          0.8609986504723347,
          0.8609986504723347,
          0.863697705802969,
          0.863697705802969,
          0.8690958164642375,
          0.8690958164642375,
          0.8704453441295547,
          0.8704453441295547,
          0.8744939271255061,
          0.8744939271255061,
          0.8758434547908233,
          0.8758434547908233,
          0.8879892037786775,
          0.8879892037786775,
          0.8920377867746289,
          0.8920377867746289,
          0.8960863697705803,
          0.8960863697705803,
          0.8987854251012146,
          0.8987854251012146,
          0.9014844804318488,
          0.9014844804318488,
          0.9041835357624831,
          0.9041835357624831,
          0.9055330634278003,
          0.9055330634278003,
          0.9082321187584346,
          0.9082321187584346,
          0.9109311740890689,
          0.9109311740890689,
          0.9122807017543859,
          0.9122807017543859,
          0.9136302294197031,
          0.9136302294197031,
          0.9149797570850202,
          0.9149797570850202,
          0.9163292847503374,
          0.9163292847503374,
          0.9176788124156545,
          0.9176788124156545,
          0.9203778677462888,
          0.9203778677462888,
          0.9257759784075573,
          0.9257759784075573,
          0.9271255060728745,
          0.9271255060728745,
          0.9298245614035088,
          0.9298245614035088,
          0.9338731443994602,
          0.9338731443994602,
          0.9352226720647774,
          0.9352226720647774,
          0.9365721997300944,
          0.9365721997300944,
          0.9379217273954116,
          0.9379217273954116,
          0.9392712550607287,
          0.9392712550607287,
          0.9406207827260459,
          0.9406207827260459,
          0.941970310391363,
          0.941970310391363,
          0.9460188933873145,
          0.9460188933873145,
          0.9473684210526315,
          0.9473684210526315,
          0.9487179487179487,
          0.9487179487179487,
          0.9500674763832658,
          0.9500674763832658,
          0.951417004048583,
          0.951417004048583,
          0.9554655870445344,
          0.9554655870445344,
          0.9595141700404858,
          0.9595141700404858,
          0.9608636977058029,
          0.9608636977058029,
          0.9635627530364372,
          0.9635627530364372,
          0.9649122807017544,
          0.9649122807017544,
          0.9676113360323887,
          0.9676113360323887,
          0.9689608636977058,
          0.9689608636977058,
          0.970310391363023,
          0.970310391363023,
          0.97165991902834,
          0.97165991902834,
          0.9730094466936572,
          0.9730094466936572,
          0.9743589743589743,
          0.9743589743589743,
          0.9757085020242915,
          0.9757085020242915,
          0.9770580296896086,
          0.9770580296896086,
          0.9784075573549258,
          0.9784075573549258,
          0.979757085020243,
          0.979757085020243,
          0.9811066126855601,
          0.9811066126855601,
          0.9824561403508771,
          0.9824561403508771,
          0.9838056680161943,
          0.9838056680161943,
          0.9851551956815114,
          0.9851551956815114,
          0.9865047233468286,
          0.9865047233468286,
          0.9878542510121457,
          0.9878542510121457,
          0.9892037786774629,
          0.9892037786774629,
          0.9919028340080972,
          0.9919028340080972,
          0.9932523616734144,
          0.9932523616734144,
          0.9946018893387314,
          0.9946018893387314,
          0.9959514170040485,
          0.9959514170040485,
          0.9973009446693657,
          0.9973009446693657,
          0.9986504723346828,
          0.9986504723346828,
          1,
          1
         ]
        },
        {
         "line": {
          "color": "red",
          "dash": "dash"
         },
         "mode": "lines",
         "showlegend": false,
         "type": "scatter",
         "x": [
          0,
          1
         ],
         "y": [
          0,
          1
         ]
        }
       ],
       "layout": {
        "autosize": false,
        "height": 600,
        "showlegend": true,
        "template": {
         "data": {
          "bar": [
           {
            "error_x": {
             "color": "#2a3f5f"
            },
            "error_y": {
             "color": "#2a3f5f"
            },
            "marker": {
             "line": {
              "color": "#E5ECF6",
              "width": 0.5
             },
             "pattern": {
              "fillmode": "overlay",
              "size": 10,
              "solidity": 0.2
             }
            },
            "type": "bar"
           }
          ],
          "barpolar": [
           {
            "marker": {
             "line": {
              "color": "#E5ECF6",
              "width": 0.5
             },
             "pattern": {
              "fillmode": "overlay",
              "size": 10,
              "solidity": 0.2
             }
            },
            "type": "barpolar"
           }
          ],
          "carpet": [
           {
            "aaxis": {
             "endlinecolor": "#2a3f5f",
             "gridcolor": "white",
             "linecolor": "white",
             "minorgridcolor": "white",
             "startlinecolor": "#2a3f5f"
            },
            "baxis": {
             "endlinecolor": "#2a3f5f",
             "gridcolor": "white",
             "linecolor": "white",
             "minorgridcolor": "white",
             "startlinecolor": "#2a3f5f"
            },
            "type": "carpet"
           }
          ],
          "choropleth": [
           {
            "colorbar": {
             "outlinewidth": 0,
             "ticks": ""
            },
            "type": "choropleth"
           }
          ],
          "contour": [
           {
            "colorbar": {
             "outlinewidth": 0,
             "ticks": ""
            },
            "colorscale": [
             [
              0,
              "#0d0887"
             ],
             [
              0.1111111111111111,
              "#46039f"
             ],
             [
              0.2222222222222222,
              "#7201a8"
             ],
             [
              0.3333333333333333,
              "#9c179e"
             ],
             [
              0.4444444444444444,
              "#bd3786"
             ],
             [
              0.5555555555555556,
              "#d8576b"
             ],
             [
              0.6666666666666666,
              "#ed7953"
             ],
             [
              0.7777777777777778,
              "#fb9f3a"
             ],
             [
              0.8888888888888888,
              "#fdca26"
             ],
             [
              1,
              "#f0f921"
             ]
            ],
            "type": "contour"
           }
          ],
          "contourcarpet": [
           {
            "colorbar": {
             "outlinewidth": 0,
             "ticks": ""
            },
            "type": "contourcarpet"
           }
          ],
          "heatmap": [
           {
            "colorbar": {
             "outlinewidth": 0,
             "ticks": ""
            },
            "colorscale": [
             [
              0,
              "#0d0887"
             ],
             [
              0.1111111111111111,
              "#46039f"
             ],
             [
              0.2222222222222222,
              "#7201a8"
             ],
             [
              0.3333333333333333,
              "#9c179e"
             ],
             [
              0.4444444444444444,
              "#bd3786"
             ],
             [
              0.5555555555555556,
              "#d8576b"
             ],
             [
              0.6666666666666666,
              "#ed7953"
             ],
             [
              0.7777777777777778,
              "#fb9f3a"
             ],
             [
              0.8888888888888888,
              "#fdca26"
             ],
             [
              1,
              "#f0f921"
             ]
            ],
            "type": "heatmap"
           }
          ],
          "heatmapgl": [
           {
            "colorbar": {
             "outlinewidth": 0,
             "ticks": ""
            },
            "colorscale": [
             [
              0,
              "#0d0887"
             ],
             [
              0.1111111111111111,
              "#46039f"
             ],
             [
              0.2222222222222222,
              "#7201a8"
             ],
             [
              0.3333333333333333,
              "#9c179e"
             ],
             [
              0.4444444444444444,
              "#bd3786"
             ],
             [
              0.5555555555555556,
              "#d8576b"
             ],
             [
              0.6666666666666666,
              "#ed7953"
             ],
             [
              0.7777777777777778,
              "#fb9f3a"
             ],
             [
              0.8888888888888888,
              "#fdca26"
             ],
             [
              1,
              "#f0f921"
             ]
            ],
            "type": "heatmapgl"
           }
          ],
          "histogram": [
           {
            "marker": {
             "pattern": {
              "fillmode": "overlay",
              "size": 10,
              "solidity": 0.2
             }
            },
            "type": "histogram"
           }
          ],
          "histogram2d": [
           {
            "colorbar": {
             "outlinewidth": 0,
             "ticks": ""
            },
            "colorscale": [
             [
              0,
              "#0d0887"
             ],
             [
              0.1111111111111111,
              "#46039f"
             ],
             [
              0.2222222222222222,
              "#7201a8"
             ],
             [
              0.3333333333333333,
              "#9c179e"
             ],
             [
              0.4444444444444444,
              "#bd3786"
             ],
             [
              0.5555555555555556,
              "#d8576b"
             ],
             [
              0.6666666666666666,
              "#ed7953"
             ],
             [
              0.7777777777777778,
              "#fb9f3a"
             ],
             [
              0.8888888888888888,
              "#fdca26"
             ],
             [
              1,
              "#f0f921"
             ]
            ],
            "type": "histogram2d"
           }
          ],
          "histogram2dcontour": [
           {
            "colorbar": {
             "outlinewidth": 0,
             "ticks": ""
            },
            "colorscale": [
             [
              0,
              "#0d0887"
             ],
             [
              0.1111111111111111,
              "#46039f"
             ],
             [
              0.2222222222222222,
              "#7201a8"
             ],
             [
              0.3333333333333333,
              "#9c179e"
             ],
             [
              0.4444444444444444,
              "#bd3786"
             ],
             [
              0.5555555555555556,
              "#d8576b"
             ],
             [
              0.6666666666666666,
              "#ed7953"
             ],
             [
              0.7777777777777778,
              "#fb9f3a"
             ],
             [
              0.8888888888888888,
              "#fdca26"
             ],
             [
              1,
              "#f0f921"
             ]
            ],
            "type": "histogram2dcontour"
           }
          ],
          "mesh3d": [
           {
            "colorbar": {
             "outlinewidth": 0,
             "ticks": ""
            },
            "type": "mesh3d"
           }
          ],
          "parcoords": [
           {
            "line": {
             "colorbar": {
              "outlinewidth": 0,
              "ticks": ""
             }
            },
            "type": "parcoords"
           }
          ],
          "pie": [
           {
            "automargin": true,
            "type": "pie"
           }
          ],
          "scatter": [
           {
            "fillpattern": {
             "fillmode": "overlay",
             "size": 10,
             "solidity": 0.2
            },
            "type": "scatter"
           }
          ],
          "scatter3d": [
           {
            "line": {
             "colorbar": {
              "outlinewidth": 0,
              "ticks": ""
             }
            },
            "marker": {
             "colorbar": {
              "outlinewidth": 0,
              "ticks": ""
             }
            },
            "type": "scatter3d"
           }
          ],
          "scattercarpet": [
           {
            "marker": {
             "colorbar": {
              "outlinewidth": 0,
              "ticks": ""
             }
            },
            "type": "scattercarpet"
           }
          ],
          "scattergeo": [
           {
            "marker": {
             "colorbar": {
              "outlinewidth": 0,
              "ticks": ""
             }
            },
            "type": "scattergeo"
           }
          ],
          "scattergl": [
           {
            "marker": {
             "colorbar": {
              "outlinewidth": 0,
              "ticks": ""
             }
            },
            "type": "scattergl"
           }
          ],
          "scattermapbox": [
           {
            "marker": {
             "colorbar": {
              "outlinewidth": 0,
              "ticks": ""
             }
            },
            "type": "scattermapbox"
           }
          ],
          "scatterpolar": [
           {
            "marker": {
             "colorbar": {
              "outlinewidth": 0,
              "ticks": ""
             }
            },
            "type": "scatterpolar"
           }
          ],
          "scatterpolargl": [
           {
            "marker": {
             "colorbar": {
              "outlinewidth": 0,
              "ticks": ""
             }
            },
            "type": "scatterpolargl"
           }
          ],
          "scatterternary": [
           {
            "marker": {
             "colorbar": {
              "outlinewidth": 0,
              "ticks": ""
             }
            },
            "type": "scatterternary"
           }
          ],
          "surface": [
           {
            "colorbar": {
             "outlinewidth": 0,
             "ticks": ""
            },
            "colorscale": [
             [
              0,
              "#0d0887"
             ],
             [
              0.1111111111111111,
              "#46039f"
             ],
             [
              0.2222222222222222,
              "#7201a8"
             ],
             [
              0.3333333333333333,
              "#9c179e"
             ],
             [
              0.4444444444444444,
              "#bd3786"
             ],
             [
              0.5555555555555556,
              "#d8576b"
             ],
             [
              0.6666666666666666,
              "#ed7953"
             ],
             [
              0.7777777777777778,
              "#fb9f3a"
             ],
             [
              0.8888888888888888,
              "#fdca26"
             ],
             [
              1,
              "#f0f921"
             ]
            ],
            "type": "surface"
           }
          ],
          "table": [
           {
            "cells": {
             "fill": {
              "color": "#EBF0F8"
             },
             "line": {
              "color": "white"
             }
            },
            "header": {
             "fill": {
              "color": "#C8D4E3"
             },
             "line": {
              "color": "white"
             }
            },
            "type": "table"
           }
          ]
         },
         "layout": {
          "annotationdefaults": {
           "arrowcolor": "#2a3f5f",
           "arrowhead": 0,
           "arrowwidth": 1
          },
          "autotypenumbers": "strict",
          "coloraxis": {
           "colorbar": {
            "outlinewidth": 0,
            "ticks": ""
           }
          },
          "colorscale": {
           "diverging": [
            [
             0,
             "#8e0152"
            ],
            [
             0.1,
             "#c51b7d"
            ],
            [
             0.2,
             "#de77ae"
            ],
            [
             0.3,
             "#f1b6da"
            ],
            [
             0.4,
             "#fde0ef"
            ],
            [
             0.5,
             "#f7f7f7"
            ],
            [
             0.6,
             "#e6f5d0"
            ],
            [
             0.7,
             "#b8e186"
            ],
            [
             0.8,
             "#7fbc41"
            ],
            [
             0.9,
             "#4d9221"
            ],
            [
             1,
             "#276419"
            ]
           ],
           "sequential": [
            [
             0,
             "#0d0887"
            ],
            [
             0.1111111111111111,
             "#46039f"
            ],
            [
             0.2222222222222222,
             "#7201a8"
            ],
            [
             0.3333333333333333,
             "#9c179e"
            ],
            [
             0.4444444444444444,
             "#bd3786"
            ],
            [
             0.5555555555555556,
             "#d8576b"
            ],
            [
             0.6666666666666666,
             "#ed7953"
            ],
            [
             0.7777777777777778,
             "#fb9f3a"
            ],
            [
             0.8888888888888888,
             "#fdca26"
            ],
            [
             1,
             "#f0f921"
            ]
           ],
           "sequentialminus": [
            [
             0,
             "#0d0887"
            ],
            [
             0.1111111111111111,
             "#46039f"
            ],
            [
             0.2222222222222222,
             "#7201a8"
            ],
            [
             0.3333333333333333,
             "#9c179e"
            ],
            [
             0.4444444444444444,
             "#bd3786"
            ],
            [
             0.5555555555555556,
             "#d8576b"
            ],
            [
             0.6666666666666666,
             "#ed7953"
            ],
            [
             0.7777777777777778,
             "#fb9f3a"
            ],
            [
             0.8888888888888888,
             "#fdca26"
            ],
            [
             1,
             "#f0f921"
            ]
           ]
          },
          "colorway": [
           "#636efa",
           "#EF553B",
           "#00cc96",
           "#ab63fa",
           "#FFA15A",
           "#19d3f3",
           "#FF6692",
           "#B6E880",
           "#FF97FF",
           "#FECB52"
          ],
          "font": {
           "color": "#2a3f5f"
          },
          "geo": {
           "bgcolor": "white",
           "lakecolor": "white",
           "landcolor": "#E5ECF6",
           "showlakes": true,
           "showland": true,
           "subunitcolor": "white"
          },
          "hoverlabel": {
           "align": "left"
          },
          "hovermode": "closest",
          "mapbox": {
           "style": "light"
          },
          "paper_bgcolor": "white",
          "plot_bgcolor": "#E5ECF6",
          "polar": {
           "angularaxis": {
            "gridcolor": "white",
            "linecolor": "white",
            "ticks": ""
           },
           "bgcolor": "#E5ECF6",
           "radialaxis": {
            "gridcolor": "white",
            "linecolor": "white",
            "ticks": ""
           }
          },
          "scene": {
           "xaxis": {
            "backgroundcolor": "#E5ECF6",
            "gridcolor": "white",
            "gridwidth": 2,
            "linecolor": "white",
            "showbackground": true,
            "ticks": "",
            "zerolinecolor": "white"
           },
           "yaxis": {
            "backgroundcolor": "#E5ECF6",
            "gridcolor": "white",
            "gridwidth": 2,
            "linecolor": "white",
            "showbackground": true,
            "ticks": "",
            "zerolinecolor": "white"
           },
           "zaxis": {
            "backgroundcolor": "#E5ECF6",
            "gridcolor": "white",
            "gridwidth": 2,
            "linecolor": "white",
            "showbackground": true,
            "ticks": "",
            "zerolinecolor": "white"
           }
          },
          "shapedefaults": {
           "line": {
            "color": "#2a3f5f"
           }
          },
          "ternary": {
           "aaxis": {
            "gridcolor": "white",
            "linecolor": "white",
            "ticks": ""
           },
           "baxis": {
            "gridcolor": "white",
            "linecolor": "white",
            "ticks": ""
           },
           "bgcolor": "#E5ECF6",
           "caxis": {
            "gridcolor": "white",
            "linecolor": "white",
            "ticks": ""
           }
          },
          "title": {
           "x": 0.05
          },
          "xaxis": {
           "automargin": true,
           "gridcolor": "white",
           "linecolor": "white",
           "ticks": "",
           "title": {
            "standoff": 15
           },
           "zerolinecolor": "white",
           "zerolinewidth": 2
          },
          "yaxis": {
           "automargin": true,
           "gridcolor": "white",
           "linecolor": "white",
           "ticks": "",
           "title": {
            "standoff": 15
           },
           "zerolinecolor": "white",
           "zerolinewidth": 2
          }
         }
        },
        "title": {
         "text": "ROC Curve"
        },
        "width": 700,
        "xaxis": {
         "title": {
          "text": "False Positive Rate"
         }
        },
        "yaxis": {
         "title": {
          "text": "True Positive Rate"
         }
        }
       }
      }
     },
     "metadata": {},
     "output_type": "display_data"
    }
   ],
   "source": [
    "evaluator = ModelEvaluator(\n",
    "    y_true = y_valid,\n",
    "    y_pred = random_search.predict(X_valid),\n",
    "    y_proba = random_search.predict_proba(X_valid)[:, 1]\n",
    "    )\n",
    "\n",
    "# Display scores\n",
    "evaluator.display_scores()\n",
    "\n",
    "# Plot the confusion matrix\n",
    "evaluator.plot_confusion_matrix()\n",
    "\n",
    "# Plot the ROC curve\n",
    "evaluator.plot_roc_curve()"
   ]
  },
  {
   "cell_type": "markdown",
   "metadata": {},
   "source": [
    "## 10. Evaluate on test set"
   ]
  },
  {
   "cell_type": "markdown",
   "metadata": {},
   "source": [
    "Evaluating a machine learning model on a separate dataset (not the training data) is vital. This process helps detect overfitting (where the model learns training data quirks instead of general patterns), assesses the model's ability to generalize to new, unseen data, ensures robustness (consistent performance across varied data), and helps avoid bias present in the training data. Essentially, it provides a more realistic measure of real-world performance."
   ]
  },
  {
   "cell_type": "code",
   "execution_count": 12,
   "metadata": {},
   "outputs": [
    {
     "data": {
      "text/markdown": [
       "### **Scores**"
      ],
      "text/plain": [
       "<IPython.core.display.Markdown object>"
      ]
     },
     "metadata": {},
     "output_type": "display_data"
    },
    {
     "name": "stdout",
     "output_type": "stream",
     "text": [
      "\u001b[1mAccuracy Score\u001b[0m\t: 0.9295\n",
      "\u001b[1mPrecision\u001b[0m\t\t: 0.9487\n",
      "\u001b[1mRecall\u001b[0m\t\t: 0.9243\n",
      "\u001b[1mF1 Score\u001b[0m\t\t: 0.9363\n",
      "\u001b[1mROC AUC Score\u001b[0m\t: 0.9742\n",
      "\n",
      "Classification Report:\n",
      "              precision    recall  f1-score   support\n",
      "\n",
      "         0.0       0.91      0.94      0.92       580\n",
      "         1.0       0.95      0.92      0.94       740\n",
      "\n",
      "    accuracy                           0.93      1320\n",
      "   macro avg       0.93      0.93      0.93      1320\n",
      "weighted avg       0.93      0.93      0.93      1320\n",
      "\n"
     ]
    },
    {
     "data": {
      "image/png": "[encoded data removed]",
      "text/plain": [
       "<Figure size 600x400 with 1 Axes>"
      ]
     },
     "metadata": {},
     "output_type": "display_data"
    },
    {
     "data": {
      "application/vnd.plotly.v1+json": {
       "config": {
        "plotlyServerURL": "https://plot.ly"
       },
       "data": [
        {
         "mode": "lines",
         "name": "AUC = 0.97",
         "type": "scatter",
         "x": [
          0,
          0,
          0,
          0.0017241379310344827,
          0.0017241379310344827,
          0.0034482758620689655,
          0.0034482758620689655,
          0.005172413793103448,
          0.005172413793103448,
          0.006896551724137931,
          0.006896551724137931,
          0.008620689655172414,
          0.008620689655172414,
          0.010344827586206896,
          0.010344827586206896,
          0.01206896551724138,
          0.01206896551724138,
          0.013793103448275862,
          0.013793103448275862,
          0.015517241379310345,
          0.015517241379310345,
          0.017241379310344827,
          0.017241379310344827,
          0.01896551724137931,
          0.01896551724137931,
          0.020689655172413793,
          0.020689655172413793,
          0.022413793103448276,
          0.022413793103448276,
          0.02413793103448276,
          0.02413793103448276,
          0.02586206896551724,
          0.02586206896551724,
          0.027586206896551724,
          0.027586206896551724,
          0.03103448275862069,
          0.03103448275862069,
          0.032758620689655175,
          0.032758620689655175,
          0.034482758620689655,
          0.034482758620689655,
          0.03620689655172414,
          0.03620689655172414,
          0.03793103448275862,
          0.03793103448275862,
          0.039655172413793106,
          0.039655172413793106,
          0.041379310344827586,
          0.041379310344827586,
          0.04310344827586207,
          0.04310344827586207,
          0.04655172413793104,
          0.04655172413793104,
          0.04827586206896552,
          0.04827586206896552,
          0.05,
          0.05,
          0.05172413793103448,
          0.05172413793103448,
          0.05344827586206897,
          0.05344827586206897,
          0.056896551724137934,
          0.056896551724137934,
          0.0603448275862069,
          0.0603448275862069,
          0.06206896551724138,
          0.06206896551724138,
          0.06379310344827586,
          0.06379310344827586,
          0.08275862068965517,
          0.08275862068965517,
          0.08448275862068966,
          0.08448275862068966,
          0.08620689655172414,
          0.08620689655172414,
          0.09482758620689655,
          0.09482758620689655,
          0.1,
          0.1,
          0.10517241379310345,
          0.10517241379310345,
          0.10862068965517241,
          0.10862068965517241,
          0.11379310344827587,
          0.11379310344827587,
          0.12241379310344827,
          0.12241379310344827,
          0.12413793103448276,
          0.12413793103448276,
          0.13620689655172413,
          0.13620689655172413,
          0.1413793103448276,
          0.1413793103448276,
          0.15344827586206897,
          0.15344827586206897,
          0.15689655172413794,
          0.15689655172413794,
          0.16896551724137931,
          0.16896551724137931,
          0.1810344827586207,
          0.1810344827586207,
          0.21551724137931033,
          0.21551724137931033,
          0.2189655172413793,
          0.2189655172413793,
          0.22241379310344828,
          0.22241379310344828,
          0.23103448275862068,
          0.23103448275862068,
          0.23620689655172414,
          0.23620689655172414,
          0.2396551724137931,
          0.2396551724137931,
          0.24310344827586206,
          0.24310344827586206,
          0.25,
          0.25,
          0.253448275862069,
          0.253448275862069,
          0.2620689655172414,
          0.2620689655172414,
          0.30689655172413793,
          0.30689655172413793,
          0.3103448275862069,
          0.3103448275862069,
          0.3137931034482759,
          0.3137931034482759,
          0.3413793103448276,
          0.3413793103448276,
          0.34655172413793106,
          0.34655172413793106,
          0.3603448275862069,
          0.3603448275862069,
          0.47758620689655173,
          0.47758620689655173,
          0.5241379310344828,
          0.5241379310344828,
          0.5413793103448276,
          0.5413793103448276,
          0.5448275862068965,
          0.5448275862068965,
          0.5689655172413793,
          0.5689655172413793,
          0.6189655172413793,
          0.6189655172413793,
          0.6655172413793103,
          0.6655172413793103,
          0.6689655172413793,
          0.6689655172413793,
          0.6913793103448276,
          0.6913793103448276,
          0.7189655172413794,
          0.7189655172413794,
          0.8103448275862069,
          0.8103448275862069,
          0.9568965517241379,
          0.9568965517241379,
          1
         ],
         "y": [
          0,
          0.0013513513513513514,
          0.6364864864864865,
          0.6364864864864865,
          0.777027027027027,
          0.777027027027027,
          0.7878378378378378,
          0.7878378378378378,
          0.7959459459459459,
          0.7959459459459459,
          0.8040540540540541,
          0.8040540540540541,
          0.822972972972973,
          0.822972972972973,
          0.8243243243243243,
          0.8243243243243243,
          0.8283783783783784,
          0.8283783783783784,
          0.831081081081081,
          0.831081081081081,
          0.8351351351351352,
          0.8351351351351352,
          0.8540540540540541,
          0.8540540540540541,
          0.8554054054054054,
          0.8554054054054054,
          0.8581081081081081,
          0.8581081081081081,
          0.8594594594594595,
          0.8594594594594595,
          0.8621621621621621,
          0.8621621621621621,
          0.8635135135135135,
          0.8635135135135135,
          0.8689189189189189,
          0.8689189189189189,
          0.8729729729729729,
          0.8729729729729729,
          0.8756756756756757,
          0.8756756756756757,
          0.8864864864864865,
          0.8864864864864865,
          0.8891891891891892,
          0.8891891891891892,
          0.8918918918918919,
          0.8918918918918919,
          0.8932432432432432,
          0.8932432432432432,
          0.8972972972972973,
          0.8972972972972973,
          0.8986486486486487,
          0.8986486486486487,
          0.904054054054054,
          0.904054054054054,
          0.9094594594594595,
          0.9094594594594595,
          0.9135135135135135,
          0.9135135135135135,
          0.9148648648648648,
          0.9148648648648648,
          0.918918918918919,
          0.918918918918919,
          0.9202702702702703,
          0.9202702702702703,
          0.9216216216216216,
          0.9216216216216216,
          0.9243243243243243,
          0.9243243243243243,
          0.927027027027027,
          0.927027027027027,
          0.9283783783783783,
          0.9283783783783783,
          0.9310810810810811,
          0.9310810810810811,
          0.9337837837837838,
          0.9337837837837838,
          0.9351351351351351,
          0.9351351351351351,
          0.9364864864864865,
          0.9364864864864865,
          0.9378378378378378,
          0.9378378378378378,
          0.9405405405405406,
          0.9405405405405406,
          0.9418918918918919,
          0.9418918918918919,
          0.9459459459459459,
          0.9459459459459459,
          0.9472972972972973,
          0.9472972972972973,
          0.9486486486486486,
          0.9486486486486486,
          0.95,
          0.95,
          0.9513513513513514,
          0.9513513513513514,
          0.9540540540540541,
          0.9540540540540541,
          0.9554054054054054,
          0.9554054054054054,
          0.9567567567567568,
          0.9567567567567568,
          0.9594594594594594,
          0.9594594594594594,
          0.9621621621621622,
          0.9621621621621622,
          0.9635135135135136,
          0.9635135135135136,
          0.9648648648648649,
          0.9648648648648649,
          0.9662162162162162,
          0.9662162162162162,
          0.9675675675675676,
          0.9675675675675676,
          0.9689189189189189,
          0.9689189189189189,
          0.9702702702702702,
          0.9702702702702702,
          0.9716216216216216,
          0.9716216216216216,
          0.9743243243243244,
          0.9743243243243244,
          0.9756756756756757,
          0.9756756756756757,
          0.977027027027027,
          0.977027027027027,
          0.9783783783783784,
          0.9783783783783784,
          0.9797297297297297,
          0.9797297297297297,
          0.981081081081081,
          0.981081081081081,
          0.9824324324324324,
          0.9824324324324324,
          0.9837837837837838,
          0.9837837837837838,
          0.9851351351351352,
          0.9851351351351352,
          0.9864864864864865,
          0.9864864864864865,
          0.9878378378378379,
          0.9878378378378379,
          0.9891891891891892,
          0.9891891891891892,
          0.9905405405405405,
          0.9905405405405405,
          0.9932432432432432,
          0.9932432432432432,
          0.9945945945945946,
          0.9945945945945946,
          0.995945945945946,
          0.995945945945946,
          0.9972972972972973,
          0.9972972972972973,
          0.9986486486486487,
          0.9986486486486487,
          1,
          1
         ]
        },
        {
         "line": {
          "color": "red",
          "dash": "dash"
         },
         "mode": "lines",
         "showlegend": false,
         "type": "scatter",
         "x": [
          0,
          1
         ],
         "y": [
          0,
          1
         ]
        }
       ],
       "layout": {
        "autosize": false,
        "height": 600,
        "showlegend": true,
        "template": {
         "data": {
          "bar": [
           {
            "error_x": {
             "color": "#2a3f5f"
            },
            "error_y": {
             "color": "#2a3f5f"
            },
            "marker": {
             "line": {
              "color": "#E5ECF6",
              "width": 0.5
             },
             "pattern": {
              "fillmode": "overlay",
              "size": 10,
              "solidity": 0.2
             }
            },
            "type": "bar"
           }
          ],
          "barpolar": [
           {
            "marker": {
             "line": {
              "color": "#E5ECF6",
              "width": 0.5
             },
             "pattern": {
              "fillmode": "overlay",
              "size": 10,
              "solidity": 0.2
             }
            },
            "type": "barpolar"
           }
          ],
          "carpet": [
           {
            "aaxis": {
             "endlinecolor": "#2a3f5f",
             "gridcolor": "white",
             "linecolor": "white",
             "minorgridcolor": "white",
             "startlinecolor": "#2a3f5f"
            },
            "baxis": {
             "endlinecolor": "#2a3f5f",
             "gridcolor": "white",
             "linecolor": "white",
             "minorgridcolor": "white",
             "startlinecolor": "#2a3f5f"
            },
            "type": "carpet"
           }
          ],
          "choropleth": [
           {
            "colorbar": {
             "outlinewidth": 0,
             "ticks": ""
            },
            "type": "choropleth"
           }
          ],
          "contour": [
           {
            "colorbar": {
             "outlinewidth": 0,
             "ticks": ""
            },
            "colorscale": [
             [
              0,
              "#0d0887"
             ],
             [
              0.1111111111111111,
              "#46039f"
             ],
             [
              0.2222222222222222,
              "#7201a8"
             ],
             [
              0.3333333333333333,
              "#9c179e"
             ],
             [
              0.4444444444444444,
              "#bd3786"
             ],
             [
              0.5555555555555556,
              "#d8576b"
             ],
             [
              0.6666666666666666,
              "#ed7953"
             ],
             [
              0.7777777777777778,
              "#fb9f3a"
             ],
             [
              0.8888888888888888,
              "#fdca26"
             ],
             [
              1,
              "#f0f921"
             ]
            ],
            "type": "contour"
           }
          ],
          "contourcarpet": [
           {
            "colorbar": {
             "outlinewidth": 0,
             "ticks": ""
            },
            "type": "contourcarpet"
           }
          ],
          "heatmap": [
           {
            "colorbar": {
             "outlinewidth": 0,
             "ticks": ""
            },
            "colorscale": [
             [
              0,
              "#0d0887"
             ],
             [
              0.1111111111111111,
              "#46039f"
             ],
             [
              0.2222222222222222,
              "#7201a8"
             ],
             [
              0.3333333333333333,
              "#9c179e"
             ],
             [
              0.4444444444444444,
              "#bd3786"
             ],
             [
              0.5555555555555556,
              "#d8576b"
             ],
             [
              0.6666666666666666,
              "#ed7953"
             ],
             [
              0.7777777777777778,
              "#fb9f3a"
             ],
             [
              0.8888888888888888,
              "#fdca26"
             ],
             [
              1,
              "#f0f921"
             ]
            ],
            "type": "heatmap"
           }
          ],
          "heatmapgl": [
           {
            "colorbar": {
             "outlinewidth": 0,
             "ticks": ""
            },
            "colorscale": [
             [
              0,
              "#0d0887"
             ],
             [
              0.1111111111111111,
              "#46039f"
             ],
             [
              0.2222222222222222,
              "#7201a8"
             ],
             [
              0.3333333333333333,
              "#9c179e"
             ],
             [
              0.4444444444444444,
              "#bd3786"
             ],
             [
              0.5555555555555556,
              "#d8576b"
             ],
             [
              0.6666666666666666,
              "#ed7953"
             ],
             [
              0.7777777777777778,
              "#fb9f3a"
             ],
             [
              0.8888888888888888,
              "#fdca26"
             ],
             [
              1,
              "#f0f921"
             ]
            ],
            "type": "heatmapgl"
           }
          ],
          "histogram": [
           {
            "marker": {
             "pattern": {
              "fillmode": "overlay",
              "size": 10,
              "solidity": 0.2
             }
            },
            "type": "histogram"
           }
          ],
          "histogram2d": [
           {
            "colorbar": {
             "outlinewidth": 0,
             "ticks": ""
            },
            "colorscale": [
             [
              0,
              "#0d0887"
             ],
             [
              0.1111111111111111,
              "#46039f"
             ],
             [
              0.2222222222222222,
              "#7201a8"
             ],
             [
              0.3333333333333333,
              "#9c179e"
             ],
             [
              0.4444444444444444,
              "#bd3786"
             ],
             [
              0.5555555555555556,
              "#d8576b"
             ],
             [
              0.6666666666666666,
              "#ed7953"
             ],
             [
              0.7777777777777778,
              "#fb9f3a"
             ],
             [
              0.8888888888888888,
              "#fdca26"
             ],
             [
              1,
              "#f0f921"
             ]
            ],
            "type": "histogram2d"
           }
          ],
          "histogram2dcontour": [
           {
            "colorbar": {
             "outlinewidth": 0,
             "ticks": ""
            },
            "colorscale": [
             [
              0,
              "#0d0887"
             ],
             [
              0.1111111111111111,
              "#46039f"
             ],
             [
              0.2222222222222222,
              "#7201a8"
             ],
             [
              0.3333333333333333,
              "#9c179e"
             ],
             [
              0.4444444444444444,
              "#bd3786"
             ],
             [
              0.5555555555555556,
              "#d8576b"
             ],
             [
              0.6666666666666666,
              "#ed7953"
             ],
             [
              0.7777777777777778,
              "#fb9f3a"
             ],
             [
              0.8888888888888888,
              "#fdca26"
             ],
             [
              1,
              "#f0f921"
             ]
            ],
            "type": "histogram2dcontour"
           }
          ],
          "mesh3d": [
           {
            "colorbar": {
             "outlinewidth": 0,
             "ticks": ""
            },
            "type": "mesh3d"
           }
          ],
          "parcoords": [
           {
            "line": {
             "colorbar": {
              "outlinewidth": 0,
              "ticks": ""
             }
            },
            "type": "parcoords"
           }
          ],
          "pie": [
           {
            "automargin": true,
            "type": "pie"
           }
          ],
          "scatter": [
           {
            "fillpattern": {
             "fillmode": "overlay",
             "size": 10,
             "solidity": 0.2
            },
            "type": "scatter"
           }
          ],
          "scatter3d": [
           {
            "line": {
             "colorbar": {
              "outlinewidth": 0,
              "ticks": ""
             }
            },
            "marker": {
             "colorbar": {
              "outlinewidth": 0,
              "ticks": ""
             }
            },
            "type": "scatter3d"
           }
          ],
          "scattercarpet": [
           {
            "marker": {
             "colorbar": {
              "outlinewidth": 0,
              "ticks": ""
             }
            },
            "type": "scattercarpet"
           }
          ],
          "scattergeo": [
           {
            "marker": {
             "colorbar": {
              "outlinewidth": 0,
              "ticks": ""
             }
            },
            "type": "scattergeo"
           }
          ],
          "scattergl": [
           {
            "marker": {
             "colorbar": {
              "outlinewidth": 0,
              "ticks": ""
             }
            },
            "type": "scattergl"
           }
          ],
          "scattermapbox": [
           {
            "marker": {
             "colorbar": {
              "outlinewidth": 0,
              "ticks": ""
             }
            },
            "type": "scattermapbox"
           }
          ],
          "scatterpolar": [
           {
            "marker": {
             "colorbar": {
              "outlinewidth": 0,
              "ticks": ""
             }
            },
            "type": "scatterpolar"
           }
          ],
          "scatterpolargl": [
           {
            "marker": {
             "colorbar": {
              "outlinewidth": 0,
              "ticks": ""
             }
            },
            "type": "scatterpolargl"
           }
          ],
          "scatterternary": [
           {
            "marker": {
             "colorbar": {
              "outlinewidth": 0,
              "ticks": ""
             }
            },
            "type": "scatterternary"
           }
          ],
          "surface": [
           {
            "colorbar": {
             "outlinewidth": 0,
             "ticks": ""
            },
            "colorscale": [
             [
              0,
              "#0d0887"
             ],
             [
              0.1111111111111111,
              "#46039f"
             ],
             [
              0.2222222222222222,
              "#7201a8"
             ],
             [
              0.3333333333333333,
              "#9c179e"
             ],
             [
              0.4444444444444444,
              "#bd3786"
             ],
             [
              0.5555555555555556,
              "#d8576b"
             ],
             [
              0.6666666666666666,
              "#ed7953"
             ],
             [
              0.7777777777777778,
              "#fb9f3a"
             ],
             [
              0.8888888888888888,
              "#fdca26"
             ],
             [
              1,
              "#f0f921"
             ]
            ],
            "type": "surface"
           }
          ],
          "table": [
           {
            "cells": {
             "fill": {
              "color": "#EBF0F8"
             },
             "line": {
              "color": "white"
             }
            },
            "header": {
             "fill": {
              "color": "#C8D4E3"
             },
             "line": {
              "color": "white"
             }
            },
            "type": "table"
           }
          ]
         },
         "layout": {
          "annotationdefaults": {
           "arrowcolor": "#2a3f5f",
           "arrowhead": 0,
           "arrowwidth": 1
          },
          "autotypenumbers": "strict",
          "coloraxis": {
           "colorbar": {
            "outlinewidth": 0,
            "ticks": ""
           }
          },
          "colorscale": {
           "diverging": [
            [
             0,
             "#8e0152"
            ],
            [
             0.1,
             "#c51b7d"
            ],
            [
             0.2,
             "#de77ae"
            ],
            [
             0.3,
             "#f1b6da"
            ],
            [
             0.4,
             "#fde0ef"
            ],
            [
             0.5,
             "#f7f7f7"
            ],
            [
             0.6,
             "#e6f5d0"
            ],
            [
             0.7,
             "#b8e186"
            ],
            [
             0.8,
             "#7fbc41"
            ],
            [
             0.9,
             "#4d9221"
            ],
            [
             1,
             "#276419"
            ]
           ],
           "sequential": [
            [
             0,
             "#0d0887"
            ],
            [
             0.1111111111111111,
             "#46039f"
            ],
            [
             0.2222222222222222,
             "#7201a8"
            ],
            [
             0.3333333333333333,
             "#9c179e"
            ],
            [
             0.4444444444444444,
             "#bd3786"
            ],
            [
             0.5555555555555556,
             "#d8576b"
            ],
            [
             0.6666666666666666,
             "#ed7953"
            ],
            [
             0.7777777777777778,
             "#fb9f3a"
            ],
            [
             0.8888888888888888,
             "#fdca26"
            ],
            [
             1,
             "#f0f921"
            ]
           ],
           "sequentialminus": [
            [
             0,
             "#0d0887"
            ],
            [
             0.1111111111111111,
             "#46039f"
            ],
            [
             0.2222222222222222,
             "#7201a8"
            ],
            [
             0.3333333333333333,
             "#9c179e"
            ],
            [
             0.4444444444444444,
             "#bd3786"
            ],
            [
             0.5555555555555556,
             "#d8576b"
            ],
            [
             0.6666666666666666,
             "#ed7953"
            ],
            [
             0.7777777777777778,
             "#fb9f3a"
            ],
            [
             0.8888888888888888,
             "#fdca26"
            ],
            [
             1,
             "#f0f921"
            ]
           ]
          },
          "colorway": [
           "#636efa",
           "#EF553B",
           "#00cc96",
           "#ab63fa",
           "#FFA15A",
           "#19d3f3",
           "#FF6692",
           "#B6E880",
           "#FF97FF",
           "#FECB52"
          ],
          "font": {
           "color": "#2a3f5f"
          },
          "geo": {
           "bgcolor": "white",
           "lakecolor": "white",
           "landcolor": "#E5ECF6",
           "showlakes": true,
           "showland": true,
           "subunitcolor": "white"
          },
          "hoverlabel": {
           "align": "left"
          },
          "hovermode": "closest",
          "mapbox": {
           "style": "light"
          },
          "paper_bgcolor": "white",
          "plot_bgcolor": "#E5ECF6",
          "polar": {
           "angularaxis": {
            "gridcolor": "white",
            "linecolor": "white",
            "ticks": ""
           },
           "bgcolor": "#E5ECF6",
           "radialaxis": {
            "gridcolor": "white",
            "linecolor": "white",
            "ticks": ""
           }
          },
          "scene": {
           "xaxis": {
            "backgroundcolor": "#E5ECF6",
            "gridcolor": "white",
            "gridwidth": 2,
            "linecolor": "white",
            "showbackground": true,
            "ticks": "",
            "zerolinecolor": "white"
           },
           "yaxis": {
            "backgroundcolor": "#E5ECF6",
            "gridcolor": "white",
            "gridwidth": 2,
            "linecolor": "white",
            "showbackground": true,
            "ticks": "",
            "zerolinecolor": "white"
           },
           "zaxis": {
            "backgroundcolor": "#E5ECF6",
            "gridcolor": "white",
            "gridwidth": 2,
            "linecolor": "white",
            "showbackground": true,
            "ticks": "",
            "zerolinecolor": "white"
           }
          },
          "shapedefaults": {
           "line": {
            "color": "#2a3f5f"
           }
          },
          "ternary": {
           "aaxis": {
            "gridcolor": "white",
            "linecolor": "white",
            "ticks": ""
           },
           "baxis": {
            "gridcolor": "white",
            "linecolor": "white",
            "ticks": ""
           },
           "bgcolor": "#E5ECF6",
           "caxis": {
            "gridcolor": "white",
            "linecolor": "white",
            "ticks": ""
           }
          },
          "title": {
           "x": 0.05
          },
          "xaxis": {
           "automargin": true,
           "gridcolor": "white",
           "linecolor": "white",
           "ticks": "",
           "title": {
            "standoff": 15
           },
           "zerolinecolor": "white",
           "zerolinewidth": 2
          },
          "yaxis": {
           "automargin": true,
           "gridcolor": "white",
           "linecolor": "white",
           "ticks": "",
           "title": {
            "standoff": 15
           },
           "zerolinecolor": "white",
           "zerolinewidth": 2
          }
         }
        },
        "title": {
         "text": "ROC Curve"
        },
        "width": 700,
        "xaxis": {
         "title": {
          "text": "False Positive Rate"
         }
        },
        "yaxis": {
         "title": {
          "text": "True Positive Rate"
         }
        }
       }
      }
     },
     "metadata": {},
     "output_type": "display_data"
    }
   ],
   "source": [
    "evaluator = ModelEvaluator(\n",
    "    y_true=y_test,\n",
    "    y_pred=random_search.predict(X_test),\n",
    "    y_proba=random_search.predict_proba(X_test)[:, 1]\n",
    ")\n",
    "\n",
    "# Display scores\n",
    "evaluator.display_scores()\n",
    "\n",
    "# Plot the confusion matrix\n",
    "evaluator.plot_confusion_matrix()\n",
    "\n",
    "# Plot the ROC curve\n",
    "evaluator.plot_roc_curve()"
   ]
  },
  {
   "cell_type": "markdown",
   "metadata": {},
   "source": [
    "The test set evaluation ensures that the model is robust, unbiased, and ready to perform effectively in real-world applications."
   ]
  },
  {
   "cell_type": "markdown",
   "metadata": {},
   "source": [
    "### **10. Saving the Model and Artifacts**\n",
    "\n",
    "#### Objectives:\n",
    "\n",
    "1. **Model Persistence**:\n",
    "   - Save the trained LightGBM model for reuse in prediction pipelines or deployment.\n",
    "2. **Preprocessor Persistence**:\n",
    "   - Save the `IterativeImputer` used for handling missing values to ensure consistency in preprocessing new data.\n",
    "3. **Feature Importance**:\n",
    "   - Save the feature importance values to a CSV file for reporting and analysis."
   ]
  },
  {
   "cell_type": "code",
   "execution_count": 13,
   "metadata": {},
   "outputs": [
    {
     "name": "stdout",
     "output_type": "stream",
     "text": [
      "Model saved as: model.pkl\n",
      "Preprocessor saved as: preprocessor.pkl\n",
      "Feature importance saved as: t:\\Mi unidad\\wdir\\s10-beta_bank\\data\\processed\\feature_importance.csv\n"
     ]
    }
   ],
   "source": [
    "# Step 1: Save the trained LightGBM model\n",
    "model_path = 'model.pkl'\n",
    "joblib.dump(random_search, model_path)\n",
    "print(f\"Model saved as: {model_path}\")\n",
    "\n",
    "# Step 2: Save the preprocessing pipeline\n",
    "preprocessor_path = 'preprocessor.pkl'\n",
    "joblib.dump(iterative_imputer, preprocessor_path)\n",
    "print(f\"Preprocessor saved as: {preprocessor_path}\")\n",
    "\n",
    "# Step 3: Save the feature importance data\n",
    "feature_importance_path = root_path / 'data' / 'processed' / 'feature_importance.csv'\n",
    "df_importance.to_csv(feature_importance_path, index=False)\n",
    "print(f\"Feature importance saved as: {feature_importance_path}\")"
   ]
  },
  {
   "cell_type": "code",
   "execution_count": null,
   "metadata": {
    "vscode": {
     "languageId": "plaintext"
    }
   },
   "outputs": [],
   "source": []
  }
 ],
 "metadata": {
  "ExecuteTimeLog": [
   {
    "duration": 811,
    "start_time": "2024-11-10T18:10:20.990Z"
   },
   {
    "duration": 11,
    "start_time": "2024-11-10T18:10:32.441Z"
   },
   {
    "duration": 18,
    "start_time": "2024-11-10T18:11:17.362Z"
   },
   {
    "duration": 6,
    "start_time": "2024-11-10T18:12:28.783Z"
   },
   {
    "duration": 5,
    "start_time": "2024-11-10T18:25:33.840Z"
   },
   {
    "duration": 4,
    "start_time": "2024-11-10T18:25:49.103Z"
   },
   {
    "duration": 4,
    "start_time": "2024-11-10T18:26:12.410Z"
   },
   {
    "duration": 5,
    "start_time": "2024-11-10T18:34:41.532Z"
   },
   {
    "duration": 10,
    "start_time": "2024-11-10T18:37:27.780Z"
   },
   {
    "duration": 8,
    "start_time": "2024-11-10T19:04:24.755Z"
   },
   {
    "duration": 60,
    "start_time": "2024-11-10T19:07:10.015Z"
   },
   {
    "duration": 147,
    "start_time": "2024-11-10T19:08:31.433Z"
   },
   {
    "duration": 4,
    "start_time": "2024-11-10T19:10:16.657Z"
   },
   {
    "duration": 5,
    "start_time": "2024-11-10T19:17:10.773Z"
   },
   {
    "duration": 593,
    "start_time": "2024-11-10T19:20:58.677Z"
   },
   {
    "duration": 60,
    "start_time": "2024-11-10T19:23:29.071Z"
   },
   {
    "duration": 56,
    "start_time": "2024-11-10T19:42:02.937Z"
   },
   {
    "duration": 268,
    "start_time": "2024-11-10T20:00:53.494Z"
   },
   {
    "duration": 427,
    "start_time": "2024-11-10T20:01:24.631Z"
   },
   {
    "duration": 45,
    "start_time": "2024-11-10T20:05:49.960Z"
   },
   {
    "duration": 434,
    "start_time": "2024-11-10T20:05:59.501Z"
   },
   {
    "duration": 7,
    "start_time": "2024-11-10T20:06:47.765Z"
   },
   {
    "duration": 5,
    "start_time": "2024-11-10T20:07:02.433Z"
   },
   {
    "duration": 3,
    "start_time": "2024-11-10T20:07:06.322Z"
   },
   {
    "duration": 378,
    "start_time": "2024-11-10T20:07:20.258Z"
   },
   {
    "duration": 7,
    "start_time": "2024-11-10T20:07:26.420Z"
   },
   {
    "duration": 4,
    "start_time": "2024-11-10T20:17:51.527Z"
   },
   {
    "duration": 175,
    "start_time": "2024-11-10T20:21:40.038Z"
   },
   {
    "duration": 8,
    "start_time": "2024-11-10T20:29:12.399Z"
   },
   {
    "duration": 21,
    "start_time": "2024-11-10T20:38:30.068Z"
   },
   {
    "duration": 4,
    "start_time": "2024-11-10T20:39:16.023Z"
   },
   {
    "duration": 4,
    "start_time": "2024-11-10T20:39:52.301Z"
   },
   {
    "duration": 4,
    "start_time": "2024-11-10T20:40:14.640Z"
   },
   {
    "duration": 5,
    "start_time": "2024-11-10T20:40:28.449Z"
   },
   {
    "duration": 47,
    "start_time": "2024-11-10T20:42:39.286Z"
   },
   {
    "duration": 46,
    "start_time": "2024-11-10T20:43:02.532Z"
   },
   {
    "duration": 6,
    "start_time": "2024-11-10T20:43:08.113Z"
   },
   {
    "duration": 8,
    "start_time": "2024-11-10T20:43:11.431Z"
   },
   {
    "duration": 9,
    "start_time": "2024-11-10T20:43:17.948Z"
   },
   {
    "duration": 4,
    "start_time": "2024-11-10T20:43:24.456Z"
   },
   {
    "duration": 6,
    "start_time": "2024-11-10T20:43:28.224Z"
   },
   {
    "duration": 7,
    "start_time": "2024-11-10T20:43:33.578Z"
   },
   {
    "duration": 4,
    "start_time": "2024-11-10T20:43:48.454Z"
   },
   {
    "duration": 50,
    "start_time": "2024-11-10T20:43:51.248Z"
   },
   {
    "duration": 787,
    "start_time": "2024-11-10T20:44:00.116Z"
   },
   {
    "duration": 10,
    "start_time": "2024-11-10T20:44:00.905Z"
   },
   {
    "duration": 26,
    "start_time": "2024-11-10T20:44:00.916Z"
   },
   {
    "duration": 5,
    "start_time": "2024-11-10T20:44:00.944Z"
   },
   {
    "duration": 3,
    "start_time": "2024-11-10T20:44:00.951Z"
   },
   {
    "duration": 5,
    "start_time": "2024-11-10T20:44:00.956Z"
   },
   {
    "duration": 9,
    "start_time": "2024-11-10T20:44:00.962Z"
   },
   {
    "duration": 7,
    "start_time": "2024-11-10T20:44:00.973Z"
   },
   {
    "duration": 184,
    "start_time": "2024-11-10T20:44:00.982Z"
   },
   {
    "duration": 0,
    "start_time": "2024-11-10T20:44:01.168Z"
   },
   {
    "duration": 0,
    "start_time": "2024-11-10T20:44:01.169Z"
   },
   {
    "duration": 0,
    "start_time": "2024-11-10T20:44:01.170Z"
   },
   {
    "duration": 0,
    "start_time": "2024-11-10T20:44:01.171Z"
   },
   {
    "duration": 0,
    "start_time": "2024-11-10T20:44:01.172Z"
   },
   {
    "duration": 0,
    "start_time": "2024-11-10T20:44:01.173Z"
   },
   {
    "duration": 0,
    "start_time": "2024-11-10T20:44:01.176Z"
   },
   {
    "duration": 0,
    "start_time": "2024-11-10T20:44:01.177Z"
   },
   {
    "duration": 0,
    "start_time": "2024-11-10T20:44:01.179Z"
   },
   {
    "duration": 0,
    "start_time": "2024-11-10T20:44:01.180Z"
   },
   {
    "duration": 0,
    "start_time": "2024-11-10T20:44:01.181Z"
   },
   {
    "duration": 0,
    "start_time": "2024-11-10T20:44:01.182Z"
   },
   {
    "duration": 4,
    "start_time": "2024-11-10T20:44:21.443Z"
   },
   {
    "duration": 61,
    "start_time": "2024-11-10T20:44:25.217Z"
   },
   {
    "duration": 56,
    "start_time": "2024-11-10T20:44:28.890Z"
   },
   {
    "duration": 349,
    "start_time": "2024-11-10T20:44:31.403Z"
   },
   {
    "duration": 4,
    "start_time": "2024-11-10T20:44:34.408Z"
   },
   {
    "duration": 5,
    "start_time": "2024-11-10T20:44:37.477Z"
   },
   {
    "duration": 61,
    "start_time": "2024-11-10T20:44:42.001Z"
   },
   {
    "duration": 50,
    "start_time": "2024-11-10T20:46:32.868Z"
   },
   {
    "duration": 33,
    "start_time": "2024-11-10T20:46:37.396Z"
   },
   {
    "duration": 4,
    "start_time": "2024-11-10T20:47:10.106Z"
   },
   {
    "duration": 31,
    "start_time": "2024-11-10T20:47:14.831Z"
   },
   {
    "duration": 52,
    "start_time": "2024-11-10T20:47:45.874Z"
   },
   {
    "duration": 823,
    "start_time": "2024-11-10T20:47:47.751Z"
   },
   {
    "duration": 32,
    "start_time": "2024-11-10T20:47:52.795Z"
   },
   {
    "duration": 189,
    "start_time": "2024-11-10T20:49:05.034Z"
   },
   {
    "duration": 50,
    "start_time": "2024-11-10T20:50:19.751Z"
   },
   {
    "duration": 33,
    "start_time": "2024-11-10T20:51:13.352Z"
   },
   {
    "duration": 44,
    "start_time": "2024-11-10T20:51:59.291Z"
   },
   {
    "duration": 3,
    "start_time": "2024-11-10T20:52:06.183Z"
   },
   {
    "duration": 10,
    "start_time": "2024-11-10T20:52:10.296Z"
   },
   {
    "duration": 32,
    "start_time": "2024-11-10T20:52:16.538Z"
   },
   {
    "duration": 32,
    "start_time": "2024-11-10T20:52:22.548Z"
   },
   {
    "duration": 33,
    "start_time": "2024-11-10T20:53:06.576Z"
   },
   {
    "duration": 6,
    "start_time": "2024-11-10T20:57:29.771Z"
   },
   {
    "duration": 41,
    "start_time": "2024-11-10T20:58:16.565Z"
   },
   {
    "duration": 880,
    "start_time": "2024-11-11T02:00:04.139Z"
   },
   {
    "duration": 10,
    "start_time": "2024-11-11T02:00:05.021Z"
   },
   {
    "duration": 22,
    "start_time": "2024-11-11T02:00:05.032Z"
   },
   {
    "duration": 15,
    "start_time": "2024-11-11T02:00:05.055Z"
   },
   {
    "duration": 3,
    "start_time": "2024-11-11T02:00:05.076Z"
   },
   {
    "duration": 5,
    "start_time": "2024-11-11T02:00:05.081Z"
   },
   {
    "duration": 9,
    "start_time": "2024-11-11T02:00:05.088Z"
   },
   {
    "duration": 8,
    "start_time": "2024-11-11T02:00:05.099Z"
   },
   {
    "duration": 196,
    "start_time": "2024-11-11T02:00:05.110Z"
   },
   {
    "duration": 0,
    "start_time": "2024-11-11T02:00:05.308Z"
   },
   {
    "duration": 0,
    "start_time": "2024-11-11T02:00:05.309Z"
   },
   {
    "duration": 0,
    "start_time": "2024-11-11T02:00:05.310Z"
   },
   {
    "duration": 0,
    "start_time": "2024-11-11T02:00:05.312Z"
   },
   {
    "duration": 0,
    "start_time": "2024-11-11T02:00:05.314Z"
   },
   {
    "duration": 0,
    "start_time": "2024-11-11T02:00:05.315Z"
   },
   {
    "duration": 0,
    "start_time": "2024-11-11T02:00:05.316Z"
   },
   {
    "duration": 0,
    "start_time": "2024-11-11T02:00:05.317Z"
   },
   {
    "duration": 0,
    "start_time": "2024-11-11T02:00:05.318Z"
   },
   {
    "duration": 0,
    "start_time": "2024-11-11T02:00:05.319Z"
   },
   {
    "duration": 0,
    "start_time": "2024-11-11T02:00:05.320Z"
   },
   {
    "duration": 0,
    "start_time": "2024-11-11T02:00:05.322Z"
   },
   {
    "duration": 0,
    "start_time": "2024-11-11T02:00:05.323Z"
   },
   {
    "duration": 0,
    "start_time": "2024-11-11T02:00:05.323Z"
   },
   {
    "duration": 0,
    "start_time": "2024-11-11T02:00:05.324Z"
   },
   {
    "duration": 0,
    "start_time": "2024-11-11T02:00:05.326Z"
   },
   {
    "duration": 21,
    "start_time": "2024-11-11T02:04:34.555Z"
   },
   {
    "duration": 68,
    "start_time": "2024-11-11T02:04:53.247Z"
   },
   {
    "duration": 9,
    "start_time": "2024-11-11T02:04:53.317Z"
   },
   {
    "duration": 23,
    "start_time": "2024-11-11T02:04:53.327Z"
   },
   {
    "duration": 5,
    "start_time": "2024-11-11T02:04:53.365Z"
   },
   {
    "duration": 3,
    "start_time": "2024-11-11T02:04:53.371Z"
   },
   {
    "duration": 6,
    "start_time": "2024-11-11T02:04:53.375Z"
   },
   {
    "duration": 8,
    "start_time": "2024-11-11T02:04:53.383Z"
   },
   {
    "duration": 6,
    "start_time": "2024-11-11T02:04:53.394Z"
   },
   {
    "duration": 48,
    "start_time": "2024-11-11T02:04:53.402Z"
   },
   {
    "duration": 0,
    "start_time": "2024-11-11T02:04:53.467Z"
   },
   {
    "duration": 0,
    "start_time": "2024-11-11T02:04:53.468Z"
   },
   {
    "duration": 0,
    "start_time": "2024-11-11T02:04:53.469Z"
   },
   {
    "duration": 0,
    "start_time": "2024-11-11T02:04:53.471Z"
   },
   {
    "duration": 0,
    "start_time": "2024-11-11T02:04:53.471Z"
   },
   {
    "duration": 0,
    "start_time": "2024-11-11T02:04:53.473Z"
   },
   {
    "duration": 0,
    "start_time": "2024-11-11T02:04:53.473Z"
   },
   {
    "duration": 0,
    "start_time": "2024-11-11T02:04:53.474Z"
   },
   {
    "duration": 0,
    "start_time": "2024-11-11T02:04:53.475Z"
   },
   {
    "duration": 0,
    "start_time": "2024-11-11T02:04:53.477Z"
   },
   {
    "duration": 0,
    "start_time": "2024-11-11T02:04:53.477Z"
   },
   {
    "duration": 0,
    "start_time": "2024-11-11T02:04:53.478Z"
   },
   {
    "duration": 0,
    "start_time": "2024-11-11T02:04:53.480Z"
   },
   {
    "duration": 0,
    "start_time": "2024-11-11T02:04:53.482Z"
   },
   {
    "duration": 0,
    "start_time": "2024-11-11T02:04:53.484Z"
   },
   {
    "duration": 0,
    "start_time": "2024-11-11T02:04:53.485Z"
   },
   {
    "duration": 17,
    "start_time": "2024-11-11T02:30:19.602Z"
   },
   {
    "duration": 817,
    "start_time": "2024-11-13T03:20:59.912Z"
   },
   {
    "duration": 52,
    "start_time": "2024-11-13T03:21:00.731Z"
   },
   {
    "duration": 5,
    "start_time": "2024-11-13T03:21:00.785Z"
   },
   {
    "duration": 8,
    "start_time": "2024-11-13T03:21:00.792Z"
   },
   {
    "duration": 27,
    "start_time": "2024-11-13T03:21:00.802Z"
   },
   {
    "duration": 5,
    "start_time": "2024-11-13T03:21:00.830Z"
   },
   {
    "duration": 3,
    "start_time": "2024-11-13T03:21:00.837Z"
   },
   {
    "duration": 5,
    "start_time": "2024-11-13T03:21:00.842Z"
   },
   {
    "duration": 8,
    "start_time": "2024-11-13T03:21:00.848Z"
   },
   {
    "duration": 7,
    "start_time": "2024-11-13T03:21:00.858Z"
   },
   {
    "duration": 188,
    "start_time": "2024-11-13T03:21:00.866Z"
   },
   {
    "duration": 0,
    "start_time": "2024-11-13T03:21:01.057Z"
   },
   {
    "duration": 0,
    "start_time": "2024-11-13T03:21:01.058Z"
   },
   {
    "duration": 0,
    "start_time": "2024-11-13T03:21:01.059Z"
   },
   {
    "duration": 0,
    "start_time": "2024-11-13T03:21:01.062Z"
   },
   {
    "duration": 0,
    "start_time": "2024-11-13T03:21:01.063Z"
   },
   {
    "duration": 0,
    "start_time": "2024-11-13T03:21:01.065Z"
   },
   {
    "duration": 0,
    "start_time": "2024-11-13T03:21:01.066Z"
   },
   {
    "duration": 0,
    "start_time": "2024-11-13T03:21:01.067Z"
   },
   {
    "duration": 0,
    "start_time": "2024-11-13T03:21:01.068Z"
   },
   {
    "duration": 0,
    "start_time": "2024-11-13T03:21:01.069Z"
   },
   {
    "duration": 0,
    "start_time": "2024-11-13T03:21:01.070Z"
   },
   {
    "duration": 0,
    "start_time": "2024-11-13T03:21:01.071Z"
   },
   {
    "duration": 0,
    "start_time": "2024-11-13T03:21:01.072Z"
   },
   {
    "duration": 0,
    "start_time": "2024-11-13T03:21:01.075Z"
   },
   {
    "duration": 0,
    "start_time": "2024-11-13T03:21:01.076Z"
   },
   {
    "duration": 0,
    "start_time": "2024-11-13T03:21:01.077Z"
   },
   {
    "duration": 10,
    "start_time": "2024-11-13T03:42:16.983Z"
   },
   {
    "duration": 23,
    "start_time": "2024-11-13T03:42:42.929Z"
   },
   {
    "duration": 3,
    "start_time": "2024-11-13T03:52:37.705Z"
   },
   {
    "duration": 5,
    "start_time": "2024-11-13T03:52:44.388Z"
   },
   {
    "duration": 3,
    "start_time": "2024-11-13T03:52:55.469Z"
   },
   {
    "duration": 9,
    "start_time": "2024-11-13T03:53:05.544Z"
   },
   {
    "duration": 4,
    "start_time": "2024-11-13T03:53:28.284Z"
   },
   {
    "duration": 57,
    "start_time": "2024-11-13T03:53:53.609Z"
   },
   {
    "duration": 59,
    "start_time": "2024-11-13T03:54:03.677Z"
   },
   {
    "duration": 361,
    "start_time": "2024-11-13T03:54:06.982Z"
   },
   {
    "duration": 4,
    "start_time": "2024-11-13T03:54:10.514Z"
   },
   {
    "duration": 175,
    "start_time": "2024-11-13T03:54:15.471Z"
   },
   {
    "duration": 6,
    "start_time": "2024-11-13T03:54:19.123Z"
   },
   {
    "duration": 11,
    "start_time": "2024-11-13T03:54:23.703Z"
   },
   {
    "duration": 34,
    "start_time": "2024-11-13T03:54:29.317Z"
   },
   {
    "duration": 6,
    "start_time": "2024-11-13T03:58:11.136Z"
   },
   {
    "duration": 48,
    "start_time": "2024-11-13T03:58:53.653Z"
   },
   {
    "duration": 31,
    "start_time": "2024-11-13T03:58:56.313Z"
   },
   {
    "duration": 32,
    "start_time": "2024-11-13T03:59:04.862Z"
   },
   {
    "duration": 178,
    "start_time": "2024-11-13T03:59:10.465Z"
   },
   {
    "duration": 797,
    "start_time": "2024-11-13T23:08:26.949Z"
   },
   {
    "duration": 25,
    "start_time": "2024-11-13T23:08:27.749Z"
   },
   {
    "duration": 7,
    "start_time": "2024-11-13T23:08:27.775Z"
   },
   {
    "duration": 10,
    "start_time": "2024-11-13T23:08:27.784Z"
   },
   {
    "duration": 32,
    "start_time": "2024-11-13T23:08:27.796Z"
   },
   {
    "duration": 9,
    "start_time": "2024-11-13T23:08:27.829Z"
   },
   {
    "duration": 19,
    "start_time": "2024-11-13T23:08:27.839Z"
   },
   {
    "duration": 5,
    "start_time": "2024-11-13T23:08:27.859Z"
   },
   {
    "duration": 4,
    "start_time": "2024-11-13T23:08:27.866Z"
   },
   {
    "duration": 35,
    "start_time": "2024-11-13T23:08:27.871Z"
   },
   {
    "duration": 0,
    "start_time": "2024-11-13T23:08:27.908Z"
   },
   {
    "duration": 0,
    "start_time": "2024-11-13T23:08:27.909Z"
   },
   {
    "duration": 0,
    "start_time": "2024-11-13T23:08:27.910Z"
   },
   {
    "duration": 0,
    "start_time": "2024-11-13T23:08:27.911Z"
   },
   {
    "duration": 0,
    "start_time": "2024-11-13T23:08:27.912Z"
   },
   {
    "duration": 0,
    "start_time": "2024-11-13T23:08:27.913Z"
   },
   {
    "duration": 0,
    "start_time": "2024-11-13T23:08:27.915Z"
   },
   {
    "duration": 0,
    "start_time": "2024-11-13T23:08:27.916Z"
   },
   {
    "duration": 0,
    "start_time": "2024-11-13T23:08:27.917Z"
   },
   {
    "duration": 0,
    "start_time": "2024-11-13T23:08:27.919Z"
   },
   {
    "duration": 0,
    "start_time": "2024-11-13T23:08:27.920Z"
   },
   {
    "duration": 0,
    "start_time": "2024-11-13T23:08:27.921Z"
   },
   {
    "duration": 0,
    "start_time": "2024-11-13T23:08:27.923Z"
   },
   {
    "duration": 0,
    "start_time": "2024-11-13T23:08:27.924Z"
   },
   {
    "duration": 0,
    "start_time": "2024-11-13T23:08:27.925Z"
   },
   {
    "duration": 0,
    "start_time": "2024-11-13T23:08:27.926Z"
   },
   {
    "duration": 0,
    "start_time": "2024-11-13T23:08:27.928Z"
   },
   {
    "duration": 0,
    "start_time": "2024-11-13T23:08:27.930Z"
   },
   {
    "duration": 0,
    "start_time": "2024-11-13T23:08:27.931Z"
   },
   {
    "duration": 0,
    "start_time": "2024-11-13T23:08:27.932Z"
   },
   {
    "duration": 186,
    "start_time": "2024-11-14T01:15:30.718Z"
   },
   {
    "duration": 1012,
    "start_time": "2024-11-14T01:15:39.156Z"
   },
   {
    "duration": 22,
    "start_time": "2024-11-14T01:15:40.401Z"
   },
   {
    "duration": 8,
    "start_time": "2024-11-14T01:15:41.038Z"
   },
   {
    "duration": 11,
    "start_time": "2024-11-14T01:15:41.296Z"
   },
   {
    "duration": 31,
    "start_time": "2024-11-14T01:15:41.549Z"
   },
   {
    "duration": 11,
    "start_time": "2024-11-14T01:15:42.118Z"
   },
   {
    "duration": 25,
    "start_time": "2024-11-14T01:15:42.481Z"
   },
   {
    "duration": 5,
    "start_time": "2024-11-14T01:15:43.586Z"
   },
   {
    "duration": 6,
    "start_time": "2024-11-14T01:15:44.439Z"
   },
   {
    "duration": 7,
    "start_time": "2024-11-14T01:15:45.594Z"
   },
   {
    "duration": 13,
    "start_time": "2024-11-14T01:15:46.763Z"
   },
   {
    "duration": 8,
    "start_time": "2024-11-14T01:15:49.220Z"
   },
   {
    "duration": 19,
    "start_time": "2024-11-14T01:15:55.742Z"
   },
   {
    "duration": 770,
    "start_time": "2024-11-15T00:38:41.335Z"
   },
   {
    "duration": 21,
    "start_time": "2024-11-15T00:38:42.107Z"
   },
   {
    "duration": 9,
    "start_time": "2024-11-15T00:38:42.129Z"
   },
   {
    "duration": 9,
    "start_time": "2024-11-15T00:38:42.141Z"
   },
   {
    "duration": 37,
    "start_time": "2024-11-15T00:38:42.153Z"
   },
   {
    "duration": 9,
    "start_time": "2024-11-15T00:38:42.192Z"
   },
   {
    "duration": 17,
    "start_time": "2024-11-15T00:38:42.204Z"
   },
   {
    "duration": 5,
    "start_time": "2024-11-15T00:38:42.223Z"
   },
   {
    "duration": 5,
    "start_time": "2024-11-15T00:38:42.229Z"
   },
   {
    "duration": 38,
    "start_time": "2024-11-15T00:38:42.235Z"
   },
   {
    "duration": 9,
    "start_time": "2024-11-15T00:38:42.275Z"
   },
   {
    "duration": 7,
    "start_time": "2024-11-15T00:38:42.286Z"
   },
   {
    "duration": 16,
    "start_time": "2024-11-15T00:38:42.295Z"
   },
   {
    "duration": 177,
    "start_time": "2024-11-15T00:38:42.315Z"
   },
   {
    "duration": 0,
    "start_time": "2024-11-15T00:38:42.494Z"
   },
   {
    "duration": 0,
    "start_time": "2024-11-15T00:38:42.496Z"
   },
   {
    "duration": 0,
    "start_time": "2024-11-15T00:38:42.497Z"
   },
   {
    "duration": 0,
    "start_time": "2024-11-15T00:38:42.497Z"
   },
   {
    "duration": 0,
    "start_time": "2024-11-15T00:38:42.498Z"
   },
   {
    "duration": 0,
    "start_time": "2024-11-15T00:38:42.499Z"
   },
   {
    "duration": 0,
    "start_time": "2024-11-15T00:38:42.500Z"
   },
   {
    "duration": 0,
    "start_time": "2024-11-15T00:38:42.501Z"
   },
   {
    "duration": 0,
    "start_time": "2024-11-15T00:38:42.502Z"
   },
   {
    "duration": 0,
    "start_time": "2024-11-15T00:38:42.505Z"
   },
   {
    "duration": 0,
    "start_time": "2024-11-15T00:38:42.507Z"
   },
   {
    "duration": 0,
    "start_time": "2024-11-15T00:38:42.508Z"
   },
   {
    "duration": 0,
    "start_time": "2024-11-15T00:38:42.509Z"
   },
   {
    "duration": 0,
    "start_time": "2024-11-15T00:38:42.511Z"
   },
   {
    "duration": 0,
    "start_time": "2024-11-15T00:38:42.512Z"
   },
   {
    "duration": 0,
    "start_time": "2024-11-15T00:38:42.514Z"
   },
   {
    "duration": 59,
    "start_time": "2024-11-15T00:38:57.620Z"
   },
   {
    "duration": 57,
    "start_time": "2024-11-15T00:39:08.775Z"
   },
   {
    "duration": 334,
    "start_time": "2024-11-15T00:39:19.337Z"
   },
   {
    "duration": 4,
    "start_time": "2024-11-15T00:39:26.199Z"
   },
   {
    "duration": 179,
    "start_time": "2024-11-15T00:39:36.205Z"
   },
   {
    "duration": 5,
    "start_time": "2024-11-15T00:39:43.850Z"
   },
   {
    "duration": 33,
    "start_time": "2024-11-15T00:39:53.951Z"
   },
   {
    "duration": 2,
    "start_time": "2024-11-15T00:41:56.035Z"
   },
   {
    "duration": 31,
    "start_time": "2024-11-15T00:41:58.613Z"
   },
   {
    "duration": 2,
    "start_time": "2024-11-15T00:42:29.599Z"
   },
   {
    "duration": 31,
    "start_time": "2024-11-15T00:42:34.984Z"
   },
   {
    "duration": 30,
    "start_time": "2024-11-15T00:42:58.517Z"
   },
   {
    "duration": 760,
    "start_time": "2024-11-15T00:43:45.853Z"
   },
   {
    "duration": 16,
    "start_time": "2024-11-15T00:43:46.616Z"
   },
   {
    "duration": 7,
    "start_time": "2024-11-15T00:43:46.634Z"
   },
   {
    "duration": 10,
    "start_time": "2024-11-15T00:43:46.643Z"
   },
   {
    "duration": 36,
    "start_time": "2024-11-15T00:43:46.654Z"
   },
   {
    "duration": 9,
    "start_time": "2024-11-15T00:43:46.692Z"
   },
   {
    "duration": 17,
    "start_time": "2024-11-15T00:43:46.703Z"
   },
   {
    "duration": 6,
    "start_time": "2024-11-15T00:43:46.722Z"
   },
   {
    "duration": 4,
    "start_time": "2024-11-15T00:43:46.729Z"
   },
   {
    "duration": 38,
    "start_time": "2024-11-15T00:43:46.737Z"
   },
   {
    "duration": 11,
    "start_time": "2024-11-15T00:43:46.777Z"
   },
   {
    "duration": 7,
    "start_time": "2024-11-15T00:43:46.790Z"
   },
   {
    "duration": 16,
    "start_time": "2024-11-15T00:43:46.799Z"
   },
   {
    "duration": 178,
    "start_time": "2024-11-15T00:43:46.817Z"
   },
   {
    "duration": 0,
    "start_time": "2024-11-15T00:43:46.996Z"
   },
   {
    "duration": 0,
    "start_time": "2024-11-15T00:43:46.997Z"
   },
   {
    "duration": 0,
    "start_time": "2024-11-15T00:43:46.999Z"
   },
   {
    "duration": 0,
    "start_time": "2024-11-15T00:43:46.999Z"
   },
   {
    "duration": 0,
    "start_time": "2024-11-15T00:43:47.001Z"
   },
   {
    "duration": 0,
    "start_time": "2024-11-15T00:43:47.001Z"
   },
   {
    "duration": 0,
    "start_time": "2024-11-15T00:43:47.002Z"
   },
   {
    "duration": 0,
    "start_time": "2024-11-15T00:43:47.003Z"
   },
   {
    "duration": 0,
    "start_time": "2024-11-15T00:43:47.004Z"
   },
   {
    "duration": 0,
    "start_time": "2024-11-15T00:43:47.005Z"
   },
   {
    "duration": 0,
    "start_time": "2024-11-15T00:43:47.006Z"
   },
   {
    "duration": 0,
    "start_time": "2024-11-15T00:43:47.007Z"
   },
   {
    "duration": 0,
    "start_time": "2024-11-15T00:43:47.008Z"
   },
   {
    "duration": 0,
    "start_time": "2024-11-15T00:43:47.010Z"
   },
   {
    "duration": 0,
    "start_time": "2024-11-15T00:43:47.011Z"
   },
   {
    "duration": 0,
    "start_time": "2024-11-15T00:43:47.012Z"
   },
   {
    "duration": 0,
    "start_time": "2024-11-15T00:43:47.014Z"
   },
   {
    "duration": 1,
    "start_time": "2024-11-15T00:43:47.015Z"
   },
   {
    "duration": 7,
    "start_time": "2024-11-15T00:45:28.852Z"
   },
   {
    "duration": 28,
    "start_time": "2024-11-15T00:45:42.655Z"
   },
   {
    "duration": 5,
    "start_time": "2024-11-15T00:45:58.700Z"
   },
   {
    "duration": 747,
    "start_time": "2024-11-15T00:50:45.137Z"
   },
   {
    "duration": 15,
    "start_time": "2024-11-15T00:50:45.887Z"
   },
   {
    "duration": 7,
    "start_time": "2024-11-15T00:50:45.903Z"
   },
   {
    "duration": 11,
    "start_time": "2024-11-15T00:50:45.912Z"
   },
   {
    "duration": 53,
    "start_time": "2024-11-15T00:50:45.926Z"
   },
   {
    "duration": 9,
    "start_time": "2024-11-15T00:50:45.981Z"
   },
   {
    "duration": 18,
    "start_time": "2024-11-15T00:50:45.993Z"
   },
   {
    "duration": 5,
    "start_time": "2024-11-15T00:50:46.012Z"
   },
   {
    "duration": 4,
    "start_time": "2024-11-15T00:50:46.019Z"
   },
   {
    "duration": 46,
    "start_time": "2024-11-15T00:50:46.024Z"
   },
   {
    "duration": 10,
    "start_time": "2024-11-15T00:50:46.072Z"
   },
   {
    "duration": 8,
    "start_time": "2024-11-15T00:50:46.085Z"
   },
   {
    "duration": 7,
    "start_time": "2024-11-15T00:50:46.094Z"
   },
   {
    "duration": 7,
    "start_time": "2024-11-15T00:50:46.104Z"
   },
   {
    "duration": 172,
    "start_time": "2024-11-15T00:50:46.112Z"
   },
   {
    "duration": 0,
    "start_time": "2024-11-15T00:50:46.287Z"
   },
   {
    "duration": 0,
    "start_time": "2024-11-15T00:50:46.288Z"
   },
   {
    "duration": 0,
    "start_time": "2024-11-15T00:50:46.289Z"
   },
   {
    "duration": 0,
    "start_time": "2024-11-15T00:50:46.292Z"
   },
   {
    "duration": 0,
    "start_time": "2024-11-15T00:50:46.293Z"
   },
   {
    "duration": 0,
    "start_time": "2024-11-15T00:50:46.294Z"
   },
   {
    "duration": 0,
    "start_time": "2024-11-15T00:50:46.297Z"
   },
   {
    "duration": 0,
    "start_time": "2024-11-15T00:50:46.298Z"
   },
   {
    "duration": 0,
    "start_time": "2024-11-15T00:50:46.299Z"
   },
   {
    "duration": 0,
    "start_time": "2024-11-15T00:50:46.300Z"
   },
   {
    "duration": 0,
    "start_time": "2024-11-15T00:50:46.303Z"
   },
   {
    "duration": 0,
    "start_time": "2024-11-15T00:50:46.304Z"
   },
   {
    "duration": 0,
    "start_time": "2024-11-15T00:50:46.305Z"
   },
   {
    "duration": 0,
    "start_time": "2024-11-15T00:50:46.306Z"
   },
   {
    "duration": 0,
    "start_time": "2024-11-15T00:50:46.310Z"
   },
   {
    "duration": 0,
    "start_time": "2024-11-15T00:50:46.311Z"
   },
   {
    "duration": 0,
    "start_time": "2024-11-15T00:50:46.313Z"
   },
   {
    "duration": 0,
    "start_time": "2024-11-15T00:50:46.315Z"
   },
   {
    "duration": 0,
    "start_time": "2024-11-15T00:50:46.316Z"
   },
   {
    "duration": 0,
    "start_time": "2024-11-15T00:50:46.318Z"
   },
   {
    "duration": 782,
    "start_time": "2024-11-15T00:50:48.116Z"
   },
   {
    "duration": 14,
    "start_time": "2024-11-15T00:50:48.900Z"
   },
   {
    "duration": 8,
    "start_time": "2024-11-15T00:50:48.916Z"
   },
   {
    "duration": 9,
    "start_time": "2024-11-15T00:50:48.926Z"
   },
   {
    "duration": 52,
    "start_time": "2024-11-15T00:50:48.938Z"
   },
   {
    "duration": 8,
    "start_time": "2024-11-15T00:50:48.992Z"
   },
   {
    "duration": 17,
    "start_time": "2024-11-15T00:50:49.002Z"
   },
   {
    "duration": 6,
    "start_time": "2024-11-15T00:50:49.021Z"
   },
   {
    "duration": 4,
    "start_time": "2024-11-15T00:50:49.028Z"
   },
   {
    "duration": 6,
    "start_time": "2024-11-15T00:50:49.071Z"
   },
   {
    "duration": 10,
    "start_time": "2024-11-15T00:50:49.079Z"
   },
   {
    "duration": 8,
    "start_time": "2024-11-15T00:50:49.091Z"
   },
   {
    "duration": 9,
    "start_time": "2024-11-15T00:50:49.100Z"
   },
   {
    "duration": 4,
    "start_time": "2024-11-15T00:50:49.111Z"
   },
   {
    "duration": 185,
    "start_time": "2024-11-15T00:50:49.116Z"
   },
   {
    "duration": 0,
    "start_time": "2024-11-15T00:50:49.304Z"
   },
   {
    "duration": 0,
    "start_time": "2024-11-15T00:50:49.305Z"
   },
   {
    "duration": 0,
    "start_time": "2024-11-15T00:50:49.307Z"
   },
   {
    "duration": 0,
    "start_time": "2024-11-15T00:50:49.309Z"
   },
   {
    "duration": 0,
    "start_time": "2024-11-15T00:50:49.310Z"
   },
   {
    "duration": 0,
    "start_time": "2024-11-15T00:50:49.311Z"
   },
   {
    "duration": 0,
    "start_time": "2024-11-15T00:50:49.312Z"
   },
   {
    "duration": 0,
    "start_time": "2024-11-15T00:50:49.313Z"
   },
   {
    "duration": 0,
    "start_time": "2024-11-15T00:50:49.314Z"
   },
   {
    "duration": 0,
    "start_time": "2024-11-15T00:50:49.315Z"
   },
   {
    "duration": 0,
    "start_time": "2024-11-15T00:50:49.316Z"
   },
   {
    "duration": 0,
    "start_time": "2024-11-15T00:50:49.317Z"
   },
   {
    "duration": 0,
    "start_time": "2024-11-15T00:50:49.319Z"
   },
   {
    "duration": 0,
    "start_time": "2024-11-15T00:50:49.320Z"
   },
   {
    "duration": 0,
    "start_time": "2024-11-15T00:50:49.321Z"
   },
   {
    "duration": 0,
    "start_time": "2024-11-15T00:50:49.322Z"
   },
   {
    "duration": 1,
    "start_time": "2024-11-15T00:50:49.323Z"
   },
   {
    "duration": 0,
    "start_time": "2024-11-15T00:50:49.327Z"
   },
   {
    "duration": 0,
    "start_time": "2024-11-15T00:50:49.329Z"
   },
   {
    "duration": 0,
    "start_time": "2024-11-15T00:50:49.369Z"
   },
   {
    "duration": 5,
    "start_time": "2024-11-15T00:51:47.813Z"
   },
   {
    "duration": 5,
    "start_time": "2024-11-15T00:51:48.256Z"
   },
   {
    "duration": 20222,
    "start_time": "2024-11-15T00:51:48.645Z"
   },
   {
    "duration": 3,
    "start_time": "2024-11-15T00:53:43.757Z"
   },
   {
    "duration": 517,
    "start_time": "2024-11-15T00:53:49.459Z"
   },
   {
    "duration": 15,
    "start_time": "2024-11-15T00:54:04.627Z"
   },
   {
    "duration": 2,
    "start_time": "2024-11-15T00:54:26.192Z"
   },
   {
    "duration": 18,
    "start_time": "2024-11-15T00:54:28.568Z"
   },
   {
    "duration": 19,
    "start_time": "2024-11-15T00:55:19.265Z"
   },
   {
    "duration": 6,
    "start_time": "2024-11-15T00:55:49.133Z"
   },
   {
    "duration": 0,
    "start_time": "2024-11-15T00:55:49.142Z"
   },
   {
    "duration": 0,
    "start_time": "2024-11-15T00:55:49.143Z"
   },
   {
    "duration": 0,
    "start_time": "2024-11-15T00:55:49.145Z"
   },
   {
    "duration": 0,
    "start_time": "2024-11-15T00:55:49.146Z"
   },
   {
    "duration": 0,
    "start_time": "2024-11-15T00:55:49.147Z"
   },
   {
    "duration": 0,
    "start_time": "2024-11-15T00:55:49.148Z"
   },
   {
    "duration": 172,
    "start_time": "2024-11-15T00:55:49.154Z"
   },
   {
    "duration": 0,
    "start_time": "2024-11-15T00:55:49.328Z"
   },
   {
    "duration": 0,
    "start_time": "2024-11-15T00:55:49.329Z"
   },
   {
    "duration": 0,
    "start_time": "2024-11-15T00:55:49.330Z"
   },
   {
    "duration": 0,
    "start_time": "2024-11-15T00:55:49.331Z"
   },
   {
    "duration": 0,
    "start_time": "2024-11-15T00:55:49.332Z"
   },
   {
    "duration": 0,
    "start_time": "2024-11-15T00:55:49.333Z"
   },
   {
    "duration": 0,
    "start_time": "2024-11-15T00:55:49.334Z"
   },
   {
    "duration": 0,
    "start_time": "2024-11-15T00:55:49.335Z"
   },
   {
    "duration": 0,
    "start_time": "2024-11-15T00:55:49.336Z"
   },
   {
    "duration": 0,
    "start_time": "2024-11-15T00:55:49.337Z"
   },
   {
    "duration": 0,
    "start_time": "2024-11-15T00:55:49.338Z"
   },
   {
    "duration": 0,
    "start_time": "2024-11-15T00:55:49.340Z"
   },
   {
    "duration": 0,
    "start_time": "2024-11-15T00:55:49.342Z"
   },
   {
    "duration": 0,
    "start_time": "2024-11-15T00:55:49.344Z"
   },
   {
    "duration": 0,
    "start_time": "2024-11-15T00:55:49.345Z"
   },
   {
    "duration": 0,
    "start_time": "2024-11-15T00:55:49.370Z"
   },
   {
    "duration": 0,
    "start_time": "2024-11-15T00:55:49.371Z"
   },
   {
    "duration": 0,
    "start_time": "2024-11-15T00:55:49.372Z"
   },
   {
    "duration": 0,
    "start_time": "2024-11-15T00:55:49.373Z"
   },
   {
    "duration": 0,
    "start_time": "2024-11-15T00:55:49.374Z"
   },
   {
    "duration": 0,
    "start_time": "2024-11-15T00:55:49.375Z"
   },
   {
    "duration": 0,
    "start_time": "2024-11-15T00:55:49.376Z"
   },
   {
    "duration": 0,
    "start_time": "2024-11-15T00:55:49.379Z"
   },
   {
    "duration": 0,
    "start_time": "2024-11-15T00:55:49.380Z"
   },
   {
    "duration": 0,
    "start_time": "2024-11-15T00:55:49.382Z"
   },
   {
    "duration": 0,
    "start_time": "2024-11-15T00:55:49.384Z"
   },
   {
    "duration": 7,
    "start_time": "2024-11-15T00:57:45.616Z"
   },
   {
    "duration": 0,
    "start_time": "2024-11-15T00:57:45.625Z"
   },
   {
    "duration": 0,
    "start_time": "2024-11-15T00:57:45.626Z"
   },
   {
    "duration": 0,
    "start_time": "2024-11-15T00:57:45.628Z"
   },
   {
    "duration": 0,
    "start_time": "2024-11-15T00:57:45.629Z"
   },
   {
    "duration": 0,
    "start_time": "2024-11-15T00:57:45.630Z"
   },
   {
    "duration": 159,
    "start_time": "2024-11-15T00:57:45.632Z"
   },
   {
    "duration": 0,
    "start_time": "2024-11-15T00:57:45.793Z"
   },
   {
    "duration": 0,
    "start_time": "2024-11-15T00:57:45.795Z"
   },
   {
    "duration": 0,
    "start_time": "2024-11-15T00:57:45.796Z"
   },
   {
    "duration": 0,
    "start_time": "2024-11-15T00:57:45.797Z"
   },
   {
    "duration": 0,
    "start_time": "2024-11-15T00:57:45.798Z"
   },
   {
    "duration": 0,
    "start_time": "2024-11-15T00:57:45.799Z"
   },
   {
    "duration": 0,
    "start_time": "2024-11-15T00:57:45.800Z"
   },
   {
    "duration": 0,
    "start_time": "2024-11-15T00:57:45.801Z"
   },
   {
    "duration": 0,
    "start_time": "2024-11-15T00:57:45.803Z"
   },
   {
    "duration": 0,
    "start_time": "2024-11-15T00:57:45.804Z"
   },
   {
    "duration": 0,
    "start_time": "2024-11-15T00:57:45.806Z"
   },
   {
    "duration": 0,
    "start_time": "2024-11-15T00:57:45.807Z"
   },
   {
    "duration": 0,
    "start_time": "2024-11-15T00:57:45.808Z"
   },
   {
    "duration": 0,
    "start_time": "2024-11-15T00:57:45.810Z"
   },
   {
    "duration": 0,
    "start_time": "2024-11-15T00:57:45.811Z"
   },
   {
    "duration": 0,
    "start_time": "2024-11-15T00:57:45.813Z"
   },
   {
    "duration": 0,
    "start_time": "2024-11-15T00:57:45.814Z"
   },
   {
    "duration": 0,
    "start_time": "2024-11-15T00:57:45.815Z"
   },
   {
    "duration": 0,
    "start_time": "2024-11-15T00:57:45.816Z"
   },
   {
    "duration": 0,
    "start_time": "2024-11-15T00:57:45.817Z"
   },
   {
    "duration": 0,
    "start_time": "2024-11-15T00:57:45.818Z"
   },
   {
    "duration": 0,
    "start_time": "2024-11-15T00:57:45.819Z"
   },
   {
    "duration": 0,
    "start_time": "2024-11-15T00:57:45.820Z"
   },
   {
    "duration": 0,
    "start_time": "2024-11-15T00:57:45.870Z"
   },
   {
    "duration": 0,
    "start_time": "2024-11-15T00:57:45.871Z"
   },
   {
    "duration": 0,
    "start_time": "2024-11-15T00:57:45.872Z"
   },
   {
    "duration": 1419,
    "start_time": "2024-11-15T00:58:44.104Z"
   },
   {
    "duration": 827,
    "start_time": "2024-11-15T00:58:46.175Z"
   },
   {
    "duration": 15,
    "start_time": "2024-11-15T00:58:47.004Z"
   },
   {
    "duration": 7,
    "start_time": "2024-11-15T00:58:47.021Z"
   },
   {
    "duration": 11,
    "start_time": "2024-11-15T00:58:47.030Z"
   },
   {
    "duration": 47,
    "start_time": "2024-11-15T00:58:47.042Z"
   },
   {
    "duration": 12,
    "start_time": "2024-11-15T00:58:47.156Z"
   },
   {
    "duration": 6,
    "start_time": "2024-11-15T00:58:47.705Z"
   },
   {
    "duration": 4,
    "start_time": "2024-11-15T00:58:47.737Z"
   },
   {
    "duration": 7,
    "start_time": "2024-11-15T00:58:48.883Z"
   },
   {
    "duration": 10,
    "start_time": "2024-11-15T00:58:49.341Z"
   },
   {
    "duration": 8,
    "start_time": "2024-11-15T00:58:49.920Z"
   },
   {
    "duration": 8,
    "start_time": "2024-11-15T00:58:50.053Z"
   },
   {
    "duration": 6,
    "start_time": "2024-11-15T00:58:50.235Z"
   },
   {
    "duration": 5,
    "start_time": "2024-11-15T00:58:50.609Z"
   },
   {
    "duration": 6,
    "start_time": "2024-11-15T00:58:50.629Z"
   },
   {
    "duration": 2,
    "start_time": "2024-11-15T00:58:50.790Z"
   },
   {
    "duration": 77,
    "start_time": "2024-11-15T00:58:51.967Z"
   },
   {
    "duration": 17,
    "start_time": "2024-11-15T00:59:14.947Z"
   },
   {
    "duration": 21123,
    "start_time": "2024-11-17T19:46:45.968Z"
   },
   {
    "duration": 799,
    "start_time": "2024-11-17T19:47:07.093Z"
   },
   {
    "duration": 21,
    "start_time": "2024-11-17T19:47:07.893Z"
   },
   {
    "duration": 8,
    "start_time": "2024-11-17T19:47:07.916Z"
   },
   {
    "duration": 9,
    "start_time": "2024-11-17T19:47:07.926Z"
   },
   {
    "duration": 36,
    "start_time": "2024-11-17T19:47:07.936Z"
   },
   {
    "duration": 9,
    "start_time": "2024-11-17T19:47:07.973Z"
   },
   {
    "duration": 5,
    "start_time": "2024-11-17T19:47:07.984Z"
   },
   {
    "duration": 4,
    "start_time": "2024-11-17T19:47:07.991Z"
   },
   {
    "duration": 6,
    "start_time": "2024-11-17T19:47:07.999Z"
   },
   {
    "duration": 9,
    "start_time": "2024-11-17T19:47:08.006Z"
   },
   {
    "duration": 7,
    "start_time": "2024-11-17T19:47:08.016Z"
   },
   {
    "duration": 50,
    "start_time": "2024-11-17T19:47:08.025Z"
   },
   {
    "duration": 7,
    "start_time": "2024-11-17T19:47:08.076Z"
   },
   {
    "duration": 4,
    "start_time": "2024-11-17T19:47:08.084Z"
   },
   {
    "duration": 5,
    "start_time": "2024-11-17T19:47:08.090Z"
   },
   {
    "duration": 2,
    "start_time": "2024-11-17T19:47:08.097Z"
   },
   {
    "duration": 18,
    "start_time": "2024-11-17T19:47:08.100Z"
   },
   {
    "duration": 3,
    "start_time": "2024-11-17T19:47:08.120Z"
   },
   {
    "duration": 46,
    "start_time": "2024-11-17T19:47:08.125Z"
   },
   {
    "duration": 5,
    "start_time": "2024-11-17T19:47:08.172Z"
   },
   {
    "duration": 5,
    "start_time": "2024-11-17T19:47:08.179Z"
   },
   {
    "duration": 3,
    "start_time": "2024-11-17T19:47:08.185Z"
   },
   {
    "duration": 4,
    "start_time": "2024-11-17T19:47:08.190Z"
   },
   {
    "duration": 3,
    "start_time": "2024-11-17T19:47:08.196Z"
   },
   {
    "duration": 2,
    "start_time": "2024-11-17T19:47:08.201Z"
   },
   {
    "duration": 3,
    "start_time": "2024-11-17T19:47:08.205Z"
   },
   {
    "duration": 186,
    "start_time": "2024-11-17T19:47:08.211Z"
   },
   {
    "duration": 0,
    "start_time": "2024-11-17T19:47:08.399Z"
   },
   {
    "duration": 0,
    "start_time": "2024-11-17T19:47:08.401Z"
   },
   {
    "duration": 0,
    "start_time": "2024-11-17T19:47:08.403Z"
   },
   {
    "duration": 0,
    "start_time": "2024-11-17T19:47:08.405Z"
   },
   {
    "duration": 9,
    "start_time": "2024-11-17T19:47:29.655Z"
   },
   {
    "duration": 8,
    "start_time": "2024-11-17T19:47:35.288Z"
   },
   {
    "duration": 3,
    "start_time": "2024-11-17T19:47:56.024Z"
   },
   {
    "duration": 14,
    "start_time": "2024-11-17T19:47:59.103Z"
   },
   {
    "duration": 6,
    "start_time": "2024-11-17T19:48:01.429Z"
   },
   {
    "duration": 6,
    "start_time": "2024-11-17T19:48:09.406Z"
   },
   {
    "duration": 7,
    "start_time": "2024-11-17T19:48:22.957Z"
   },
   {
    "duration": 7,
    "start_time": "2024-11-17T19:48:26.431Z"
   },
   {
    "duration": 4,
    "start_time": "2024-11-17T19:48:53.835Z"
   },
   {
    "duration": 288,
    "start_time": "2024-11-17T19:49:51.186Z"
   },
   {
    "duration": 1475,
    "start_time": "2024-11-17T19:50:15.919Z"
   },
   {
    "duration": 2,
    "start_time": "2024-11-17T19:50:28.886Z"
   },
   {
    "duration": 128,
    "start_time": "2024-11-17T19:50:32.199Z"
   },
   {
    "duration": 6,
    "start_time": "2024-11-17T19:51:22.509Z"
   },
   {
    "duration": 73,
    "start_time": "2024-11-17T19:51:35.275Z"
   },
   {
    "duration": 5,
    "start_time": "2024-11-17T20:06:38.373Z"
   },
   {
    "duration": 4,
    "start_time": "2024-11-17T20:06:43.193Z"
   },
   {
    "duration": 6,
    "start_time": "2024-11-17T20:06:45.641Z"
   },
   {
    "duration": 16,
    "start_time": "2024-11-17T20:06:52.109Z"
   },
   {
    "duration": 38,
    "start_time": "2024-11-17T20:07:16.107Z"
   },
   {
    "duration": 32,
    "start_time": "2024-11-17T20:07:20.176Z"
   },
   {
    "duration": 33,
    "start_time": "2024-11-17T20:07:57.196Z"
   },
   {
    "duration": 56,
    "start_time": "2024-11-17T20:08:02.295Z"
   },
   {
    "duration": 3,
    "start_time": "2024-11-17T20:23:30.167Z"
   },
   {
    "duration": 6,
    "start_time": "2024-11-17T20:26:12.084Z"
   },
   {
    "duration": 2,
    "start_time": "2024-11-17T20:31:32.131Z"
   },
   {
    "duration": 31,
    "start_time": "2024-11-17T20:32:57.241Z"
   },
   {
    "duration": 31,
    "start_time": "2024-11-17T20:33:08.300Z"
   },
   {
    "duration": 2,
    "start_time": "2024-11-17T20:33:45.774Z"
   },
   {
    "duration": 3,
    "start_time": "2024-11-17T20:33:49.078Z"
   },
   {
    "duration": 17,
    "start_time": "2024-11-17T20:34:12.651Z"
   },
   {
    "duration": 29,
    "start_time": "2024-11-17T20:34:19.740Z"
   },
   {
    "duration": 408,
    "start_time": "2024-11-17T20:34:51.883Z"
   },
   {
    "duration": 16,
    "start_time": "2024-11-17T20:36:04.262Z"
   },
   {
    "duration": 4,
    "start_time": "2024-11-17T20:36:33.407Z"
   },
   {
    "duration": 31,
    "start_time": "2024-11-17T20:36:42.805Z"
   },
   {
    "duration": 4,
    "start_time": "2024-11-17T20:39:12.881Z"
   },
   {
    "duration": 3,
    "start_time": "2024-11-17T20:43:02.177Z"
   },
   {
    "duration": 18,
    "start_time": "2024-11-17T20:43:04.537Z"
   },
   {
    "duration": 31,
    "start_time": "2024-11-17T20:43:13.515Z"
   },
   {
    "duration": 6,
    "start_time": "2024-11-17T20:43:28.174Z"
   },
   {
    "duration": 3,
    "start_time": "2024-11-17T20:45:11.366Z"
   },
   {
    "duration": 4,
    "start_time": "2024-11-17T20:45:14.632Z"
   },
   {
    "duration": 18,
    "start_time": "2024-11-17T20:45:17.297Z"
   },
   {
    "duration": 10,
    "start_time": "2024-11-17T20:45:22.302Z"
   },
   {
    "duration": 8,
    "start_time": "2024-11-17T20:45:25.303Z"
   },
   {
    "duration": 33,
    "start_time": "2024-11-17T20:45:30.749Z"
   },
   {
    "duration": 4,
    "start_time": "2024-11-17T20:45:40.507Z"
   },
   {
    "duration": 47,
    "start_time": "2024-11-17T20:47:16.888Z"
   },
   {
    "duration": 15,
    "start_time": "2024-11-17T20:48:20.122Z"
   },
   {
    "duration": 3,
    "start_time": "2024-11-17T20:48:50.214Z"
   },
   {
    "duration": 14,
    "start_time": "2024-11-17T20:50:11.854Z"
   },
   {
    "duration": 33,
    "start_time": "2024-11-17T20:50:17.598Z"
   },
   {
    "duration": 36,
    "start_time": "2024-11-17T21:01:10.254Z"
   },
   {
    "duration": 4,
    "start_time": "2024-11-17T21:02:02.799Z"
   },
   {
    "duration": 2309,
    "start_time": "2024-11-17T21:02:15.353Z"
   },
   {
    "duration": 157,
    "start_time": "2024-11-17T22:29:42.315Z"
   },
   {
    "duration": 649,
    "start_time": "2024-11-17T22:30:12.028Z"
   },
   {
    "duration": 197,
    "start_time": "2024-11-17T22:31:06.994Z"
   },
   {
    "duration": 41,
    "start_time": "2024-11-17T22:32:58.803Z"
   },
   {
    "duration": 21,
    "start_time": "2024-11-17T22:33:13.058Z"
   },
   {
    "duration": 2056,
    "start_time": "2024-11-17T22:33:20.315Z"
   },
   {
    "duration": 124,
    "start_time": "2024-11-17T22:33:29.371Z"
   },
   {
    "duration": 21015,
    "start_time": "2024-11-18T18:20:26.507Z"
   },
   {
    "duration": 754,
    "start_time": "2024-11-18T18:20:47.524Z"
   },
   {
    "duration": 24,
    "start_time": "2024-11-18T18:20:48.280Z"
   },
   {
    "duration": 7,
    "start_time": "2024-11-18T18:20:48.307Z"
   },
   {
    "duration": 10,
    "start_time": "2024-11-18T18:20:48.316Z"
   },
   {
    "duration": 32,
    "start_time": "2024-11-18T18:20:48.329Z"
   },
   {
    "duration": 9,
    "start_time": "2024-11-18T18:20:48.363Z"
   },
   {
    "duration": 5,
    "start_time": "2024-11-18T18:20:48.374Z"
   },
   {
    "duration": 4,
    "start_time": "2024-11-18T18:20:48.380Z"
   },
   {
    "duration": 5,
    "start_time": "2024-11-18T18:20:48.387Z"
   },
   {
    "duration": 9,
    "start_time": "2024-11-18T18:20:48.394Z"
   },
   {
    "duration": 41,
    "start_time": "2024-11-18T18:20:48.405Z"
   },
   {
    "duration": 7,
    "start_time": "2024-11-18T18:20:48.448Z"
   },
   {
    "duration": 7,
    "start_time": "2024-11-18T18:20:48.456Z"
   },
   {
    "duration": 4,
    "start_time": "2024-11-18T18:20:48.465Z"
   },
   {
    "duration": 5,
    "start_time": "2024-11-18T18:20:48.471Z"
   },
   {
    "duration": 3,
    "start_time": "2024-11-18T18:20:48.478Z"
   },
   {
    "duration": 19,
    "start_time": "2024-11-18T18:20:48.483Z"
   },
   {
    "duration": 40,
    "start_time": "2024-11-18T18:20:48.504Z"
   },
   {
    "duration": 10,
    "start_time": "2024-11-18T18:20:48.546Z"
   },
   {
    "duration": 5,
    "start_time": "2024-11-18T18:20:48.558Z"
   },
   {
    "duration": 4,
    "start_time": "2024-11-18T18:20:48.564Z"
   },
   {
    "duration": 3,
    "start_time": "2024-11-18T18:20:48.570Z"
   },
   {
    "duration": 4,
    "start_time": "2024-11-18T18:20:48.575Z"
   },
   {
    "duration": 4,
    "start_time": "2024-11-18T18:20:48.581Z"
   },
   {
    "duration": 3,
    "start_time": "2024-11-18T18:20:48.586Z"
   },
   {
    "duration": 192,
    "start_time": "2024-11-18T18:20:48.591Z"
   },
   {
    "duration": 0,
    "start_time": "2024-11-18T18:20:48.785Z"
   },
   {
    "duration": 0,
    "start_time": "2024-11-18T18:20:48.787Z"
   },
   {
    "duration": 0,
    "start_time": "2024-11-18T18:20:48.788Z"
   },
   {
    "duration": 0,
    "start_time": "2024-11-18T18:20:48.790Z"
   },
   {
    "duration": 0,
    "start_time": "2024-11-18T18:20:48.791Z"
   },
   {
    "duration": 18,
    "start_time": "2024-11-18T18:22:01.914Z"
   },
   {
    "duration": 16,
    "start_time": "2024-11-18T18:22:14.074Z"
   },
   {
    "duration": 1411,
    "start_time": "2024-11-18T18:22:36.902Z"
   },
   {
    "duration": 3,
    "start_time": "2024-11-18T18:22:38.315Z"
   },
   {
    "duration": 17,
    "start_time": "2024-11-18T18:22:38.320Z"
   },
   {
    "duration": 7,
    "start_time": "2024-11-18T18:22:38.340Z"
   },
   {
    "duration": 10,
    "start_time": "2024-11-18T18:22:38.348Z"
   },
   {
    "duration": 24,
    "start_time": "2024-11-18T18:22:38.360Z"
   },
   {
    "duration": 9,
    "start_time": "2024-11-18T18:22:38.385Z"
   },
   {
    "duration": 5,
    "start_time": "2024-11-18T18:22:38.397Z"
   },
   {
    "duration": 4,
    "start_time": "2024-11-18T18:22:38.404Z"
   },
   {
    "duration": 8,
    "start_time": "2024-11-18T18:22:38.442Z"
   },
   {
    "duration": 11,
    "start_time": "2024-11-18T18:22:38.452Z"
   },
   {
    "duration": 10,
    "start_time": "2024-11-18T18:22:38.465Z"
   },
   {
    "duration": 7,
    "start_time": "2024-11-18T18:22:38.477Z"
   },
   {
    "duration": 4,
    "start_time": "2024-11-18T18:22:38.486Z"
   },
   {
    "duration": 4,
    "start_time": "2024-11-18T18:22:38.492Z"
   },
   {
    "duration": 46,
    "start_time": "2024-11-18T18:22:38.498Z"
   },
   {
    "duration": 3,
    "start_time": "2024-11-18T18:22:38.547Z"
   },
   {
    "duration": 18,
    "start_time": "2024-11-18T18:22:38.553Z"
   },
   {
    "duration": 4,
    "start_time": "2024-11-18T18:22:38.573Z"
   },
   {
    "duration": 9,
    "start_time": "2024-11-18T18:22:38.579Z"
   },
   {
    "duration": 6,
    "start_time": "2024-11-18T18:22:38.590Z"
   },
   {
    "duration": 3,
    "start_time": "2024-11-18T18:22:38.598Z"
   },
   {
    "duration": 40,
    "start_time": "2024-11-18T18:22:38.603Z"
   },
   {
    "duration": 4,
    "start_time": "2024-11-18T18:22:38.645Z"
   },
   {
    "duration": 3,
    "start_time": "2024-11-18T18:22:38.651Z"
   },
   {
    "duration": 3,
    "start_time": "2024-11-18T18:22:38.656Z"
   },
   {
    "duration": 33,
    "start_time": "2024-11-18T18:22:38.661Z"
   },
   {
    "duration": 0,
    "start_time": "2024-11-18T18:22:38.696Z"
   },
   {
    "duration": 0,
    "start_time": "2024-11-18T18:22:38.698Z"
   },
   {
    "duration": 0,
    "start_time": "2024-11-18T18:22:38.700Z"
   },
   {
    "duration": 0,
    "start_time": "2024-11-18T18:22:38.701Z"
   },
   {
    "duration": 0,
    "start_time": "2024-11-18T18:22:38.703Z"
   },
   {
    "duration": 17,
    "start_time": "2024-11-18T18:23:17.776Z"
   },
   {
    "duration": 5,
    "start_time": "2024-11-18T18:23:25.568Z"
   },
   {
    "duration": 13,
    "start_time": "2024-11-18T18:23:28.100Z"
   },
   {
    "duration": 21,
    "start_time": "2024-11-18T18:23:38.396Z"
   },
   {
    "duration": 12,
    "start_time": "2024-11-18T18:23:40.675Z"
   },
   {
    "duration": 106,
    "start_time": "2024-11-18T18:23:53.092Z"
   },
   {
    "duration": 13,
    "start_time": "2024-11-18T18:23:57.440Z"
   },
   {
    "duration": 18,
    "start_time": "2024-11-18T18:24:40.103Z"
   },
   {
    "duration": 5,
    "start_time": "2024-11-18T18:25:31.299Z"
   },
   {
    "duration": 11,
    "start_time": "2024-11-18T18:25:32.146Z"
   },
   {
    "duration": 6,
    "start_time": "2024-11-18T18:25:33.263Z"
   },
   {
    "duration": 3,
    "start_time": "2024-11-18T18:25:33.899Z"
   },
   {
    "duration": 5,
    "start_time": "2024-11-18T18:25:34.368Z"
   },
   {
    "duration": 5,
    "start_time": "2024-11-18T18:25:34.706Z"
   },
   {
    "duration": 4,
    "start_time": "2024-11-18T18:25:35.092Z"
   },
   {
    "duration": 3,
    "start_time": "2024-11-18T18:25:37.509Z"
   },
   {
    "duration": 33,
    "start_time": "2024-11-18T18:25:38.655Z"
   },
   {
    "duration": 4,
    "start_time": "2024-11-18T18:26:06.339Z"
   },
   {
    "duration": 16,
    "start_time": "2024-11-18T18:26:06.703Z"
   },
   {
    "duration": 9,
    "start_time": "2024-11-18T18:26:07.004Z"
   },
   {
    "duration": 13,
    "start_time": "2024-11-18T18:26:07.174Z"
   },
   {
    "duration": 27,
    "start_time": "2024-11-18T18:26:07.354Z"
   },
   {
    "duration": 11,
    "start_time": "2024-11-18T18:26:07.711Z"
   },
   {
    "duration": 6,
    "start_time": "2024-11-18T18:26:08.088Z"
   },
   {
    "duration": 4,
    "start_time": "2024-11-18T18:26:08.441Z"
   },
   {
    "duration": 7,
    "start_time": "2024-11-18T18:26:09.647Z"
   },
   {
    "duration": 12,
    "start_time": "2024-11-18T18:26:10.340Z"
   },
   {
    "duration": 10,
    "start_time": "2024-11-18T18:26:44.218Z"
   },
   {
    "duration": 9,
    "start_time": "2024-11-18T18:26:44.450Z"
   },
   {
    "duration": 6,
    "start_time": "2024-11-18T18:26:45.252Z"
   },
   {
    "duration": 5,
    "start_time": "2024-11-18T18:26:46.516Z"
   },
   {
    "duration": 18,
    "start_time": "2024-11-18T18:26:58.656Z"
   },
   {
    "duration": 18,
    "start_time": "2024-11-18T18:27:08.534Z"
   },
   {
    "duration": 19,
    "start_time": "2024-11-18T18:27:36.416Z"
   },
   {
    "duration": 477,
    "start_time": "2024-11-18T18:27:43.473Z"
   },
   {
    "duration": 10,
    "start_time": "2024-11-18T18:27:52.703Z"
   },
   {
    "duration": 9,
    "start_time": "2024-11-18T18:28:43.479Z"
   },
   {
    "duration": 11,
    "start_time": "2024-11-18T18:28:56.081Z"
   },
   {
    "duration": 21,
    "start_time": "2024-11-18T18:29:30.260Z"
   },
   {
    "duration": 9,
    "start_time": "2024-11-18T18:29:47.285Z"
   },
   {
    "duration": 4,
    "start_time": "2024-11-18T18:30:19.463Z"
   },
   {
    "duration": 4,
    "start_time": "2024-11-18T18:30:23.122Z"
   },
   {
    "duration": 7,
    "start_time": "2024-11-18T18:30:27.028Z"
   },
   {
    "duration": 14,
    "start_time": "2024-11-18T18:30:33.390Z"
   },
   {
    "duration": 11,
    "start_time": "2024-11-18T18:30:40.954Z"
   },
   {
    "duration": 399,
    "start_time": "2024-11-18T18:31:42.558Z"
   },
   {
    "duration": 17,
    "start_time": "2024-11-18T18:31:54.690Z"
   },
   {
    "duration": 16,
    "start_time": "2024-11-18T18:32:11.110Z"
   },
   {
    "duration": 11,
    "start_time": "2024-11-18T18:32:52.484Z"
   },
   {
    "duration": 17,
    "start_time": "2024-11-18T18:32:59.461Z"
   },
   {
    "duration": 26,
    "start_time": "2024-11-18T18:33:33.276Z"
   },
   {
    "duration": 19795,
    "start_time": "2024-11-22T04:17:43.730Z"
   },
   {
    "duration": 773,
    "start_time": "2024-11-22T04:18:03.527Z"
   },
   {
    "duration": 29,
    "start_time": "2024-11-22T04:18:04.301Z"
   },
   {
    "duration": 7,
    "start_time": "2024-11-22T04:18:04.333Z"
   },
   {
    "duration": 10,
    "start_time": "2024-11-22T04:18:04.342Z"
   },
   {
    "duration": 32,
    "start_time": "2024-11-22T04:18:04.353Z"
   },
   {
    "duration": 9,
    "start_time": "2024-11-22T04:18:04.387Z"
   },
   {
    "duration": 5,
    "start_time": "2024-11-22T04:18:04.398Z"
   },
   {
    "duration": 5,
    "start_time": "2024-11-22T04:18:04.405Z"
   },
   {
    "duration": 5,
    "start_time": "2024-11-22T04:18:04.413Z"
   },
   {
    "duration": 9,
    "start_time": "2024-11-22T04:18:04.419Z"
   },
   {
    "duration": 41,
    "start_time": "2024-11-22T04:18:04.429Z"
   },
   {
    "duration": 8,
    "start_time": "2024-11-22T04:18:04.471Z"
   },
   {
    "duration": 17,
    "start_time": "2024-11-22T04:18:04.480Z"
   },
   {
    "duration": 4,
    "start_time": "2024-11-22T04:18:04.499Z"
   },
   {
    "duration": 4,
    "start_time": "2024-11-22T04:18:04.505Z"
   },
   {
    "duration": 5,
    "start_time": "2024-11-22T04:18:04.510Z"
   },
   {
    "duration": 3,
    "start_time": "2024-11-22T04:18:04.517Z"
   },
   {
    "duration": 58,
    "start_time": "2024-11-22T04:18:04.522Z"
   },
   {
    "duration": 16,
    "start_time": "2024-11-22T04:18:04.582Z"
   },
   {
    "duration": 4,
    "start_time": "2024-11-22T04:18:04.599Z"
   },
   {
    "duration": 9,
    "start_time": "2024-11-22T04:18:04.605Z"
   },
   {
    "duration": 5,
    "start_time": "2024-11-22T04:18:04.615Z"
   },
   {
    "duration": 4,
    "start_time": "2024-11-22T04:18:04.622Z"
   },
   {
    "duration": 3,
    "start_time": "2024-11-22T04:18:04.628Z"
   },
   {
    "duration": 39,
    "start_time": "2024-11-22T04:18:04.633Z"
   },
   {
    "duration": 3,
    "start_time": "2024-11-22T04:18:04.674Z"
   },
   {
    "duration": 2,
    "start_time": "2024-11-22T04:18:04.681Z"
   },
   {
    "duration": 171,
    "start_time": "2024-11-22T04:18:04.684Z"
   },
   {
    "duration": 0,
    "start_time": "2024-11-22T04:18:04.856Z"
   },
   {
    "duration": 0,
    "start_time": "2024-11-22T04:18:04.858Z"
   },
   {
    "duration": 0,
    "start_time": "2024-11-22T04:18:04.859Z"
   },
   {
    "duration": 0,
    "start_time": "2024-11-22T04:18:04.869Z"
   },
   {
    "duration": 0,
    "start_time": "2024-11-22T04:18:04.870Z"
   },
   {
    "duration": 4,
    "start_time": "2024-11-22T04:36:21.061Z"
   },
   {
    "duration": 107,
    "start_time": "2024-11-22T04:38:45.408Z"
   },
   {
    "duration": 7,
    "start_time": "2024-11-22T04:39:00.142Z"
   },
   {
    "duration": 313,
    "start_time": "2024-11-22T04:39:04.402Z"
   },
   {
    "duration": 140,
    "start_time": "2024-11-22T04:41:02.131Z"
   },
   {
    "duration": 3,
    "start_time": "2024-11-22T04:42:38.191Z"
   },
   {
    "duration": 6,
    "start_time": "2024-11-22T04:42:50.133Z"
   },
   {
    "duration": 9,
    "start_time": "2024-11-22T04:42:56.545Z"
   },
   {
    "duration": 5,
    "start_time": "2024-11-22T04:43:00.383Z"
   },
   {
    "duration": 9,
    "start_time": "2024-11-22T04:43:04.628Z"
   },
   {
    "duration": 7,
    "start_time": "2024-11-22T04:43:14.701Z"
   },
   {
    "duration": 4,
    "start_time": "2024-11-22T04:43:20.984Z"
   },
   {
    "duration": 8,
    "start_time": "2024-11-22T04:43:32.156Z"
   },
   {
    "duration": 4,
    "start_time": "2024-11-22T04:43:39.782Z"
   },
   {
    "duration": 8,
    "start_time": "2024-11-22T04:43:52.755Z"
   },
   {
    "duration": 36,
    "start_time": "2024-11-22T04:43:55.640Z"
   },
   {
    "duration": 3,
    "start_time": "2024-11-22T04:46:55.015Z"
   },
   {
    "duration": 540,
    "start_time": "2024-11-22T04:47:21.790Z"
   },
   {
    "duration": 46,
    "start_time": "2024-11-22T04:47:58.092Z"
   },
   {
    "duration": 8,
    "start_time": "2024-11-22T04:50:24.771Z"
   },
   {
    "duration": 33,
    "start_time": "2024-11-22T04:50:30.615Z"
   },
   {
    "duration": 46,
    "start_time": "2024-11-22T04:52:02.180Z"
   },
   {
    "duration": 6,
    "start_time": "2024-11-22T04:53:08.969Z"
   },
   {
    "duration": 8,
    "start_time": "2024-11-22T04:53:31.885Z"
   },
   {
    "duration": 47,
    "start_time": "2024-11-22T04:53:36.579Z"
   },
   {
    "duration": 7,
    "start_time": "2024-11-22T04:55:22.117Z"
   },
   {
    "duration": 3,
    "start_time": "2024-11-22T04:55:35.728Z"
   },
   {
    "duration": 34,
    "start_time": "2024-11-22T04:55:41.147Z"
   },
   {
    "duration": 33,
    "start_time": "2024-11-22T04:55:50.008Z"
   },
   {
    "duration": 3,
    "start_time": "2024-11-22T04:58:00.156Z"
   },
   {
    "duration": 33,
    "start_time": "2024-11-22T05:00:51.144Z"
   },
   {
    "duration": 12,
    "start_time": "2024-11-22T05:02:36.457Z"
   },
   {
    "duration": 3,
    "start_time": "2024-11-22T05:03:36.159Z"
   },
   {
    "duration": 435,
    "start_time": "2024-11-22T05:03:52.293Z"
   },
   {
    "duration": 11,
    "start_time": "2024-11-22T05:04:25.869Z"
   },
   {
    "duration": 3,
    "start_time": "2024-11-22T05:05:24.469Z"
   },
   {
    "duration": 7,
    "start_time": "2024-11-22T05:06:19.308Z"
   },
   {
    "duration": 5,
    "start_time": "2024-11-22T05:06:44.862Z"
   },
   {
    "duration": 35,
    "start_time": "2024-11-22T05:06:53.069Z"
   },
   {
    "duration": 757,
    "start_time": "2024-11-23T02:28:09.564Z"
   },
   {
    "duration": 20,
    "start_time": "2024-11-23T02:28:10.324Z"
   },
   {
    "duration": 7,
    "start_time": "2024-11-23T02:28:10.515Z"
   },
   {
    "duration": 9,
    "start_time": "2024-11-23T02:28:10.674Z"
   },
   {
    "duration": 22,
    "start_time": "2024-11-23T02:28:10.827Z"
   },
   {
    "duration": 8,
    "start_time": "2024-11-23T02:28:11.144Z"
   },
   {
    "duration": 5,
    "start_time": "2024-11-23T02:28:11.473Z"
   },
   {
    "duration": 6,
    "start_time": "2024-11-23T02:28:11.807Z"
   },
   {
    "duration": 6,
    "start_time": "2024-11-23T02:28:12.681Z"
   },
   {
    "duration": 10,
    "start_time": "2024-11-23T02:28:13.430Z"
   },
   {
    "duration": 7,
    "start_time": "2024-11-23T02:28:14.445Z"
   },
   {
    "duration": 8,
    "start_time": "2024-11-23T02:28:14.727Z"
   },
   {
    "duration": 17,
    "start_time": "2024-11-23T02:28:14.996Z"
   },
   {
    "duration": 4,
    "start_time": "2024-11-23T02:28:15.226Z"
   },
   {
    "duration": 4,
    "start_time": "2024-11-23T02:28:15.509Z"
   },
   {
    "duration": 5,
    "start_time": "2024-11-23T02:28:15.762Z"
   },
   {
    "duration": 213,
    "start_time": "2024-11-23T02:28:16.033Z"
   },
   {
    "duration": 12,
    "start_time": "2024-11-23T02:28:16.266Z"
   },
   {
    "duration": 11,
    "start_time": "2024-11-23T02:28:16.557Z"
   },
   {
    "duration": 13,
    "start_time": "2024-11-23T02:28:16.629Z"
   },
   {
    "duration": 15,
    "start_time": "2024-11-23T02:28:16.806Z"
   },
   {
    "duration": 19,
    "start_time": "2024-11-23T02:28:17.005Z"
   },
   {
    "duration": 4,
    "start_time": "2024-11-23T02:28:17.667Z"
   },
   {
    "duration": 30,
    "start_time": "2024-11-23T02:28:18.123Z"
   },
   {
    "duration": 5,
    "start_time": "2024-11-23T02:28:18.372Z"
   },
   {
    "duration": 4,
    "start_time": "2024-11-23T02:28:18.591Z"
   },
   {
    "duration": 4,
    "start_time": "2024-11-23T02:28:18.790Z"
   },
   {
    "duration": 4,
    "start_time": "2024-11-23T02:28:19.016Z"
   },
   {
    "duration": 3,
    "start_time": "2024-11-23T02:28:19.252Z"
   },
   {
    "duration": 2,
    "start_time": "2024-11-23T02:28:19.443Z"
   },
   {
    "duration": 31,
    "start_time": "2024-11-23T02:28:19.834Z"
   },
   {
    "duration": 13,
    "start_time": "2024-11-23T02:28:20.038Z"
   },
   {
    "duration": 5670,
    "start_time": "2024-11-23T02:28:20.247Z"
   },
   {
    "duration": 0,
    "start_time": "2024-11-23T02:28:25.919Z"
   },
   {
    "duration": 0,
    "start_time": "2024-11-23T02:28:25.919Z"
   },
   {
    "duration": 0,
    "start_time": "2024-11-23T02:28:25.921Z"
   },
   {
    "duration": 9,
    "start_time": "2024-11-23T02:29:38.565Z"
   },
   {
    "duration": 8,
    "start_time": "2024-11-23T02:29:56.553Z"
   },
   {
    "duration": 15,
    "start_time": "2024-11-23T02:29:58.452Z"
   },
   {
    "duration": 18,
    "start_time": "2024-11-23T02:34:55.222Z"
   },
   {
    "duration": 3,
    "start_time": "2024-11-23T02:35:21.695Z"
   },
   {
    "duration": 13,
    "start_time": "2024-11-23T02:35:22.035Z"
   },
   {
    "duration": 6,
    "start_time": "2024-11-23T02:35:22.359Z"
   },
   {
    "duration": 10,
    "start_time": "2024-11-23T02:35:22.551Z"
   },
   {
    "duration": 24,
    "start_time": "2024-11-23T02:35:22.725Z"
   },
   {
    "duration": 11,
    "start_time": "2024-11-23T02:35:23.117Z"
   },
   {
    "duration": 5,
    "start_time": "2024-11-23T02:35:23.456Z"
   },
   {
    "duration": 4,
    "start_time": "2024-11-23T02:35:24.083Z"
   },
   {
    "duration": 6,
    "start_time": "2024-11-23T02:35:25.720Z"
   },
   {
    "duration": 9,
    "start_time": "2024-11-23T02:35:27.905Z"
   },
   {
    "duration": 17,
    "start_time": "2024-11-23T02:35:31.018Z"
   },
   {
    "duration": 4,
    "start_time": "2024-11-23T02:35:40.487Z"
   },
   {
    "duration": 9,
    "start_time": "2024-11-23T02:40:59.843Z"
   },
   {
    "duration": 18,
    "start_time": "2024-11-23T02:41:06.630Z"
   },
   {
    "duration": 770,
    "start_time": "2024-11-23T02:42:05.358Z"
   },
   {
    "duration": 3,
    "start_time": "2024-11-23T02:42:14.200Z"
   },
   {
    "duration": 13,
    "start_time": "2024-11-23T02:42:14.502Z"
   },
   {
    "duration": 6,
    "start_time": "2024-11-23T02:42:14.811Z"
   },
   {
    "duration": 9,
    "start_time": "2024-11-23T02:42:14.954Z"
   },
   {
    "duration": 23,
    "start_time": "2024-11-23T02:42:15.101Z"
   },
   {
    "duration": 9,
    "start_time": "2024-11-23T02:42:15.400Z"
   },
   {
    "duration": 4,
    "start_time": "2024-11-23T02:42:15.551Z"
   },
   {
    "duration": 4,
    "start_time": "2024-11-23T02:42:16.076Z"
   },
   {
    "duration": 6,
    "start_time": "2024-11-23T02:42:17.657Z"
   },
   {
    "duration": 10,
    "start_time": "2024-11-23T02:42:19.000Z"
   },
   {
    "duration": 7,
    "start_time": "2024-11-23T02:42:20.482Z"
   },
   {
    "duration": 14,
    "start_time": "2024-11-23T02:42:24.899Z"
   },
   {
    "duration": 3,
    "start_time": "2024-11-23T02:43:26.527Z"
   },
   {
    "duration": 13,
    "start_time": "2024-11-23T02:43:26.846Z"
   },
   {
    "duration": 6,
    "start_time": "2024-11-23T02:43:27.185Z"
   },
   {
    "duration": 8,
    "start_time": "2024-11-23T02:43:27.341Z"
   },
   {
    "duration": 21,
    "start_time": "2024-11-23T02:43:27.502Z"
   },
   {
    "duration": 9,
    "start_time": "2024-11-23T02:43:28.133Z"
   },
   {
    "duration": 6,
    "start_time": "2024-11-23T02:43:28.692Z"
   },
   {
    "duration": 4,
    "start_time": "2024-11-23T02:43:29.720Z"
   },
   {
    "duration": 6,
    "start_time": "2024-11-23T02:43:30.841Z"
   },
   {
    "duration": 8,
    "start_time": "2024-11-23T02:43:31.605Z"
   },
   {
    "duration": 46,
    "start_time": "2024-11-23T02:43:32.640Z"
   },
   {
    "duration": 3,
    "start_time": "2024-11-23T02:43:47.926Z"
   },
   {
    "duration": 13,
    "start_time": "2024-11-23T02:43:48.228Z"
   },
   {
    "duration": 7,
    "start_time": "2024-11-23T02:43:48.526Z"
   },
   {
    "duration": 10,
    "start_time": "2024-11-23T02:43:48.697Z"
   },
   {
    "duration": 22,
    "start_time": "2024-11-23T02:43:48.853Z"
   },
   {
    "duration": 9,
    "start_time": "2024-11-23T02:43:49.304Z"
   },
   {
    "duration": 4,
    "start_time": "2024-11-23T02:43:49.536Z"
   },
   {
    "duration": 4,
    "start_time": "2024-11-23T02:43:50.796Z"
   },
   {
    "duration": 5,
    "start_time": "2024-11-23T02:43:52.303Z"
   },
   {
    "duration": 9,
    "start_time": "2024-11-23T02:43:53.552Z"
   },
   {
    "duration": 16,
    "start_time": "2024-11-23T02:44:00.108Z"
   },
   {
    "duration": 15,
    "start_time": "2024-11-23T02:44:35.397Z"
   },
   {
    "duration": 13,
    "start_time": "2024-11-23T02:45:04.897Z"
   },
   {
    "duration": 4,
    "start_time": "2024-11-23T02:45:18.079Z"
   },
   {
    "duration": 3,
    "start_time": "2024-11-23T02:51:11.905Z"
   },
   {
    "duration": 19101,
    "start_time": "2024-11-24T14:34:36.653Z"
   },
   {
    "duration": 811,
    "start_time": "2024-11-24T14:34:55.756Z"
   },
   {
    "duration": 28,
    "start_time": "2024-11-24T14:34:56.569Z"
   },
   {
    "duration": 8,
    "start_time": "2024-11-24T14:34:56.599Z"
   },
   {
    "duration": 10,
    "start_time": "2024-11-24T14:34:56.610Z"
   },
   {
    "duration": 22,
    "start_time": "2024-11-24T14:34:56.622Z"
   },
   {
    "duration": 9,
    "start_time": "2024-11-24T14:34:56.645Z"
   },
   {
    "duration": 6,
    "start_time": "2024-11-24T14:34:56.656Z"
   },
   {
    "duration": 4,
    "start_time": "2024-11-24T14:34:56.663Z"
   },
   {
    "duration": 4,
    "start_time": "2024-11-24T14:34:56.669Z"
   },
   {
    "duration": 10,
    "start_time": "2024-11-24T14:34:56.709Z"
   },
   {
    "duration": 8,
    "start_time": "2024-11-24T14:34:56.720Z"
   },
   {
    "duration": 7,
    "start_time": "2024-11-24T14:34:56.729Z"
   },
   {
    "duration": 6,
    "start_time": "2024-11-24T14:34:56.740Z"
   },
   {
    "duration": 4,
    "start_time": "2024-11-24T14:34:56.748Z"
   },
   {
    "duration": 4,
    "start_time": "2024-11-24T14:34:56.753Z"
   },
   {
    "duration": 4,
    "start_time": "2024-11-24T14:34:56.759Z"
   },
   {
    "duration": 52,
    "start_time": "2024-11-24T14:34:56.765Z"
   },
   {
    "duration": 230,
    "start_time": "2024-11-24T14:34:56.818Z"
   },
   {
    "duration": 0,
    "start_time": "2024-11-24T14:34:57.049Z"
   },
   {
    "duration": 0,
    "start_time": "2024-11-24T14:34:57.050Z"
   },
   {
    "duration": 0,
    "start_time": "2024-11-24T14:34:57.052Z"
   },
   {
    "duration": 0,
    "start_time": "2024-11-24T14:34:57.052Z"
   },
   {
    "duration": 0,
    "start_time": "2024-11-24T14:34:57.054Z"
   },
   {
    "duration": 0,
    "start_time": "2024-11-24T14:34:57.054Z"
   },
   {
    "duration": 0,
    "start_time": "2024-11-24T14:34:57.056Z"
   },
   {
    "duration": 0,
    "start_time": "2024-11-24T14:34:57.057Z"
   },
   {
    "duration": 0,
    "start_time": "2024-11-24T14:34:57.058Z"
   },
   {
    "duration": 0,
    "start_time": "2024-11-24T14:34:57.059Z"
   },
   {
    "duration": 0,
    "start_time": "2024-11-24T14:34:57.060Z"
   },
   {
    "duration": 0,
    "start_time": "2024-11-24T14:34:57.061Z"
   },
   {
    "duration": 0,
    "start_time": "2024-11-24T14:34:57.062Z"
   },
   {
    "duration": 0,
    "start_time": "2024-11-24T14:34:57.063Z"
   },
   {
    "duration": 0,
    "start_time": "2024-11-24T14:34:57.064Z"
   },
   {
    "duration": 0,
    "start_time": "2024-11-24T14:34:57.066Z"
   },
   {
    "duration": 0,
    "start_time": "2024-11-24T14:34:57.068Z"
   },
   {
    "duration": 1,
    "start_time": "2024-11-24T14:34:57.069Z"
   },
   {
    "duration": 1409,
    "start_time": "2024-11-24T14:43:42.012Z"
   },
   {
    "duration": 800,
    "start_time": "2024-11-24T14:43:43.423Z"
   },
   {
    "duration": 16,
    "start_time": "2024-11-24T14:43:44.225Z"
   },
   {
    "duration": 7,
    "start_time": "2024-11-24T14:43:44.243Z"
   },
   {
    "duration": 9,
    "start_time": "2024-11-24T14:43:44.251Z"
   },
   {
    "duration": 24,
    "start_time": "2024-11-24T14:43:44.262Z"
   },
   {
    "duration": 29,
    "start_time": "2024-11-24T14:43:44.287Z"
   },
   {
    "duration": 5,
    "start_time": "2024-11-24T14:43:44.318Z"
   },
   {
    "duration": 4,
    "start_time": "2024-11-24T14:43:44.324Z"
   },
   {
    "duration": 5,
    "start_time": "2024-11-24T14:43:44.332Z"
   },
   {
    "duration": 9,
    "start_time": "2024-11-24T14:43:44.339Z"
   },
   {
    "duration": 248,
    "start_time": "2024-11-24T14:43:44.349Z"
   },
   {
    "duration": 0,
    "start_time": "2024-11-24T14:43:44.600Z"
   },
   {
    "duration": 0,
    "start_time": "2024-11-24T14:43:44.608Z"
   },
   {
    "duration": 0,
    "start_time": "2024-11-24T14:43:44.609Z"
   },
   {
    "duration": 1,
    "start_time": "2024-11-24T14:43:44.610Z"
   },
   {
    "duration": 0,
    "start_time": "2024-11-24T14:43:44.612Z"
   },
   {
    "duration": 0,
    "start_time": "2024-11-24T14:43:44.614Z"
   },
   {
    "duration": 0,
    "start_time": "2024-11-24T14:43:44.615Z"
   },
   {
    "duration": 0,
    "start_time": "2024-11-24T14:43:44.617Z"
   },
   {
    "duration": 0,
    "start_time": "2024-11-24T14:43:44.618Z"
   },
   {
    "duration": 0,
    "start_time": "2024-11-24T14:43:44.620Z"
   },
   {
    "duration": 0,
    "start_time": "2024-11-24T14:43:44.621Z"
   },
   {
    "duration": 0,
    "start_time": "2024-11-24T14:43:44.622Z"
   },
   {
    "duration": 0,
    "start_time": "2024-11-24T14:43:44.623Z"
   },
   {
    "duration": 0,
    "start_time": "2024-11-24T14:43:44.625Z"
   },
   {
    "duration": 0,
    "start_time": "2024-11-24T14:43:44.626Z"
   },
   {
    "duration": 0,
    "start_time": "2024-11-24T14:43:44.628Z"
   },
   {
    "duration": 0,
    "start_time": "2024-11-24T14:43:44.629Z"
   },
   {
    "duration": 0,
    "start_time": "2024-11-24T14:43:44.630Z"
   },
   {
    "duration": 0,
    "start_time": "2024-11-24T14:43:44.631Z"
   },
   {
    "duration": 0,
    "start_time": "2024-11-24T14:43:44.632Z"
   },
   {
    "duration": 0,
    "start_time": "2024-11-24T14:43:44.633Z"
   },
   {
    "duration": 0,
    "start_time": "2024-11-24T14:43:44.634Z"
   },
   {
    "duration": 0,
    "start_time": "2024-11-24T14:43:44.635Z"
   },
   {
    "duration": 0,
    "start_time": "2024-11-24T14:43:44.636Z"
   },
   {
    "duration": 0,
    "start_time": "2024-11-24T14:43:44.637Z"
   },
   {
    "duration": 0,
    "start_time": "2024-11-24T14:43:44.638Z"
   },
   {
    "duration": 7,
    "start_time": "2024-11-24T14:44:08.749Z"
   },
   {
    "duration": 5,
    "start_time": "2024-11-24T14:44:23.321Z"
   },
   {
    "duration": 6,
    "start_time": "2024-11-24T14:45:28.849Z"
   },
   {
    "duration": 5,
    "start_time": "2024-11-24T14:45:47.298Z"
   },
   {
    "duration": 5,
    "start_time": "2024-11-24T14:46:42.516Z"
   },
   {
    "duration": 26,
    "start_time": "2024-11-24T14:46:53.049Z"
   },
   {
    "duration": 16,
    "start_time": "2024-11-24T14:47:37.231Z"
   },
   {
    "duration": 16,
    "start_time": "2024-11-24T14:47:57.243Z"
   },
   {
    "duration": 13,
    "start_time": "2024-11-24T14:48:28.572Z"
   }
  ],
  "colab": {
   "provenance": []
  },
  "kernelspec": {
   "display_name": "da",
   "language": "python",
   "name": "python3"
  },
  "language_info": {
   "codemirror_mode": {
    "name": "ipython",
    "version": 3
   },
   "file_extension": ".py",
   "mimetype": "text/x-python",
   "name": "python",
   "nbconvert_exporter": "python",
   "pygments_lexer": "ipython3",
   "version": "3.11.11"
  },
  "toc": {
   "base_numbering": 1,
   "nav_menu": {},
   "number_sections": true,
   "sideBar": true,
   "skip_h1_title": true,
   "title_cell": "Table of Contents",
   "title_sidebar": "Contents",
   "toc_cell": false,
   "toc_position": {
    "height": "calc(100% - 180px)",
    "left": "10px",
    "top": "150px",
    "width": "165px"
   },
   "toc_section_display": true,
   "toc_window_display": true
  }
 },
 "nbformat": 4,
 "nbformat_minor": 0
}
